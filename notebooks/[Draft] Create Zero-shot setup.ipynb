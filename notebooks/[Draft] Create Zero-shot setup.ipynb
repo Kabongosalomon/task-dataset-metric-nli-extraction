{
 "cells": [
  {
   "cell_type": "markdown",
   "metadata": {},
   "source": [
    "# Stats in Paper"
   ]
  },
  {
   "cell_type": "code",
   "execution_count": 1,
   "metadata": {},
   "outputs": [],
   "source": [
    "# !pip install ipywidgets"
   ]
  },
  {
   "cell_type": "code",
   "execution_count": 9,
   "metadata": {},
   "outputs": [],
   "source": [
    "# imports\n",
    "import ipdb, os, re\n",
    "import pandas as pd\n",
    "import numpy as np\n",
    "import matplotlib.pyplot as plt\n",
    "from collections import defaultdict\n",
    "from sklearn.model_selection import train_test_split \n",
    "from sklearn.metrics import accuracy_score, f1_score, precision_score, recall_score, classification_report\n",
    "from tqdm import tqdm"
   ]
  },
  {
   "cell_type": "markdown",
   "metadata": {},
   "source": [
    "### Selected Dataset"
   ]
  },
  {
   "cell_type": "code",
   "execution_count": 2,
   "metadata": {},
   "outputs": [],
   "source": [
    "# New_train_csv = \"/nfs/home/kabenamualus/Research/task-dataset-metric-nli-extraction/data/pwc_ibm_150_5_10_10000/10Neg10000unk/twofoldwithunk/fold1/train.tsv\"\n",
    "# New_test_csv = \"/nfs/home/kabenamualus/Research/task-dataset-metric-nli-extraction/data/pwc_ibm_150_5_10_10000/10Neg10000unk/twofoldwithunk/fold1/dev.tsv\"\n",
    "\n",
    "# New_trainOutput_csv = \"/nfs/home/kabenamualus/Research/task-dataset-metric-nli-extraction/data/pwc_ibm_150_5_10_10000/10Neg10000unk/trainOutput.tsv\"\n",
    "\n",
    "# IBM_train_csv = \"~/Research/task-dataset-metric-nli-extraction/data/ibm/exp/few-shot-setup/NLP-TDMS/paperVersion/train.tsv\"\n",
    "# IBM_test_csv = \"~/Research/task-dataset-metric-nli-extraction/data/ibm/exp/few-shot-setup/NLP-TDMS/paperVersion/test.tsv\"\n",
    "\n",
    "# Old_train_csv = \"/nfs/home/kabenamualus/Research/task-dataset-metric-nli-extraction/data/other/pwc_ibm_150_5_10_800/twofoldwithunk/fold1/train.tsv\"\n",
    "# Old_test_csv = \"/nfs/home/kabenamualus/Research/task-dataset-metric-nli-extraction/data/other/pwc_ibm_150_5_10_800/twofoldwithunk/fold1/dev.tsv\"\n",
    "\n",
    "# IBM_train_csv = \"/nfs/home/kabenamualus/Research/task-dataset-metric-nli-extraction/data/ibm/exp/zero-shot-setup/NLP-TDMS/train.tsv\"\n",
    "# IBM_test_csv = \"/nfs/home/kabenamualus/Research/task-dataset-metric-nli-extraction/data/ibm/exp/zero-shot-setup/NLP-TDMS/test.tsv\"\n",
    "\n",
    "# # New_train_csv = IBM_train_csv\n",
    "# # New_test_csv = IBM_test_csv\n",
    "\n",
    "# # New_train_csv =Old_train_csv\n",
    "# # New_test_csv = Old_test_csv"
   ]
  },
  {
   "cell_type": "code",
   "execution_count": 3,
   "metadata": {},
   "outputs": [],
   "source": [
    "zero_shot = \"/nfs/home/kabenamualus/Research/task-dataset-metric-nli-extraction/data/zero-shot/pwc_pdf_5_10_800/twofoldwithunk/fold1\"\n",
    "pwc_ibm_150_5_10_10000 = \"/nfs/home/kabenamualus/Research/task-dataset-metric-nli-extraction/data/pwc_ibm_150_5_10_10000/10Neg10000unk/twofoldwithunk/fold1\""
   ]
  },
  {
   "cell_type": "code",
   "execution_count": 4,
   "metadata": {},
   "outputs": [],
   "source": [
    "train_zero_shot = pd.read_csv(f\"{zero_shot}/train.tsv\", \n",
    "                    sep=\"\\t\", names=[\"label\", \"title\", \"TDM\", \"Context\"])\n",
    "\n",
    "test_zero_shot = pd.read_csv(f\"{zero_shot}/dev.tsv\", \n",
    "                    sep=\"\\t\", names=[\"label\", \"title\", \"TDM\", \"Context\"])\n",
    "\n",
    "train_pwc_ibm_150_5_10_10000 = pd.read_csv(f\"{pwc_ibm_150_5_10_10000}/train.tsv\", \n",
    "                    sep=\"\\t\", names=[\"label\", \"title\", \"TDM\", \"Context\"])\n",
    "\n",
    "test_pwc_ibm_150_5_10_10000 = pd.read_csv(f\"{pwc_ibm_150_5_10_10000}/dev.tsv\", \n",
    "                    sep=\"\\t\", names=[\"label\", \"title\", \"TDM\", \"Context\"])"
   ]
  },
  {
   "cell_type": "code",
   "execution_count": null,
   "metadata": {},
   "outputs": [],
   "source": []
  },
  {
   "cell_type": "code",
   "execution_count": null,
   "metadata": {},
   "outputs": [],
   "source": []
  },
  {
   "cell_type": "code",
   "execution_count": 5,
   "metadata": {},
   "outputs": [
    {
     "data": {
      "text/html": [
       "<div>\n",
       "<style scoped>\n",
       "    .dataframe tbody tr th:only-of-type {\n",
       "        vertical-align: middle;\n",
       "    }\n",
       "\n",
       "    .dataframe tbody tr th {\n",
       "        vertical-align: top;\n",
       "    }\n",
       "\n",
       "    .dataframe thead th {\n",
       "        text-align: right;\n",
       "    }\n",
       "</style>\n",
       "<table border=\"1\" class=\"dataframe\">\n",
       "  <thead>\n",
       "    <tr style=\"text-align: right;\">\n",
       "      <th></th>\n",
       "      <th>label</th>\n",
       "      <th>title</th>\n",
       "      <th>TDM</th>\n",
       "      <th>Context</th>\n",
       "    </tr>\n",
       "  </thead>\n",
       "  <tbody>\n",
       "    <tr>\n",
       "      <th>0</th>\n",
       "      <td>True</td>\n",
       "      <td>1707.03497v2.pdf</td>\n",
       "      <td>Atari Games; Atari 2600 Seaquest; Score</td>\n",
       "      <td>Value Prediction Network This paper proposes a...</td>\n",
       "    </tr>\n",
       "    <tr>\n",
       "      <th>1</th>\n",
       "      <td>True</td>\n",
       "      <td>1707.03497v2.pdf</td>\n",
       "      <td>Atari Games; Atari 2600 Amidar; Score</td>\n",
       "      <td>Value Prediction Network This paper proposes a...</td>\n",
       "    </tr>\n",
       "    <tr>\n",
       "      <th>2</th>\n",
       "      <td>True</td>\n",
       "      <td>1707.03497v2.pdf</td>\n",
       "      <td>Atari Games; Atari 2600 Krull; Score</td>\n",
       "      <td>Value Prediction Network This paper proposes a...</td>\n",
       "    </tr>\n",
       "    <tr>\n",
       "      <th>3</th>\n",
       "      <td>True</td>\n",
       "      <td>1707.03497v2.pdf</td>\n",
       "      <td>Atari Games; Atari 2600 Alien; Score</td>\n",
       "      <td>Value Prediction Network This paper proposes a...</td>\n",
       "    </tr>\n",
       "    <tr>\n",
       "      <th>4</th>\n",
       "      <td>True</td>\n",
       "      <td>1707.03497v2.pdf</td>\n",
       "      <td>Atari Games; Atari 2600 Enduro; Score</td>\n",
       "      <td>Value Prediction Network This paper proposes a...</td>\n",
       "    </tr>\n",
       "  </tbody>\n",
       "</table>\n",
       "</div>"
      ],
      "text/plain": [
       "   label             title                                      TDM  \\\n",
       "0   True  1707.03497v2.pdf  Atari Games; Atari 2600 Seaquest; Score   \n",
       "1   True  1707.03497v2.pdf    Atari Games; Atari 2600 Amidar; Score   \n",
       "2   True  1707.03497v2.pdf     Atari Games; Atari 2600 Krull; Score   \n",
       "3   True  1707.03497v2.pdf     Atari Games; Atari 2600 Alien; Score   \n",
       "4   True  1707.03497v2.pdf    Atari Games; Atari 2600 Enduro; Score   \n",
       "\n",
       "                                             Context  \n",
       "0  Value Prediction Network This paper proposes a...  \n",
       "1  Value Prediction Network This paper proposes a...  \n",
       "2  Value Prediction Network This paper proposes a...  \n",
       "3  Value Prediction Network This paper proposes a...  \n",
       "4  Value Prediction Network This paper proposes a...  "
      ]
     },
     "execution_count": 5,
     "metadata": {},
     "output_type": "execute_result"
    }
   ],
   "source": [
    "train_pwc_ibm_150_5_10_10000.head()"
   ]
  },
  {
   "cell_type": "code",
   "execution_count": 6,
   "metadata": {},
   "outputs": [],
   "source": [
    "tdm_count = defaultdict(lambda: 0)\n",
    "for tdm in train_zero_shot[train_zero_shot.label==True].TDM.to_list():\n",
    "    tdm_count[tdm] +=1"
   ]
  },
  {
   "cell_type": "code",
   "execution_count": 7,
   "metadata": {},
   "outputs": [],
   "source": [
    "# tdm_count"
   ]
  },
  {
   "cell_type": "code",
   "execution_count": 8,
   "metadata": {},
   "outputs": [],
   "source": [
    "train_tdm_taxonomy = set(train_pwc_ibm_150_5_10_10000[train_pwc_ibm_150_5_10_10000.label==True].TDM.to_list())"
   ]
  },
  {
   "cell_type": "code",
   "execution_count": 9,
   "metadata": {},
   "outputs": [
    {
     "data": {
      "text/html": [
       "<div>\n",
       "<style scoped>\n",
       "    .dataframe tbody tr th:only-of-type {\n",
       "        vertical-align: middle;\n",
       "    }\n",
       "\n",
       "    .dataframe tbody tr th {\n",
       "        vertical-align: top;\n",
       "    }\n",
       "\n",
       "    .dataframe thead th {\n",
       "        text-align: right;\n",
       "    }\n",
       "</style>\n",
       "<table border=\"1\" class=\"dataframe\">\n",
       "  <thead>\n",
       "    <tr style=\"text-align: right;\">\n",
       "      <th></th>\n",
       "      <th>label</th>\n",
       "      <th>title</th>\n",
       "      <th>TDM</th>\n",
       "      <th>Context</th>\n",
       "    </tr>\n",
       "  </thead>\n",
       "  <tbody>\n",
       "    <tr>\n",
       "      <th>10</th>\n",
       "      <td>True</td>\n",
       "      <td>2006.10721v2.pdf</td>\n",
       "      <td>Visual Object Tracking; GOT-10k; Average Overlap</td>\n",
       "      <td>Ocean: Object-aware Anchor-free Tracking Ancho...</td>\n",
       "    </tr>\n",
       "    <tr>\n",
       "      <th>11</th>\n",
       "      <td>True</td>\n",
       "      <td>2006.10721v2.pdf</td>\n",
       "      <td>Visual Object Tracking; GOT-10k; Success Rate 0.5</td>\n",
       "      <td>Ocean: Object-aware Anchor-free Tracking Ancho...</td>\n",
       "    </tr>\n",
       "    <tr>\n",
       "      <th>22</th>\n",
       "      <td>True</td>\n",
       "      <td>2210.11416v2.pdf</td>\n",
       "      <td>Multi-task Language Understanding; MMLU; Avera...</td>\n",
       "      <td>Scaling Instruction-Finetuned Language Models ...</td>\n",
       "    </tr>\n",
       "    <tr>\n",
       "      <th>23</th>\n",
       "      <td>True</td>\n",
       "      <td>2210.11416v2.pdf</td>\n",
       "      <td>Multi-task Language Understanding; MMLU; Param...</td>\n",
       "      <td>Scaling Instruction-Finetuned Language Models ...</td>\n",
       "    </tr>\n",
       "    <tr>\n",
       "      <th>34</th>\n",
       "      <td>True</td>\n",
       "      <td>2005.02190v2.pdf</td>\n",
       "      <td>Action Anticipation; EPIC-KITCHENS-100 (test);...</td>\n",
       "      <td>Rolling-Unrolling LSTMs for Action Anticipatio...</td>\n",
       "    </tr>\n",
       "  </tbody>\n",
       "</table>\n",
       "</div>"
      ],
      "text/plain": [
       "    label             title  \\\n",
       "10   True  2006.10721v2.pdf   \n",
       "11   True  2006.10721v2.pdf   \n",
       "22   True  2210.11416v2.pdf   \n",
       "23   True  2210.11416v2.pdf   \n",
       "34   True  2005.02190v2.pdf   \n",
       "\n",
       "                                                  TDM  \\\n",
       "10   Visual Object Tracking; GOT-10k; Average Overlap   \n",
       "11  Visual Object Tracking; GOT-10k; Success Rate 0.5   \n",
       "22  Multi-task Language Understanding; MMLU; Avera...   \n",
       "23  Multi-task Language Understanding; MMLU; Param...   \n",
       "34  Action Anticipation; EPIC-KITCHENS-100 (test);...   \n",
       "\n",
       "                                              Context  \n",
       "10  Ocean: Object-aware Anchor-free Tracking Ancho...  \n",
       "11  Ocean: Object-aware Anchor-free Tracking Ancho...  \n",
       "22  Scaling Instruction-Finetuned Language Models ...  \n",
       "23  Scaling Instruction-Finetuned Language Models ...  \n",
       "34  Rolling-Unrolling LSTMs for Action Anticipatio...  "
      ]
     },
     "execution_count": 9,
     "metadata": {},
     "output_type": "execute_result"
    }
   ],
   "source": [
    "train_zero_shot = train_zero_shot[train_zero_shot.label==True]\n",
    "train_zero_shot.head()"
   ]
  },
  {
   "cell_type": "code",
   "execution_count": 10,
   "metadata": {},
   "outputs": [],
   "source": [
    "# train_zero_shot_final = train_zero_shot[train_zero_shot.TDM in train_tdm_taxonomy]"
   ]
  },
  {
   "cell_type": "code",
   "execution_count": 14,
   "metadata": {
    "tags": []
   },
   "outputs": [],
   "source": [
    "df = pd.DataFrame(columns = [\"label\", \"title\", \"TDM\", \"Context\"])\n",
    "for index, row in train_zero_shot.iterrows():\n",
    "    # ipdb.set_trace()\n",
    "    if row[\"TDM\"] not in train_tdm_taxonomy:\n",
    "        df = pd.concat([df, pd.DataFrame.from_records([{'label' : row.label, 'title' : row.title, 'TDM' : row.TDM, 'Context' : row.Context}])], ignore_index = True)\n",
    "        # df = df.append({'label' : row.label, 'title' : row.title, 'TDM' : row.TDM, 'Context' : row.Context},\n",
    "        #                ignore_index = True)"
   ]
  },
  {
   "cell_type": "code",
   "execution_count": 16,
   "metadata": {},
   "outputs": [
    {
     "data": {
      "text/html": [
       "<div>\n",
       "<style scoped>\n",
       "    .dataframe tbody tr th:only-of-type {\n",
       "        vertical-align: middle;\n",
       "    }\n",
       "\n",
       "    .dataframe tbody tr th {\n",
       "        vertical-align: top;\n",
       "    }\n",
       "\n",
       "    .dataframe thead th {\n",
       "        text-align: right;\n",
       "    }\n",
       "</style>\n",
       "<table border=\"1\" class=\"dataframe\">\n",
       "  <thead>\n",
       "    <tr style=\"text-align: right;\">\n",
       "      <th></th>\n",
       "      <th>label</th>\n",
       "      <th>title</th>\n",
       "      <th>TDM</th>\n",
       "      <th>Context</th>\n",
       "    </tr>\n",
       "  </thead>\n",
       "  <tbody>\n",
       "    <tr>\n",
       "      <th>8892</th>\n",
       "      <td>True</td>\n",
       "      <td>2007.08176v2.pdf</td>\n",
       "      <td>Anomaly Detection; Anomaly Detection on Anomal...</td>\n",
       "      <td>CSI: Novelty Detection via Contrastive Learnin...</td>\n",
       "    </tr>\n",
       "    <tr>\n",
       "      <th>8893</th>\n",
       "      <td>True</td>\n",
       "      <td>2007.08176v2.pdf</td>\n",
       "      <td>Anomaly Detection; Anomaly Detection on Unlabe...</td>\n",
       "      <td>CSI: Novelty Detection via Contrastive Learnin...</td>\n",
       "    </tr>\n",
       "    <tr>\n",
       "      <th>8894</th>\n",
       "      <td>True</td>\n",
       "      <td>2007.08176v2.pdf</td>\n",
       "      <td>Anomaly Detection; Anomaly Detection on Unlabe...</td>\n",
       "      <td>CSI: Novelty Detection via Contrastive Learnin...</td>\n",
       "    </tr>\n",
       "    <tr>\n",
       "      <th>8895</th>\n",
       "      <td>True</td>\n",
       "      <td>1505.02419v3.pdf</td>\n",
       "      <td>Relation Extraction; ACE 2005; Cross Sentence</td>\n",
       "      <td>Improved Relation Extraction with Feature-Rich...</td>\n",
       "    </tr>\n",
       "    <tr>\n",
       "      <th>8896</th>\n",
       "      <td>True</td>\n",
       "      <td>1912.04799v2.pdf</td>\n",
       "      <td>Monocular 3D Object Detection; KITTI Cars Mode...</td>\n",
       "      <td>Learning Depth-Guided Convolutions for Monocul...</td>\n",
       "    </tr>\n",
       "  </tbody>\n",
       "</table>\n",
       "</div>"
      ],
      "text/plain": [
       "     label             title  \\\n",
       "8892  True  2007.08176v2.pdf   \n",
       "8893  True  2007.08176v2.pdf   \n",
       "8894  True  2007.08176v2.pdf   \n",
       "8895  True  1505.02419v3.pdf   \n",
       "8896  True  1912.04799v2.pdf   \n",
       "\n",
       "                                                    TDM  \\\n",
       "8892  Anomaly Detection; Anomaly Detection on Anomal...   \n",
       "8893  Anomaly Detection; Anomaly Detection on Unlabe...   \n",
       "8894  Anomaly Detection; Anomaly Detection on Unlabe...   \n",
       "8895      Relation Extraction; ACE 2005; Cross Sentence   \n",
       "8896  Monocular 3D Object Detection; KITTI Cars Mode...   \n",
       "\n",
       "                                                Context  \n",
       "8892  CSI: Novelty Detection via Contrastive Learnin...  \n",
       "8893  CSI: Novelty Detection via Contrastive Learnin...  \n",
       "8894  CSI: Novelty Detection via Contrastive Learnin...  \n",
       "8895  Improved Relation Extraction with Feature-Rich...  \n",
       "8896  Learning Depth-Guided Convolutions for Monocul...  "
      ]
     },
     "execution_count": 16,
     "metadata": {},
     "output_type": "execute_result"
    }
   ],
   "source": [
    "df.tail()"
   ]
  },
  {
   "cell_type": "code",
   "execution_count": 17,
   "metadata": {},
   "outputs": [
    {
     "data": {
      "text/html": [
       "<div>\n",
       "<style scoped>\n",
       "    .dataframe tbody tr th:only-of-type {\n",
       "        vertical-align: middle;\n",
       "    }\n",
       "\n",
       "    .dataframe tbody tr th {\n",
       "        vertical-align: top;\n",
       "    }\n",
       "\n",
       "    .dataframe thead th {\n",
       "        text-align: right;\n",
       "    }\n",
       "</style>\n",
       "<table border=\"1\" class=\"dataframe\">\n",
       "  <thead>\n",
       "    <tr style=\"text-align: right;\">\n",
       "      <th></th>\n",
       "      <th>label</th>\n",
       "      <th>title</th>\n",
       "      <th>TDM</th>\n",
       "      <th>Context</th>\n",
       "    </tr>\n",
       "  </thead>\n",
       "  <tbody>\n",
       "    <tr>\n",
       "      <th>0</th>\n",
       "      <td>True</td>\n",
       "      <td>2210.11416v2.pdf</td>\n",
       "      <td>Multi-task Language Understanding; MMLU; Avera...</td>\n",
       "      <td>Scaling Instruction-Finetuned Language Models ...</td>\n",
       "    </tr>\n",
       "    <tr>\n",
       "      <th>1</th>\n",
       "      <td>True</td>\n",
       "      <td>2210.11416v2.pdf</td>\n",
       "      <td>Multi-task Language Understanding; MMLU; Param...</td>\n",
       "      <td>Scaling Instruction-Finetuned Language Models ...</td>\n",
       "    </tr>\n",
       "    <tr>\n",
       "      <th>2</th>\n",
       "      <td>True</td>\n",
       "      <td>2005.02190v2.pdf</td>\n",
       "      <td>Action Anticipation; EPIC-KITCHENS-100 (test);...</td>\n",
       "      <td>Rolling-Unrolling LSTMs for Action Anticipatio...</td>\n",
       "    </tr>\n",
       "    <tr>\n",
       "      <th>3</th>\n",
       "      <td>True</td>\n",
       "      <td>2202.11539v2.pdf</td>\n",
       "      <td>Weakly-Supervised Object Localization; CUB-200...</td>\n",
       "      <td>SELF-SUPERVISED TRANSFORMERS FOR UNSUPERVISED ...</td>\n",
       "    </tr>\n",
       "    <tr>\n",
       "      <th>4</th>\n",
       "      <td>True</td>\n",
       "      <td>2202.11539v2.pdf</td>\n",
       "      <td>Single-object discovery; COCO_20k; CorLoc</td>\n",
       "      <td>SELF-SUPERVISED TRANSFORMERS FOR UNSUPERVISED ...</td>\n",
       "    </tr>\n",
       "  </tbody>\n",
       "</table>\n",
       "</div>"
      ],
      "text/plain": [
       "  label             title                                                TDM  \\\n",
       "0  True  2210.11416v2.pdf  Multi-task Language Understanding; MMLU; Avera...   \n",
       "1  True  2210.11416v2.pdf  Multi-task Language Understanding; MMLU; Param...   \n",
       "2  True  2005.02190v2.pdf  Action Anticipation; EPIC-KITCHENS-100 (test);...   \n",
       "3  True  2202.11539v2.pdf  Weakly-Supervised Object Localization; CUB-200...   \n",
       "4  True  2202.11539v2.pdf          Single-object discovery; COCO_20k; CorLoc   \n",
       "\n",
       "                                             Context  \n",
       "0  Scaling Instruction-Finetuned Language Models ...  \n",
       "1  Scaling Instruction-Finetuned Language Models ...  \n",
       "2  Rolling-Unrolling LSTMs for Action Anticipatio...  \n",
       "3  SELF-SUPERVISED TRANSFORMERS FOR UNSUPERVISED ...  \n",
       "4  SELF-SUPERVISED TRANSFORMERS FOR UNSUPERVISED ...  "
      ]
     },
     "execution_count": 17,
     "metadata": {},
     "output_type": "execute_result"
    }
   ],
   "source": [
    "df.head()"
   ]
  },
  {
   "cell_type": "code",
   "execution_count": 18,
   "metadata": {},
   "outputs": [
    {
     "data": {
      "text/html": [
       "<div>\n",
       "<style scoped>\n",
       "    .dataframe tbody tr th:only-of-type {\n",
       "        vertical-align: middle;\n",
       "    }\n",
       "\n",
       "    .dataframe tbody tr th {\n",
       "        vertical-align: top;\n",
       "    }\n",
       "\n",
       "    .dataframe thead th {\n",
       "        text-align: right;\n",
       "    }\n",
       "</style>\n",
       "<table border=\"1\" class=\"dataframe\">\n",
       "  <thead>\n",
       "    <tr style=\"text-align: right;\">\n",
       "      <th></th>\n",
       "      <th>label</th>\n",
       "      <th>title</th>\n",
       "      <th>TDM</th>\n",
       "      <th>Context</th>\n",
       "    </tr>\n",
       "  </thead>\n",
       "  <tbody>\n",
       "    <tr>\n",
       "      <th>count</th>\n",
       "      <td>8897</td>\n",
       "      <td>8897</td>\n",
       "      <td>8897</td>\n",
       "      <td>8897</td>\n",
       "    </tr>\n",
       "    <tr>\n",
       "      <th>unique</th>\n",
       "      <td>1</td>\n",
       "      <td>2688</td>\n",
       "      <td>1872</td>\n",
       "      <td>2687</td>\n",
       "    </tr>\n",
       "    <tr>\n",
       "      <th>top</th>\n",
       "      <td>True</td>\n",
       "      <td>2108.10904v3.pdf</td>\n",
       "      <td>Image Classification; ImageNet; GFLOPs</td>\n",
       "      <td>SIMVLM: SIMPLE VISUAL LANGUAGE MODEL PRE- TRAI...</td>\n",
       "    </tr>\n",
       "    <tr>\n",
       "      <th>freq</th>\n",
       "      <td>8897</td>\n",
       "      <td>52</td>\n",
       "      <td>98</td>\n",
       "      <td>52</td>\n",
       "    </tr>\n",
       "  </tbody>\n",
       "</table>\n",
       "</div>"
      ],
      "text/plain": [
       "       label             title                                     TDM  \\\n",
       "count   8897              8897                                    8897   \n",
       "unique     1              2688                                    1872   \n",
       "top     True  2108.10904v3.pdf  Image Classification; ImageNet; GFLOPs   \n",
       "freq    8897                52                                      98   \n",
       "\n",
       "                                                  Context  \n",
       "count                                                8897  \n",
       "unique                                               2687  \n",
       "top     SIMVLM: SIMPLE VISUAL LANGUAGE MODEL PRE- TRAI...  \n",
       "freq                                                   52  "
      ]
     },
     "execution_count": 18,
     "metadata": {},
     "output_type": "execute_result"
    }
   ],
   "source": [
    "df.describe()"
   ]
  },
  {
   "cell_type": "code",
   "execution_count": 19,
   "metadata": {},
   "outputs": [],
   "source": [
    "output_path = \"/nfs/home/kabenamualus/Research/task-dataset-metric-nli-extraction/data/zero-shot/clearned\"\n",
    "df.to_csv(f\"{output_path}/train.tsv\", \n",
    "                       header=False, index=False, sep=\"\\t\")"
   ]
  },
  {
   "cell_type": "code",
   "execution_count": 20,
   "metadata": {},
   "outputs": [],
   "source": [
    "df['Count'] = df.TDM.apply(lambda x: tdm_count[x])"
   ]
  },
  {
   "cell_type": "code",
   "execution_count": 21,
   "metadata": {},
   "outputs": [
    {
     "data": {
      "text/html": [
       "<div>\n",
       "<style scoped>\n",
       "    .dataframe tbody tr th:only-of-type {\n",
       "        vertical-align: middle;\n",
       "    }\n",
       "\n",
       "    .dataframe tbody tr th {\n",
       "        vertical-align: top;\n",
       "    }\n",
       "\n",
       "    .dataframe thead th {\n",
       "        text-align: right;\n",
       "    }\n",
       "</style>\n",
       "<table border=\"1\" class=\"dataframe\">\n",
       "  <thead>\n",
       "    <tr style=\"text-align: right;\">\n",
       "      <th></th>\n",
       "      <th>label</th>\n",
       "      <th>title</th>\n",
       "      <th>TDM</th>\n",
       "      <th>Context</th>\n",
       "      <th>Count</th>\n",
       "    </tr>\n",
       "  </thead>\n",
       "  <tbody>\n",
       "  </tbody>\n",
       "</table>\n",
       "</div>"
      ],
      "text/plain": [
       "Empty DataFrame\n",
       "Columns: [label, title, TDM, Context, Count]\n",
       "Index: []"
      ]
     },
     "execution_count": 21,
     "metadata": {},
     "output_type": "execute_result"
    }
   ],
   "source": [
    "# df[df['Count'] >=5]\n",
    "df[df['Count'] ==0]"
   ]
  },
  {
   "cell_type": "code",
   "execution_count": 22,
   "metadata": {},
   "outputs": [
    {
     "data": {
      "text/html": [
       "<div>\n",
       "<style scoped>\n",
       "    .dataframe tbody tr th:only-of-type {\n",
       "        vertical-align: middle;\n",
       "    }\n",
       "\n",
       "    .dataframe tbody tr th {\n",
       "        vertical-align: top;\n",
       "    }\n",
       "\n",
       "    .dataframe thead th {\n",
       "        text-align: right;\n",
       "    }\n",
       "</style>\n",
       "<table border=\"1\" class=\"dataframe\">\n",
       "  <thead>\n",
       "    <tr style=\"text-align: right;\">\n",
       "      <th></th>\n",
       "      <th>label</th>\n",
       "      <th>title</th>\n",
       "      <th>TDM</th>\n",
       "      <th>Context</th>\n",
       "      <th>Count</th>\n",
       "    </tr>\n",
       "  </thead>\n",
       "  <tbody>\n",
       "    <tr>\n",
       "      <th>0</th>\n",
       "      <td>True</td>\n",
       "      <td>2210.11416v2.pdf</td>\n",
       "      <td>Multi-task Language Understanding; MMLU; Avera...</td>\n",
       "      <td>Scaling Instruction-Finetuned Language Models ...</td>\n",
       "      <td>8</td>\n",
       "    </tr>\n",
       "    <tr>\n",
       "      <th>1</th>\n",
       "      <td>True</td>\n",
       "      <td>2210.11416v2.pdf</td>\n",
       "      <td>Multi-task Language Understanding; MMLU; Param...</td>\n",
       "      <td>Scaling Instruction-Finetuned Language Models ...</td>\n",
       "      <td>7</td>\n",
       "    </tr>\n",
       "    <tr>\n",
       "      <th>2</th>\n",
       "      <td>True</td>\n",
       "      <td>2005.02190v2.pdf</td>\n",
       "      <td>Action Anticipation; EPIC-KITCHENS-100 (test);...</td>\n",
       "      <td>Rolling-Unrolling LSTMs for Action Anticipatio...</td>\n",
       "      <td>3</td>\n",
       "    </tr>\n",
       "    <tr>\n",
       "      <th>3</th>\n",
       "      <td>True</td>\n",
       "      <td>2202.11539v2.pdf</td>\n",
       "      <td>Weakly-Supervised Object Localization; CUB-200...</td>\n",
       "      <td>SELF-SUPERVISED TRANSFORMERS FOR UNSUPERVISED ...</td>\n",
       "      <td>4</td>\n",
       "    </tr>\n",
       "    <tr>\n",
       "      <th>4</th>\n",
       "      <td>True</td>\n",
       "      <td>2202.11539v2.pdf</td>\n",
       "      <td>Single-object discovery; COCO_20k; CorLoc</td>\n",
       "      <td>SELF-SUPERVISED TRANSFORMERS FOR UNSUPERVISED ...</td>\n",
       "      <td>5</td>\n",
       "    </tr>\n",
       "  </tbody>\n",
       "</table>\n",
       "</div>"
      ],
      "text/plain": [
       "  label             title                                                TDM  \\\n",
       "0  True  2210.11416v2.pdf  Multi-task Language Understanding; MMLU; Avera...   \n",
       "1  True  2210.11416v2.pdf  Multi-task Language Understanding; MMLU; Param...   \n",
       "2  True  2005.02190v2.pdf  Action Anticipation; EPIC-KITCHENS-100 (test);...   \n",
       "3  True  2202.11539v2.pdf  Weakly-Supervised Object Localization; CUB-200...   \n",
       "4  True  2202.11539v2.pdf          Single-object discovery; COCO_20k; CorLoc   \n",
       "\n",
       "                                             Context  Count  \n",
       "0  Scaling Instruction-Finetuned Language Models ...      8  \n",
       "1  Scaling Instruction-Finetuned Language Models ...      7  \n",
       "2  Rolling-Unrolling LSTMs for Action Anticipatio...      3  \n",
       "3  SELF-SUPERVISED TRANSFORMERS FOR UNSUPERVISED ...      4  \n",
       "4  SELF-SUPERVISED TRANSFORMERS FOR UNSUPERVISED ...      5  "
      ]
     },
     "execution_count": 22,
     "metadata": {},
     "output_type": "execute_result"
    }
   ],
   "source": [
    "df.head()"
   ]
  },
  {
   "cell_type": "code",
   "execution_count": 23,
   "metadata": {},
   "outputs": [
    {
     "data": {
      "text/plain": [
       "'Multi-task Language Understanding; MMLU; Average (%)'"
      ]
     },
     "execution_count": 23,
     "metadata": {},
     "output_type": "execute_result"
    }
   ],
   "source": [
    "df.loc[0, \"TDM\"]"
   ]
  },
  {
   "cell_type": "markdown",
   "metadata": {},
   "source": [
    "## Merge TdmGoldLabels"
   ]
  },
  {
   "cell_type": "code",
   "execution_count": 24,
   "metadata": {},
   "outputs": [],
   "source": [
    "zero_shot_gold_tdm = \"/nfs/home/kabenamualus/Research/task-dataset-metric-nli-extraction/data/zero-shot/pwc_pdf_5_10_800\"\n",
    "pwc_ibm_150_5_10_10000_gold_tdm = \"/nfs/home/kabenamualus/Research/task-dataset-metric-nli-extraction/data/pwc_ibm_150_5_10_10000/10Neg10000unk\""
   ]
  },
  {
   "cell_type": "code",
   "execution_count": 25,
   "metadata": {},
   "outputs": [],
   "source": [
    "pd_zero_shot_gold_tdm = pd.read_csv(f\"{zero_shot_gold_tdm}/tdmGoldLabels.tsv\", \n",
    "                    sep=\"\\t\", names=[\"tdm\"])\n",
    "\n",
    "pd_pwc_ibm_150_5_10_10000_gold_tdm = pd.read_csv(f\"{pwc_ibm_150_5_10_10000_gold_tdm}/tdmGoldLabels.tsv\", \n",
    "                    sep=\"\\t\", names=[\"tdm\"])"
   ]
  },
  {
   "cell_type": "code",
   "execution_count": 26,
   "metadata": {},
   "outputs": [
    {
     "data": {
      "text/html": [
       "<div>\n",
       "<style scoped>\n",
       "    .dataframe tbody tr th:only-of-type {\n",
       "        vertical-align: middle;\n",
       "    }\n",
       "\n",
       "    .dataframe tbody tr th {\n",
       "        vertical-align: top;\n",
       "    }\n",
       "\n",
       "    .dataframe thead th {\n",
       "        text-align: right;\n",
       "    }\n",
       "</style>\n",
       "<table border=\"1\" class=\"dataframe\">\n",
       "  <thead>\n",
       "    <tr style=\"text-align: right;\">\n",
       "      <th></th>\n",
       "      <th>tdm</th>\n",
       "    </tr>\n",
       "  </thead>\n",
       "  <tbody>\n",
       "    <tr>\n",
       "      <th>0</th>\n",
       "      <td>Single Image Deraining#Rain100H#PSNR</td>\n",
       "    </tr>\n",
       "    <tr>\n",
       "      <th>1</th>\n",
       "      <td>Question Answering#YahooCQA#P@1</td>\n",
       "    </tr>\n",
       "    <tr>\n",
       "      <th>2</th>\n",
       "      <td>Atari Games#Atari 2600 Private Eye#Score</td>\n",
       "    </tr>\n",
       "    <tr>\n",
       "      <th>3</th>\n",
       "      <td>Crowd Counting#WorldExpo???10#Average MAE</td>\n",
       "    </tr>\n",
       "    <tr>\n",
       "      <th>4</th>\n",
       "      <td>Speech Recognition#MediaSpeech#WER for Turkish</td>\n",
       "    </tr>\n",
       "  </tbody>\n",
       "</table>\n",
       "</div>"
      ],
      "text/plain": [
       "                                              tdm\n",
       "0            Single Image Deraining#Rain100H#PSNR\n",
       "1                 Question Answering#YahooCQA#P@1\n",
       "2        Atari Games#Atari 2600 Private Eye#Score\n",
       "3       Crowd Counting#WorldExpo???10#Average MAE\n",
       "4  Speech Recognition#MediaSpeech#WER for Turkish"
      ]
     },
     "execution_count": 26,
     "metadata": {},
     "output_type": "execute_result"
    }
   ],
   "source": [
    "pd_zero_shot_gold_tdm.head()"
   ]
  },
  {
   "cell_type": "code",
   "execution_count": 27,
   "metadata": {},
   "outputs": [
    {
     "data": {
      "text/html": [
       "<div>\n",
       "<style scoped>\n",
       "    .dataframe tbody tr th:only-of-type {\n",
       "        vertical-align: middle;\n",
       "    }\n",
       "\n",
       "    .dataframe tbody tr th {\n",
       "        vertical-align: top;\n",
       "    }\n",
       "\n",
       "    .dataframe thead th {\n",
       "        text-align: right;\n",
       "    }\n",
       "</style>\n",
       "<table border=\"1\" class=\"dataframe\">\n",
       "  <thead>\n",
       "    <tr style=\"text-align: right;\">\n",
       "      <th></th>\n",
       "      <th>tdm</th>\n",
       "    </tr>\n",
       "  </thead>\n",
       "  <tbody>\n",
       "    <tr>\n",
       "      <th>count</th>\n",
       "      <td>3551</td>\n",
       "    </tr>\n",
       "    <tr>\n",
       "      <th>unique</th>\n",
       "      <td>3551</td>\n",
       "    </tr>\n",
       "    <tr>\n",
       "      <th>top</th>\n",
       "      <td>Single Image Deraining#Rain100H#PSNR</td>\n",
       "    </tr>\n",
       "    <tr>\n",
       "      <th>freq</th>\n",
       "      <td>1</td>\n",
       "    </tr>\n",
       "  </tbody>\n",
       "</table>\n",
       "</div>"
      ],
      "text/plain": [
       "                                         tdm\n",
       "count                                   3551\n",
       "unique                                  3551\n",
       "top     Single Image Deraining#Rain100H#PSNR\n",
       "freq                                       1"
      ]
     },
     "execution_count": 27,
     "metadata": {},
     "output_type": "execute_result"
    }
   ],
   "source": [
    "pd_zero_shot_gold_tdm.describe()"
   ]
  },
  {
   "cell_type": "code",
   "execution_count": 28,
   "metadata": {},
   "outputs": [
    {
     "data": {
      "text/html": [
       "<div>\n",
       "<style scoped>\n",
       "    .dataframe tbody tr th:only-of-type {\n",
       "        vertical-align: middle;\n",
       "    }\n",
       "\n",
       "    .dataframe tbody tr th {\n",
       "        vertical-align: top;\n",
       "    }\n",
       "\n",
       "    .dataframe thead th {\n",
       "        text-align: right;\n",
       "    }\n",
       "</style>\n",
       "<table border=\"1\" class=\"dataframe\">\n",
       "  <thead>\n",
       "    <tr style=\"text-align: right;\">\n",
       "      <th></th>\n",
       "      <th>tdm</th>\n",
       "    </tr>\n",
       "  </thead>\n",
       "  <tbody>\n",
       "    <tr>\n",
       "      <th>count</th>\n",
       "      <td>1851</td>\n",
       "    </tr>\n",
       "    <tr>\n",
       "      <th>unique</th>\n",
       "      <td>1851</td>\n",
       "    </tr>\n",
       "    <tr>\n",
       "      <th>top</th>\n",
       "      <td>Single Image Deraining#Rain100H#PSNR</td>\n",
       "    </tr>\n",
       "    <tr>\n",
       "      <th>freq</th>\n",
       "      <td>1</td>\n",
       "    </tr>\n",
       "  </tbody>\n",
       "</table>\n",
       "</div>"
      ],
      "text/plain": [
       "                                         tdm\n",
       "count                                   1851\n",
       "unique                                  1851\n",
       "top     Single Image Deraining#Rain100H#PSNR\n",
       "freq                                       1"
      ]
     },
     "execution_count": 28,
     "metadata": {},
     "output_type": "execute_result"
    }
   ],
   "source": [
    "pd_pwc_ibm_150_5_10_10000_gold_tdm.describe()"
   ]
  },
  {
   "cell_type": "code",
   "execution_count": 30,
   "metadata": {
    "tags": []
   },
   "outputs": [],
   "source": [
    "df_merge_gold = pd.DataFrame(columns = [\"tdm\"])\n",
    "set_merge_gold = set()\n",
    "for index, row in pd_zero_shot_gold_tdm.iterrows():\n",
    "    # ipdb.set_trace()\n",
    "    if row[\"tdm\"] not in set_merge_gold:\n",
    "        # df_merge_gold = df_merge_gold.append({'tdm' : row.tdm},\n",
    "        #                ignore_index = True)\n",
    "        df_merge_gold = pd.concat(\n",
    "            [df_merge_gold, pd.DataFrame.from_records([{'tdm' : row.tdm}])], ignore_index = True)\n",
    "        \n",
    "        set_merge_gold.add(row[\"tdm\"])\n",
    "\n",
    "for index, row in pd_pwc_ibm_150_5_10_10000_gold_tdm.iterrows():\n",
    "    # ipdb.set_trace()\n",
    "    if row[\"tdm\"] not in set_merge_gold:\n",
    "        # df_merge_gold = df_merge_gold.append({'tdm' : row.tdm},\n",
    "        #                ignore_index = True)\n",
    "        df_merge_gold = pd.concat(\n",
    "            [df_merge_gold, pd.DataFrame.from_records([{'tdm' : row.tdm}])], ignore_index = True)\n",
    "        \n",
    "        set_merge_gold.add(row[\"tdm\"])"
   ]
  },
  {
   "cell_type": "code",
   "execution_count": 31,
   "metadata": {},
   "outputs": [
    {
     "data": {
      "text/html": [
       "<div>\n",
       "<style scoped>\n",
       "    .dataframe tbody tr th:only-of-type {\n",
       "        vertical-align: middle;\n",
       "    }\n",
       "\n",
       "    .dataframe tbody tr th {\n",
       "        vertical-align: top;\n",
       "    }\n",
       "\n",
       "    .dataframe thead th {\n",
       "        text-align: right;\n",
       "    }\n",
       "</style>\n",
       "<table border=\"1\" class=\"dataframe\">\n",
       "  <thead>\n",
       "    <tr style=\"text-align: right;\">\n",
       "      <th></th>\n",
       "      <th>tdm</th>\n",
       "    </tr>\n",
       "  </thead>\n",
       "  <tbody>\n",
       "    <tr>\n",
       "      <th>count</th>\n",
       "      <td>3741</td>\n",
       "    </tr>\n",
       "    <tr>\n",
       "      <th>unique</th>\n",
       "      <td>3741</td>\n",
       "    </tr>\n",
       "    <tr>\n",
       "      <th>top</th>\n",
       "      <td>Single Image Deraining#Rain100H#PSNR</td>\n",
       "    </tr>\n",
       "    <tr>\n",
       "      <th>freq</th>\n",
       "      <td>1</td>\n",
       "    </tr>\n",
       "  </tbody>\n",
       "</table>\n",
       "</div>"
      ],
      "text/plain": [
       "                                         tdm\n",
       "count                                   3741\n",
       "unique                                  3741\n",
       "top     Single Image Deraining#Rain100H#PSNR\n",
       "freq                                       1"
      ]
     },
     "execution_count": 31,
     "metadata": {},
     "output_type": "execute_result"
    }
   ],
   "source": [
    "df_merge_gold.describe()"
   ]
  },
  {
   "cell_type": "code",
   "execution_count": 32,
   "metadata": {},
   "outputs": [],
   "source": [
    "output_path = \"/nfs/home/kabenamualus/Research/task-dataset-metric-nli-extraction/data/zero-shot/clearned\"\n",
    "df_merge_gold.to_csv(f\"{output_path}/tdmGoldLabels.tsv\", \n",
    "                       header=False, index=False, sep=\"\\t\")"
   ]
  },
  {
   "cell_type": "markdown",
   "metadata": {},
   "source": [
    "## Create Zero-shot test"
   ]
  },
  {
   "cell_type": "code",
   "execution_count": 3,
   "metadata": {},
   "outputs": [],
   "source": [
    "output_path = \"/nfs/home/kabenamualus/Research/task-dataset-metric-nli-extraction/data/zero-shot/clearned\"\n",
    "\n",
    "df = pd.read_csv(f\"{output_path}/train.tsv\", \n",
    "                    sep=\"\\t\", names=[\"label\", \"title\", \"TDM\", \"Context\"])\n",
    "\n",
    "df_merge_gold= pd.read_csv(f\"{output_path}/tdmGoldLabels.tsv\", \n",
    "                       sep=\"\\t\", names=[\"tdm\"])"
   ]
  },
  {
   "cell_type": "code",
   "execution_count": 4,
   "metadata": {},
   "outputs": [
    {
     "data": {
      "text/html": [
       "<div>\n",
       "<style scoped>\n",
       "    .dataframe tbody tr th:only-of-type {\n",
       "        vertical-align: middle;\n",
       "    }\n",
       "\n",
       "    .dataframe tbody tr th {\n",
       "        vertical-align: top;\n",
       "    }\n",
       "\n",
       "    .dataframe thead th {\n",
       "        text-align: right;\n",
       "    }\n",
       "</style>\n",
       "<table border=\"1\" class=\"dataframe\">\n",
       "  <thead>\n",
       "    <tr style=\"text-align: right;\">\n",
       "      <th></th>\n",
       "      <th>label</th>\n",
       "      <th>title</th>\n",
       "      <th>TDM</th>\n",
       "      <th>Context</th>\n",
       "    </tr>\n",
       "  </thead>\n",
       "  <tbody>\n",
       "    <tr>\n",
       "      <th>8892</th>\n",
       "      <td>True</td>\n",
       "      <td>2007.08176v2.pdf</td>\n",
       "      <td>Anomaly Detection; Anomaly Detection on Anomal...</td>\n",
       "      <td>CSI: Novelty Detection via Contrastive Learnin...</td>\n",
       "    </tr>\n",
       "    <tr>\n",
       "      <th>8893</th>\n",
       "      <td>True</td>\n",
       "      <td>2007.08176v2.pdf</td>\n",
       "      <td>Anomaly Detection; Anomaly Detection on Unlabe...</td>\n",
       "      <td>CSI: Novelty Detection via Contrastive Learnin...</td>\n",
       "    </tr>\n",
       "    <tr>\n",
       "      <th>8894</th>\n",
       "      <td>True</td>\n",
       "      <td>2007.08176v2.pdf</td>\n",
       "      <td>Anomaly Detection; Anomaly Detection on Unlabe...</td>\n",
       "      <td>CSI: Novelty Detection via Contrastive Learnin...</td>\n",
       "    </tr>\n",
       "    <tr>\n",
       "      <th>8895</th>\n",
       "      <td>True</td>\n",
       "      <td>1505.02419v3.pdf</td>\n",
       "      <td>Relation Extraction; ACE 2005; Cross Sentence</td>\n",
       "      <td>Improved Relation Extraction with Feature-Rich...</td>\n",
       "    </tr>\n",
       "    <tr>\n",
       "      <th>8896</th>\n",
       "      <td>True</td>\n",
       "      <td>1912.04799v2.pdf</td>\n",
       "      <td>Monocular 3D Object Detection; KITTI Cars Mode...</td>\n",
       "      <td>Learning Depth-Guided Convolutions for Monocul...</td>\n",
       "    </tr>\n",
       "  </tbody>\n",
       "</table>\n",
       "</div>"
      ],
      "text/plain": [
       "      label             title  \\\n",
       "8892   True  2007.08176v2.pdf   \n",
       "8893   True  2007.08176v2.pdf   \n",
       "8894   True  2007.08176v2.pdf   \n",
       "8895   True  1505.02419v3.pdf   \n",
       "8896   True  1912.04799v2.pdf   \n",
       "\n",
       "                                                    TDM  \\\n",
       "8892  Anomaly Detection; Anomaly Detection on Anomal...   \n",
       "8893  Anomaly Detection; Anomaly Detection on Unlabe...   \n",
       "8894  Anomaly Detection; Anomaly Detection on Unlabe...   \n",
       "8895      Relation Extraction; ACE 2005; Cross Sentence   \n",
       "8896  Monocular 3D Object Detection; KITTI Cars Mode...   \n",
       "\n",
       "                                                Context  \n",
       "8892  CSI: Novelty Detection via Contrastive Learnin...  \n",
       "8893  CSI: Novelty Detection via Contrastive Learnin...  \n",
       "8894  CSI: Novelty Detection via Contrastive Learnin...  \n",
       "8895  Improved Relation Extraction with Feature-Rich...  \n",
       "8896  Learning Depth-Guided Convolutions for Monocul...  "
      ]
     },
     "execution_count": 4,
     "metadata": {},
     "output_type": "execute_result"
    }
   ],
   "source": [
    "df.tail()"
   ]
  },
  {
   "cell_type": "code",
   "execution_count": 5,
   "metadata": {},
   "outputs": [],
   "source": [
    "df_merge_gold[\"tdm\"] = df_merge_gold.tdm.apply(lambda x: x.replace(\"#\", \"; \"))"
   ]
  },
  {
   "cell_type": "code",
   "execution_count": 6,
   "metadata": {},
   "outputs": [
    {
     "data": {
      "text/html": [
       "<div>\n",
       "<style scoped>\n",
       "    .dataframe tbody tr th:only-of-type {\n",
       "        vertical-align: middle;\n",
       "    }\n",
       "\n",
       "    .dataframe tbody tr th {\n",
       "        vertical-align: top;\n",
       "    }\n",
       "\n",
       "    .dataframe thead th {\n",
       "        text-align: right;\n",
       "    }\n",
       "</style>\n",
       "<table border=\"1\" class=\"dataframe\">\n",
       "  <thead>\n",
       "    <tr style=\"text-align: right;\">\n",
       "      <th></th>\n",
       "      <th>tdm</th>\n",
       "    </tr>\n",
       "  </thead>\n",
       "  <tbody>\n",
       "    <tr>\n",
       "      <th>0</th>\n",
       "      <td>Single Image Deraining; Rain100H; PSNR</td>\n",
       "    </tr>\n",
       "    <tr>\n",
       "      <th>1</th>\n",
       "      <td>Question Answering; YahooCQA; P@1</td>\n",
       "    </tr>\n",
       "    <tr>\n",
       "      <th>2</th>\n",
       "      <td>Atari Games; Atari 2600 Private Eye; Score</td>\n",
       "    </tr>\n",
       "    <tr>\n",
       "      <th>3</th>\n",
       "      <td>Crowd Counting; WorldExpo???10; Average MAE</td>\n",
       "    </tr>\n",
       "    <tr>\n",
       "      <th>4</th>\n",
       "      <td>Speech Recognition; MediaSpeech; WER for Turkish</td>\n",
       "    </tr>\n",
       "  </tbody>\n",
       "</table>\n",
       "</div>"
      ],
      "text/plain": [
       "                                                tdm\n",
       "0            Single Image Deraining; Rain100H; PSNR\n",
       "1                 Question Answering; YahooCQA; P@1\n",
       "2        Atari Games; Atari 2600 Private Eye; Score\n",
       "3       Crowd Counting; WorldExpo???10; Average MAE\n",
       "4  Speech Recognition; MediaSpeech; WER for Turkish"
      ]
     },
     "execution_count": 6,
     "metadata": {},
     "output_type": "execute_result"
    }
   ],
   "source": [
    "df_merge_gold.head()"
   ]
  },
  {
   "cell_type": "code",
   "execution_count": 7,
   "metadata": {},
   "outputs": [
    {
     "name": "stdout",
     "output_type": "stream",
     "text": [
      "Enabling notebook extension jupyter-js-widgets/extension...\n",
      "      - Validating: \u001b[32mOK\u001b[0m\n"
     ]
    }
   ],
   "source": [
    "# gold_tdm_list\n",
    "!jupyter nbextension enable --py widgetsnbextension"
   ]
  },
  {
   "cell_type": "code",
   "execution_count": null,
   "metadata": {
    "tags": []
   },
   "outputs": [
    {
     "name": "stderr",
     "output_type": "stream",
     "text": [
      " 33%|██████████████████████████████████████████████▊                                                                                                | 879/2688 [41:28:34<176:15:33, 350.76s/it]"
     ]
    }
   ],
   "source": [
    "zero_shot_title = set(df.title.to_list())\n",
    "\n",
    "df_test = pd.DataFrame(columns = [\"label\", \"title\", \"TDM\", \"Context\"])\n",
    "set_test = set()\n",
    "\n",
    "for title in tqdm(zero_shot_title):\n",
    "    gold_tdm_list = df_merge_gold.tdm.to_list()\n",
    "    row =\"\"\n",
    "    for index, row in df[df.title == title].iterrows():\n",
    "        # df_test = df_test.append({'label' : row.label, 'title' : row.title, 'TDM' : row.TDM, 'Context' : row.Context},\n",
    "        #                          ignore_index = True)\n",
    "        df_test = pd.concat(\n",
    "            [df_test, pd.DataFrame.from_records(\n",
    "                [{'label' : row.label, 'title' : row.title, 'TDM' : row.TDM, 'Context' : row.Context}])], ignore_index = True)\n",
    "        \n",
    "        gold_tdm_list.remove(row.TDM)\n",
    "    \n",
    "    for tdm in gold_tdm_list:\n",
    "        # df_test = df_test.append({'label' : False, 'title' : row.title, 'TDM' : tdm, 'Context' : row.Context},\n",
    "        #                          ignore_index = True)\n",
    "        df_test = pd.concat(\n",
    "            [df_test, pd.DataFrame.from_records(\n",
    "                [{'label' : False, 'title' : row.title, 'TDM' : tdm, 'Context' : row.Context}])], ignore_index = True)"
   ]
  },
  {
   "cell_type": "code",
   "execution_count": null,
   "metadata": {},
   "outputs": [],
   "source": [
    "df_test.head()"
   ]
  },
  {
   "cell_type": "code",
   "execution_count": null,
   "metadata": {},
   "outputs": [],
   "source": []
  },
  {
   "cell_type": "code",
   "execution_count": null,
   "metadata": {},
   "outputs": [],
   "source": []
  },
  {
   "cell_type": "code",
   "execution_count": null,
   "metadata": {},
   "outputs": [],
   "source": []
  },
  {
   "cell_type": "code",
   "execution_count": null,
   "metadata": {},
   "outputs": [],
   "source": []
  },
  {
   "cell_type": "code",
   "execution_count": null,
   "metadata": {},
   "outputs": [],
   "source": []
  },
  {
   "cell_type": "code",
   "execution_count": null,
   "metadata": {},
   "outputs": [],
   "source": []
  },
  {
   "cell_type": "code",
   "execution_count": null,
   "metadata": {},
   "outputs": [],
   "source": []
  },
  {
   "cell_type": "code",
   "execution_count": null,
   "metadata": {},
   "outputs": [],
   "source": []
  },
  {
   "cell_type": "code",
   "execution_count": 5,
   "metadata": {},
   "outputs": [],
   "source": [
    "train_unique_tdm = set(train_New[train_New.label==True].TDM.to_list())"
   ]
  },
  {
   "cell_type": "code",
   "execution_count": 6,
   "metadata": {},
   "outputs": [],
   "source": [
    "test_unique_tdm = set(test_New[test_New.label==True].TDM.to_list())"
   ]
  },
  {
   "cell_type": "code",
   "execution_count": 7,
   "metadata": {},
   "outputs": [
    {
     "name": "stdout",
     "output_type": "stream",
     "text": [
      "unique TDM train: 1792\n",
      "unique TDM test: 1557\n"
     ]
    }
   ],
   "source": [
    "print(f\"unique TDM train: {len(train_unique_tdm)}\")\n",
    "print(f\"unique TDM test: {len(test_unique_tdm)}\")"
   ]
  },
  {
   "cell_type": "code",
   "execution_count": 8,
   "metadata": {},
   "outputs": [],
   "source": [
    "def unique_tdm_check(left, right, mode=\"Train\"):\n",
    "    count = 0\n",
    "    count_set = set()\n",
    "    for tdm in left:\n",
    "        if tdm not in right:\n",
    "            count_set.add(tdm)\n",
    "            count  += 1\n",
    "    print(f\"Missing TDM {mode}: {count}\")\n",
    "    return count_set"
   ]
  },
  {
   "cell_type": "markdown",
   "metadata": {},
   "source": [
    "## Create Zero-shoot"
   ]
  },
  {
   "cell_type": "code",
   "execution_count": 9,
   "metadata": {},
   "outputs": [],
   "source": [
    "def create_zero_shoot(train, test, output_path=\"/nfs/home/kabenamualus/Research/task-dataset-metric-nli-extraction/data/pwc_ibm_150_5_10_500/10Neg500unk_shot/zero_shot_twofoldwithunk/fold1/\"):\n",
    "    \n",
    "    if not os.path.exists(output_path):\n",
    "        os.makedirs(output_path)\n",
    "        \n",
    "    unique_sets_train = set(train[train.label==True].TDM.to_list())\n",
    "    unique_sets_test = set(test[test.label==True].TDM.to_list())\n",
    "        \n",
    "    print(f\"Len unique TDM Train: {len(unique_sets_train)}.\")\n",
    "    print(f\"Len unique TDM Test: {len(unique_sets_test)}.\")\n",
    "    \n",
    "    print(f\"Size Train df before: {len(train)}.\")\n",
    "    print(f\"Size Train df before: {len(test)}.\")\n",
    "    \n",
    "    for label in unique_sets_train:\n",
    "        index_to_drop = test[(test.TDM ==label) & (test.label==True)].index\n",
    "        test.drop(index_to_drop, axis=0, inplace=True)\n",
    "        \n",
    "    for label in unique_sets_test:\n",
    "        index_to_drop = train[(train.TDM ==label) & (train.label==True)].index\n",
    "        train.drop(index_to_drop, axis=0, inplace=True)\n",
    "        \n",
    "    train.to_csv(f\"{output_path}train.tsv\", \n",
    "                              header=False, index=False, sep=\"\\t\")    \n",
    "    test.to_csv(f\"{output_path}dev.tsv\", \n",
    "                              header=False, index=False, sep=\"\\t\")\n",
    "    \n",
    "    unique_sets_train = set(train[train.label==True].TDM.to_list())\n",
    "    unique_sets_test = set(test[test.label==True].TDM.to_list())\n",
    "    \n",
    "    print(f\"Len unique TDM Train: {len(unique_sets_train)}.\")\n",
    "    print(f\"Len unique TDM Test: {len(unique_sets_test)}.\")\n",
    "    \n",
    "    print(f\"Size Train df After: {len(train)}.\")\n",
    "    print(f\"Size Test df After: {len(test)}.\")\n",
    "    \n",
    "    print(\"Done.\")"
   ]
  },
  {
   "cell_type": "code",
   "execution_count": 10,
   "metadata": {},
   "outputs": [],
   "source": [
    "# def create_zero_shoot(trainOutput_New, split=0.8, output_path=\"/nfs/home/kabenamualus/Research/task-dataset-metric-nli-extraction/data/pwc_ibm_150_5_10_500/10Neg500unk_shot/zero_shot_twofoldwithunk/fold1/\"):\n",
    "    \n",
    "#     if not os.path.exists(output_path):\n",
    "#         os.makedirs(output_path)\n",
    "        \n",
    "#     unique_sets = set(trainOutput_New[trainOutput_New.label==True].TDM.to_list())\n",
    "#     train_split_tdm, test_split_tdm = train_test_split(list(unique_sets), train_size=split)\n",
    "    \n",
    "#     print(f\"Len unique TDM {len(unique_sets)}.\")\n",
    "    \n",
    "#     Zero_shoot_train_New = pd.DataFrame().reindex_like(trainOutput_New).dropna()\n",
    "#     Zero_shoot_test_New = pd.DataFrame().reindex_like(trainOutput_New).dropna()\n",
    "    \n",
    "#     for label in train_split_tdm:\n",
    "#         Zero_shoot_train_New = Zero_shoot_train_New.merge(trainOutput_New[(trainOutput_New.TDM==label) & (trainOutput_New.TDM==label)], how='outer')\n",
    "        \n",
    "#     for label in test_split_tdm:\n",
    "#         Zero_shoot_test_New = Zero_shoot_test_New.merge(trainOutput_New[trainOutput_New.TDM==label], how='outer')\n",
    "        \n",
    "#     Zero_shoot_train_New.to_csv(f\"{output_path}train.tsv\", \n",
    "#                               header=False, index=False, sep=\"\\t\")\n",
    "    \n",
    "#     print(f\"Len train dataset {len(Zero_shoot_train_New)}.\")\n",
    "    \n",
    "#     Zero_shoot_test_New.to_csv(f\"{output_path}dev.tsv\", \n",
    "#                               header=False, index=False, sep=\"\\t\")\n",
    "    \n",
    "#     print(f\"Len test dataset {len(Zero_shoot_test_New)}.\")\n",
    "    \n",
    "#     print(\"Done.\")"
   ]
  },
  {
   "cell_type": "code",
   "execution_count": 11,
   "metadata": {},
   "outputs": [],
   "source": [
    "output = \"/nfs/home/kabenamualus/Research/task-dataset-metric-nli-extraction/data/pwc_ibm_150_5_10_10000/10Neg10000unk/zero_shot_2_twofoldwithunk/fold1/\""
   ]
  },
  {
   "cell_type": "code",
   "execution_count": 12,
   "metadata": {},
   "outputs": [],
   "source": [
    "# create_zero_shoot(trainOutput_New=trainOutput_New, split=0.8, \n",
    "#                   output_path=output)"
   ]
  },
  {
   "cell_type": "code",
   "execution_count": 13,
   "metadata": {},
   "outputs": [
    {
     "name": "stdout",
     "output_type": "stream",
     "text": [
      "Len unique TDM Train: 1792.\n",
      "Len unique TDM Test: 1557.\n",
      "Size Train df before: 52154.\n",
      "Size Train df before: 22426.\n",
      "Len unique TDM Train: 294.\n",
      "Len unique TDM Test: 59.\n",
      "Size Train df After: 38608.\n",
      "Size Test df After: 16165.\n",
      "Done.\n"
     ]
    }
   ],
   "source": [
    "create_zero_shoot(train=train_New, test=test_New, \n",
    "                  output_path=output)"
   ]
  },
  {
   "cell_type": "code",
   "execution_count": 14,
   "metadata": {},
   "outputs": [
    {
     "name": "stdout",
     "output_type": "stream",
     "text": [
      "Missing TDM Test: 0\n"
     ]
    }
   ],
   "source": [
    "tdm_in_test_not_train = unique_tdm_check(left=New_test_csv, right=New_train_csv, mode=\"Test\")"
   ]
  },
  {
   "cell_type": "code",
   "execution_count": 15,
   "metadata": {},
   "outputs": [
    {
     "name": "stdout",
     "output_type": "stream",
     "text": [
      "Missing TDM Train: 0\n"
     ]
    }
   ],
   "source": [
    "tdm_in_train_not_test = unique_tdm_check(left=New_train_csv, right=New_test_csv, mode=\"Train\")"
   ]
  },
  {
   "cell_type": "code",
   "execution_count": 16,
   "metadata": {},
   "outputs": [],
   "source": [
    "New_train_csv = \"/nfs/home/kabenamualus/Research/task-dataset-metric-nli-extraction/data/pwc_ibm_150_5_10_10000/10Neg10000unk/twofoldwithunk/fold2/train.tsv\"\n",
    "New_test_csv = \"/nfs/home/kabenamualus/Research/task-dataset-metric-nli-extraction/data/pwc_ibm_150_5_10_10000/10Neg10000unk/twofoldwithunk/fold2/dev.tsv\"\n",
    "\n",
    "train_New = pd.read_csv(New_train_csv, \n",
    "                    sep=\"\\t\", names=[\"label\", \"title\", \"TDM\", \"Context\"])\n",
    "\n",
    "test_New = pd.read_csv(New_test_csv, \n",
    "                    sep=\"\\t\", names=[\"label\", \"title\", \"TDM\", \"Context\"])"
   ]
  },
  {
   "cell_type": "code",
   "execution_count": 17,
   "metadata": {},
   "outputs": [],
   "source": [
    "output = \"/nfs/home/kabenamualus/Research/task-dataset-metric-nli-extraction/data/pwc_ibm_150_5_10_10000/10Neg10000unk/zero_shot_2_twofoldwithunk/fold2/\""
   ]
  },
  {
   "cell_type": "code",
   "execution_count": 18,
   "metadata": {},
   "outputs": [
    {
     "name": "stdout",
     "output_type": "stream",
     "text": [
      "Len unique TDM Train: 1821.\n",
      "Len unique TDM Test: 1542.\n",
      "Size Train df before: 52315.\n",
      "Size Train df before: 22265.\n",
      "Len unique TDM Train: 309.\n",
      "Len unique TDM Test: 30.\n",
      "Size Train df After: 38649.\n",
      "Size Test df After: 16131.\n",
      "Done.\n"
     ]
    }
   ],
   "source": [
    "# create_zero_shoot(trainOutput_New=trainOutput_New, split=0.8, \n",
    "#                   output_path=output)\n",
    "create_zero_shoot(train=train_New, test=test_New, \n",
    "                  output_path=output)"
   ]
  },
  {
   "cell_type": "code",
   "execution_count": 19,
   "metadata": {},
   "outputs": [],
   "source": [
    "New_train_csv = f\"{output}train.tsv\"\n",
    "New_test_csv = f\"{output}dev.tsv\""
   ]
  },
  {
   "cell_type": "code",
   "execution_count": 20,
   "metadata": {},
   "outputs": [
    {
     "name": "stdout",
     "output_type": "stream",
     "text": [
      "Missing TDM Test: 0\n"
     ]
    }
   ],
   "source": [
    "tdm_in_test_not_train = unique_tdm_check(left=New_test_csv, right=New_train_csv, mode=\"Test\")"
   ]
  },
  {
   "cell_type": "code",
   "execution_count": 21,
   "metadata": {},
   "outputs": [
    {
     "name": "stdout",
     "output_type": "stream",
     "text": [
      "Missing TDM Train: 0\n"
     ]
    }
   ],
   "source": [
    "tdm_in_train_not_test = unique_tdm_check(left=New_train_csv, right=New_test_csv, mode=\"Train\")"
   ]
  },
  {
   "cell_type": "code",
   "execution_count": null,
   "metadata": {},
   "outputs": [],
   "source": []
  },
  {
   "cell_type": "markdown",
   "metadata": {},
   "source": [
    "## Enforce seen TDM in both train and test"
   ]
  },
  {
   "cell_type": "code",
   "execution_count": 101,
   "metadata": {},
   "outputs": [
    {
     "name": "stdout",
     "output_type": "stream",
     "text": [
      "unique TDM train: 96\n",
      "unique TDM test: 63\n"
     ]
    }
   ],
   "source": [
    "print(f\"unique TDM train: {len(train_unique_tdm)}\")\n",
    "print(f\"unique TDM test: {len(test_unique_tdm)}\")"
   ]
  },
  {
   "cell_type": "code",
   "execution_count": 97,
   "metadata": {},
   "outputs": [
    {
     "name": "stdout",
     "output_type": "stream",
     "text": [
      "Missing TDM Test: 63\n"
     ]
    }
   ],
   "source": [
    "tdm_in_test_not_train = unique_tdm_check(left=test_unique_tdm, right=train_unique_tdm, mode=\"Test\")"
   ]
  },
  {
   "cell_type": "code",
   "execution_count": 98,
   "metadata": {},
   "outputs": [
    {
     "name": "stdout",
     "output_type": "stream",
     "text": [
      "Missing TDM Train: 96\n"
     ]
    }
   ],
   "source": [
    "tdm_in_train_not_test = unique_tdm_check(left=train_unique_tdm, right=test_unique_tdm, mode=\"Train\")"
   ]
  },
  {
   "cell_type": "code",
   "execution_count": 99,
   "metadata": {},
   "outputs": [
    {
     "data": {
      "text/plain": [
       "20160"
      ]
     },
     "execution_count": 99,
     "metadata": {},
     "output_type": "execute_result"
    }
   ],
   "source": [
    "len(train_New)"
   ]
  },
  {
   "cell_type": "code",
   "execution_count": 100,
   "metadata": {},
   "outputs": [
    {
     "data": {
      "text/plain": [
       "17388"
      ]
     },
     "execution_count": 100,
     "metadata": {},
     "output_type": "execute_result"
    }
   ],
   "source": [
    "len(test_New)"
   ]
  },
  {
   "cell_type": "code",
   "execution_count": 111,
   "metadata": {},
   "outputs": [
    {
     "data": {
      "text/html": [
       "<div>\n",
       "<style scoped>\n",
       "    .dataframe tbody tr th:only-of-type {\n",
       "        vertical-align: middle;\n",
       "    }\n",
       "\n",
       "    .dataframe tbody tr th {\n",
       "        vertical-align: top;\n",
       "    }\n",
       "\n",
       "    .dataframe thead th {\n",
       "        text-align: right;\n",
       "    }\n",
       "</style>\n",
       "<table border=\"1\" class=\"dataframe\">\n",
       "  <thead>\n",
       "    <tr style=\"text-align: right;\">\n",
       "      <th></th>\n",
       "      <th>label</th>\n",
       "      <th>title</th>\n",
       "      <th>TDM</th>\n",
       "      <th>Context</th>\n",
       "    </tr>\n",
       "  </thead>\n",
       "  <tbody>\n",
       "    <tr>\n",
       "      <th>14199</th>\n",
       "      <td>True</td>\n",
       "      <td>2007.00916v1.pdf</td>\n",
       "      <td>Fact-based Text Editing; WebEdit; ADD</td>\n",
       "      <td>Fact-based Text Editing We propose a novel tex...</td>\n",
       "    </tr>\n",
       "  </tbody>\n",
       "</table>\n",
       "</div>"
      ],
      "text/plain": [
       "       label             title                                    TDM  \\\n",
       "14199   True  2007.00916v1.pdf  Fact-based Text Editing; WebEdit; ADD   \n",
       "\n",
       "                                                 Context  \n",
       "14199  Fact-based Text Editing We propose a novel tex...  "
      ]
     },
     "execution_count": 111,
     "metadata": {},
     "output_type": "execute_result"
    }
   ],
   "source": [
    "test_New[(test_New.TDM==\"Fact-based Text Editing; WebEdit; ADD\") & (test_New.label==True)]"
   ]
  },
  {
   "cell_type": "code",
   "execution_count": 112,
   "metadata": {},
   "outputs": [
    {
     "data": {
      "text/html": [
       "<div>\n",
       "<style scoped>\n",
       "    .dataframe tbody tr th:only-of-type {\n",
       "        vertical-align: middle;\n",
       "    }\n",
       "\n",
       "    .dataframe tbody tr th {\n",
       "        vertical-align: top;\n",
       "    }\n",
       "\n",
       "    .dataframe thead th {\n",
       "        text-align: right;\n",
       "    }\n",
       "</style>\n",
       "<table border=\"1\" class=\"dataframe\">\n",
       "  <thead>\n",
       "    <tr style=\"text-align: right;\">\n",
       "      <th></th>\n",
       "      <th>label</th>\n",
       "      <th>title</th>\n",
       "      <th>TDM</th>\n",
       "      <th>Context</th>\n",
       "    </tr>\n",
       "  </thead>\n",
       "  <tbody>\n",
       "  </tbody>\n",
       "</table>\n",
       "</div>"
      ],
      "text/plain": [
       "Empty DataFrame\n",
       "Columns: [label, title, TDM, Context]\n",
       "Index: []"
      ]
     },
     "execution_count": 112,
     "metadata": {},
     "output_type": "execute_result"
    }
   ],
   "source": [
    "train_New[(train_New.TDM==\"Fact-based Text Editing; WebEdit; ADD\") & (train_New.label==True)]"
   ]
  },
  {
   "cell_type": "code",
   "execution_count": null,
   "metadata": {},
   "outputs": [],
   "source": []
  }
 ],
 "metadata": {
  "kernelspec": {
   "display_name": "Python 3",
   "language": "python",
   "name": "python3"
  },
  "language_info": {
   "codemirror_mode": {
    "name": "ipython",
    "version": 3
   },
   "file_extension": ".py",
   "mimetype": "text/x-python",
   "name": "python",
   "nbconvert_exporter": "python",
   "pygments_lexer": "ipython3",
   "version": "3.8.8"
  }
 },
 "nbformat": 4,
 "nbformat_minor": 4
}
