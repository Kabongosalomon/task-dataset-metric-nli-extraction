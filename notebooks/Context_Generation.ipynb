{
 "cells": [
  {
   "cell_type": "code",
   "execution_count": 3,
   "id": "750d259b-a0c9-4c48-932e-a818888e8f7a",
   "metadata": {},
   "outputs": [],
   "source": [
    "# imports\n",
    "import ipdb, os, re\n",
    "import pandas as pd\n",
    "import numpy as np\n",
    "import matplotlib.pyplot as plt"
   ]
  },
  {
   "cell_type": "markdown",
   "id": "cc63b50e",
   "metadata": {},
   "source": [
    "## Switch context"
   ]
  },
  {
   "cell_type": "code",
   "execution_count": 4,
   "id": "66844ea7-4894-4d49-a05d-ab7a99858e03",
   "metadata": {},
   "outputs": [],
   "source": [
    "path_to_source = f\"/nfs/home/kabenamualus/Research/task-dataset-metric-nli-extraction/data/pwc_ibm_150_5_10_10000/10Neg10000unk/twofoldwithunk\"\n",
    "path_to_clone = f\"/nfs/home/kabenamualus/Research/task-dataset-metric-nli-extraction/data/pwc_latex_text/pwc_latex_5_10_10000/twofoldwithunk\"\n",
    "# path_to_source = f\"/nfs/home/kabenamualus/Research/task-dataset-metric-nli-extraction/data/pwc_latex_text/pwc_latex_5_10_10000_clone/twofoldwithunk\"\n",
    "# path_to_clone = f\"/nfs/home/kabenamualus/Research/task-dataset-metric-nli-extraction/data/pwc_ibm_150_5_10_10000/10Neg10000unk/twofoldwithunk\""
   ]
  },
  {
   "cell_type": "code",
   "execution_count": 5,
   "id": "821c6a6e",
   "metadata": {},
   "outputs": [],
   "source": [
    "fold = \"fold1\"\n",
    "train_source_pd = pd.read_csv(f\"{path_to_source}/{fold}/train.tsv\", \n",
    "                    sep=\"\\t\", names=[\"label\", \"title\", \"TDM\", \"Context\"])\n",
    "\n",
    "dev_source_pd = pd.read_csv(f\"{path_to_source}/{fold}/dev.tsv\", \n",
    "                    sep=\"\\t\", names=[\"label\", \"title\", \"TDM\", \"Context\"])\n",
    "\n",
    "\n",
    "train_clone_pd = pd.read_csv(f\"{path_to_clone}/{fold}/train.tsv\", \n",
    "                    sep=\"\\t\", names=[\"label\", \"title\", \"TDM\", \"Context\"])\n",
    "\n",
    "dev_clone_pd = pd.read_csv(f\"{path_to_clone}/{fold}/dev.tsv\", \n",
    "                    sep=\"\\t\", names=[\"label\", \"title\", \"TDM\", \"Context\"])"
   ]
  },
  {
   "cell_type": "code",
   "execution_count": 6,
   "id": "1ce2b48e",
   "metadata": {},
   "outputs": [
    {
     "data": {
      "text/html": [
       "<div>\n",
       "<style scoped>\n",
       "    .dataframe tbody tr th:only-of-type {\n",
       "        vertical-align: middle;\n",
       "    }\n",
       "\n",
       "    .dataframe tbody tr th {\n",
       "        vertical-align: top;\n",
       "    }\n",
       "\n",
       "    .dataframe thead th {\n",
       "        text-align: right;\n",
       "    }\n",
       "</style>\n",
       "<table border=\"1\" class=\"dataframe\">\n",
       "  <thead>\n",
       "    <tr style=\"text-align: right;\">\n",
       "      <th></th>\n",
       "      <th>label</th>\n",
       "      <th>title</th>\n",
       "      <th>TDM</th>\n",
       "      <th>Context</th>\n",
       "    </tr>\n",
       "  </thead>\n",
       "  <tbody>\n",
       "    <tr>\n",
       "      <th>38702</th>\n",
       "      <td>False</td>\n",
       "      <td>1909.09051v1.pdf</td>\n",
       "      <td>word_segmentation; VLSP 2013 word segmentation...</td>\n",
       "      <td>Self-Supervised Monocular Depth Hints Monocula...</td>\n",
       "    </tr>\n",
       "    <tr>\n",
       "      <th>38703</th>\n",
       "      <td>False</td>\n",
       "      <td>1909.09051v1.pdf</td>\n",
       "      <td>Sentiment Analysis; SST-5 Fine-grained classif...</td>\n",
       "      <td>Self-Supervised Monocular Depth Hints Monocula...</td>\n",
       "    </tr>\n",
       "    <tr>\n",
       "      <th>38704</th>\n",
       "      <td>False</td>\n",
       "      <td>1909.09051v1.pdf</td>\n",
       "      <td>3D Object Detection; nuScenes; NDS</td>\n",
       "      <td>Self-Supervised Monocular Depth Hints Monocula...</td>\n",
       "    </tr>\n",
       "    <tr>\n",
       "      <th>38705</th>\n",
       "      <td>False</td>\n",
       "      <td>1909.09051v1.pdf</td>\n",
       "      <td>Birds Eye View Object Detection; KITTI Cars Ea...</td>\n",
       "      <td>Self-Supervised Monocular Depth Hints Monocula...</td>\n",
       "    </tr>\n",
       "    <tr>\n",
       "      <th>38706</th>\n",
       "      <td>False</td>\n",
       "      <td>1909.09051v1.pdf</td>\n",
       "      <td>Node Classification; Wisconsin; Accuracy</td>\n",
       "      <td>Self-Supervised Monocular Depth Hints Monocula...</td>\n",
       "    </tr>\n",
       "  </tbody>\n",
       "</table>\n",
       "</div>"
      ],
      "text/plain": [
       "       label             title  \\\n",
       "38702  False  1909.09051v1.pdf   \n",
       "38703  False  1909.09051v1.pdf   \n",
       "38704  False  1909.09051v1.pdf   \n",
       "38705  False  1909.09051v1.pdf   \n",
       "38706  False  1909.09051v1.pdf   \n",
       "\n",
       "                                                     TDM  \\\n",
       "38702  word_segmentation; VLSP 2013 word segmentation...   \n",
       "38703  Sentiment Analysis; SST-5 Fine-grained classif...   \n",
       "38704                 3D Object Detection; nuScenes; NDS   \n",
       "38705  Birds Eye View Object Detection; KITTI Cars Ea...   \n",
       "38706           Node Classification; Wisconsin; Accuracy   \n",
       "\n",
       "                                                 Context  \n",
       "38702  Self-Supervised Monocular Depth Hints Monocula...  \n",
       "38703  Self-Supervised Monocular Depth Hints Monocula...  \n",
       "38704  Self-Supervised Monocular Depth Hints Monocula...  \n",
       "38705  Self-Supervised Monocular Depth Hints Monocula...  \n",
       "38706  Self-Supervised Monocular Depth Hints Monocula...  "
      ]
     },
     "execution_count": 6,
     "metadata": {},
     "output_type": "execute_result"
    }
   ],
   "source": [
    "train_source_pd.tail()"
   ]
  },
  {
   "cell_type": "code",
   "execution_count": 7,
   "id": "40f2254b",
   "metadata": {},
   "outputs": [
    {
     "data": {
      "text/html": [
       "<div>\n",
       "<style scoped>\n",
       "    .dataframe tbody tr th:only-of-type {\n",
       "        vertical-align: middle;\n",
       "    }\n",
       "\n",
       "    .dataframe tbody tr th {\n",
       "        vertical-align: top;\n",
       "    }\n",
       "\n",
       "    .dataframe thead th {\n",
       "        text-align: right;\n",
       "    }\n",
       "</style>\n",
       "<table border=\"1\" class=\"dataframe\">\n",
       "  <thead>\n",
       "    <tr style=\"text-align: right;\">\n",
       "      <th></th>\n",
       "      <th>label</th>\n",
       "      <th>title</th>\n",
       "      <th>TDM</th>\n",
       "      <th>Context</th>\n",
       "    </tr>\n",
       "  </thead>\n",
       "  <tbody>\n",
       "    <tr>\n",
       "      <th>50138</th>\n",
       "      <td>False</td>\n",
       "      <td>1909.09051v1.pdf</td>\n",
       "      <td>word_segmentation; VLSP 2013 word segmentation...</td>\n",
       "      <td>Self-Supervised Monocular Depth Hints Monocula...</td>\n",
       "    </tr>\n",
       "    <tr>\n",
       "      <th>50139</th>\n",
       "      <td>False</td>\n",
       "      <td>1909.09051v1.pdf</td>\n",
       "      <td>Sentiment Analysis; SST-5 Fine-grained classif...</td>\n",
       "      <td>Self-Supervised Monocular Depth Hints Monocula...</td>\n",
       "    </tr>\n",
       "    <tr>\n",
       "      <th>50140</th>\n",
       "      <td>False</td>\n",
       "      <td>1909.09051v1.pdf</td>\n",
       "      <td>3D Object Detection; nuScenes; NDS</td>\n",
       "      <td>Self-Supervised Monocular Depth Hints Monocula...</td>\n",
       "    </tr>\n",
       "    <tr>\n",
       "      <th>50141</th>\n",
       "      <td>False</td>\n",
       "      <td>1909.09051v1.pdf</td>\n",
       "      <td>Birds Eye View Object Detection; KITTI Cars Ea...</td>\n",
       "      <td>Self-Supervised Monocular Depth Hints Monocula...</td>\n",
       "    </tr>\n",
       "    <tr>\n",
       "      <th>50142</th>\n",
       "      <td>False</td>\n",
       "      <td>1909.09051v1.pdf</td>\n",
       "      <td>Node Classification; Wisconsin; Accuracy</td>\n",
       "      <td>Self-Supervised Monocular Depth Hints Monocula...</td>\n",
       "    </tr>\n",
       "  </tbody>\n",
       "</table>\n",
       "</div>"
      ],
      "text/plain": [
       "       label             title  \\\n",
       "50138  False  1909.09051v1.pdf   \n",
       "50139  False  1909.09051v1.pdf   \n",
       "50140  False  1909.09051v1.pdf   \n",
       "50141  False  1909.09051v1.pdf   \n",
       "50142  False  1909.09051v1.pdf   \n",
       "\n",
       "                                                     TDM  \\\n",
       "50138  word_segmentation; VLSP 2013 word segmentation...   \n",
       "50139  Sentiment Analysis; SST-5 Fine-grained classif...   \n",
       "50140                 3D Object Detection; nuScenes; NDS   \n",
       "50141  Birds Eye View Object Detection; KITTI Cars Ea...   \n",
       "50142           Node Classification; Wisconsin; Accuracy   \n",
       "\n",
       "                                                 Context  \n",
       "50138  Self-Supervised Monocular Depth Hints Monocula...  \n",
       "50139  Self-Supervised Monocular Depth Hints Monocula...  \n",
       "50140  Self-Supervised Monocular Depth Hints Monocula...  \n",
       "50141  Self-Supervised Monocular Depth Hints Monocula...  \n",
       "50142  Self-Supervised Monocular Depth Hints Monocula...  "
      ]
     },
     "execution_count": 7,
     "metadata": {},
     "output_type": "execute_result"
    }
   ],
   "source": [
    "train_clone_pd.tail()"
   ]
  },
  {
   "cell_type": "markdown",
   "id": "85505af6",
   "metadata": {},
   "source": [
    "### train_IBM_pd vs trainOutput_150_IBM_pd"
   ]
  },
  {
   "cell_type": "code",
   "execution_count": 8,
   "id": "57ab66e4",
   "metadata": {},
   "outputs": [
    {
     "data": {
      "text/html": [
       "<div>\n",
       "<style scoped>\n",
       "    .dataframe tbody tr th:only-of-type {\n",
       "        vertical-align: middle;\n",
       "    }\n",
       "\n",
       "    .dataframe tbody tr th {\n",
       "        vertical-align: top;\n",
       "    }\n",
       "\n",
       "    .dataframe thead th {\n",
       "        text-align: right;\n",
       "    }\n",
       "</style>\n",
       "<table border=\"1\" class=\"dataframe\">\n",
       "  <thead>\n",
       "    <tr style=\"text-align: right;\">\n",
       "      <th></th>\n",
       "      <th>label</th>\n",
       "      <th>title</th>\n",
       "      <th>TDM</th>\n",
       "      <th>Context</th>\n",
       "    </tr>\n",
       "  </thead>\n",
       "  <tbody>\n",
       "    <tr>\n",
       "      <th>0</th>\n",
       "      <td>True</td>\n",
       "      <td>1707.03497v2.pdf</td>\n",
       "      <td>Atari Games; Atari 2600 Seaquest; Score</td>\n",
       "      <td>Value Prediction Network This paper proposes a...</td>\n",
       "    </tr>\n",
       "    <tr>\n",
       "      <th>1</th>\n",
       "      <td>True</td>\n",
       "      <td>1707.03497v2.pdf</td>\n",
       "      <td>Atari Games; Atari 2600 Amidar; Score</td>\n",
       "      <td>Value Prediction Network This paper proposes a...</td>\n",
       "    </tr>\n",
       "    <tr>\n",
       "      <th>2</th>\n",
       "      <td>True</td>\n",
       "      <td>1707.03497v2.pdf</td>\n",
       "      <td>Atari Games; Atari 2600 Krull; Score</td>\n",
       "      <td>Value Prediction Network This paper proposes a...</td>\n",
       "    </tr>\n",
       "    <tr>\n",
       "      <th>3</th>\n",
       "      <td>True</td>\n",
       "      <td>1707.03497v2.pdf</td>\n",
       "      <td>Atari Games; Atari 2600 Alien; Score</td>\n",
       "      <td>Value Prediction Network This paper proposes a...</td>\n",
       "    </tr>\n",
       "    <tr>\n",
       "      <th>4</th>\n",
       "      <td>True</td>\n",
       "      <td>1707.03497v2.pdf</td>\n",
       "      <td>Atari Games; Atari 2600 Enduro; Score</td>\n",
       "      <td>Value Prediction Network This paper proposes a...</td>\n",
       "    </tr>\n",
       "  </tbody>\n",
       "</table>\n",
       "</div>"
      ],
      "text/plain": [
       "   label             title                                      TDM  \\\n",
       "0   True  1707.03497v2.pdf  Atari Games; Atari 2600 Seaquest; Score   \n",
       "1   True  1707.03497v2.pdf    Atari Games; Atari 2600 Amidar; Score   \n",
       "2   True  1707.03497v2.pdf     Atari Games; Atari 2600 Krull; Score   \n",
       "3   True  1707.03497v2.pdf     Atari Games; Atari 2600 Alien; Score   \n",
       "4   True  1707.03497v2.pdf    Atari Games; Atari 2600 Enduro; Score   \n",
       "\n",
       "                                             Context  \n",
       "0  Value Prediction Network This paper proposes a...  \n",
       "1  Value Prediction Network This paper proposes a...  \n",
       "2  Value Prediction Network This paper proposes a...  \n",
       "3  Value Prediction Network This paper proposes a...  \n",
       "4  Value Prediction Network This paper proposes a...  "
      ]
     },
     "execution_count": 8,
     "metadata": {},
     "output_type": "execute_result"
    }
   ],
   "source": [
    "train_source_pd[train_source_pd.label==True].head()"
   ]
  },
  {
   "cell_type": "code",
   "execution_count": 9,
   "id": "b17c068a",
   "metadata": {},
   "outputs": [
    {
     "data": {
      "text/plain": [
       "2876"
      ]
     },
     "execution_count": 9,
     "metadata": {},
     "output_type": "execute_result"
    }
   ],
   "source": [
    "# List of pdf name that are in the test file\n",
    "list_train_source_pd_uniq = list(train_source_pd.title.unique())\n",
    "len(list_train_source_pd_uniq)"
   ]
  },
  {
   "cell_type": "code",
   "execution_count": 10,
   "id": "f092f441",
   "metadata": {},
   "outputs": [
    {
     "data": {
      "text/plain": [
       "1219"
      ]
     },
     "execution_count": 10,
     "metadata": {},
     "output_type": "execute_result"
    }
   ],
   "source": [
    "# List of pdf name that are in the train file\n",
    "list_dev_source_pd_uniq = list(dev_source_pd.title.unique())\n",
    "len(list_dev_source_pd_uniq)"
   ]
  },
  {
   "cell_type": "code",
   "execution_count": 11,
   "id": "87cb3a7b",
   "metadata": {},
   "outputs": [
    {
     "data": {
      "text/plain": [
       "4095"
      ]
     },
     "execution_count": 11,
     "metadata": {},
     "output_type": "execute_result"
    }
   ],
   "source": [
    "# total number of uniq pdf in the train and testing\n",
    "len(list_train_source_pd_uniq)+len(list_dev_source_pd_uniq)"
   ]
  },
  {
   "cell_type": "code",
   "execution_count": 12,
   "id": "c5263d2c",
   "metadata": {},
   "outputs": [
    {
     "data": {
      "text/plain": [
       "3753"
      ]
     },
     "execution_count": 12,
     "metadata": {},
     "output_type": "execute_result"
    }
   ],
   "source": [
    "# List of pdf name that are in the train file\n",
    "list_train_clone_pd_uniq = list(train_clone_pd.title.unique())\n",
    "len(list_train_clone_pd_uniq)"
   ]
  },
  {
   "cell_type": "code",
   "execution_count": 13,
   "id": "00a91eca",
   "metadata": {},
   "outputs": [
    {
     "data": {
      "text/plain": [
       "1608"
      ]
     },
     "execution_count": 13,
     "metadata": {},
     "output_type": "execute_result"
    }
   ],
   "source": [
    "# List of pdf name that are in the train file\n",
    "list_dev_clone_pd_uniq = list(dev_clone_pd.title.unique())\n",
    "len(list_dev_clone_pd_uniq)"
   ]
  },
  {
   "cell_type": "code",
   "execution_count": 14,
   "id": "7225cec6-7898-4117-b3c1-7a893be3f2f2",
   "metadata": {},
   "outputs": [
    {
     "data": {
      "text/plain": [
       "5361"
      ]
     },
     "execution_count": 14,
     "metadata": {},
     "output_type": "execute_result"
    }
   ],
   "source": [
    "# total number of uniq pdf in the train and testing\n",
    "len(list_train_clone_pd_uniq)+len(list_dev_clone_pd_uniq)"
   ]
  },
  {
   "cell_type": "code",
   "execution_count": 15,
   "id": "69d84f2b",
   "metadata": {},
   "outputs": [],
   "source": [
    "# Dict to contains new context\n",
    "\n",
    "dict_train_source_paper_context = {}\n",
    "for paper in list_train_source_pd_uniq:\n",
    "    dict_train_source_paper_context[paper]=train_source_pd[train_source_pd.title==paper].Context.values[0]\n",
    "for paper in list_dev_source_pd_uniq:\n",
    "    dict_train_source_paper_context[paper]=dev_source_pd[dev_source_pd.title==paper].Context.values[0]\n",
    "    \n",
    "dict_train_clone_paper_context = {}\n",
    "for paper in list_train_clone_pd_uniq:\n",
    "    dict_train_clone_paper_context[paper]=train_clone_pd[train_clone_pd.title==paper].Context.values[0]\n",
    "for paper in list_dev_clone_pd_uniq:\n",
    "    dict_train_clone_paper_context[paper]=dev_clone_pd[dev_clone_pd.title==paper].Context.values[0]"
   ]
  },
  {
   "cell_type": "code",
   "execution_count": 16,
   "id": "1d7b6852",
   "metadata": {},
   "outputs": [],
   "source": [
    "def get_start_lenght(dictionary, limit=\"150\", title=\"\",):\n",
    "    # Stats\n",
    "    len_context= []\n",
    "    for context in dictionary.values():\n",
    "        len_context.append(len(context.split()))\n",
    "    \n",
    "    print(f\"Context TDM limit {limit}:\")\n",
    "    print(f\"Mean lenght: {np.mean(len_context)}\")\n",
    "    print(f\"Max lenght: {np.max(len_context)}\")\n",
    "    print(f\"Min lenght: {np.min(len_context)}\")\n",
    "    print(f\"Std lenght: {np.std(len_context)}\")\n",
    "    \n",
    "    x = np.arange(1, len(len_context)+1, 1)\n",
    "    y = len_context\n",
    "\n",
    "    plt.plot(x, y)\n",
    "\n",
    "    plt.title(title)\n",
    "    plt.xlabel(\"number of papers\")\n",
    "    plt.ylabel(\"lenght DocTAET\")\n",
    "    plt.savefig(fname=re.sub(r\"[0-9]+\", '', title).strip())\n",
    "    plt.show()\n",
    "    \n",
    "    return len_context"
   ]
  },
  {
   "cell_type": "code",
   "execution_count": 17,
   "id": "7b42a837",
   "metadata": {},
   "outputs": [
    {
     "name": "stdout",
     "output_type": "stream",
     "text": [
      "Context TDM limit None:\n",
      "Mean lenght: 734.1008547008547\n",
      "Max lenght: 7374\n",
      "Min lenght: 1\n",
      "Std lenght: 448.97058088734724\n"
     ]
    },
    {
     "data": {
      "image/png": "[encoded data removed]",
      "text/plain": [
       "<Figure size 432x288 with 1 Axes>"
      ]
     },
     "metadata": {
      "needs_background": "light"
     },
     "output_type": "display_data"
    }
   ],
   "source": [
    "len_context_150 = get_start_lenght(dict_train_source_paper_context, \n",
    "                                   limit=\"None\", \n",
    "                                   title=\"ORKG-TDM Paper Source\")"
   ]
  },
  {
   "cell_type": "code",
   "execution_count": 18,
   "id": "3f1ce4ab",
   "metadata": {},
   "outputs": [
    {
     "name": "stdout",
     "output_type": "stream",
     "text": [
      "Context TDM limit None:\n",
      "Mean lenght: 378.88919977616115\n",
      "Max lenght: 2161\n",
      "Min lenght: 5\n",
      "Std lenght: 119.6318828220644\n"
     ]
    },
    {
     "data": {
      "image/png": "[encoded data removed]",
      "text/plain": [
       "<Figure size 432x288 with 1 Axes>"
      ]
     },
     "metadata": {
      "needs_background": "light"
     },
     "output_type": "display_data"
    }
   ],
   "source": [
    "len_context_150 = get_start_lenght(dict_train_clone_paper_context, \n",
    "                                   limit=\"None\", \n",
    "                                   title=\"Latex context\")"
   ]
  },
  {
   "cell_type": "code",
   "execution_count": 19,
   "id": "ab24403c-46a7-473c-9288-a9016536360b",
   "metadata": {},
   "outputs": [
    {
     "data": {
      "text/plain": [
       "'Deep Learning for Detecting Robotic Grasps We consider the problem of detecting robotic grasps in an RGB-D\\xa0view of a scene containing objects. In this work, we apply a deep learning approach to solve this problem, which avoids time-consuming hand-design of features. This presents two main challenges. First, we need to evaluate a huge number of candidate grasps. In order to make detection fast and robust, we present a two-step cascaded system with two deep networks, where the top detections from the first are re-evaluated by the second. The first network has fewer features, is faster to run, and can effectively prune out unlikely candidate grasps. The second, with more features, is slower but has to run only on the top few detections. Second, we need to handle multimodal inputs effectively, for which we present a method that applies structured regularization on the weights based on multimodal group regularization. We show that our method improves performance on an RGBD robotic grasping dataset, and can be used to successfully execute grasps on two different robotic platforms.    Parts of this work were presented at ICLR 2013 as a workshop paper,   and at RSS 2013 as a conference paper. This version includes   significantly extended related work, algorithmic descriptions, and   extensive robotic experiments which were not present in previous   versions.Parts of this work were presented at ICLR 2013 as a workshop paper,   and at RSS 2013 as a conference paper. This version includes   significantly extended related work, algorithmic descriptions, and   extensive robotic experiments which were not present in previous   versions. We used the extended version of the Cornell grasping dataset for our experiments This dataset, along with code for this paper, is available at We note that this is an updated version of the dataset used in , containing several more complex objects, and thus results for their algorithms will be different from those in This dataset contains 1035 images of 280 graspable objects, several of which are shown in Fig.\\xa0 While the vast majority of possible rectangles for most objects will be non-graspable, the dataset contains roughly equal numbers of graspable and non-graspable rectangles We compare our recognition results in the Cornell grasping dataset with the features from , as well as the combination of these features and Fast Point Feature Histogram (FPFH) features From the remaining set, we use the common bounding box evaluation metric of intersection divided by union - i.e We used the extended version of the Cornell grasping dataset for our experiments This dataset, along with code for this paper, is available at We note that this is an updated version of the dataset used in , containing several more complex objects, and thus results for their algorithms will be different from those in This dataset contains 1035 images of 280 graspable objects, several of which are shown in Fig.\\xa0 While the vast majority of possible rectangles for most objects will be non-graspable, the dataset contains roughly equal numbers of graspable and non-graspable rectangles In order to evaluate the performance of our algorithms in the real world, we ran an extensive series of robotic experiments Most of these objects were not present in the training dataset, and thus were completely new to the grasp detection algorithm For comparison purposes, we ran a small set of control experiments for 16 of the objects in the dataset This is because the background for all objects in the dataset is white, leading the algorithm to learn features relating white areas at the edges of the gripper region to graspable cases This could be remedied by extending the dataset to include cases with different background colors It was able to consistently detect and execute grasps fora crumpled cloth towel, a complex and irregular case which bore little resemblance to any object in the dataset'"
      ]
     },
     "execution_count": 19,
     "metadata": {},
     "output_type": "execute_result"
    }
   ],
   "source": [
    "dict_train_source_paper_context[\"1301.3592v6.pdf\"]"
   ]
  },
  {
   "cell_type": "code",
   "execution_count": 20,
   "id": "e8cf1fc6-093a-45cf-baaf-e96313ee7e17",
   "metadata": {},
   "outputs": [
    {
     "data": {
      "text/plain": [
       "'Deep Learning for Detecting Robotic Grasps We consider the problem of detecting robotic grasps in an RGB-D view of a scene containing objects. In this work, we apply a deep learning approach to solve this problem, which avoids time-consuming hand-design of features. This presents two main challenges. First, we need to evaluate a huge number of candidate grasps. In order to make detection fast and robust, we present a two-step cascaded system with two deep networks, where the top detections from the first are re-evaluated by the second. The first network has fewer features, is faster to run, and can effectively prune out unlikely candidate grasps. The second, with more features, is slower but has to run only on the top few detections. Second, we need to handle multimodal inputs effectively, for which we present a method that applies structured regularization on the weights based on multimodal group regularization. We show that our method improves performance on an RGBD robotic grasping dataset, and can be used to successfully execute grasps on two different robotic platforms. 1 We used the extended version of the Cornell grasping dataset for our experiments This dataset, along with code for this paper, is available at http://pr.cs.cornell.edu/ deepgrasping We note that this is an updated version of the dataset used in, containing several more complex objects, and thus results for their algorithms will be different from those in This dataset contains 1035 images of 280 graspable objects, several of which are shown in While the vast majority of possible rectangles for most objects will be non-graspable, the dataset contains roughly equal numbers of graspable and nongraspable rectangles In order to evaluate the performance of our algorithms in the real world, we ran an extensive series of robotic experiments Many of them are shown in Most of these objects were not present in the training dataset, and thus were completely new to the grasp detection algorithm'"
      ]
     },
     "execution_count": 20,
     "metadata": {},
     "output_type": "execute_result"
    }
   ],
   "source": [
    "dict_train_clone_paper_context[\"1301.3592v6.pdf\"]"
   ]
  },
  {
   "cell_type": "code",
   "execution_count": 21,
   "id": "e0226b6f",
   "metadata": {},
   "outputs": [],
   "source": [
    "# train_source_pd[\"Context\"] = train_source_pd.apply(lambda x : dict_train_clone_paper_context[x['title']] if x['title'] in dict_train_clone_paper_context.keys() else \"None\", axis=1)\n",
    "# train_source_pd.drop(train_source_pd.index[train_source_pd['Context'] == 'None'], inplace = True)\n",
    "# dev_source_pd[\"Context\"] = dev_source_pd.apply(lambda x : dict_train_clone_paper_context[x['title']] if x['title'] in dict_train_clone_paper_context.keys() else \"None\", axis=1)\n",
    "# dev_source_pd.drop(dev_source_pd.index[dev_source_pd['Context'] == 'None'], inplace = True)"
   ]
  },
  {
   "cell_type": "code",
   "execution_count": 45,
   "id": "3a992dea-f4d0-4e71-8ba7-da91592173a1",
   "metadata": {},
   "outputs": [
    {
     "data": {
      "text/plain": [
       "2881"
      ]
     },
     "execution_count": 45,
     "metadata": {},
     "output_type": "execute_result"
    }
   ],
   "source": [
    "# List of pdf name that are in the test file\n",
    "list_train_source_pd_uniq = list(train_source_pd.title.unique())\n",
    "len(list_train_source_pd_uniq)"
   ]
  },
  {
   "cell_type": "code",
   "execution_count": 46,
   "id": "6acfcecf-1bc1-4989-a257-64fbd58eed22",
   "metadata": {},
   "outputs": [
    {
     "data": {
      "text/plain": [
       "1214"
      ]
     },
     "execution_count": 46,
     "metadata": {},
     "output_type": "execute_result"
    }
   ],
   "source": [
    "# List of pdf name that are in the train file\n",
    "list_dev_source_pd_uniq = list(dev_source_pd.title.unique())\n",
    "len(list_dev_source_pd_uniq)"
   ]
  },
  {
   "cell_type": "code",
   "execution_count": 47,
   "id": "7828472f-200e-49f5-8563-ae2e1d268181",
   "metadata": {},
   "outputs": [],
   "source": [
    "dict_train_source_paper_context = {}\n",
    "for paper in list_train_source_pd_uniq:\n",
    "    dict_train_source_paper_context[paper]=train_source_pd[train_source_pd.title==paper].Context.values[0]\n",
    "for paper in list_dev_source_pd_uniq:\n",
    "    dict_train_source_paper_context[paper]=dev_source_pd[dev_source_pd.title==paper].Context.values[0]"
   ]
  },
  {
   "cell_type": "code",
   "execution_count": 48,
   "id": "f1d12db6-55c7-43b1-8d2b-9b675b162124",
   "metadata": {},
   "outputs": [
    {
     "name": "stdout",
     "output_type": "stream",
     "text": [
      "Context TDM limit None:\n",
      "Mean lenght: 734.1008547008547\n",
      "Max lenght: 7374\n",
      "Min lenght: 1\n",
      "Std lenght: 448.97058088734724\n"
     ]
    },
    {
     "data": {
      "image/png": "[encoded data removed]",
      "text/plain": [
       "<Figure size 432x288 with 1 Axes>"
      ]
     },
     "metadata": {
      "needs_background": "light"
     },
     "output_type": "display_data"
    }
   ],
   "source": [
    "len_context_150 = get_start_lenght(dict_train_source_paper_context, \n",
    "                                   limit=\"None\", \n",
    "                                   title=\"ORKG-TDM like Papers with Latex Context\")"
   ]
  },
  {
   "cell_type": "code",
   "execution_count": 49,
   "id": "214d95ff-cc29-4e32-9bd4-b2fae47dd323",
   "metadata": {},
   "outputs": [],
   "source": [
    "path_to_clone = f\"/nfs/home/kabenamualus/Research/task-dataset-metric-nli-extraction/data/pwc_latex_text/pwc_latex_5_10_10000/twofoldwithunk\"\n",
    "new_path = f\"/nfs/home/kabenamualus/Research/task-dataset-metric-nli-extraction/data/pwc_latex_text/pwc_latex_5_10_10000_clone/twofoldwithunk/{fold}\"\n",
    "os.makedirs(new_path) if not os.path.exists(new_path) else \"Pass\"\n",
    "\n",
    "\n",
    "                              \n",
    "train_source_pd.to_csv(path_or_buf=f\"{new_path}/train.tsv\", \n",
    "                 sep=\"\\t\", header=None, index=False)\n",
    "\n",
    "dev_source_pd.to_csv(path_or_buf=f\"{new_path}/dev.tsv\", \n",
    "                 sep=\"\\t\", header=None, index=False)"
   ]
  },
  {
   "cell_type": "code",
   "execution_count": null,
   "id": "80737211-475c-40dd-b645-e221e8c96cba",
   "metadata": {},
   "outputs": [],
   "source": []
  },
  {
   "cell_type": "code",
   "execution_count": null,
   "id": "a3b73bfc-45c6-4c81-8b85-17114ce06c70",
   "metadata": {},
   "outputs": [],
   "source": []
  },
  {
   "cell_type": "code",
   "execution_count": null,
   "id": "7c270e81-be67-4d9c-8c4a-ca3cae6a493b",
   "metadata": {},
   "outputs": [],
   "source": []
  },
  {
   "cell_type": "code",
   "execution_count": null,
   "id": "ee3fd05b",
   "metadata": {},
   "outputs": [],
   "source": []
  },
  {
   "cell_type": "markdown",
   "id": "0f589dee",
   "metadata": {},
   "source": [
    "### Zero-shot"
   ]
  },
  {
   "cell_type": "code",
   "execution_count": 145,
   "id": "cb3d3bb7",
   "metadata": {},
   "outputs": [],
   "source": [
    "train_IBM_zero_shot_pd = pd.read_csv(f\"/nfs/home/kabenamualus/Research/task-dataset-metric-nli-extraction/data/ibm/exp/zero-shot-setup/NLP-TDMS/train.tsv\", \n",
    "                    sep=\"\\t\", names=[\"label\", \"title\", \"TDM\", \"Context\"])\n",
    "\n",
    "test_IBM_zero_shot_pd = pd.read_csv(f\"/nfs/home/kabenamualus/Research/task-dataset-metric-nli-extraction/data/ibm/exp/zero-shot-setup/NLP-TDMS/test.tsv\", \n",
    "                    sep=\"\\t\", names=[\"label\", \"title\", \"TDM\", \"Context\"])\n",
    "\n",
    "\n",
    "trainOutput_150_IBM_pd = pd.read_csv(f\"/nfs/home/kabenamualus/Research/task-dataset-metric-nli-extraction/data/ibm/exp/few-shot-setup/NLP-TDMS/paperVersion/IBM_jar_150/0Neg1000unk/trainOutput.tsv\", \n",
    "                    sep=\"\\t\", names=[\"label\", \"title\", \"TDM\", \"Context\"])\n",
    "\n",
    "trainOutput_full_IBM_pd = pd.read_csv(f\"/nfs/home/kabenamualus/Research/task-dataset-metric-nli-extraction/data/ibm/exp/few-shot-setup/NLP-TDMS/paperVersion/IBM_jar_full/0Neg1000unk/trainOutput.tsv\", \n",
    "                    sep=\"\\t\", names=[\"label\", \"title\", \"TDM\", \"Context\"])"
   ]
  },
  {
   "cell_type": "code",
   "execution_count": 150,
   "id": "7e98e194",
   "metadata": {},
   "outputs": [
    {
     "data": {
      "text/plain": [
       "210"
      ]
     },
     "execution_count": 150,
     "metadata": {},
     "output_type": "execute_result"
    }
   ],
   "source": [
    "# List of pdf name that are in the test file\n",
    "list_train_IBM_zero_shot_uniq = list(train_IBM_zero_shot_pd.title.unique())\n",
    "len(list_train_IBM_zero_shot_uniq)"
   ]
  },
  {
   "cell_type": "code",
   "execution_count": 151,
   "id": "df20eafe",
   "metadata": {},
   "outputs": [
    {
     "data": {
      "text/plain": [
       "108"
      ]
     },
     "execution_count": 151,
     "metadata": {},
     "output_type": "execute_result"
    }
   ],
   "source": [
    "# List of pdf name that are in the train file\n",
    "list_test_IBM_zero_shot_uniq = list(test_IBM_zero_shot_pd.title.unique())\n",
    "len(list_test_IBM_zero_shot_uniq)"
   ]
  },
  {
   "cell_type": "code",
   "execution_count": 152,
   "id": "45363cbc",
   "metadata": {},
   "outputs": [],
   "source": [
    "# # Dict to contain new context\n",
    "# dict_150_paper_zero_shot_context = {}\n",
    "# for paper in list_trainOutput_150_IBM_pd_uniq:\n",
    "#     dict_150_paper_context[paper]=trainOutput_150_IBM_pd[trainOutput_150_IBM_pd.title==paper].Context.values[0]\n",
    "    \n",
    "dict_original_paper_zero_shot_context = {}\n",
    "for paper in list_train_IBM_zero_shot_uniq:\n",
    "    dict_original_paper_zero_shot_context[paper]=train_IBM_zero_shot_pd[train_IBM_zero_shot_pd.title==paper].Context.values[0]\n",
    "for paper in list_test_IBM_zero_shot_uniq:\n",
    "    dict_original_paper_zero_shot_context[paper]=test_IBM_zero_shot_pd[test_IBM_zero_shot_pd.title==paper].Context.values[0]"
   ]
  },
  {
   "cell_type": "code",
   "execution_count": 154,
   "id": "45a91559",
   "metadata": {},
   "outputs": [
    {
     "name": "stdout",
     "output_type": "stream",
     "text": [
      "Context TDM limit IBM Original Zero-shot:\n",
      "Mean lenght: 309.7295597484277\n",
      "Max lenght: 546\n",
      "Min lenght: 81\n",
      "Std lenght: 93.96825943002948\n"
     ]
    }
   ],
   "source": [
    "len_context_original_zero_shot = get_start_lenght(dict_original_paper_zero_shot_context, limit=\"IBM Original Zero-shot\")"
   ]
  },
  {
   "cell_type": "code",
   "execution_count": 155,
   "id": "8751b860",
   "metadata": {},
   "outputs": [],
   "source": [
    "train_IBM_zero_shot_pd[\"Context\"] = train_IBM_zero_shot_pd.apply(lambda x : dict_full_paper_context[x['title']] if x['title'] in dict_full_paper_context.keys() else \"None\", axis=1)\n",
    "test_IBM_zero_shot_pd[\"Context\"] = test_IBM_zero_shot_pd.apply(lambda x : dict_full_paper_context[x['title']] if x['title'] in dict_full_paper_context.keys() else \"None\", axis=1)"
   ]
  },
  {
   "cell_type": "code",
   "execution_count": 157,
   "id": "44dc5c34",
   "metadata": {},
   "outputs": [
    {
     "name": "stdout",
     "output_type": "stream",
     "text": [
      "Context TDM limit IBM Original Zero-shot extended:\n",
      "Mean lenght: 372.1383647798742\n",
      "Max lenght: 1220\n",
      "Min lenght: 81\n",
      "Std lenght: 170.48358809915555\n"
     ]
    }
   ],
   "source": [
    "# Verification\n",
    "dict_original_paper_zero_shot_context = {}\n",
    "for paper in list_train_IBM_zero_shot_uniq:\n",
    "    dict_original_paper_zero_shot_context[paper]=train_IBM_zero_shot_pd[train_IBM_zero_shot_pd.title==paper].Context.values[0]\n",
    "for paper in list_test_IBM_zero_shot_uniq:\n",
    "    dict_original_paper_zero_shot_context[paper]=test_IBM_zero_shot_pd[test_IBM_zero_shot_pd.title==paper].Context.values[0]\n",
    "    \n",
    "len_context_original_zero_shot = get_start_lenght(dict_original_paper_zero_shot_context, limit=\"IBM Original Zero-shot extended\")"
   ]
  },
  {
   "cell_type": "code",
   "execution_count": 164,
   "id": "f2b03359",
   "metadata": {},
   "outputs": [],
   "source": [
    "path_train_full = \"/nfs/home/kabenamualus/Research/task-dataset-metric-nli-extraction/data/ibm/exp/few-shot-setup/NLP-TDMS/paperVersion/train_full.tsv\"\n",
    "path_test_full = \"/nfs/home/kabenamualus/Research/task-dataset-metric-nli-extraction/data/ibm/exp/few-shot-setup/NLP-TDMS/paperVersion/test_full.tsv\"\n",
    "\n",
    "train_IBM_pd.to_csv(path_or_buf=path_train_full, \n",
    "                 sep=\"\\t\", header=None, index=False)\n",
    "\n",
    "test_IBM_pd.to_csv(path_or_buf=path_test_full, \n",
    "                 sep=\"\\t\", header=None, index=False)"
   ]
  },
  {
   "cell_type": "markdown",
   "id": "514fa367",
   "metadata": {},
   "source": [
    "### ARC-PDN"
   ]
  },
  {
   "cell_type": "code",
   "execution_count": 173,
   "id": "10808328",
   "metadata": {},
   "outputs": [],
   "source": [
    "train_IBM_ARC_PDN_pd = pd.read_csv(f\"/nfs/home/kabenamualus/Research/task-dataset-metric-nli-extraction/data/ibm/exp/few-shot-setup/ARC-PDN/test_pdn.tsv\", \n",
    "                    sep=\"\\t\", names=[\"label\", \"title\", \"TDM\", \"Context\"])"
   ]
  },
  {
   "cell_type": "code",
   "execution_count": 174,
   "id": "913b8a80",
   "metadata": {},
   "outputs": [
    {
     "data": {
      "text/html": [
       "<div>\n",
       "<style scoped>\n",
       "    .dataframe tbody tr th:only-of-type {\n",
       "        vertical-align: middle;\n",
       "    }\n",
       "\n",
       "    .dataframe tbody tr th {\n",
       "        vertical-align: top;\n",
       "    }\n",
       "\n",
       "    .dataframe thead th {\n",
       "        text-align: right;\n",
       "    }\n",
       "</style>\n",
       "<table border=\"1\" class=\"dataframe\">\n",
       "  <thead>\n",
       "    <tr style=\"text-align: right;\">\n",
       "      <th></th>\n",
       "      <th>label</th>\n",
       "      <th>title</th>\n",
       "      <th>TDM</th>\n",
       "      <th>Context</th>\n",
       "    </tr>\n",
       "  </thead>\n",
       "  <tbody>\n",
       "    <tr>\n",
       "      <th>304540</th>\n",
       "      <td>True</td>\n",
       "      <td>N10-3003.pdf</td>\n",
       "      <td>dependency parsing, Penn Treebank, LAS</td>\n",
       "      <td>Detecting Novelty in the context of Progressiv...</td>\n",
       "    </tr>\n",
       "    <tr>\n",
       "      <th>304541</th>\n",
       "      <td>True</td>\n",
       "      <td>N10-3003.pdf</td>\n",
       "      <td>language modeling, Hutter Prize, Number of params</td>\n",
       "      <td>Detecting Novelty in the context of Progressiv...</td>\n",
       "    </tr>\n",
       "    <tr>\n",
       "      <th>304542</th>\n",
       "      <td>True</td>\n",
       "      <td>N10-3003.pdf</td>\n",
       "      <td>summarization, CNN / Daily Mail (Non-anonymize...</td>\n",
       "      <td>Detecting Novelty in the context of Progressiv...</td>\n",
       "    </tr>\n",
       "    <tr>\n",
       "      <th>304543</th>\n",
       "      <td>True</td>\n",
       "      <td>N10-3003.pdf</td>\n",
       "      <td>word sense disambiguation, Senseval 3, F1</td>\n",
       "      <td>Detecting Novelty in the context of Progressiv...</td>\n",
       "    </tr>\n",
       "    <tr>\n",
       "      <th>304544</th>\n",
       "      <td>True</td>\n",
       "      <td>N10-3003.pdf</td>\n",
       "      <td>text classification, TREC, Error</td>\n",
       "      <td>Detecting Novelty in the context of Progressiv...</td>\n",
       "    </tr>\n",
       "  </tbody>\n",
       "</table>\n",
       "</div>"
      ],
      "text/plain": [
       "        label         title  \\\n",
       "304540   True  N10-3003.pdf   \n",
       "304541   True  N10-3003.pdf   \n",
       "304542   True  N10-3003.pdf   \n",
       "304543   True  N10-3003.pdf   \n",
       "304544   True  N10-3003.pdf   \n",
       "\n",
       "                                                      TDM  \\\n",
       "304540             dependency parsing, Penn Treebank, LAS   \n",
       "304541  language modeling, Hutter Prize, Number of params   \n",
       "304542  summarization, CNN / Daily Mail (Non-anonymize...   \n",
       "304543          word sense disambiguation, Senseval 3, F1   \n",
       "304544                   text classification, TREC, Error   \n",
       "\n",
       "                                                  Context  \n",
       "304540  Detecting Novelty in the context of Progressiv...  \n",
       "304541  Detecting Novelty in the context of Progressiv...  \n",
       "304542  Detecting Novelty in the context of Progressiv...  \n",
       "304543  Detecting Novelty in the context of Progressiv...  \n",
       "304544  Detecting Novelty in the context of Progressiv...  "
      ]
     },
     "execution_count": 174,
     "metadata": {},
     "output_type": "execute_result"
    }
   ],
   "source": [
    "train_IBM_ARC_PDN_pd.tail()"
   ]
  },
  {
   "cell_type": "code",
   "execution_count": 175,
   "id": "862a5723",
   "metadata": {},
   "outputs": [
    {
     "data": {
      "text/plain": [
       "3855"
      ]
     },
     "execution_count": 175,
     "metadata": {},
     "output_type": "execute_result"
    }
   ],
   "source": [
    "# List of pdf name that are in the test file\n",
    "list_train_IBM_ARC_PDN_pd_uniq = list(train_IBM_ARC_PDN_pd.title.unique())\n",
    "len(list_train_IBM_ARC_PDN_pd_uniq)"
   ]
  },
  {
   "cell_type": "code",
   "execution_count": 176,
   "id": "f53c9058",
   "metadata": {},
   "outputs": [],
   "source": [
    "# # Dict to contain new context\n",
    "# dict_150_paper_zero_shot_context = {}\n",
    "# for paper in list_trainOutput_150_IBM_pd_uniq:\n",
    "#     dict_150_paper_context[paper]=trainOutput_150_IBM_pd[trainOutput_150_IBM_pd.title==paper].Context.values[0]\n",
    "    \n",
    "dict_original_IBM_ARC_PDN_context = {}\n",
    "for paper in list_train_IBM_ARC_PDN_pd_uniq:\n",
    "    dict_original_IBM_ARC_PDN_context[paper]=train_IBM_ARC_PDN_pd[train_IBM_ARC_PDN_pd.title==paper].Context.values[0]"
   ]
  },
  {
   "cell_type": "code",
   "execution_count": 177,
   "id": "024dd967",
   "metadata": {},
   "outputs": [
    {
     "name": "stdout",
     "output_type": "stream",
     "text": [
      "Context TDM limit IBM Original ARC-PDN:\n",
      "Mean lenght: 254.063813229572\n",
      "Max lenght: 2198\n",
      "Min lenght: 0\n",
      "Std lenght: 111.35486130695618\n"
     ]
    }
   ],
   "source": [
    "len_context_original_ARC_PDN = get_start_lenght(dict_original_IBM_ARC_PDN_context, limit=\"IBM Original ARC-PDN\")"
   ]
  },
  {
   "cell_type": "code",
   "execution_count": 183,
   "id": "b6e25b07",
   "metadata": {},
   "outputs": [
    {
     "data": {
      "text/plain": [
       "57"
      ]
     },
     "execution_count": 183,
     "metadata": {},
     "output_type": "execute_result"
    }
   ],
   "source": [
    "len(train_IBM_ARC_PDN_pd.Context.values[0].split())"
   ]
  },
  {
   "cell_type": "code",
   "execution_count": 190,
   "id": "f5cda4f9",
   "metadata": {},
   "outputs": [
    {
     "data": {
      "text/html": [
       "<div>\n",
       "<style scoped>\n",
       "    .dataframe tbody tr th:only-of-type {\n",
       "        vertical-align: middle;\n",
       "    }\n",
       "\n",
       "    .dataframe tbody tr th {\n",
       "        vertical-align: top;\n",
       "    }\n",
       "\n",
       "    .dataframe thead th {\n",
       "        text-align: right;\n",
       "    }\n",
       "</style>\n",
       "<table border=\"1\" class=\"dataframe\">\n",
       "  <thead>\n",
       "    <tr style=\"text-align: right;\">\n",
       "      <th></th>\n",
       "      <th>label</th>\n",
       "      <th>title</th>\n",
       "      <th>TDM</th>\n",
       "      <th>Context</th>\n",
       "    </tr>\n",
       "  </thead>\n",
       "  <tbody>\n",
       "  </tbody>\n",
       "</table>\n",
       "</div>"
      ],
      "text/plain": [
       "Empty DataFrame\n",
       "Columns: [label, title, TDM, Context]\n",
       "Index: []"
      ]
     },
     "execution_count": 190,
     "metadata": {},
     "output_type": "execute_result"
    }
   ],
   "source": [
    "train_IBM_ARC_PDN_pd[train_IBM_ARC_PDN_pd.Context == \" \"].head()"
   ]
  },
  {
   "cell_type": "code",
   "execution_count": 171,
   "id": "3ee1bda1",
   "metadata": {},
   "outputs": [],
   "source": [
    "train_IBM_ARC_PDN_pd[\"Context\"] = train_IBM_ARC_PDN_pd.apply(lambda x : dict_full_paper_context[x['title']] if x['title'] in dict_full_paper_context.keys() else \"None\", axis=1)\n",
    "# test_IBM_zero_shot_pd[\"Context\"] = test_IBM_zero_shot_pd.apply(lambda x : dict_full_paper_context[x['title']] if x['title'] in dict_full_paper_context.keys() else \"None\", axis=1)"
   ]
  },
  {
   "cell_type": "code",
   "execution_count": 172,
   "id": "19aff401",
   "metadata": {},
   "outputs": [
    {
     "name": "stdout",
     "output_type": "stream",
     "text": [
      "Context TDM limit IBM Original ARC-PDN:\n",
      "Mean lenght: 2.6684824902723734\n",
      "Max lenght: 631\n",
      "Min lenght: 1\n",
      "Std lenght: 24.29166868448258\n"
     ]
    }
   ],
   "source": [
    "dict_original_IBM_ARC_PDN_context = {}\n",
    "for paper in list_train_IBM_ARC_PDN_pd_uniq:\n",
    "    dict_original_IBM_ARC_PDN_context[paper]=train_IBM_ARC_PDN_pd[train_IBM_ARC_PDN_pd.title==paper].Context.values[0]\n",
    "    \n",
    "len_context_original_ARC_PDN = get_start_lenght(dict_original_IBM_ARC_PDN_context, limit=\"IBM Original ARC-PDN\")"
   ]
  },
  {
   "cell_type": "code",
   "execution_count": null,
   "id": "db822a4f",
   "metadata": {},
   "outputs": [],
   "source": []
  },
  {
   "cell_type": "code",
   "execution_count": null,
   "id": "a7fc27e0",
   "metadata": {},
   "outputs": [],
   "source": []
  },
  {
   "cell_type": "code",
   "execution_count": 164,
   "id": "b48e834c",
   "metadata": {},
   "outputs": [],
   "source": [
    "path_train_full = \"/nfs/home/kabenamualus/Research/task-dataset-metric-nli-extraction/data/ibm/exp/few-shot-setup/NLP-TDMS/paperVersion/train_full.tsv\"\n",
    "path_test_full = \"/nfs/home/kabenamualus/Research/task-dataset-metric-nli-extraction/data/ibm/exp/few-shot-setup/NLP-TDMS/paperVersion/test_full.tsv\"\n",
    "\n",
    "train_IBM_pd.to_csv(path_or_buf=path_train_full, \n",
    "                 sep=\"\\t\", header=None, index=False)\n",
    "\n",
    "test_IBM_pd.to_csv(path_or_buf=path_test_full, \n",
    "                 sep=\"\\t\", header=None, index=False)"
   ]
  },
  {
   "cell_type": "code",
   "execution_count": null,
   "id": "e68fecea",
   "metadata": {},
   "outputs": [],
   "source": []
  },
  {
   "cell_type": "code",
   "execution_count": null,
   "id": "4924f486",
   "metadata": {},
   "outputs": [],
   "source": []
  },
  {
   "cell_type": "code",
   "execution_count": null,
   "id": "83890c34",
   "metadata": {},
   "outputs": [],
   "source": [
    "# Big dataset problematic resources \n",
    "\n",
    "# Max lenght exceed 10000 Grobid limit\n",
    "Processing file: /nfs/home/kabenamualus/Research/task-dataset-metric-extraction/data/pdf_IBM/1810.06682v2.pdf\n",
    "        \n",
    "    \n",
    "/nfs/home/kabenamualus/Research/task-dataset-metric-extraction/data/pdf_IBM/1504.08200.pdf\n",
    "/nfs/home/kabenamualus/Research/task-dataset-metric-extraction/data/pdf_IBM/1907.09665v10.pdf\n",
    "/nfs/home/kabenamualus/Research/task-dataset-metric-extraction/data/pdf_IBM/2002.02050v3.pdf\n",
    "/nfs/home/kabenamualus/Research/task-dataset-metric-extraction/data/pdf_IBM/2002.02050v3.pdf\n",
    "/nfs/home/kabenamualus/Research/task-dataset-metric-extraction/data/pdf_IBM/1911.10807v3.pdf\n",
    "/nfs/home/kabenamualus/Research/task-dataset-metric-extraction/data/pdf_IBM/1909.13476v1.pdf\n",
    "/nfs/home/kabenamualus/Research/task-dataset-metric-extraction/data/pdf_IBM/1711.07566v1.pdf\n",
    "/nfs/home/kabenamualus/Research/task-dataset-metric-extraction/data/pdf_IBM/download_pdfs.py\n",
    "/nfs/home/kabenamualus/Research/task-dataset-metric-extraction/data/pdf_IBM/1804.01508v10.pdf\n",
    "/nfs/home/kabenamualus/Research/task-dataset-metric-extraction/data/pdf_IBM/1812.01527v2.pdf"
   ]
  },
  {
   "cell_type": "code",
   "execution_count": 78,
   "id": "f60c77fc",
   "metadata": {},
   "outputs": [],
   "source": [
    "!mv /nfs/home/kabenamualus/Research/task-dataset-metric-extraction/data/pdf_IBM/download_pdfs.py /nfs/home/kabenamualus/Research/task-dataset-metric-extraction/data/pdf_IBM/download_pdfs_2.py"
   ]
  },
  {
   "cell_type": "code",
   "execution_count": 90,
   "id": "f83369d6",
   "metadata": {},
   "outputs": [
    {
     "name": "stdout",
     "output_type": "stream",
     "text": [
      "rm: cannot remove '/nfs/home/kabenamualus/Research/task-dataset-metric-extraction/data/pdf_IBM/1810.06682v2.pdf': No such file or directory\n"
     ]
    }
   ],
   "source": [
    "# !rm /nfs/home/kabenamualus/Research/task-dataset-metric-extraction/data/pdf_IBM/1810.06682v2.pdf"
   ]
  },
  {
   "cell_type": "code",
   "execution_count": null,
   "id": "ddba94dc",
   "metadata": {},
   "outputs": [],
   "source": []
  },
  {
   "cell_type": "markdown",
   "id": "1c10ea1f",
   "metadata": {},
   "source": [
    "## Create data stats visualization"
   ]
  },
  {
   "cell_type": "code",
   "execution_count": 46,
   "id": "df250fd7",
   "metadata": {},
   "outputs": [],
   "source": [
    "IBM_train_csv = \"~/Research/task-dataset-metric-nli-extraction/data/ibm/exp/few-shot-setup/NLP-TDMS/paperVersion/train.tsv\"\n",
    "IBM_test_csv = \"~/Research/task-dataset-metric-nli-extraction/data/ibm/exp/few-shot-setup/NLP-TDMS/paperVersion/test.tsv\"\n",
    "\n",
    "IBM_train_full_csv = \"/nfs/home/kabenamualus/Research/task-dataset-metric-nli-extraction/data/ibm/exp/few-shot-setup/NLP-TDMS/paperVersion/train_full.tsv\"\n",
    "IBM_test_full_csv = \"/nfs/home/kabenamualus/Research/task-dataset-metric-nli-extraction/data/ibm/exp/few-shot-setup/NLP-TDMS/paperVersion/test_full.tsv\""
   ]
  },
  {
   "cell_type": "code",
   "execution_count": null,
   "id": "bff7d93e",
   "metadata": {},
   "outputs": [],
   "source": []
  },
  {
   "cell_type": "code",
   "execution_count": 47,
   "id": "751167a1",
   "metadata": {},
   "outputs": [],
   "source": [
    "train_IBM = pd.read_csv(IBM_train_csv, \n",
    "                    sep=\"\\t\", names=[\"label\", \"title\", \"TDM\", \"Context\"])\n",
    "\n",
    "train_full_IBM = pd.read_csv(IBM_train_full_csv, \n",
    "                    sep=\"\\t\", names=[\"label\", \"title\", \"TDM\", \"Context\"])\n",
    "\n",
    "# test_IBM = pd.read_csv(IBM_test_csv, \n",
    "#                     sep=\"\\t\", names=[\"label\", \"title\", \"TDM\", \"Context\"])"
   ]
  },
  {
   "cell_type": "code",
   "execution_count": 48,
   "id": "dcd497d3",
   "metadata": {},
   "outputs": [
    {
     "data": {
      "text/html": [
       "<div>\n",
       "<style scoped>\n",
       "    .dataframe tbody tr th:only-of-type {\n",
       "        vertical-align: middle;\n",
       "    }\n",
       "\n",
       "    .dataframe tbody tr th {\n",
       "        vertical-align: top;\n",
       "    }\n",
       "\n",
       "    .dataframe thead th {\n",
       "        text-align: right;\n",
       "    }\n",
       "</style>\n",
       "<table border=\"1\" class=\"dataframe\">\n",
       "  <thead>\n",
       "    <tr style=\"text-align: right;\">\n",
       "      <th></th>\n",
       "      <th>label</th>\n",
       "      <th>title</th>\n",
       "      <th>TDM</th>\n",
       "      <th>Context</th>\n",
       "    </tr>\n",
       "  </thead>\n",
       "  <tbody>\n",
       "    <tr>\n",
       "      <th>316</th>\n",
       "      <td>True</td>\n",
       "      <td>1602.02373.pdf</td>\n",
       "      <td>text classification; DBpedia; Error</td>\n",
       "      <td>Supervised and Semi-Supervised Text Categoriza...</td>\n",
       "    </tr>\n",
       "    <tr>\n",
       "      <th>317</th>\n",
       "      <td>True</td>\n",
       "      <td>1602.02373.pdf</td>\n",
       "      <td>sentiment analysis; IMDb; Accuracy</td>\n",
       "      <td>Supervised and Semi-Supervised Text Categoriza...</td>\n",
       "    </tr>\n",
       "    <tr>\n",
       "      <th>318</th>\n",
       "      <td>True</td>\n",
       "      <td>1602.02373.pdf</td>\n",
       "      <td>text classification; AG News; Error</td>\n",
       "      <td>Supervised and Semi-Supervised Text Categoriza...</td>\n",
       "    </tr>\n",
       "    <tr>\n",
       "      <th>394</th>\n",
       "      <td>True</td>\n",
       "      <td>1603.01547.pdf</td>\n",
       "      <td>question answering; SearchQA; N-gram F1</td>\n",
       "      <td>Text Understanding with the Attention Sum Read...</td>\n",
       "    </tr>\n",
       "    <tr>\n",
       "      <th>395</th>\n",
       "      <td>True</td>\n",
       "      <td>1603.01547.pdf</td>\n",
       "      <td>question answering; SearchQA; Unigram Acc</td>\n",
       "      <td>Text Understanding with the Attention Sum Read...</td>\n",
       "    </tr>\n",
       "    <tr>\n",
       "      <th>472</th>\n",
       "      <td>True</td>\n",
       "      <td>C16-1119.pdf</td>\n",
       "      <td>relationship extraction; SemEval-2010 Task 8; F1</td>\n",
       "      <td>Semantic Relation Classification via Hierarchi...</td>\n",
       "    </tr>\n",
       "    <tr>\n",
       "      <th>708</th>\n",
       "      <td>True</td>\n",
       "      <td>P16-1085.pdf</td>\n",
       "      <td>word sense disambiguation; SemEval 2013; F1</td>\n",
       "      <td>Embeddings for Word Sense Disambiguation: An E...</td>\n",
       "    </tr>\n",
       "    <tr>\n",
       "      <th>709</th>\n",
       "      <td>True</td>\n",
       "      <td>P16-1085.pdf</td>\n",
       "      <td>word sense disambiguation; SemEval 2015; F1</td>\n",
       "      <td>Embeddings for Word Sense Disambiguation: An E...</td>\n",
       "    </tr>\n",
       "    <tr>\n",
       "      <th>710</th>\n",
       "      <td>True</td>\n",
       "      <td>P16-1085.pdf</td>\n",
       "      <td>word sense disambiguation; Senseval 2; F1</td>\n",
       "      <td>Embeddings for Word Sense Disambiguation: An E...</td>\n",
       "    </tr>\n",
       "    <tr>\n",
       "      <th>711</th>\n",
       "      <td>True</td>\n",
       "      <td>P16-1085.pdf</td>\n",
       "      <td>word sense disambiguation; Senseval 3; F1</td>\n",
       "      <td>Embeddings for Word Sense Disambiguation: An E...</td>\n",
       "    </tr>\n",
       "    <tr>\n",
       "      <th>712</th>\n",
       "      <td>True</td>\n",
       "      <td>P16-1085.pdf</td>\n",
       "      <td>word sense disambiguation; SemEval 2007; F1</td>\n",
       "      <td>Embeddings for Word Sense Disambiguation: An E...</td>\n",
       "    </tr>\n",
       "    <tr>\n",
       "      <th>865</th>\n",
       "      <td>True</td>\n",
       "      <td>1710.10723.pdf</td>\n",
       "      <td>question answering; SQuAD; F1</td>\n",
       "      <td>Simple and Effective Multi-Paragraph Reading C...</td>\n",
       "    </tr>\n",
       "    <tr>\n",
       "      <th>866</th>\n",
       "      <td>True</td>\n",
       "      <td>1710.10723.pdf</td>\n",
       "      <td>question answering; SQuAD; EM</td>\n",
       "      <td>Simple and Effective Multi-Paragraph Reading C...</td>\n",
       "    </tr>\n",
       "    <tr>\n",
       "      <th>943</th>\n",
       "      <td>True</td>\n",
       "      <td>1603.01354.pdf</td>\n",
       "      <td>part-of-speech tagging; Penn Treebank; Accuracy</td>\n",
       "      <td>End-to-end Sequence Labeling via Bi-directiona...</td>\n",
       "    </tr>\n",
       "    <tr>\n",
       "      <th>944</th>\n",
       "      <td>True</td>\n",
       "      <td>1603.01354.pdf</td>\n",
       "      <td>named entity recognition; CoNLL 2003 (English)...</td>\n",
       "      <td>End-to-end Sequence Labeling via Bi-directiona...</td>\n",
       "    </tr>\n",
       "    <tr>\n",
       "      <th>1021</th>\n",
       "      <td>True</td>\n",
       "      <td>trouillon16.pdf</td>\n",
       "      <td>relation prediction; FB15K-237; H@1</td>\n",
       "      <td>Complex Embeddings for Simple Link Prediction ...</td>\n",
       "    </tr>\n",
       "    <tr>\n",
       "      <th>1022</th>\n",
       "      <td>True</td>\n",
       "      <td>trouillon16.pdf</td>\n",
       "      <td>relation prediction; FB15K-237; H@10</td>\n",
       "      <td>Complex Embeddings for Simple Link Prediction ...</td>\n",
       "    </tr>\n",
       "    <tr>\n",
       "      <th>1023</th>\n",
       "      <td>True</td>\n",
       "      <td>trouillon16.pdf</td>\n",
       "      <td>relation prediction; FB15K-237; MRR</td>\n",
       "      <td>Complex Embeddings for Simple Link Prediction ...</td>\n",
       "    </tr>\n",
       "    <tr>\n",
       "      <th>1024</th>\n",
       "      <td>True</td>\n",
       "      <td>trouillon16.pdf</td>\n",
       "      <td>relation prediction; WN18RR; H@1</td>\n",
       "      <td>Complex Embeddings for Simple Link Prediction ...</td>\n",
       "    </tr>\n",
       "    <tr>\n",
       "      <th>1025</th>\n",
       "      <td>True</td>\n",
       "      <td>trouillon16.pdf</td>\n",
       "      <td>relation prediction; WN18RR; H@10</td>\n",
       "      <td>Complex Embeddings for Simple Link Prediction ...</td>\n",
       "    </tr>\n",
       "    <tr>\n",
       "      <th>1026</th>\n",
       "      <td>True</td>\n",
       "      <td>trouillon16.pdf</td>\n",
       "      <td>relation prediction; WN18RR; MRR</td>\n",
       "      <td>Complex Embeddings for Simple Link Prediction ...</td>\n",
       "    </tr>\n",
       "    <tr>\n",
       "      <th>1099</th>\n",
       "      <td>True</td>\n",
       "      <td>P17-1078.pdf</td>\n",
       "      <td>word segmentation; Chinese Treebank 6; F1</td>\n",
       "      <td>Neural Word Segmentation with Rich Pretraining...</td>\n",
       "    </tr>\n",
       "    <tr>\n",
       "      <th>1256</th>\n",
       "      <td>True</td>\n",
       "      <td>P15-2047.pdf</td>\n",
       "      <td>relationship extraction; SemEval-2010 Task 8; F1</td>\n",
       "      <td>A Dependency-Based Neural Network for Relation...</td>\n",
       "    </tr>\n",
       "    <tr>\n",
       "      <th>1334</th>\n",
       "      <td>True</td>\n",
       "      <td>1612.04426.pdf</td>\n",
       "      <td>language modeling; WikiText-103; Test perplexity</td>\n",
       "      <td>IMPROVING NEURAL LANGUAGE MODELS WITH A CONTIN...</td>\n",
       "    </tr>\n",
       "    <tr>\n",
       "      <th>1412</th>\n",
       "      <td>True</td>\n",
       "      <td>Q17-1029.pdf</td>\n",
       "      <td>constituency parsing; Penn Treebank; F1</td>\n",
       "      <td>In-Order Transition-based Constituent Parsing ...</td>\n",
       "    </tr>\n",
       "    <tr>\n",
       "      <th>1490</th>\n",
       "      <td>True</td>\n",
       "      <td>64f0dab74295e5eb139c160ed79ff262558a.pdf</td>\n",
       "      <td>constituency parsing; Penn Treebank; F1</td>\n",
       "      <td>Effective Self-Training for Parsing We present...</td>\n",
       "    </tr>\n",
       "    <tr>\n",
       "      <th>1568</th>\n",
       "      <td>True</td>\n",
       "      <td>P04-1061.pdf</td>\n",
       "      <td>dependency parsing; Penn Treebank; UAS</td>\n",
       "      <td>Corpus-Based Induction of Syntactic Structure:...</td>\n",
       "    </tr>\n",
       "    <tr>\n",
       "      <th>1646</th>\n",
       "      <td>True</td>\n",
       "      <td>D17-1222.pdf</td>\n",
       "      <td>summarization; DUC 2004 Task 1; ROUGE-L</td>\n",
       "      <td>Deep Recurrent Generative Decoder for Abstract...</td>\n",
       "    </tr>\n",
       "    <tr>\n",
       "      <th>1647</th>\n",
       "      <td>True</td>\n",
       "      <td>D17-1222.pdf</td>\n",
       "      <td>summarization; Gigaword; ROUGE-1</td>\n",
       "      <td>Deep Recurrent Generative Decoder for Abstract...</td>\n",
       "    </tr>\n",
       "    <tr>\n",
       "      <th>1648</th>\n",
       "      <td>True</td>\n",
       "      <td>D17-1222.pdf</td>\n",
       "      <td>summarization; DUC 2004 Task 1; ROUGE-1</td>\n",
       "      <td>Deep Recurrent Generative Decoder for Abstract...</td>\n",
       "    </tr>\n",
       "  </tbody>\n",
       "</table>\n",
       "</div>"
      ],
      "text/plain": [
       "      label                                     title  \\\n",
       "316    True                            1602.02373.pdf   \n",
       "317    True                            1602.02373.pdf   \n",
       "318    True                            1602.02373.pdf   \n",
       "394    True                            1603.01547.pdf   \n",
       "395    True                            1603.01547.pdf   \n",
       "472    True                              C16-1119.pdf   \n",
       "708    True                              P16-1085.pdf   \n",
       "709    True                              P16-1085.pdf   \n",
       "710    True                              P16-1085.pdf   \n",
       "711    True                              P16-1085.pdf   \n",
       "712    True                              P16-1085.pdf   \n",
       "865    True                            1710.10723.pdf   \n",
       "866    True                            1710.10723.pdf   \n",
       "943    True                            1603.01354.pdf   \n",
       "944    True                            1603.01354.pdf   \n",
       "1021   True                           trouillon16.pdf   \n",
       "1022   True                           trouillon16.pdf   \n",
       "1023   True                           trouillon16.pdf   \n",
       "1024   True                           trouillon16.pdf   \n",
       "1025   True                           trouillon16.pdf   \n",
       "1026   True                           trouillon16.pdf   \n",
       "1099   True                              P17-1078.pdf   \n",
       "1256   True                              P15-2047.pdf   \n",
       "1334   True                            1612.04426.pdf   \n",
       "1412   True                              Q17-1029.pdf   \n",
       "1490   True  64f0dab74295e5eb139c160ed79ff262558a.pdf   \n",
       "1568   True                              P04-1061.pdf   \n",
       "1646   True                              D17-1222.pdf   \n",
       "1647   True                              D17-1222.pdf   \n",
       "1648   True                              D17-1222.pdf   \n",
       "\n",
       "                                                    TDM  \\\n",
       "316                 text classification; DBpedia; Error   \n",
       "317                  sentiment analysis; IMDb; Accuracy   \n",
       "318                 text classification; AG News; Error   \n",
       "394             question answering; SearchQA; N-gram F1   \n",
       "395           question answering; SearchQA; Unigram Acc   \n",
       "472    relationship extraction; SemEval-2010 Task 8; F1   \n",
       "708         word sense disambiguation; SemEval 2013; F1   \n",
       "709         word sense disambiguation; SemEval 2015; F1   \n",
       "710           word sense disambiguation; Senseval 2; F1   \n",
       "711           word sense disambiguation; Senseval 3; F1   \n",
       "712         word sense disambiguation; SemEval 2007; F1   \n",
       "865                       question answering; SQuAD; F1   \n",
       "866                       question answering; SQuAD; EM   \n",
       "943     part-of-speech tagging; Penn Treebank; Accuracy   \n",
       "944   named entity recognition; CoNLL 2003 (English)...   \n",
       "1021                relation prediction; FB15K-237; H@1   \n",
       "1022               relation prediction; FB15K-237; H@10   \n",
       "1023                relation prediction; FB15K-237; MRR   \n",
       "1024                   relation prediction; WN18RR; H@1   \n",
       "1025                  relation prediction; WN18RR; H@10   \n",
       "1026                   relation prediction; WN18RR; MRR   \n",
       "1099          word segmentation; Chinese Treebank 6; F1   \n",
       "1256   relationship extraction; SemEval-2010 Task 8; F1   \n",
       "1334   language modeling; WikiText-103; Test perplexity   \n",
       "1412            constituency parsing; Penn Treebank; F1   \n",
       "1490            constituency parsing; Penn Treebank; F1   \n",
       "1568             dependency parsing; Penn Treebank; UAS   \n",
       "1646            summarization; DUC 2004 Task 1; ROUGE-L   \n",
       "1647                   summarization; Gigaword; ROUGE-1   \n",
       "1648            summarization; DUC 2004 Task 1; ROUGE-1   \n",
       "\n",
       "                                                Context  \n",
       "316   Supervised and Semi-Supervised Text Categoriza...  \n",
       "317   Supervised and Semi-Supervised Text Categoriza...  \n",
       "318   Supervised and Semi-Supervised Text Categoriza...  \n",
       "394   Text Understanding with the Attention Sum Read...  \n",
       "395   Text Understanding with the Attention Sum Read...  \n",
       "472   Semantic Relation Classification via Hierarchi...  \n",
       "708   Embeddings for Word Sense Disambiguation: An E...  \n",
       "709   Embeddings for Word Sense Disambiguation: An E...  \n",
       "710   Embeddings for Word Sense Disambiguation: An E...  \n",
       "711   Embeddings for Word Sense Disambiguation: An E...  \n",
       "712   Embeddings for Word Sense Disambiguation: An E...  \n",
       "865   Simple and Effective Multi-Paragraph Reading C...  \n",
       "866   Simple and Effective Multi-Paragraph Reading C...  \n",
       "943   End-to-end Sequence Labeling via Bi-directiona...  \n",
       "944   End-to-end Sequence Labeling via Bi-directiona...  \n",
       "1021  Complex Embeddings for Simple Link Prediction ...  \n",
       "1022  Complex Embeddings for Simple Link Prediction ...  \n",
       "1023  Complex Embeddings for Simple Link Prediction ...  \n",
       "1024  Complex Embeddings for Simple Link Prediction ...  \n",
       "1025  Complex Embeddings for Simple Link Prediction ...  \n",
       "1026  Complex Embeddings for Simple Link Prediction ...  \n",
       "1099  Neural Word Segmentation with Rich Pretraining...  \n",
       "1256  A Dependency-Based Neural Network for Relation...  \n",
       "1334  IMPROVING NEURAL LANGUAGE MODELS WITH A CONTIN...  \n",
       "1412  In-Order Transition-based Constituent Parsing ...  \n",
       "1490  Effective Self-Training for Parsing We present...  \n",
       "1568  Corpus-Based Induction of Syntactic Structure:...  \n",
       "1646  Deep Recurrent Generative Decoder for Abstract...  \n",
       "1647  Deep Recurrent Generative Decoder for Abstract...  \n",
       "1648  Deep Recurrent Generative Decoder for Abstract...  "
      ]
     },
     "execution_count": 48,
     "metadata": {},
     "output_type": "execute_result"
    }
   ],
   "source": [
    "train_IBM[(train_IBM.label==True) & (train_IBM.TDM!=\"unknown\")].head(30)"
   ]
  },
  {
   "cell_type": "code",
   "execution_count": 49,
   "id": "c809bac1",
   "metadata": {},
   "outputs": [],
   "source": [
    "selected_paper = \"D17-1222.pdf\""
   ]
  },
  {
   "cell_type": "code",
   "execution_count": 50,
   "id": "cbc912ea",
   "metadata": {},
   "outputs": [
    {
     "data": {
      "text/html": [
       "<div>\n",
       "<style scoped>\n",
       "    .dataframe tbody tr th:only-of-type {\n",
       "        vertical-align: middle;\n",
       "    }\n",
       "\n",
       "    .dataframe tbody tr th {\n",
       "        vertical-align: top;\n",
       "    }\n",
       "\n",
       "    .dataframe thead th {\n",
       "        text-align: right;\n",
       "    }\n",
       "</style>\n",
       "<table border=\"1\" class=\"dataframe\">\n",
       "  <thead>\n",
       "    <tr style=\"text-align: right;\">\n",
       "      <th></th>\n",
       "      <th>label</th>\n",
       "      <th>title</th>\n",
       "      <th>TDM</th>\n",
       "      <th>Context</th>\n",
       "    </tr>\n",
       "  </thead>\n",
       "  <tbody>\n",
       "    <tr>\n",
       "      <th>1646</th>\n",
       "      <td>True</td>\n",
       "      <td>D17-1222.pdf</td>\n",
       "      <td>summarization; DUC 2004 Task 1; ROUGE-L</td>\n",
       "      <td>Deep Recurrent Generative Decoder for Abstract...</td>\n",
       "    </tr>\n",
       "    <tr>\n",
       "      <th>1647</th>\n",
       "      <td>True</td>\n",
       "      <td>D17-1222.pdf</td>\n",
       "      <td>summarization; Gigaword; ROUGE-1</td>\n",
       "      <td>Deep Recurrent Generative Decoder for Abstract...</td>\n",
       "    </tr>\n",
       "    <tr>\n",
       "      <th>1648</th>\n",
       "      <td>True</td>\n",
       "      <td>D17-1222.pdf</td>\n",
       "      <td>summarization; DUC 2004 Task 1; ROUGE-1</td>\n",
       "      <td>Deep Recurrent Generative Decoder for Abstract...</td>\n",
       "    </tr>\n",
       "    <tr>\n",
       "      <th>1649</th>\n",
       "      <td>True</td>\n",
       "      <td>D17-1222.pdf</td>\n",
       "      <td>summarization; DUC 2004 Task 1; ROUGE-2</td>\n",
       "      <td>Deep Recurrent Generative Decoder for Abstract...</td>\n",
       "    </tr>\n",
       "    <tr>\n",
       "      <th>1650</th>\n",
       "      <td>True</td>\n",
       "      <td>D17-1222.pdf</td>\n",
       "      <td>summarization; Gigaword; ROUGE-L</td>\n",
       "      <td>Deep Recurrent Generative Decoder for Abstract...</td>\n",
       "    </tr>\n",
       "    <tr>\n",
       "      <th>1651</th>\n",
       "      <td>True</td>\n",
       "      <td>D17-1222.pdf</td>\n",
       "      <td>summarization; Gigaword; ROUGE-2</td>\n",
       "      <td>Deep Recurrent Generative Decoder for Abstract...</td>\n",
       "    </tr>\n",
       "  </tbody>\n",
       "</table>\n",
       "</div>"
      ],
      "text/plain": [
       "      label         title                                      TDM  \\\n",
       "1646   True  D17-1222.pdf  summarization; DUC 2004 Task 1; ROUGE-L   \n",
       "1647   True  D17-1222.pdf         summarization; Gigaword; ROUGE-1   \n",
       "1648   True  D17-1222.pdf  summarization; DUC 2004 Task 1; ROUGE-1   \n",
       "1649   True  D17-1222.pdf  summarization; DUC 2004 Task 1; ROUGE-2   \n",
       "1650   True  D17-1222.pdf         summarization; Gigaword; ROUGE-L   \n",
       "1651   True  D17-1222.pdf         summarization; Gigaword; ROUGE-2   \n",
       "\n",
       "                                                Context  \n",
       "1646  Deep Recurrent Generative Decoder for Abstract...  \n",
       "1647  Deep Recurrent Generative Decoder for Abstract...  \n",
       "1648  Deep Recurrent Generative Decoder for Abstract...  \n",
       "1649  Deep Recurrent Generative Decoder for Abstract...  \n",
       "1650  Deep Recurrent Generative Decoder for Abstract...  \n",
       "1651  Deep Recurrent Generative Decoder for Abstract...  "
      ]
     },
     "execution_count": 50,
     "metadata": {},
     "output_type": "execute_result"
    }
   ],
   "source": [
    "train_IBM[(train_IBM.label==True) & (train_IBM.title==selected_paper)].tail(20)"
   ]
  },
  {
   "cell_type": "code",
   "execution_count": 51,
   "id": "cbee8857",
   "metadata": {},
   "outputs": [
    {
     "data": {
      "text/plain": [
       "'Deep Recurrent Generative Decoder for Abstractive Text Summarization * We propose anew framework for ab-stractive text summarization based on a sequence-to-sequence oriented encoder-decoder model equipped with a deep recurrent generative decoder (DRGN). Latent structure information implied in the target summaries is learned based on a recurrent latent random model for improving the summarization quality. Neural variational inference is employed to address the intractable posterior inference for the recurrent latent variables. Abstractive summaries are generated based on both the generative latent variables and the dis-criminative deterministic states. Extensive experiments on some benchmark datasets in different languages show that DRGN achieves improvements over the state-of-the-art methods. We use ROUGE score) as our evaluation metric with standard options For the experiments on the English dataset Gigawords, we set the dimension of word embeddings to 300, and the dimension of hidden states and latent variables to 500 For the dataset of LCSTS, the dimension of word embeddings is 350 The comparison results on the validation datasets of Gigawords and LCSTS are shown in Actually, the performance of the standard The results on the English datasets of Gigawords and DUC-2004 are shown in and respectively In fact, extracting all such features is a time consuming work, especially on large-scale datasets such as Gigawords The results on the Chinese dataset LCSTS are shown in Table 1: ROUGE-F1 on validation sets R - 1 R - 2 R - L Table 1 : ROUGE - F1 on validation sets Table 2: ROUGE-F1 on Gigawords Table 3 : ROUGE - Recall on DUC2004 R - 1 R - 2 R - L Table 2 : ROUGE - F1 on Gigawords Table 3: ROUGE-Recall on DUC2004 Table 4 : ROUGE - F1 on LCSTS Table 3 : ROUGE - Recall on DUC2004 R - 1 R - 2 R - L Table 2 : ROUGE - F1 on Gigawords Table 4: ROUGE-F1 on LCSTS Table 4 : ROUGE - F1 on LCSTS R - 1 R - 2 Table 3 : ROUGE - Recall on DUC2004 R - L'"
      ]
     },
     "execution_count": 51,
     "metadata": {},
     "output_type": "execute_result"
    }
   ],
   "source": [
    "train_IBM[train_IBM.title==selected_paper].Context.values[0]"
   ]
  },
  {
   "cell_type": "code",
   "execution_count": 52,
   "id": "af4c61bb",
   "metadata": {},
   "outputs": [
    {
     "data": {
      "text/plain": [
       "'Deep Recurrent Generative Decoder for Abstractive Text Summarization * We propose anew framework for ab-stractive text summarization based on a sequence-to-sequence oriented encoder-decoder model equipped with a deep recurrent generative decoder (DRGN). Latent structure information implied in the target summaries is learned based on a recurrent latent random model for improving the summarization quality. Neural variational inference is employed to address the intractable posterior inference for the recurrent latent variables. Abstractive summaries are generated based on both the generative latent variables and the dis-criminative deterministic states. Extensive experiments on some benchmark datasets in different languages show that DRGN achieves improvements over the state-of-the-art methods. We use ROUGE score) as our evaluation metric with standard options For the experiments on the English dataset Gigawords, we set the dimension of word embeddings to 300, and the dimension of hidden states and latent variables to 500 For the dataset of LCSTS, the dimension of word embeddings is 350 The comparison results on the validation datasets of Gigawords and LCSTS are shown in Actually, the performance of the standard The results on the English datasets of Gigawords and DUC-2004 are shown in and respectively In fact, extracting all such features is a time consuming work, especially on large-scale datasets such as Gigawords The results on the Chinese dataset LCSTS are shown in Table 1: ROUGE-F1 on validation sets R - 1 R - 2 R - L Table 1 : ROUGE - F1 on validation sets Table 2: ROUGE-F1 on Gigawords Table 3 : ROUGE - Recall on DUC2004 R - 1 R - 2 R - L Table 2 : ROUGE - F1 on Gigawords Table 3: ROUGE-Recall on DUC2004 Table 4 : ROUGE - F1 on LCSTS Table 3 : ROUGE - Recall on DUC2004 R - 1 R - 2 R - L Table 2 : ROUGE - F1 on Gigawords Table 4: ROUGE-F1 on LCSTS Table 4 : ROUGE - F1 on LCSTS R - 1 R - 2 Table 3 : ROUGE - Recall on DUC2004 R - L'"
      ]
     },
     "execution_count": 52,
     "metadata": {},
     "output_type": "execute_result"
    }
   ],
   "source": [
    "train_full_IBM[train_full_IBM.title==selected_paper].Context.values[0]"
   ]
  },
  {
   "cell_type": "markdown",
   "id": "67c6e554",
   "metadata": {},
   "source": [
    "## Check that the newly generated data doesnt link"
   ]
  },
  {
   "cell_type": "code",
   "execution_count": 2,
   "id": "ea89eba7",
   "metadata": {},
   "outputs": [],
   "source": [
    "PWC_train_csv = \"/nfs/home/kabenamualus/Research/task-dataset-metric-nli-extraction/data/pwc_ibm_150_5_10_800/twofoldwithunk/fold1/train.tsv\"\n",
    "PWC_valid_csv = \"/nfs/home/kabenamualus/Research/task-dataset-metric-nli-extraction/data/pwc_ibm_150_5_10_800/twofoldwithunk/fold1/dev.tsv\"\n",
    "\n",
    "train_PWC = pd.read_csv(PWC_train_csv, \n",
    "                    sep=\"\\t\", names=[\"label\", \"title\", \"TDM\", \"Context\"])\n",
    "\n",
    "valid_PWC = pd.read_csv(PWC_valid_csv, \n",
    "                    sep=\"\\t\", names=[\"label\", \"title\", \"TDM\", \"Context\"])"
   ]
  },
  {
   "cell_type": "code",
   "execution_count": 8,
   "id": "a47feb3e",
   "metadata": {},
   "outputs": [
    {
     "data": {
      "text/plain": [
       "array(['1707.03497v2.pdf', 'P18-1063.pdf', '2006.10721v2.pdf', ...,\n",
       "       '1411.1091v1.pdf', '1912.04799v2.pdf', '1307.0414v1.pdf'],\n",
       "      dtype=object)"
      ]
     },
     "execution_count": 8,
     "metadata": {},
     "output_type": "execute_result"
    }
   ],
   "source": [
    "train_PWC[train_PWC.label==True].title.unique()"
   ]
  },
  {
   "cell_type": "code",
   "execution_count": 20,
   "id": "7d5011d8",
   "metadata": {},
   "outputs": [],
   "source": [
    "set_train_unique = set(train_PWC[train_PWC.label==True].title.unique())\n",
    "set_valid_unique = set(valid_PWC[valid_PWC.label==True].title.unique())"
   ]
  },
  {
   "cell_type": "code",
   "execution_count": 21,
   "id": "90648d1f",
   "metadata": {},
   "outputs": [],
   "source": [
    "duplicate = []\n",
    "for paper in set_train_unique:\n",
    "    if paper in set_valid_unique:\n",
    "        duplicate.append(paper)"
   ]
  },
  {
   "cell_type": "code",
   "execution_count": 22,
   "id": "2a73b392",
   "metadata": {},
   "outputs": [
    {
     "data": {
      "text/plain": [
       "0"
      ]
     },
     "execution_count": 22,
     "metadata": {},
     "output_type": "execute_result"
    }
   ],
   "source": [
    "len(duplicate)"
   ]
  },
  {
   "cell_type": "code",
   "execution_count": 23,
   "id": "308c6ba6",
   "metadata": {},
   "outputs": [
    {
     "data": {
      "text/plain": [
       "3181"
      ]
     },
     "execution_count": 23,
     "metadata": {},
     "output_type": "execute_result"
    }
   ],
   "source": [
    "len(set_train_unique)"
   ]
  },
  {
   "cell_type": "code",
   "execution_count": 24,
   "id": "c538545b",
   "metadata": {},
   "outputs": [
    {
     "data": {
      "text/plain": [
       "1361"
      ]
     },
     "execution_count": 24,
     "metadata": {},
     "output_type": "execute_result"
    }
   ],
   "source": [
    "len(set_valid_unique)"
   ]
  },
  {
   "cell_type": "code",
   "execution_count": 25,
   "id": "72a3ceb7",
   "metadata": {},
   "outputs": [],
   "source": [
    "duplicate = []\n",
    "for paper in set_valid_unique:\n",
    "    if paper in set_train_unique:\n",
    "        duplicate.append(paper)"
   ]
  },
  {
   "cell_type": "code",
   "execution_count": 26,
   "id": "3756b4f7",
   "metadata": {},
   "outputs": [
    {
     "data": {
      "text/plain": [
       "0"
      ]
     },
     "execution_count": 26,
     "metadata": {},
     "output_type": "execute_result"
    }
   ],
   "source": [
    "len(duplicate)"
   ]
  }
 ],
 "metadata": {
  "kernelspec": {
   "display_name": "Python 3",
   "language": "python",
   "name": "python3"
  },
  "language_info": {
   "codemirror_mode": {
    "name": "ipython",
    "version": 3
   },
   "file_extension": ".py",
   "mimetype": "text/x-python",
   "name": "python",
   "nbconvert_exporter": "python",
   "pygments_lexer": "ipython3",
   "version": "3.8.8"
  }
 },
 "nbformat": 4,
 "nbformat_minor": 5
}
