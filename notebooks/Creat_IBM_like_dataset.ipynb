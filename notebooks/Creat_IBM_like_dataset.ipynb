{
 "cells": [
  {
   "cell_type": "markdown",
   "metadata": {},
   "source": [
    "# Dataset Creation "
   ]
  },
  {
   "cell_type": "markdown",
   "metadata": {},
   "source": [
    "we have files \n",
    "- `resultsAnnotation.tsv`, \n",
    "- `datasetAnnotation.tsv`, \n",
    "- `taskAnnotation.tsv`, \n",
    "- `paper_links.tsv`, \n",
    "- `TDM_taxonomy.tsv`, \n",
    "- `TDMs_taxonomy.tsv` \n",
    "- `paper_name_taxonomy.tsv` \n",
    "\n",
    "Created mostly from the file `evaluation-tables.json` from [paperswithcode](https://paperswithcode.com/about)"
   ]
  },
  {
   "cell_type": "code",
   "execution_count": 1,
   "metadata": {},
   "outputs": [],
   "source": [
    "# imports\n",
    "import ipdb, os, re\n",
    "import pandas as pd\n",
    "import numpy as np\n",
    "import matplotlib.pyplot as plt\n",
    "\n",
    "from sklearn.model_selection import train_test_split \n",
    "from sklearn.metrics import accuracy_score, f1_score, precision_score, recall_score, classification_report"
   ]
  },
  {
   "cell_type": "code",
   "execution_count": 16,
   "metadata": {},
   "outputs": [],
   "source": [
    "with open(f\"../data/resultsAnnotation.tsv\", errors='replace') as f:\n",
    "    resultsAnnotation = f.read().splitlines()\n",
    "\n",
    "with open(f\"../data/datasetAnnotation.tsv\", errors='replace') as f:\n",
    "    datasetAnnotation = f.read().splitlines()\n",
    "    \n",
    "with open(f\"../data/taskAnnotation.tsv\", errors='replace') as f:\n",
    "    taskAnnotation = f.read().splitlines()\n",
    "    \n",
    "with open(f\"../data/TDM_taxonomy.tsv\", errors='replace') as f:\n",
    "    TDM_taxonomy = f.read().splitlines()\n",
    "    \n",
    "with open(f\"../data/paper_name_taxonomy.tsv\", errors='replace') as f:\n",
    "    paper_name_taxonomy = f.read().splitlines()"
   ]
  },
  {
   "cell_type": "code",
   "execution_count": 17,
   "metadata": {},
   "outputs": [
    {
     "data": {
      "text/plain": [
       "'1510.05067v4.pdf\\tHandwritten Digit Recognition#MNIST#PERCENTAGE ERROR#0.91$Image Classification#STL-10#Percentage correct#57.32$Image Classification#CIFAR-100#Percentage correct#48.75$Image Classification#SVHN#Percentage error#10.16$Image Classification#CIFAR-10#Percentage correct#80.98'"
      ]
     },
     "execution_count": 17,
     "metadata": {},
     "output_type": "execute_result"
    }
   ],
   "source": [
    "resultsAnnotation[5]"
   ]
  },
  {
   "cell_type": "code",
   "execution_count": 18,
   "metadata": {},
   "outputs": [
    {
     "data": {
      "text/plain": [
       "'1510.05067v4.pdf\\tMNIST#STL-10#CIFAR-100#SVHN#CIFAR-10'"
      ]
     },
     "execution_count": 18,
     "metadata": {},
     "output_type": "execute_result"
    }
   ],
   "source": [
    "datasetAnnotation[5]"
   ]
  },
  {
   "cell_type": "code",
   "execution_count": 19,
   "metadata": {},
   "outputs": [
    {
     "data": {
      "text/plain": [
       "'1510.05067v4.pdf\\tHandwritten Digit Recognition'"
      ]
     },
     "execution_count": 19,
     "metadata": {},
     "output_type": "execute_result"
    }
   ],
   "source": [
    "taskAnnotation[5]"
   ]
  },
  {
   "cell_type": "code",
   "execution_count": 20,
   "metadata": {},
   "outputs": [
    {
     "data": {
      "text/plain": [
       "'Deblurring#HIDE (trained on GOPRO)#PSNR (sRGB)\\t8'"
      ]
     },
     "execution_count": 20,
     "metadata": {},
     "output_type": "execute_result"
    }
   ],
   "source": [
    "TDM_taxonomy[9]"
   ]
  },
  {
   "cell_type": "code",
   "execution_count": 21,
   "metadata": {},
   "outputs": [
    {
     "data": {
      "text/plain": [
       "'1510.05067v4.pdf\\t5'"
      ]
     },
     "execution_count": 21,
     "metadata": {},
     "output_type": "execute_result"
    }
   ],
   "source": [
    "paper_name_taxonomy[5]"
   ]
  },
  {
   "cell_type": "code",
   "execution_count": null,
   "metadata": {},
   "outputs": [],
   "source": []
  },
  {
   "cell_type": "code",
   "execution_count": 72,
   "metadata": {},
   "outputs": [],
   "source": [
    "def create_training_data(path_to_resultsAnnotation, path_to_TDM_taxonomy, path_parsed_files,\n",
    "                         output_dir, test_set_portion=0.2,\n",
    "                         leaderboard_threshold=5, num_negative_instances=5, allowed_unknown=10):\n",
    "    \n",
    "    # to create the repo if it doesn't exist already \n",
    "    if not os.path.exists(f\"{output_dir}{num_negative_instances}Neg{allowed_unknown}Unknown/\"):\n",
    "        os.makedirs(f\"{output_dir}{num_negative_instances}Neg{allowed_unknown}Unknown/\")\n",
    "        \n",
    "        \n",
    "    with open(f\"{path_to_resultsAnnotation}/resultsAnnotation.tsv\", errors='replace') as f:\n",
    "        resultsAnnotation = f.read().splitlines()\n",
    "    \n",
    "    paper_TDM = {}\n",
    "    for paper in resultsAnnotation:\n",
    "        if len(paper.split(\"\\t\")) != 2:\n",
    "            continue\n",
    "            \n",
    "        title, TDMSList = paper.split(\"\\t\")\n",
    "        \n",
    "        title = '.'.join(title.split('/')[-1].split('.')[:-1])\n",
    "        paper_TDM[title] = TDMSList\n",
    "\n",
    "    with open(f\"{path_to_TDM_taxonomy}/TDM_taxonomy.tsv\", errors='replace') as f:\n",
    "        TDM_taxonomy = f.read().splitlines()\n",
    "        \n",
    "    TDM_taxonomy_dict = {}\n",
    "    unknown_count = 0\n",
    "    for TDMCount in TDM_taxonomy:\n",
    "        if len(TDMCount.split(\"\\t\")) != 2:\n",
    "            continue\n",
    "        TDM, count = TDMCount.split(\"\\t\")\n",
    "        count = int(count)\n",
    "        if count >= leaderboard_threshold:\n",
    "            TDM_taxonomy_dict[TDM] = count\n",
    "    # ipdb.set_trace()\n",
    "    list_parsed_pdf = os.listdir(path_parsed_files)\n",
    "    if '.ipynb_checkpoints' in list_parsed_pdf:\n",
    "        list_parsed_pdf.remove('.ipynb_checkpoints')\n",
    "\n",
    "    \n",
    "    # ToDo: will it be interresting to use stratified ? using the label ? \n",
    "    train_valid = train_test_split(list_parsed_pdf, test_size=10/100, shuffle=True)\n",
    "    train, valid = train_valid[0], train_valid[1]\n",
    "    \n",
    "    if os.path.exists(f\"{output_dir}{num_negative_instances}Neg{allowed_unknown}Unknown/train.tsv\"):\n",
    "        os.remove(f\"{output_dir}{num_negative_instances}Neg{allowed_unknown}Unknown/train.tsv\")\n",
    "        \n",
    "    if os.path.exists(f\"{output_dir}{num_negative_instances}Neg{allowed_unknown}Unknown/dev.tsv\"):\n",
    "        os.remove(f\"{output_dir}{num_negative_instances}Neg{allowed_unknown}Unknown/dev.tsv\")\n",
    "    \n",
    "    \n",
    "    for paper in train :\n",
    "        with open(f\"{path_parsed_files}{paper}\", errors='replace') as f:\n",
    "            txt = f.read().splitlines()\n",
    "        content = ' '.join(txt)\n",
    "        # content = re.sub(r\"[^a-zA-Z0-9?,'’‘´`%]+\", ' ', content).strip()\n",
    "        content = re.sub(r\"[\\t]+\", ' ', content).strip()\n",
    "        \n",
    "        paper_id = '.'.join(paper.split('/')[-1].split('.')[:-1])\n",
    "        \n",
    "        not_seen = True\n",
    "        if paper_id in paper_TDM.keys():\n",
    "            cache_tdm = set()\n",
    "            for contrib in paper_TDM[paper_id].split(\"$\"):\n",
    "                if len(contrib.split(\"#\")) != 4:\n",
    "                    # missed += 1\n",
    "                    continue\n",
    "\n",
    "                task, dataset, metric, score = contrib.split(\"#\")\n",
    "        \n",
    "                if (f\"{task}#{dataset}#{metric}\" in cache_tdm):\n",
    "                    continue\n",
    "                \n",
    "                if f\"{task}#{dataset}#{metric}\" in TDM_taxonomy_dict.keys():\n",
    "                    not_seen = False\n",
    "                    cache_tdm.add(f\"{task}#{dataset}#{metric}\")\n",
    "                    with open(f\"{output_dir}{num_negative_instances}Neg{allowed_unknown}Unknown/train.tsv\", \"a+\", encoding=\"utf-8\") as text_file:\n",
    "                        text_file.write(f\"true\\t{paper_id}\\t{task}#{dataset}#{metric}\\t{content}\\n\")\n",
    "                        \n",
    "            if not_seen and (unknown_count <= allowed_unknown):\n",
    "                with open(f\"{output_dir}{num_negative_instances}Neg{allowed_unknown}Unknown/train.tsv\", \"a+\", encoding=\"utf-8\") as text_file:\n",
    "                    text_file.write(f\"true\\t{paper_id}\\tunknown\\t{content}\\n\")\n",
    "                    \n",
    "                    \n",
    "            random_tdm =  list(TDM_taxonomy_dict.keys()) \n",
    "            random_tdm.sort()\n",
    "            for RandTDM in random_tdm[:num_negative_instances]:\n",
    "                task, dataset, metric = RandTDM.split(\"#\")\n",
    "                with open(f\"{output_dir}{num_negative_instances}Neg{allowed_unknown}Unknown/train.tsv\", \"a+\", encoding=\"utf-8\") as text_file:\n",
    "                    text_file.write(f\"false\\t{paper_id}\\t{task}#{dataset}#{metric}\\t{content}\\n\")\n",
    "        else:\n",
    "            print(f\"Paper {paper_id} from train not in the resultsAnnotation.tssv file\")\n",
    "    \n",
    "    for paper in valid :\n",
    "        with open(f\"{path_parsed_files}{paper}\", errors='replace') as f:\n",
    "            txt = f.read().splitlines()\n",
    "        content = ' '.join(txt)\n",
    "        # content = re.sub(r\"[^a-zA-Z0-9?,'’‘´`%]+\", ' ', content).strip()\n",
    "        content = re.sub(r\"[\\t]+\", ' ', content).strip()\n",
    "        \n",
    "        paper_id = '.'.join(paper.split('/')[-1].split('.')[:-1])\n",
    "        \n",
    "        not_seen = True\n",
    "        if paper_id in paper_TDM.keys():\n",
    "            cache_tdm = set()\n",
    "            for contrib in paper_TDM[paper_id].split(\"$\"):\n",
    "                if len(contrib.split(\"#\")) != 4:\n",
    "                    # missed += 1\n",
    "                    continue\n",
    "\n",
    "                task, dataset, metric, score = contrib.split(\"#\")\n",
    "        \n",
    "                if (f\"{task}#{dataset}#{metric}\" in cache_tdm):\n",
    "                    continue\n",
    "                \n",
    "                if f\"{task}#{dataset}#{metric}\" in TDM_taxonomy_dict.keys():\n",
    "                    not_seen = False\n",
    "                    cache_tdm.add(f\"{task}#{dataset}#{metric}\")\n",
    "                    with open(f\"{output_dir}{num_negative_instances}Neg{allowed_unknown}Unknown/dev.tsv\", \"a+\", encoding=\"utf-8\") as text_file:\n",
    "                        text_file.write(f\"true\\t{paper_id}\\t{task}#{dataset}#{metric}\\t{content}\\n\")\n",
    "                        \n",
    "            if not_seen and (unknown_count <= allowed_unknown):\n",
    "                with open(f\"{output_dir}{num_negative_instances}Neg{allowed_unknown}Unknown/dev.tsv\", \"a+\", encoding=\"utf-8\") as text_file:\n",
    "                    text_file.write(f\"true\\t{paper_id}\\tunknown\\t{content}\\n\")\n",
    "                    \n",
    "                    \n",
    "            random_tdm =  list(TDM_taxonomy_dict.keys()) \n",
    "            random_tdm.sort()\n",
    "            for RandTDM in random_tdm[:num_negative_instances]:\n",
    "                task, dataset, metric = RandTDM.split(\"#\")\n",
    "                with open(f\"{output_dir}{num_negative_instances}Neg{allowed_unknown}Unknown/dev.tsv\", \"a+\", encoding=\"utf-8\") as text_file:\n",
    "                    text_file.write(f\"false\\t{paper_id}\\t{task}#{dataset}#{metric}\\t{content}\\n\")\n",
    "        else:\n",
    "            print(f\"Paper {paper_id} from validation not in the resultsAnnotation.tssv file\")\n",
    "    \n",
    "        "
   ]
  },
  {
   "cell_type": "code",
   "execution_count": 73,
   "metadata": {},
   "outputs": [],
   "source": [
    "path_grobid_full_txt = \"/nfs/home/kabenamualus/Research/task-dataset-metric-extraction/data/paperwithcode/pdf_txt/\"\n",
    "path_latex_source_tex = \"/nfs/home/kabenamualus/Research/task-dataset-metric-nli-extraction/exp/arxiv_src/\"\n",
    "path_latex_source_pandoc_txt = \"/nfs/home/kabenamualus/Research/task-dataset-metric-nli-extraction/exp/arxiv_src_txt/\""
   ]
  },
  {
   "cell_type": "code",
   "execution_count": 86,
   "metadata": {},
   "outputs": [],
   "source": [
    "create_training_data(path_to_resultsAnnotation=\"../data/\", \\\n",
    "                         path_to_TDM_taxonomy=\"../data/\", path_parsed_files=path_grobid_full_txt,\n",
    "                         output_dir=\"../data/\",\n",
    "                        leaderboard_threshold=5, num_negative_instances=60, allowed_unknown=800)"
   ]
  },
  {
   "cell_type": "markdown",
   "metadata": {},
   "source": [
    "## View created data"
   ]
  },
  {
   "cell_type": "code",
   "execution_count": 1,
   "metadata": {},
   "outputs": [],
   "source": [
    "import pandas as pd"
   ]
  },
  {
   "cell_type": "code",
   "execution_count": 2,
   "metadata": {},
   "outputs": [],
   "source": [
    "train_csv = \"/nfs/home/kabenamualus/Research/task-dataset-metric-extraction/data/paperwithcode/new/60Neg800unk/twofoldwithunk/fold1/train.tsv\"\n",
    "valid_csv = \"/nfs/home/kabenamualus/Research/task-dataset-metric-extraction/data/paperwithcode/new/60Neg800unk/twofoldwithunk/fold1/dev.tsv\""
   ]
  },
  {
   "cell_type": "code",
   "execution_count": 4,
   "metadata": {},
   "outputs": [],
   "source": [
    "train = pd.read_csv(train_csv, \n",
    "                    sep=\"\\t\", names=[\"label\", \"title\", \"TDM\", \"Context\"])\n",
    "\n",
    "valid = pd.read_csv(valid_csv, \n",
    "                    sep=\"\\t\", names=[\"label\", \"title\", \"TDM\", \"Context\"])"
   ]
  },
  {
   "cell_type": "code",
   "execution_count": 5,
   "metadata": {},
   "outputs": [
    {
     "data": {
      "text/html": [
       "<div>\n",
       "<style scoped>\n",
       "    .dataframe tbody tr th:only-of-type {\n",
       "        vertical-align: middle;\n",
       "    }\n",
       "\n",
       "    .dataframe tbody tr th {\n",
       "        vertical-align: top;\n",
       "    }\n",
       "\n",
       "    .dataframe thead th {\n",
       "        text-align: right;\n",
       "    }\n",
       "</style>\n",
       "<table border=\"1\" class=\"dataframe\">\n",
       "  <thead>\n",
       "    <tr style=\"text-align: right;\">\n",
       "      <th></th>\n",
       "      <th>label</th>\n",
       "      <th>title</th>\n",
       "      <th>TDM</th>\n",
       "      <th>Context</th>\n",
       "    </tr>\n",
       "  </thead>\n",
       "  <tbody>\n",
       "    <tr>\n",
       "      <th>0</th>\n",
       "      <td>True</td>\n",
       "      <td>1810.02575v1.pdf</td>\n",
       "      <td>Semantic Segmentation; Nighttime Driving; mIoU</td>\n",
       "      <td>Dark Model Adaptation: Semantic Image Segmenta...</td>\n",
       "    </tr>\n",
       "    <tr>\n",
       "      <th>1</th>\n",
       "      <td>False</td>\n",
       "      <td>1810.02575v1.pdf</td>\n",
       "      <td>Extractive Text Summarization; DebateSum; ROUGE-L</td>\n",
       "      <td>Dark Model Adaptation: Semantic Image Segmenta...</td>\n",
       "    </tr>\n",
       "    <tr>\n",
       "      <th>2</th>\n",
       "      <td>False</td>\n",
       "      <td>1810.02575v1.pdf</td>\n",
       "      <td>Action Recognition; Something-Something V1; To...</td>\n",
       "      <td>Dark Model Adaptation: Semantic Image Segmenta...</td>\n",
       "    </tr>\n",
       "    <tr>\n",
       "      <th>3</th>\n",
       "      <td>False</td>\n",
       "      <td>1810.02575v1.pdf</td>\n",
       "      <td>Multi-Object Tracking; MOTS20; sMOTSA</td>\n",
       "      <td>Dark Model Adaptation: Semantic Image Segmenta...</td>\n",
       "    </tr>\n",
       "    <tr>\n",
       "      <th>4</th>\n",
       "      <td>False</td>\n",
       "      <td>1810.02575v1.pdf</td>\n",
       "      <td>Continuous Control; PyBullet Ant; Return</td>\n",
       "      <td>Dark Model Adaptation: Semantic Image Segmenta...</td>\n",
       "    </tr>\n",
       "  </tbody>\n",
       "</table>\n",
       "</div>"
      ],
      "text/plain": [
       "   label             title                                                TDM  \\\n",
       "0   True  1810.02575v1.pdf     Semantic Segmentation; Nighttime Driving; mIoU   \n",
       "1  False  1810.02575v1.pdf  Extractive Text Summarization; DebateSum; ROUGE-L   \n",
       "2  False  1810.02575v1.pdf  Action Recognition; Something-Something V1; To...   \n",
       "3  False  1810.02575v1.pdf              Multi-Object Tracking; MOTS20; sMOTSA   \n",
       "4  False  1810.02575v1.pdf           Continuous Control; PyBullet Ant; Return   \n",
       "\n",
       "                                             Context  \n",
       "0  Dark Model Adaptation: Semantic Image Segmenta...  \n",
       "1  Dark Model Adaptation: Semantic Image Segmenta...  \n",
       "2  Dark Model Adaptation: Semantic Image Segmenta...  \n",
       "3  Dark Model Adaptation: Semantic Image Segmenta...  \n",
       "4  Dark Model Adaptation: Semantic Image Segmenta...  "
      ]
     },
     "execution_count": 5,
     "metadata": {},
     "output_type": "execute_result"
    }
   ],
   "source": [
    "train.head()"
   ]
  },
  {
   "cell_type": "code",
   "execution_count": 6,
   "metadata": {},
   "outputs": [
    {
     "data": {
      "text/html": [
       "<div>\n",
       "<style scoped>\n",
       "    .dataframe tbody tr th:only-of-type {\n",
       "        vertical-align: middle;\n",
       "    }\n",
       "\n",
       "    .dataframe tbody tr th {\n",
       "        vertical-align: top;\n",
       "    }\n",
       "\n",
       "    .dataframe thead th {\n",
       "        text-align: right;\n",
       "    }\n",
       "</style>\n",
       "<table border=\"1\" class=\"dataframe\">\n",
       "  <thead>\n",
       "    <tr style=\"text-align: right;\">\n",
       "      <th></th>\n",
       "      <th>label</th>\n",
       "      <th>title</th>\n",
       "      <th>TDM</th>\n",
       "      <th>Context</th>\n",
       "    </tr>\n",
       "  </thead>\n",
       "  <tbody>\n",
       "    <tr>\n",
       "      <th>256003</th>\n",
       "      <td>False</td>\n",
       "      <td>1307.0414v1.pdf</td>\n",
       "      <td>Skeleton Based Action Recognition; SHREC 2017 ...</td>\n",
       "      <td>Challenges in Representation Learning: A repor...</td>\n",
       "    </tr>\n",
       "    <tr>\n",
       "      <th>256004</th>\n",
       "      <td>False</td>\n",
       "      <td>1307.0414v1.pdf</td>\n",
       "      <td>Fake News Detection; FNC-1; Weighted Accuracy</td>\n",
       "      <td>Challenges in Representation Learning: A repor...</td>\n",
       "    </tr>\n",
       "    <tr>\n",
       "      <th>256005</th>\n",
       "      <td>False</td>\n",
       "      <td>1307.0414v1.pdf</td>\n",
       "      <td>Multimodal Unsupervised Image-To-Image Transla...</td>\n",
       "      <td>Challenges in Representation Learning: A repor...</td>\n",
       "    </tr>\n",
       "    <tr>\n",
       "      <th>256006</th>\n",
       "      <td>False</td>\n",
       "      <td>1307.0414v1.pdf</td>\n",
       "      <td>Graph Classification; PTC; Accuracy</td>\n",
       "      <td>Challenges in Representation Learning: A repor...</td>\n",
       "    </tr>\n",
       "    <tr>\n",
       "      <th>256007</th>\n",
       "      <td>False</td>\n",
       "      <td>1307.0414v1.pdf</td>\n",
       "      <td>Pose Estimation; UPenn Action; Mean PCK@0.2</td>\n",
       "      <td>Challenges in Representation Learning: A repor...</td>\n",
       "    </tr>\n",
       "  </tbody>\n",
       "</table>\n",
       "</div>"
      ],
      "text/plain": [
       "        label            title  \\\n",
       "256003  False  1307.0414v1.pdf   \n",
       "256004  False  1307.0414v1.pdf   \n",
       "256005  False  1307.0414v1.pdf   \n",
       "256006  False  1307.0414v1.pdf   \n",
       "256007  False  1307.0414v1.pdf   \n",
       "\n",
       "                                                      TDM  \\\n",
       "256003  Skeleton Based Action Recognition; SHREC 2017 ...   \n",
       "256004      Fake News Detection; FNC-1; Weighted Accuracy   \n",
       "256005  Multimodal Unsupervised Image-To-Image Transla...   \n",
       "256006                Graph Classification; PTC; Accuracy   \n",
       "256007        Pose Estimation; UPenn Action; Mean PCK@0.2   \n",
       "\n",
       "                                                  Context  \n",
       "256003  Challenges in Representation Learning: A repor...  \n",
       "256004  Challenges in Representation Learning: A repor...  \n",
       "256005  Challenges in Representation Learning: A repor...  \n",
       "256006  Challenges in Representation Learning: A repor...  \n",
       "256007  Challenges in Representation Learning: A repor...  "
      ]
     },
     "execution_count": 6,
     "metadata": {},
     "output_type": "execute_result"
    }
   ],
   "source": [
    "train.tail()"
   ]
  },
  {
   "cell_type": "code",
   "execution_count": 7,
   "metadata": {},
   "outputs": [
    {
     "data": {
      "text/html": [
       "<div>\n",
       "<style scoped>\n",
       "    .dataframe tbody tr th:only-of-type {\n",
       "        vertical-align: middle;\n",
       "    }\n",
       "\n",
       "    .dataframe tbody tr th {\n",
       "        vertical-align: top;\n",
       "    }\n",
       "\n",
       "    .dataframe thead th {\n",
       "        text-align: right;\n",
       "    }\n",
       "</style>\n",
       "<table border=\"1\" class=\"dataframe\">\n",
       "  <thead>\n",
       "    <tr style=\"text-align: right;\">\n",
       "      <th></th>\n",
       "      <th>label</th>\n",
       "      <th>title</th>\n",
       "      <th>TDM</th>\n",
       "      <th>Context</th>\n",
       "    </tr>\n",
       "  </thead>\n",
       "  <tbody>\n",
       "    <tr>\n",
       "      <th>0</th>\n",
       "      <td>True</td>\n",
       "      <td>1707.03497v2.pdf</td>\n",
       "      <td>Atari Games; Atari 2600 Seaquest; Score</td>\n",
       "      <td>Value Prediction Network This paper proposes a...</td>\n",
       "    </tr>\n",
       "    <tr>\n",
       "      <th>1</th>\n",
       "      <td>True</td>\n",
       "      <td>1707.03497v2.pdf</td>\n",
       "      <td>Atari Games; Atari 2600 Amidar; Score</td>\n",
       "      <td>Value Prediction Network This paper proposes a...</td>\n",
       "    </tr>\n",
       "    <tr>\n",
       "      <th>2</th>\n",
       "      <td>True</td>\n",
       "      <td>1707.03497v2.pdf</td>\n",
       "      <td>Atari Games; Atari 2600 Krull; Score</td>\n",
       "      <td>Value Prediction Network This paper proposes a...</td>\n",
       "    </tr>\n",
       "    <tr>\n",
       "      <th>3</th>\n",
       "      <td>True</td>\n",
       "      <td>1707.03497v2.pdf</td>\n",
       "      <td>Atari Games; Atari 2600 Alien; Score</td>\n",
       "      <td>Value Prediction Network This paper proposes a...</td>\n",
       "    </tr>\n",
       "    <tr>\n",
       "      <th>4</th>\n",
       "      <td>True</td>\n",
       "      <td>1707.03497v2.pdf</td>\n",
       "      <td>Atari Games; Atari 2600 Enduro; Score</td>\n",
       "      <td>Value Prediction Network This paper proposes a...</td>\n",
       "    </tr>\n",
       "  </tbody>\n",
       "</table>\n",
       "</div>"
      ],
      "text/plain": [
       "   label             title                                      TDM  \\\n",
       "0   True  1707.03497v2.pdf  Atari Games; Atari 2600 Seaquest; Score   \n",
       "1   True  1707.03497v2.pdf    Atari Games; Atari 2600 Amidar; Score   \n",
       "2   True  1707.03497v2.pdf     Atari Games; Atari 2600 Krull; Score   \n",
       "3   True  1707.03497v2.pdf     Atari Games; Atari 2600 Alien; Score   \n",
       "4   True  1707.03497v2.pdf    Atari Games; Atari 2600 Enduro; Score   \n",
       "\n",
       "                                             Context  \n",
       "0  Value Prediction Network This paper proposes a...  \n",
       "1  Value Prediction Network This paper proposes a...  \n",
       "2  Value Prediction Network This paper proposes a...  \n",
       "3  Value Prediction Network This paper proposes a...  \n",
       "4  Value Prediction Network This paper proposes a...  "
      ]
     },
     "execution_count": 7,
     "metadata": {},
     "output_type": "execute_result"
    }
   ],
   "source": [
    "valid.head()"
   ]
  },
  {
   "cell_type": "code",
   "execution_count": 8,
   "metadata": {},
   "outputs": [
    {
     "data": {
      "text/html": [
       "<div>\n",
       "<style scoped>\n",
       "    .dataframe tbody tr th:only-of-type {\n",
       "        vertical-align: middle;\n",
       "    }\n",
       "\n",
       "    .dataframe tbody tr th {\n",
       "        vertical-align: top;\n",
       "    }\n",
       "\n",
       "    .dataframe thead th {\n",
       "        text-align: right;\n",
       "    }\n",
       "</style>\n",
       "<table border=\"1\" class=\"dataframe\">\n",
       "  <thead>\n",
       "    <tr style=\"text-align: right;\">\n",
       "      <th></th>\n",
       "      <th>label</th>\n",
       "      <th>title</th>\n",
       "      <th>TDM</th>\n",
       "      <th>Context</th>\n",
       "    </tr>\n",
       "  </thead>\n",
       "  <tbody>\n",
       "    <tr>\n",
       "      <th>108451</th>\n",
       "      <td>False</td>\n",
       "      <td>1909.09051v1.pdf</td>\n",
       "      <td>Image Classification; EMNIST-Balanced; Accuracy</td>\n",
       "      <td>Self-Supervised Monocular Depth Hints Monocula...</td>\n",
       "    </tr>\n",
       "    <tr>\n",
       "      <th>108452</th>\n",
       "      <td>False</td>\n",
       "      <td>1909.09051v1.pdf</td>\n",
       "      <td>Question Answering; TrecQA; MAP</td>\n",
       "      <td>Self-Supervised Monocular Depth Hints Monocula...</td>\n",
       "    </tr>\n",
       "    <tr>\n",
       "      <th>108453</th>\n",
       "      <td>False</td>\n",
       "      <td>1909.09051v1.pdf</td>\n",
       "      <td>Text Classification; IMDb; Accuracy (10 classes)</td>\n",
       "      <td>Self-Supervised Monocular Depth Hints Monocula...</td>\n",
       "    </tr>\n",
       "    <tr>\n",
       "      <th>108454</th>\n",
       "      <td>False</td>\n",
       "      <td>1909.09051v1.pdf</td>\n",
       "      <td>Image-to-Image Translation; CelebA-HQ; LPIPS</td>\n",
       "      <td>Self-Supervised Monocular Depth Hints Monocula...</td>\n",
       "    </tr>\n",
       "    <tr>\n",
       "      <th>108455</th>\n",
       "      <td>False</td>\n",
       "      <td>1909.09051v1.pdf</td>\n",
       "      <td>Few-Shot Transfer Learning for Saliency Predic...</td>\n",
       "      <td>Self-Supervised Monocular Depth Hints Monocula...</td>\n",
       "    </tr>\n",
       "  </tbody>\n",
       "</table>\n",
       "</div>"
      ],
      "text/plain": [
       "        label             title  \\\n",
       "108451  False  1909.09051v1.pdf   \n",
       "108452  False  1909.09051v1.pdf   \n",
       "108453  False  1909.09051v1.pdf   \n",
       "108454  False  1909.09051v1.pdf   \n",
       "108455  False  1909.09051v1.pdf   \n",
       "\n",
       "                                                      TDM  \\\n",
       "108451    Image Classification; EMNIST-Balanced; Accuracy   \n",
       "108452                    Question Answering; TrecQA; MAP   \n",
       "108453   Text Classification; IMDb; Accuracy (10 classes)   \n",
       "108454       Image-to-Image Translation; CelebA-HQ; LPIPS   \n",
       "108455  Few-Shot Transfer Learning for Saliency Predic...   \n",
       "\n",
       "                                                  Context  \n",
       "108451  Self-Supervised Monocular Depth Hints Monocula...  \n",
       "108452  Self-Supervised Monocular Depth Hints Monocula...  \n",
       "108453  Self-Supervised Monocular Depth Hints Monocula...  \n",
       "108454  Self-Supervised Monocular Depth Hints Monocula...  \n",
       "108455  Self-Supervised Monocular Depth Hints Monocula...  "
      ]
     },
     "execution_count": 8,
     "metadata": {},
     "output_type": "execute_result"
    }
   ],
   "source": [
    "valid.tail()"
   ]
  },
  {
   "cell_type": "code",
   "execution_count": 9,
   "metadata": {},
   "outputs": [
    {
     "data": {
      "text/html": [
       "<div>\n",
       "<style scoped>\n",
       "    .dataframe tbody tr th:only-of-type {\n",
       "        vertical-align: middle;\n",
       "    }\n",
       "\n",
       "    .dataframe tbody tr th {\n",
       "        vertical-align: top;\n",
       "    }\n",
       "\n",
       "    .dataframe thead th {\n",
       "        text-align: right;\n",
       "    }\n",
       "</style>\n",
       "<table border=\"1\" class=\"dataframe\">\n",
       "  <thead>\n",
       "    <tr style=\"text-align: right;\">\n",
       "      <th></th>\n",
       "      <th>label</th>\n",
       "      <th>title</th>\n",
       "      <th>TDM</th>\n",
       "      <th>Context</th>\n",
       "    </tr>\n",
       "  </thead>\n",
       "  <tbody>\n",
       "  </tbody>\n",
       "</table>\n",
       "</div>"
      ],
      "text/plain": [
       "Empty DataFrame\n",
       "Columns: [label, title, TDM, Context]\n",
       "Index: []"
      ]
     },
     "execution_count": 9,
     "metadata": {},
     "output_type": "execute_result"
    }
   ],
   "source": [
    "train[train.title==\"1911.08251v2\"].head()"
   ]
  },
  {
   "cell_type": "code",
   "execution_count": 10,
   "metadata": {},
   "outputs": [
    {
     "data": {
      "text/html": [
       "<div>\n",
       "<style scoped>\n",
       "    .dataframe tbody tr th:only-of-type {\n",
       "        vertical-align: middle;\n",
       "    }\n",
       "\n",
       "    .dataframe tbody tr th {\n",
       "        vertical-align: top;\n",
       "    }\n",
       "\n",
       "    .dataframe thead th {\n",
       "        text-align: right;\n",
       "    }\n",
       "</style>\n",
       "<table border=\"1\" class=\"dataframe\">\n",
       "  <thead>\n",
       "    <tr style=\"text-align: right;\">\n",
       "      <th></th>\n",
       "      <th>label</th>\n",
       "      <th>title</th>\n",
       "      <th>TDM</th>\n",
       "      <th>Context</th>\n",
       "    </tr>\n",
       "  </thead>\n",
       "  <tbody>\n",
       "  </tbody>\n",
       "</table>\n",
       "</div>"
      ],
      "text/plain": [
       "Empty DataFrame\n",
       "Columns: [label, title, TDM, Context]\n",
       "Index: []"
      ]
     },
     "execution_count": 10,
     "metadata": {},
     "output_type": "execute_result"
    }
   ],
   "source": [
    "train[train.TDM==\"unknown\"].head()"
   ]
  },
  {
   "cell_type": "code",
   "execution_count": 11,
   "metadata": {},
   "outputs": [],
   "source": [
    "# train[\"len\"]=train.Context.apply(lambda content: len(content.split()),)"
   ]
  },
  {
   "cell_type": "markdown",
   "metadata": {},
   "source": [
    "# Convert IBM Data to our Data format"
   ]
  },
  {
   "cell_type": "markdown",
   "metadata": {},
   "source": [
    "This section mostly edit the TDM from the original data from [Hou et al. (2019)](https://arxiv.org/pdf/2004.14356.pdf) by replacing the separator from `,` to `;`. \n",
    "\n",
    "**Note**: This section of the notebook can only be run once. "
   ]
  },
  {
   "cell_type": "markdown",
   "metadata": {},
   "source": [
    "## NLP-TDMS"
   ]
  },
  {
   "cell_type": "markdown",
   "metadata": {},
   "source": [
    "### main"
   ]
  },
  {
   "cell_type": "code",
   "execution_count": 8,
   "metadata": {},
   "outputs": [],
   "source": [
    "IBM_train_csv = \"~/Research/task-dataset-metric-nli-extraction/data/ibm/exp/few-shot-setup/NLP-TDMS/train.tsv\"\n",
    "IBM_test_csv = \"~/Research/task-dataset-metric-nli-extraction/data/ibm/exp/few-shot-setup/NLP-TDMS/test.tsv\"\n",
    "# ! cp $IBM_train_csv ~/Research/task-dataset-metric-nli-extraction/data/ibm/exp/few-shot-setup/NLP-TDMS/train_.tsv\n",
    "# ! cp $IBM_test_csv ~/Research/task-dataset-metric-nli-extraction/data/ibm/exp/few-shot-setup/NLP-TDMS/test_.tsv"
   ]
  },
  {
   "cell_type": "code",
   "execution_count": 9,
   "metadata": {},
   "outputs": [],
   "source": [
    "train_IBM = pd.read_csv(IBM_train_csv, \n",
    "                    sep=\"\\t\", names=[\"label\", \"title\", \"TDM\", \"Context\"])\n",
    "\n",
    "test_IBM = pd.read_csv(IBM_test_csv, \n",
    "                    sep=\"\\t\", names=[\"label\", \"title\", \"TDM\", \"Context\"])"
   ]
  },
  {
   "cell_type": "code",
   "execution_count": 10,
   "metadata": {},
   "outputs": [
    {
     "data": {
      "text/html": [
       "<div>\n",
       "<style scoped>\n",
       "    .dataframe tbody tr th:only-of-type {\n",
       "        vertical-align: middle;\n",
       "    }\n",
       "\n",
       "    .dataframe tbody tr th {\n",
       "        vertical-align: top;\n",
       "    }\n",
       "\n",
       "    .dataframe thead th {\n",
       "        text-align: right;\n",
       "    }\n",
       "</style>\n",
       "<table border=\"1\" class=\"dataframe\">\n",
       "  <thead>\n",
       "    <tr style=\"text-align: right;\">\n",
       "      <th></th>\n",
       "      <th>label</th>\n",
       "      <th>title</th>\n",
       "      <th>TDM</th>\n",
       "      <th>Context</th>\n",
       "    </tr>\n",
       "  </thead>\n",
       "  <tbody>\n",
       "    <tr>\n",
       "      <th>0</th>\n",
       "      <td>True</td>\n",
       "      <td>D16-1036.pdf</td>\n",
       "      <td>unknow</td>\n",
       "      <td>Multi-view Response Selection for Human-Comput...</td>\n",
       "    </tr>\n",
       "    <tr>\n",
       "      <th>1</th>\n",
       "      <td>False</td>\n",
       "      <td>D16-1036.pdf</td>\n",
       "      <td>question answering; SQuAD; F1</td>\n",
       "      <td>Multi-view Response Selection for Human-Comput...</td>\n",
       "    </tr>\n",
       "    <tr>\n",
       "      <th>2</th>\n",
       "      <td>False</td>\n",
       "      <td>D16-1036.pdf</td>\n",
       "      <td>relation prediction; FB15K-237; H@1</td>\n",
       "      <td>Multi-view Response Selection for Human-Comput...</td>\n",
       "    </tr>\n",
       "    <tr>\n",
       "      <th>3</th>\n",
       "      <td>False</td>\n",
       "      <td>D16-1036.pdf</td>\n",
       "      <td>word sense disambiguation; SemEval 2013; F1</td>\n",
       "      <td>Multi-view Response Selection for Human-Comput...</td>\n",
       "    </tr>\n",
       "    <tr>\n",
       "      <th>4</th>\n",
       "      <td>False</td>\n",
       "      <td>D16-1036.pdf</td>\n",
       "      <td>language modeling; 1B Words / Google Billion W...</td>\n",
       "      <td>Multi-view Response Selection for Human-Comput...</td>\n",
       "    </tr>\n",
       "  </tbody>\n",
       "</table>\n",
       "</div>"
      ],
      "text/plain": [
       "   label         title                                                TDM  \\\n",
       "0   True  D16-1036.pdf                                             unknow   \n",
       "1  False  D16-1036.pdf                      question answering; SQuAD; F1   \n",
       "2  False  D16-1036.pdf                relation prediction; FB15K-237; H@1   \n",
       "3  False  D16-1036.pdf        word sense disambiguation; SemEval 2013; F1   \n",
       "4  False  D16-1036.pdf  language modeling; 1B Words / Google Billion W...   \n",
       "\n",
       "                                             Context  \n",
       "0  Multi-view Response Selection for Human-Comput...  \n",
       "1  Multi-view Response Selection for Human-Comput...  \n",
       "2  Multi-view Response Selection for Human-Comput...  \n",
       "3  Multi-view Response Selection for Human-Comput...  \n",
       "4  Multi-view Response Selection for Human-Comput...  "
      ]
     },
     "execution_count": 10,
     "metadata": {},
     "output_type": "execute_result"
    }
   ],
   "source": [
    "train_IBM.head()"
   ]
  },
  {
   "cell_type": "code",
   "execution_count": 13,
   "metadata": {},
   "outputs": [
    {
     "data": {
      "text/html": [
       "<div>\n",
       "<style scoped>\n",
       "    .dataframe tbody tr th:only-of-type {\n",
       "        vertical-align: middle;\n",
       "    }\n",
       "\n",
       "    .dataframe tbody tr th {\n",
       "        vertical-align: top;\n",
       "    }\n",
       "\n",
       "    .dataframe thead th {\n",
       "        text-align: right;\n",
       "    }\n",
       "</style>\n",
       "<table border=\"1\" class=\"dataframe\">\n",
       "  <thead>\n",
       "    <tr style=\"text-align: right;\">\n",
       "      <th></th>\n",
       "      <th>label</th>\n",
       "      <th>title</th>\n",
       "      <th>TDM</th>\n",
       "      <th>Context</th>\n",
       "    </tr>\n",
       "  </thead>\n",
       "  <tbody>\n",
       "    <tr>\n",
       "      <th>0</th>\n",
       "      <td>True</td>\n",
       "      <td>1803.11175.pdf</td>\n",
       "      <td>sentiment analysis; SUBJ; Accuracy</td>\n",
       "      <td>Universal Sentence Encoder We present models f...</td>\n",
       "    </tr>\n",
       "    <tr>\n",
       "      <th>1</th>\n",
       "      <td>True</td>\n",
       "      <td>1803.11175.pdf</td>\n",
       "      <td>text classification; TREC; Error</td>\n",
       "      <td>Universal Sentence Encoder We present models f...</td>\n",
       "    </tr>\n",
       "    <tr>\n",
       "      <th>2</th>\n",
       "      <td>False</td>\n",
       "      <td>1803.11175.pdf</td>\n",
       "      <td>question answering; SQuAD; F1</td>\n",
       "      <td>Universal Sentence Encoder We present models f...</td>\n",
       "    </tr>\n",
       "    <tr>\n",
       "      <th>3</th>\n",
       "      <td>False</td>\n",
       "      <td>1803.11175.pdf</td>\n",
       "      <td>relation prediction; FB15K-237; H@1</td>\n",
       "      <td>Universal Sentence Encoder We present models f...</td>\n",
       "    </tr>\n",
       "    <tr>\n",
       "      <th>4</th>\n",
       "      <td>False</td>\n",
       "      <td>1803.11175.pdf</td>\n",
       "      <td>word sense disambiguation; SemEval 2013; F1</td>\n",
       "      <td>Universal Sentence Encoder We present models f...</td>\n",
       "    </tr>\n",
       "  </tbody>\n",
       "</table>\n",
       "</div>"
      ],
      "text/plain": [
       "   label           title                                          TDM  \\\n",
       "0   True  1803.11175.pdf           sentiment analysis; SUBJ; Accuracy   \n",
       "1   True  1803.11175.pdf             text classification; TREC; Error   \n",
       "2  False  1803.11175.pdf                question answering; SQuAD; F1   \n",
       "3  False  1803.11175.pdf          relation prediction; FB15K-237; H@1   \n",
       "4  False  1803.11175.pdf  word sense disambiguation; SemEval 2013; F1   \n",
       "\n",
       "                                             Context  \n",
       "0  Universal Sentence Encoder We present models f...  \n",
       "1  Universal Sentence Encoder We present models f...  \n",
       "2  Universal Sentence Encoder We present models f...  \n",
       "3  Universal Sentence Encoder We present models f...  \n",
       "4  Universal Sentence Encoder We present models f...  "
      ]
     },
     "execution_count": 13,
     "metadata": {},
     "output_type": "execute_result"
    }
   ],
   "source": [
    "test_IBM.head()"
   ]
  },
  {
   "cell_type": "code",
   "execution_count": 14,
   "metadata": {},
   "outputs": [],
   "source": [
    "train_IBM[\"TDM\"] = train_IBM.TDM.apply(lambda x : re.sub(r\"[,]+\", ';', x).strip())\n",
    "test_IBM[\"TDM\"] = test_IBM.TDM.apply(lambda x : re.sub(r\"[,]+\", ';', x).strip())\n",
    "\n",
    "train_IBM[\"TDM\"] = train_IBM.TDM.apply(lambda x : \"unknown\" if x == \"unknow\" else x)\n",
    "test_IBM[\"TDM\"] = test_IBM.TDM.apply(lambda x : \"unknown\" if x == \"unknow\" else x)\n",
    "\n",
    "train_IBM[\"label\"] = train_IBM.label.apply(lambda x : str(x).lower())\n",
    "test_IBM[\"label\"] = test_IBM.label.apply(lambda x : str(x).lower())"
   ]
  },
  {
   "cell_type": "code",
   "execution_count": 15,
   "metadata": {},
   "outputs": [
    {
     "data": {
      "text/html": [
       "<div>\n",
       "<style scoped>\n",
       "    .dataframe tbody tr th:only-of-type {\n",
       "        vertical-align: middle;\n",
       "    }\n",
       "\n",
       "    .dataframe tbody tr th {\n",
       "        vertical-align: top;\n",
       "    }\n",
       "\n",
       "    .dataframe thead th {\n",
       "        text-align: right;\n",
       "    }\n",
       "</style>\n",
       "<table border=\"1\" class=\"dataframe\">\n",
       "  <thead>\n",
       "    <tr style=\"text-align: right;\">\n",
       "      <th></th>\n",
       "      <th>label</th>\n",
       "      <th>title</th>\n",
       "      <th>TDM</th>\n",
       "      <th>Context</th>\n",
       "    </tr>\n",
       "  </thead>\n",
       "  <tbody>\n",
       "    <tr>\n",
       "      <th>0</th>\n",
       "      <td>true</td>\n",
       "      <td>D16-1036.pdf</td>\n",
       "      <td>unknown</td>\n",
       "      <td>Multi-view Response Selection for Human-Comput...</td>\n",
       "    </tr>\n",
       "    <tr>\n",
       "      <th>1</th>\n",
       "      <td>false</td>\n",
       "      <td>D16-1036.pdf</td>\n",
       "      <td>question answering; SQuAD; F1</td>\n",
       "      <td>Multi-view Response Selection for Human-Comput...</td>\n",
       "    </tr>\n",
       "    <tr>\n",
       "      <th>2</th>\n",
       "      <td>false</td>\n",
       "      <td>D16-1036.pdf</td>\n",
       "      <td>relation prediction; FB15K-237; H@1</td>\n",
       "      <td>Multi-view Response Selection for Human-Comput...</td>\n",
       "    </tr>\n",
       "    <tr>\n",
       "      <th>3</th>\n",
       "      <td>false</td>\n",
       "      <td>D16-1036.pdf</td>\n",
       "      <td>word sense disambiguation; SemEval 2013; F1</td>\n",
       "      <td>Multi-view Response Selection for Human-Comput...</td>\n",
       "    </tr>\n",
       "    <tr>\n",
       "      <th>4</th>\n",
       "      <td>false</td>\n",
       "      <td>D16-1036.pdf</td>\n",
       "      <td>language modeling; 1B Words / Google Billion W...</td>\n",
       "      <td>Multi-view Response Selection for Human-Comput...</td>\n",
       "    </tr>\n",
       "  </tbody>\n",
       "</table>\n",
       "</div>"
      ],
      "text/plain": [
       "   label         title                                                TDM  \\\n",
       "0   true  D16-1036.pdf                                            unknown   \n",
       "1  false  D16-1036.pdf                      question answering; SQuAD; F1   \n",
       "2  false  D16-1036.pdf                relation prediction; FB15K-237; H@1   \n",
       "3  false  D16-1036.pdf        word sense disambiguation; SemEval 2013; F1   \n",
       "4  false  D16-1036.pdf  language modeling; 1B Words / Google Billion W...   \n",
       "\n",
       "                                             Context  \n",
       "0  Multi-view Response Selection for Human-Comput...  \n",
       "1  Multi-view Response Selection for Human-Comput...  \n",
       "2  Multi-view Response Selection for Human-Comput...  \n",
       "3  Multi-view Response Selection for Human-Comput...  \n",
       "4  Multi-view Response Selection for Human-Comput...  "
      ]
     },
     "execution_count": 15,
     "metadata": {},
     "output_type": "execute_result"
    }
   ],
   "source": [
    "train_IBM.head()"
   ]
  },
  {
   "cell_type": "code",
   "execution_count": 16,
   "metadata": {},
   "outputs": [
    {
     "data": {
      "text/html": [
       "<div>\n",
       "<style scoped>\n",
       "    .dataframe tbody tr th:only-of-type {\n",
       "        vertical-align: middle;\n",
       "    }\n",
       "\n",
       "    .dataframe tbody tr th {\n",
       "        vertical-align: top;\n",
       "    }\n",
       "\n",
       "    .dataframe thead th {\n",
       "        text-align: right;\n",
       "    }\n",
       "</style>\n",
       "<table border=\"1\" class=\"dataframe\">\n",
       "  <thead>\n",
       "    <tr style=\"text-align: right;\">\n",
       "      <th></th>\n",
       "      <th>label</th>\n",
       "      <th>title</th>\n",
       "      <th>TDM</th>\n",
       "      <th>Context</th>\n",
       "    </tr>\n",
       "  </thead>\n",
       "  <tbody>\n",
       "    <tr>\n",
       "      <th>13255</th>\n",
       "      <td>false</td>\n",
       "      <td>16165.pdf</td>\n",
       "      <td>dependency parsing; Penn Treebank; LAS</td>\n",
       "      <td>R 3 : Reinforced Ranker-Reader for Open-Domain...</td>\n",
       "    </tr>\n",
       "    <tr>\n",
       "      <th>13256</th>\n",
       "      <td>false</td>\n",
       "      <td>16165.pdf</td>\n",
       "      <td>language modeling; Hutter Prize; Number of params</td>\n",
       "      <td>R 3 : Reinforced Ranker-Reader for Open-Domain...</td>\n",
       "    </tr>\n",
       "    <tr>\n",
       "      <th>13257</th>\n",
       "      <td>false</td>\n",
       "      <td>16165.pdf</td>\n",
       "      <td>summarization; CNN / Daily Mail (Non-anonymize...</td>\n",
       "      <td>R 3 : Reinforced Ranker-Reader for Open-Domain...</td>\n",
       "    </tr>\n",
       "    <tr>\n",
       "      <th>13258</th>\n",
       "      <td>false</td>\n",
       "      <td>16165.pdf</td>\n",
       "      <td>word sense disambiguation; Senseval 3; F1</td>\n",
       "      <td>R 3 : Reinforced Ranker-Reader for Open-Domain...</td>\n",
       "    </tr>\n",
       "    <tr>\n",
       "      <th>13259</th>\n",
       "      <td>false</td>\n",
       "      <td>16165.pdf</td>\n",
       "      <td>text classification; TREC; Error</td>\n",
       "      <td>R 3 : Reinforced Ranker-Reader for Open-Domain...</td>\n",
       "    </tr>\n",
       "  </tbody>\n",
       "</table>\n",
       "</div>"
      ],
      "text/plain": [
       "       label      title                                                TDM  \\\n",
       "13255  false  16165.pdf             dependency parsing; Penn Treebank; LAS   \n",
       "13256  false  16165.pdf  language modeling; Hutter Prize; Number of params   \n",
       "13257  false  16165.pdf  summarization; CNN / Daily Mail (Non-anonymize...   \n",
       "13258  false  16165.pdf          word sense disambiguation; Senseval 3; F1   \n",
       "13259  false  16165.pdf                   text classification; TREC; Error   \n",
       "\n",
       "                                                 Context  \n",
       "13255  R 3 : Reinforced Ranker-Reader for Open-Domain...  \n",
       "13256  R 3 : Reinforced Ranker-Reader for Open-Domain...  \n",
       "13257  R 3 : Reinforced Ranker-Reader for Open-Domain...  \n",
       "13258  R 3 : Reinforced Ranker-Reader for Open-Domain...  \n",
       "13259  R 3 : Reinforced Ranker-Reader for Open-Domain...  "
      ]
     },
     "execution_count": 16,
     "metadata": {},
     "output_type": "execute_result"
    }
   ],
   "source": [
    "train_IBM.tail()"
   ]
  },
  {
   "cell_type": "code",
   "execution_count": 17,
   "metadata": {},
   "outputs": [
    {
     "data": {
      "text/html": [
       "<div>\n",
       "<style scoped>\n",
       "    .dataframe tbody tr th:only-of-type {\n",
       "        vertical-align: middle;\n",
       "    }\n",
       "\n",
       "    .dataframe tbody tr th {\n",
       "        vertical-align: top;\n",
       "    }\n",
       "\n",
       "    .dataframe thead th {\n",
       "        text-align: right;\n",
       "    }\n",
       "</style>\n",
       "<table border=\"1\" class=\"dataframe\">\n",
       "  <thead>\n",
       "    <tr style=\"text-align: right;\">\n",
       "      <th></th>\n",
       "      <th>label</th>\n",
       "      <th>title</th>\n",
       "      <th>TDM</th>\n",
       "      <th>Context</th>\n",
       "    </tr>\n",
       "  </thead>\n",
       "  <tbody>\n",
       "    <tr>\n",
       "      <th>12631</th>\n",
       "      <td>false</td>\n",
       "      <td>C18-1121.pdf</td>\n",
       "      <td>dependency parsing; Penn Treebank; LAS</td>\n",
       "      <td>Ensure the Correctness of the Summary: Incorpo...</td>\n",
       "    </tr>\n",
       "    <tr>\n",
       "      <th>12632</th>\n",
       "      <td>false</td>\n",
       "      <td>C18-1121.pdf</td>\n",
       "      <td>language modeling; Hutter Prize; Number of params</td>\n",
       "      <td>Ensure the Correctness of the Summary: Incorpo...</td>\n",
       "    </tr>\n",
       "    <tr>\n",
       "      <th>12633</th>\n",
       "      <td>false</td>\n",
       "      <td>C18-1121.pdf</td>\n",
       "      <td>summarization; CNN / Daily Mail (Non-anonymize...</td>\n",
       "      <td>Ensure the Correctness of the Summary: Incorpo...</td>\n",
       "    </tr>\n",
       "    <tr>\n",
       "      <th>12634</th>\n",
       "      <td>false</td>\n",
       "      <td>C18-1121.pdf</td>\n",
       "      <td>word sense disambiguation; Senseval 3; F1</td>\n",
       "      <td>Ensure the Correctness of the Summary: Incorpo...</td>\n",
       "    </tr>\n",
       "    <tr>\n",
       "      <th>12635</th>\n",
       "      <td>false</td>\n",
       "      <td>C18-1121.pdf</td>\n",
       "      <td>text classification; TREC; Error</td>\n",
       "      <td>Ensure the Correctness of the Summary: Incorpo...</td>\n",
       "    </tr>\n",
       "  </tbody>\n",
       "</table>\n",
       "</div>"
      ],
      "text/plain": [
       "       label         title                                                TDM  \\\n",
       "12631  false  C18-1121.pdf             dependency parsing; Penn Treebank; LAS   \n",
       "12632  false  C18-1121.pdf  language modeling; Hutter Prize; Number of params   \n",
       "12633  false  C18-1121.pdf  summarization; CNN / Daily Mail (Non-anonymize...   \n",
       "12634  false  C18-1121.pdf          word sense disambiguation; Senseval 3; F1   \n",
       "12635  false  C18-1121.pdf                   text classification; TREC; Error   \n",
       "\n",
       "                                                 Context  \n",
       "12631  Ensure the Correctness of the Summary: Incorpo...  \n",
       "12632  Ensure the Correctness of the Summary: Incorpo...  \n",
       "12633  Ensure the Correctness of the Summary: Incorpo...  \n",
       "12634  Ensure the Correctness of the Summary: Incorpo...  \n",
       "12635  Ensure the Correctness of the Summary: Incorpo...  "
      ]
     },
     "execution_count": 17,
     "metadata": {},
     "output_type": "execute_result"
    }
   ],
   "source": [
    "test_IBM.tail()"
   ]
  },
  {
   "cell_type": "code",
   "execution_count": 18,
   "metadata": {},
   "outputs": [],
   "source": [
    "train_IBM.to_csv(path_or_buf=IBM_train_csv, \n",
    "                 sep=\"\\t\", header=None, index=False)\n",
    "\n",
    "test_IBM.to_csv(path_or_buf=IBM_test_csv, \n",
    "                 sep=\"\\t\", header=None, index=False)"
   ]
  },
  {
   "cell_type": "code",
   "execution_count": 19,
   "metadata": {},
   "outputs": [],
   "source": [
    "train_v2_IBM = pd.read_csv(IBM_train_csv, \n",
    "                    sep=\"\\t\", names=[\"label\", \"title\", \"TDM\", \"Context\"])\n",
    "test_v2_IBM = pd.read_csv(IBM_test_csv, \n",
    "                    sep=\"\\t\", names=[\"label\", \"title\", \"TDM\", \"Context\"])"
   ]
  },
  {
   "cell_type": "code",
   "execution_count": 20,
   "metadata": {},
   "outputs": [
    {
     "data": {
      "text/html": [
       "<div>\n",
       "<style scoped>\n",
       "    .dataframe tbody tr th:only-of-type {\n",
       "        vertical-align: middle;\n",
       "    }\n",
       "\n",
       "    .dataframe tbody tr th {\n",
       "        vertical-align: top;\n",
       "    }\n",
       "\n",
       "    .dataframe thead th {\n",
       "        text-align: right;\n",
       "    }\n",
       "</style>\n",
       "<table border=\"1\" class=\"dataframe\">\n",
       "  <thead>\n",
       "    <tr style=\"text-align: right;\">\n",
       "      <th></th>\n",
       "      <th>label</th>\n",
       "      <th>title</th>\n",
       "      <th>TDM</th>\n",
       "      <th>Context</th>\n",
       "    </tr>\n",
       "  </thead>\n",
       "  <tbody>\n",
       "    <tr>\n",
       "      <th>0</th>\n",
       "      <td>True</td>\n",
       "      <td>D16-1036.pdf</td>\n",
       "      <td>unknown</td>\n",
       "      <td>Multi-view Response Selection for Human-Comput...</td>\n",
       "    </tr>\n",
       "    <tr>\n",
       "      <th>1</th>\n",
       "      <td>False</td>\n",
       "      <td>D16-1036.pdf</td>\n",
       "      <td>question answering; SQuAD; F1</td>\n",
       "      <td>Multi-view Response Selection for Human-Comput...</td>\n",
       "    </tr>\n",
       "    <tr>\n",
       "      <th>2</th>\n",
       "      <td>False</td>\n",
       "      <td>D16-1036.pdf</td>\n",
       "      <td>relation prediction; FB15K-237; H@1</td>\n",
       "      <td>Multi-view Response Selection for Human-Comput...</td>\n",
       "    </tr>\n",
       "    <tr>\n",
       "      <th>3</th>\n",
       "      <td>False</td>\n",
       "      <td>D16-1036.pdf</td>\n",
       "      <td>word sense disambiguation; SemEval 2013; F1</td>\n",
       "      <td>Multi-view Response Selection for Human-Comput...</td>\n",
       "    </tr>\n",
       "    <tr>\n",
       "      <th>4</th>\n",
       "      <td>False</td>\n",
       "      <td>D16-1036.pdf</td>\n",
       "      <td>language modeling; 1B Words / Google Billion W...</td>\n",
       "      <td>Multi-view Response Selection for Human-Comput...</td>\n",
       "    </tr>\n",
       "  </tbody>\n",
       "</table>\n",
       "</div>"
      ],
      "text/plain": [
       "   label         title                                                TDM  \\\n",
       "0   True  D16-1036.pdf                                            unknown   \n",
       "1  False  D16-1036.pdf                      question answering; SQuAD; F1   \n",
       "2  False  D16-1036.pdf                relation prediction; FB15K-237; H@1   \n",
       "3  False  D16-1036.pdf        word sense disambiguation; SemEval 2013; F1   \n",
       "4  False  D16-1036.pdf  language modeling; 1B Words / Google Billion W...   \n",
       "\n",
       "                                             Context  \n",
       "0  Multi-view Response Selection for Human-Comput...  \n",
       "1  Multi-view Response Selection for Human-Comput...  \n",
       "2  Multi-view Response Selection for Human-Comput...  \n",
       "3  Multi-view Response Selection for Human-Comput...  \n",
       "4  Multi-view Response Selection for Human-Comput...  "
      ]
     },
     "execution_count": 20,
     "metadata": {},
     "output_type": "execute_result"
    }
   ],
   "source": [
    "train_v2_IBM.head()"
   ]
  },
  {
   "cell_type": "code",
   "execution_count": 21,
   "metadata": {},
   "outputs": [
    {
     "data": {
      "text/html": [
       "<div>\n",
       "<style scoped>\n",
       "    .dataframe tbody tr th:only-of-type {\n",
       "        vertical-align: middle;\n",
       "    }\n",
       "\n",
       "    .dataframe tbody tr th {\n",
       "        vertical-align: top;\n",
       "    }\n",
       "\n",
       "    .dataframe thead th {\n",
       "        text-align: right;\n",
       "    }\n",
       "</style>\n",
       "<table border=\"1\" class=\"dataframe\">\n",
       "  <thead>\n",
       "    <tr style=\"text-align: right;\">\n",
       "      <th></th>\n",
       "      <th>label</th>\n",
       "      <th>title</th>\n",
       "      <th>TDM</th>\n",
       "      <th>Context</th>\n",
       "    </tr>\n",
       "  </thead>\n",
       "  <tbody>\n",
       "    <tr>\n",
       "      <th>12631</th>\n",
       "      <td>False</td>\n",
       "      <td>C18-1121.pdf</td>\n",
       "      <td>dependency parsing; Penn Treebank; LAS</td>\n",
       "      <td>Ensure the Correctness of the Summary: Incorpo...</td>\n",
       "    </tr>\n",
       "    <tr>\n",
       "      <th>12632</th>\n",
       "      <td>False</td>\n",
       "      <td>C18-1121.pdf</td>\n",
       "      <td>language modeling; Hutter Prize; Number of params</td>\n",
       "      <td>Ensure the Correctness of the Summary: Incorpo...</td>\n",
       "    </tr>\n",
       "    <tr>\n",
       "      <th>12633</th>\n",
       "      <td>False</td>\n",
       "      <td>C18-1121.pdf</td>\n",
       "      <td>summarization; CNN / Daily Mail (Non-anonymize...</td>\n",
       "      <td>Ensure the Correctness of the Summary: Incorpo...</td>\n",
       "    </tr>\n",
       "    <tr>\n",
       "      <th>12634</th>\n",
       "      <td>False</td>\n",
       "      <td>C18-1121.pdf</td>\n",
       "      <td>word sense disambiguation; Senseval 3; F1</td>\n",
       "      <td>Ensure the Correctness of the Summary: Incorpo...</td>\n",
       "    </tr>\n",
       "    <tr>\n",
       "      <th>12635</th>\n",
       "      <td>False</td>\n",
       "      <td>C18-1121.pdf</td>\n",
       "      <td>text classification; TREC; Error</td>\n",
       "      <td>Ensure the Correctness of the Summary: Incorpo...</td>\n",
       "    </tr>\n",
       "  </tbody>\n",
       "</table>\n",
       "</div>"
      ],
      "text/plain": [
       "       label         title                                                TDM  \\\n",
       "12631  False  C18-1121.pdf             dependency parsing; Penn Treebank; LAS   \n",
       "12632  False  C18-1121.pdf  language modeling; Hutter Prize; Number of params   \n",
       "12633  False  C18-1121.pdf  summarization; CNN / Daily Mail (Non-anonymize...   \n",
       "12634  False  C18-1121.pdf          word sense disambiguation; Senseval 3; F1   \n",
       "12635  False  C18-1121.pdf                   text classification; TREC; Error   \n",
       "\n",
       "                                                 Context  \n",
       "12631  Ensure the Correctness of the Summary: Incorpo...  \n",
       "12632  Ensure the Correctness of the Summary: Incorpo...  \n",
       "12633  Ensure the Correctness of the Summary: Incorpo...  \n",
       "12634  Ensure the Correctness of the Summary: Incorpo...  \n",
       "12635  Ensure the Correctness of the Summary: Incorpo...  "
      ]
     },
     "execution_count": 21,
     "metadata": {},
     "output_type": "execute_result"
    }
   ],
   "source": [
    "test_v2_IBM.tail()"
   ]
  },
  {
   "cell_type": "markdown",
   "metadata": {},
   "source": [
    "### paperVersion"
   ]
  },
  {
   "cell_type": "code",
   "execution_count": 22,
   "metadata": {},
   "outputs": [],
   "source": [
    "IBM_train_csv = \"~/Research/task-dataset-metric-nli-extraction/data/ibm/exp/few-shot-setup/NLP-TDMS/paperVersion/train.tsv\"\n",
    "IBM_test_csv = \"~/Research/task-dataset-metric-nli-extraction/data/ibm/exp/few-shot-setup/NLP-TDMS/paperVersion/test.tsv\"\n",
    "# ! cp $IBM_train_csv ~/Research/task-dataset-metric-nli-extraction/data/ibm/exp/few-shot-setup/NLP-TDMS/paperVersion/train_.tsv\n",
    "# ! cp $IBM_test_csv ~/Research/task-dataset-metric-nli-extraction/data/ibm/exp/few-shot-setup/NLP-TDMS/paperVersion/test_.tsv"
   ]
  },
  {
   "cell_type": "code",
   "execution_count": 23,
   "metadata": {},
   "outputs": [],
   "source": [
    "train_IBM = pd.read_csv(IBM_train_csv, \n",
    "                    sep=\"\\t\", names=[\"label\", \"title\", \"TDM\", \"Context\"])\n",
    "\n",
    "test_IBM = pd.read_csv(IBM_test_csv, \n",
    "                    sep=\"\\t\", names=[\"label\", \"title\", \"TDM\", \"Context\"])"
   ]
  },
  {
   "cell_type": "code",
   "execution_count": 24,
   "metadata": {},
   "outputs": [
    {
     "data": {
      "text/html": [
       "<div>\n",
       "<style scoped>\n",
       "    .dataframe tbody tr th:only-of-type {\n",
       "        vertical-align: middle;\n",
       "    }\n",
       "\n",
       "    .dataframe tbody tr th {\n",
       "        vertical-align: top;\n",
       "    }\n",
       "\n",
       "    .dataframe thead th {\n",
       "        text-align: right;\n",
       "    }\n",
       "</style>\n",
       "<table border=\"1\" class=\"dataframe\">\n",
       "  <thead>\n",
       "    <tr style=\"text-align: right;\">\n",
       "      <th></th>\n",
       "      <th>label</th>\n",
       "      <th>title</th>\n",
       "      <th>TDM</th>\n",
       "      <th>Context</th>\n",
       "    </tr>\n",
       "  </thead>\n",
       "  <tbody>\n",
       "    <tr>\n",
       "      <th>0</th>\n",
       "      <td>True</td>\n",
       "      <td>D16-1036.pdf</td>\n",
       "      <td>unknow</td>\n",
       "      <td>Multi-view Response Selection for Human-Comput...</td>\n",
       "    </tr>\n",
       "    <tr>\n",
       "      <th>1</th>\n",
       "      <td>False</td>\n",
       "      <td>D16-1036.pdf</td>\n",
       "      <td>question answering; SQuAD; F1</td>\n",
       "      <td>Multi-view Response Selection for Human-Comput...</td>\n",
       "    </tr>\n",
       "    <tr>\n",
       "      <th>2</th>\n",
       "      <td>False</td>\n",
       "      <td>D16-1036.pdf</td>\n",
       "      <td>relation prediction; FB15K-237; H@1</td>\n",
       "      <td>Multi-view Response Selection for Human-Comput...</td>\n",
       "    </tr>\n",
       "    <tr>\n",
       "      <th>3</th>\n",
       "      <td>False</td>\n",
       "      <td>D16-1036.pdf</td>\n",
       "      <td>word sense disambiguation; SemEval 2013; F1</td>\n",
       "      <td>Multi-view Response Selection for Human-Comput...</td>\n",
       "    </tr>\n",
       "    <tr>\n",
       "      <th>4</th>\n",
       "      <td>False</td>\n",
       "      <td>D16-1036.pdf</td>\n",
       "      <td>language modeling; 1B Words / Google Billion W...</td>\n",
       "      <td>Multi-view Response Selection for Human-Comput...</td>\n",
       "    </tr>\n",
       "  </tbody>\n",
       "</table>\n",
       "</div>"
      ],
      "text/plain": [
       "   label         title                                                TDM  \\\n",
       "0   True  D16-1036.pdf                                             unknow   \n",
       "1  False  D16-1036.pdf                      question answering; SQuAD; F1   \n",
       "2  False  D16-1036.pdf                relation prediction; FB15K-237; H@1   \n",
       "3  False  D16-1036.pdf        word sense disambiguation; SemEval 2013; F1   \n",
       "4  False  D16-1036.pdf  language modeling; 1B Words / Google Billion W...   \n",
       "\n",
       "                                             Context  \n",
       "0  Multi-view Response Selection for Human-Comput...  \n",
       "1  Multi-view Response Selection for Human-Comput...  \n",
       "2  Multi-view Response Selection for Human-Comput...  \n",
       "3  Multi-view Response Selection for Human-Comput...  \n",
       "4  Multi-view Response Selection for Human-Comput...  "
      ]
     },
     "execution_count": 24,
     "metadata": {},
     "output_type": "execute_result"
    }
   ],
   "source": [
    "train_IBM.head()"
   ]
  },
  {
   "cell_type": "code",
   "execution_count": 26,
   "metadata": {},
   "outputs": [
    {
     "data": {
      "text/html": [
       "<div>\n",
       "<style scoped>\n",
       "    .dataframe tbody tr th:only-of-type {\n",
       "        vertical-align: middle;\n",
       "    }\n",
       "\n",
       "    .dataframe tbody tr th {\n",
       "        vertical-align: top;\n",
       "    }\n",
       "\n",
       "    .dataframe thead th {\n",
       "        text-align: right;\n",
       "    }\n",
       "</style>\n",
       "<table border=\"1\" class=\"dataframe\">\n",
       "  <thead>\n",
       "    <tr style=\"text-align: right;\">\n",
       "      <th></th>\n",
       "      <th>label</th>\n",
       "      <th>title</th>\n",
       "      <th>TDM</th>\n",
       "      <th>Context</th>\n",
       "    </tr>\n",
       "  </thead>\n",
       "  <tbody>\n",
       "    <tr>\n",
       "      <th>0</th>\n",
       "      <td>True</td>\n",
       "      <td>1803.11175.pdf</td>\n",
       "      <td>sentiment analysis; SUBJ; Accuracy</td>\n",
       "      <td>Universal Sentence Encoder We present models f...</td>\n",
       "    </tr>\n",
       "    <tr>\n",
       "      <th>1</th>\n",
       "      <td>True</td>\n",
       "      <td>1803.11175.pdf</td>\n",
       "      <td>text classification; TREC; Error</td>\n",
       "      <td>Universal Sentence Encoder We present models f...</td>\n",
       "    </tr>\n",
       "    <tr>\n",
       "      <th>2</th>\n",
       "      <td>False</td>\n",
       "      <td>1803.11175.pdf</td>\n",
       "      <td>question answering; SQuAD; F1</td>\n",
       "      <td>Universal Sentence Encoder We present models f...</td>\n",
       "    </tr>\n",
       "    <tr>\n",
       "      <th>3</th>\n",
       "      <td>False</td>\n",
       "      <td>1803.11175.pdf</td>\n",
       "      <td>relation prediction; FB15K-237; H@1</td>\n",
       "      <td>Universal Sentence Encoder We present models f...</td>\n",
       "    </tr>\n",
       "    <tr>\n",
       "      <th>4</th>\n",
       "      <td>False</td>\n",
       "      <td>1803.11175.pdf</td>\n",
       "      <td>word sense disambiguation; SemEval 2013; F1</td>\n",
       "      <td>Universal Sentence Encoder We present models f...</td>\n",
       "    </tr>\n",
       "  </tbody>\n",
       "</table>\n",
       "</div>"
      ],
      "text/plain": [
       "   label           title                                          TDM  \\\n",
       "0   True  1803.11175.pdf           sentiment analysis; SUBJ; Accuracy   \n",
       "1   True  1803.11175.pdf             text classification; TREC; Error   \n",
       "2  False  1803.11175.pdf                question answering; SQuAD; F1   \n",
       "3  False  1803.11175.pdf          relation prediction; FB15K-237; H@1   \n",
       "4  False  1803.11175.pdf  word sense disambiguation; SemEval 2013; F1   \n",
       "\n",
       "                                             Context  \n",
       "0  Universal Sentence Encoder We present models f...  \n",
       "1  Universal Sentence Encoder We present models f...  \n",
       "2  Universal Sentence Encoder We present models f...  \n",
       "3  Universal Sentence Encoder We present models f...  \n",
       "4  Universal Sentence Encoder We present models f...  "
      ]
     },
     "execution_count": 26,
     "metadata": {},
     "output_type": "execute_result"
    }
   ],
   "source": [
    "test_IBM.head()"
   ]
  },
  {
   "cell_type": "code",
   "execution_count": 27,
   "metadata": {},
   "outputs": [],
   "source": [
    "train_IBM[\"TDM\"] = train_IBM.TDM.apply(lambda x : re.sub(r\"[,]+\", ';', x).strip())\n",
    "test_IBM[\"TDM\"] = test_IBM.TDM.apply(lambda x : re.sub(r\"[,]+\", ';', x).strip())\n",
    "\n",
    "train_IBM[\"TDM\"] = train_IBM.TDM.apply(lambda x : \"unknown\" if x == \"unknow\" else x)\n",
    "test_IBM[\"TDM\"] = test_IBM.TDM.apply(lambda x : \"unknown\" if x == \"unknow\" else x)\n",
    "\n",
    "train_IBM[\"label\"] = train_IBM.label.apply(lambda x : str(x).lower())\n",
    "test_IBM[\"label\"] = test_IBM.label.apply(lambda x : str(x).lower())"
   ]
  },
  {
   "cell_type": "code",
   "execution_count": 28,
   "metadata": {},
   "outputs": [
    {
     "data": {
      "text/html": [
       "<div>\n",
       "<style scoped>\n",
       "    .dataframe tbody tr th:only-of-type {\n",
       "        vertical-align: middle;\n",
       "    }\n",
       "\n",
       "    .dataframe tbody tr th {\n",
       "        vertical-align: top;\n",
       "    }\n",
       "\n",
       "    .dataframe thead th {\n",
       "        text-align: right;\n",
       "    }\n",
       "</style>\n",
       "<table border=\"1\" class=\"dataframe\">\n",
       "  <thead>\n",
       "    <tr style=\"text-align: right;\">\n",
       "      <th></th>\n",
       "      <th>label</th>\n",
       "      <th>title</th>\n",
       "      <th>TDM</th>\n",
       "      <th>Context</th>\n",
       "    </tr>\n",
       "  </thead>\n",
       "  <tbody>\n",
       "    <tr>\n",
       "      <th>0</th>\n",
       "      <td>true</td>\n",
       "      <td>D16-1036.pdf</td>\n",
       "      <td>unknown</td>\n",
       "      <td>Multi-view Response Selection for Human-Comput...</td>\n",
       "    </tr>\n",
       "    <tr>\n",
       "      <th>1</th>\n",
       "      <td>false</td>\n",
       "      <td>D16-1036.pdf</td>\n",
       "      <td>question answering; SQuAD; F1</td>\n",
       "      <td>Multi-view Response Selection for Human-Comput...</td>\n",
       "    </tr>\n",
       "    <tr>\n",
       "      <th>2</th>\n",
       "      <td>false</td>\n",
       "      <td>D16-1036.pdf</td>\n",
       "      <td>relation prediction; FB15K-237; H@1</td>\n",
       "      <td>Multi-view Response Selection for Human-Comput...</td>\n",
       "    </tr>\n",
       "    <tr>\n",
       "      <th>3</th>\n",
       "      <td>false</td>\n",
       "      <td>D16-1036.pdf</td>\n",
       "      <td>word sense disambiguation; SemEval 2013; F1</td>\n",
       "      <td>Multi-view Response Selection for Human-Comput...</td>\n",
       "    </tr>\n",
       "    <tr>\n",
       "      <th>4</th>\n",
       "      <td>false</td>\n",
       "      <td>D16-1036.pdf</td>\n",
       "      <td>language modeling; 1B Words / Google Billion W...</td>\n",
       "      <td>Multi-view Response Selection for Human-Comput...</td>\n",
       "    </tr>\n",
       "  </tbody>\n",
       "</table>\n",
       "</div>"
      ],
      "text/plain": [
       "   label         title                                                TDM  \\\n",
       "0   true  D16-1036.pdf                                            unknown   \n",
       "1  false  D16-1036.pdf                      question answering; SQuAD; F1   \n",
       "2  false  D16-1036.pdf                relation prediction; FB15K-237; H@1   \n",
       "3  false  D16-1036.pdf        word sense disambiguation; SemEval 2013; F1   \n",
       "4  false  D16-1036.pdf  language modeling; 1B Words / Google Billion W...   \n",
       "\n",
       "                                             Context  \n",
       "0  Multi-view Response Selection for Human-Comput...  \n",
       "1  Multi-view Response Selection for Human-Comput...  \n",
       "2  Multi-view Response Selection for Human-Comput...  \n",
       "3  Multi-view Response Selection for Human-Comput...  \n",
       "4  Multi-view Response Selection for Human-Comput...  "
      ]
     },
     "execution_count": 28,
     "metadata": {},
     "output_type": "execute_result"
    }
   ],
   "source": [
    "train_IBM.head()"
   ]
  },
  {
   "cell_type": "code",
   "execution_count": 29,
   "metadata": {},
   "outputs": [
    {
     "data": {
      "text/html": [
       "<div>\n",
       "<style scoped>\n",
       "    .dataframe tbody tr th:only-of-type {\n",
       "        vertical-align: middle;\n",
       "    }\n",
       "\n",
       "    .dataframe tbody tr th {\n",
       "        vertical-align: top;\n",
       "    }\n",
       "\n",
       "    .dataframe thead th {\n",
       "        text-align: right;\n",
       "    }\n",
       "</style>\n",
       "<table border=\"1\" class=\"dataframe\">\n",
       "  <thead>\n",
       "    <tr style=\"text-align: right;\">\n",
       "      <th></th>\n",
       "      <th>label</th>\n",
       "      <th>title</th>\n",
       "      <th>TDM</th>\n",
       "      <th>Context</th>\n",
       "    </tr>\n",
       "  </thead>\n",
       "  <tbody>\n",
       "    <tr>\n",
       "      <th>13301</th>\n",
       "      <td>false</td>\n",
       "      <td>16165.pdf</td>\n",
       "      <td>dependency parsing; Penn Treebank; LAS</td>\n",
       "      <td>R 3 : Reinforced Ranker-Reader for Open-Domain...</td>\n",
       "    </tr>\n",
       "    <tr>\n",
       "      <th>13302</th>\n",
       "      <td>false</td>\n",
       "      <td>16165.pdf</td>\n",
       "      <td>language modeling; Hutter Prize; Number of params</td>\n",
       "      <td>R 3 : Reinforced Ranker-Reader for Open-Domain...</td>\n",
       "    </tr>\n",
       "    <tr>\n",
       "      <th>13303</th>\n",
       "      <td>false</td>\n",
       "      <td>16165.pdf</td>\n",
       "      <td>summarization; CNN / Daily Mail (Non-anonymize...</td>\n",
       "      <td>R 3 : Reinforced Ranker-Reader for Open-Domain...</td>\n",
       "    </tr>\n",
       "    <tr>\n",
       "      <th>13304</th>\n",
       "      <td>false</td>\n",
       "      <td>16165.pdf</td>\n",
       "      <td>word sense disambiguation; Senseval 3; F1</td>\n",
       "      <td>R 3 : Reinforced Ranker-Reader for Open-Domain...</td>\n",
       "    </tr>\n",
       "    <tr>\n",
       "      <th>13305</th>\n",
       "      <td>false</td>\n",
       "      <td>16165.pdf</td>\n",
       "      <td>text classification; TREC; Error</td>\n",
       "      <td>R 3 : Reinforced Ranker-Reader for Open-Domain...</td>\n",
       "    </tr>\n",
       "  </tbody>\n",
       "</table>\n",
       "</div>"
      ],
      "text/plain": [
       "       label      title                                                TDM  \\\n",
       "13301  false  16165.pdf             dependency parsing; Penn Treebank; LAS   \n",
       "13302  false  16165.pdf  language modeling; Hutter Prize; Number of params   \n",
       "13303  false  16165.pdf  summarization; CNN / Daily Mail (Non-anonymize...   \n",
       "13304  false  16165.pdf          word sense disambiguation; Senseval 3; F1   \n",
       "13305  false  16165.pdf                   text classification; TREC; Error   \n",
       "\n",
       "                                                 Context  \n",
       "13301  R 3 : Reinforced Ranker-Reader for Open-Domain...  \n",
       "13302  R 3 : Reinforced Ranker-Reader for Open-Domain...  \n",
       "13303  R 3 : Reinforced Ranker-Reader for Open-Domain...  \n",
       "13304  R 3 : Reinforced Ranker-Reader for Open-Domain...  \n",
       "13305  R 3 : Reinforced Ranker-Reader for Open-Domain...  "
      ]
     },
     "execution_count": 29,
     "metadata": {},
     "output_type": "execute_result"
    }
   ],
   "source": [
    "train_IBM.tail()"
   ]
  },
  {
   "cell_type": "code",
   "execution_count": 30,
   "metadata": {},
   "outputs": [
    {
     "data": {
      "text/html": [
       "<div>\n",
       "<style scoped>\n",
       "    .dataframe tbody tr th:only-of-type {\n",
       "        vertical-align: middle;\n",
       "    }\n",
       "\n",
       "    .dataframe tbody tr th {\n",
       "        vertical-align: top;\n",
       "    }\n",
       "\n",
       "    .dataframe thead th {\n",
       "        text-align: right;\n",
       "    }\n",
       "</style>\n",
       "<table border=\"1\" class=\"dataframe\">\n",
       "  <thead>\n",
       "    <tr style=\"text-align: right;\">\n",
       "      <th></th>\n",
       "      <th>label</th>\n",
       "      <th>title</th>\n",
       "      <th>TDM</th>\n",
       "      <th>Context</th>\n",
       "    </tr>\n",
       "  </thead>\n",
       "  <tbody>\n",
       "    <tr>\n",
       "      <th>13066</th>\n",
       "      <td>false</td>\n",
       "      <td>C18-1121.pdf</td>\n",
       "      <td>dependency parsing; Penn Treebank; LAS</td>\n",
       "      <td>Ensure the Correctness of the Summary: Incorpo...</td>\n",
       "    </tr>\n",
       "    <tr>\n",
       "      <th>13067</th>\n",
       "      <td>false</td>\n",
       "      <td>C18-1121.pdf</td>\n",
       "      <td>language modeling; Hutter Prize; Number of params</td>\n",
       "      <td>Ensure the Correctness of the Summary: Incorpo...</td>\n",
       "    </tr>\n",
       "    <tr>\n",
       "      <th>13068</th>\n",
       "      <td>false</td>\n",
       "      <td>C18-1121.pdf</td>\n",
       "      <td>summarization; CNN / Daily Mail (Non-anonymize...</td>\n",
       "      <td>Ensure the Correctness of the Summary: Incorpo...</td>\n",
       "    </tr>\n",
       "    <tr>\n",
       "      <th>13069</th>\n",
       "      <td>false</td>\n",
       "      <td>C18-1121.pdf</td>\n",
       "      <td>word sense disambiguation; Senseval 3; F1</td>\n",
       "      <td>Ensure the Correctness of the Summary: Incorpo...</td>\n",
       "    </tr>\n",
       "    <tr>\n",
       "      <th>13070</th>\n",
       "      <td>false</td>\n",
       "      <td>C18-1121.pdf</td>\n",
       "      <td>text classification; TREC; Error</td>\n",
       "      <td>Ensure the Correctness of the Summary: Incorpo...</td>\n",
       "    </tr>\n",
       "  </tbody>\n",
       "</table>\n",
       "</div>"
      ],
      "text/plain": [
       "       label         title                                                TDM  \\\n",
       "13066  false  C18-1121.pdf             dependency parsing; Penn Treebank; LAS   \n",
       "13067  false  C18-1121.pdf  language modeling; Hutter Prize; Number of params   \n",
       "13068  false  C18-1121.pdf  summarization; CNN / Daily Mail (Non-anonymize...   \n",
       "13069  false  C18-1121.pdf          word sense disambiguation; Senseval 3; F1   \n",
       "13070  false  C18-1121.pdf                   text classification; TREC; Error   \n",
       "\n",
       "                                                 Context  \n",
       "13066  Ensure the Correctness of the Summary: Incorpo...  \n",
       "13067  Ensure the Correctness of the Summary: Incorpo...  \n",
       "13068  Ensure the Correctness of the Summary: Incorpo...  \n",
       "13069  Ensure the Correctness of the Summary: Incorpo...  \n",
       "13070  Ensure the Correctness of the Summary: Incorpo...  "
      ]
     },
     "execution_count": 30,
     "metadata": {},
     "output_type": "execute_result"
    }
   ],
   "source": [
    "test_IBM.tail()"
   ]
  },
  {
   "cell_type": "code",
   "execution_count": 31,
   "metadata": {},
   "outputs": [],
   "source": [
    "train_IBM.to_csv(path_or_buf=IBM_train_csv, \n",
    "                 sep=\"\\t\", header=None, index=False)\n",
    "\n",
    "test_IBM.to_csv(path_or_buf=IBM_test_csv, \n",
    "                 sep=\"\\t\", header=None, index=False)"
   ]
  },
  {
   "cell_type": "code",
   "execution_count": 32,
   "metadata": {},
   "outputs": [],
   "source": [
    "train_v2_IBM = pd.read_csv(IBM_train_csv, \n",
    "                    sep=\"\\t\", names=[\"label\", \"title\", \"TDM\", \"Context\"])\n",
    "test_v2_IBM = pd.read_csv(IBM_test_csv, \n",
    "                    sep=\"\\t\", names=[\"label\", \"title\", \"TDM\", \"Context\"])"
   ]
  },
  {
   "cell_type": "code",
   "execution_count": 33,
   "metadata": {},
   "outputs": [
    {
     "data": {
      "text/html": [
       "<div>\n",
       "<style scoped>\n",
       "    .dataframe tbody tr th:only-of-type {\n",
       "        vertical-align: middle;\n",
       "    }\n",
       "\n",
       "    .dataframe tbody tr th {\n",
       "        vertical-align: top;\n",
       "    }\n",
       "\n",
       "    .dataframe thead th {\n",
       "        text-align: right;\n",
       "    }\n",
       "</style>\n",
       "<table border=\"1\" class=\"dataframe\">\n",
       "  <thead>\n",
       "    <tr style=\"text-align: right;\">\n",
       "      <th></th>\n",
       "      <th>label</th>\n",
       "      <th>title</th>\n",
       "      <th>TDM</th>\n",
       "      <th>Context</th>\n",
       "    </tr>\n",
       "  </thead>\n",
       "  <tbody>\n",
       "    <tr>\n",
       "      <th>0</th>\n",
       "      <td>True</td>\n",
       "      <td>D16-1036.pdf</td>\n",
       "      <td>unknown</td>\n",
       "      <td>Multi-view Response Selection for Human-Comput...</td>\n",
       "    </tr>\n",
       "    <tr>\n",
       "      <th>1</th>\n",
       "      <td>False</td>\n",
       "      <td>D16-1036.pdf</td>\n",
       "      <td>question answering; SQuAD; F1</td>\n",
       "      <td>Multi-view Response Selection for Human-Comput...</td>\n",
       "    </tr>\n",
       "    <tr>\n",
       "      <th>2</th>\n",
       "      <td>False</td>\n",
       "      <td>D16-1036.pdf</td>\n",
       "      <td>relation prediction; FB15K-237; H@1</td>\n",
       "      <td>Multi-view Response Selection for Human-Comput...</td>\n",
       "    </tr>\n",
       "    <tr>\n",
       "      <th>3</th>\n",
       "      <td>False</td>\n",
       "      <td>D16-1036.pdf</td>\n",
       "      <td>word sense disambiguation; SemEval 2013; F1</td>\n",
       "      <td>Multi-view Response Selection for Human-Comput...</td>\n",
       "    </tr>\n",
       "    <tr>\n",
       "      <th>4</th>\n",
       "      <td>False</td>\n",
       "      <td>D16-1036.pdf</td>\n",
       "      <td>language modeling; 1B Words / Google Billion W...</td>\n",
       "      <td>Multi-view Response Selection for Human-Comput...</td>\n",
       "    </tr>\n",
       "  </tbody>\n",
       "</table>\n",
       "</div>"
      ],
      "text/plain": [
       "   label         title                                                TDM  \\\n",
       "0   True  D16-1036.pdf                                            unknown   \n",
       "1  False  D16-1036.pdf                      question answering; SQuAD; F1   \n",
       "2  False  D16-1036.pdf                relation prediction; FB15K-237; H@1   \n",
       "3  False  D16-1036.pdf        word sense disambiguation; SemEval 2013; F1   \n",
       "4  False  D16-1036.pdf  language modeling; 1B Words / Google Billion W...   \n",
       "\n",
       "                                             Context  \n",
       "0  Multi-view Response Selection for Human-Comput...  \n",
       "1  Multi-view Response Selection for Human-Comput...  \n",
       "2  Multi-view Response Selection for Human-Comput...  \n",
       "3  Multi-view Response Selection for Human-Comput...  \n",
       "4  Multi-view Response Selection for Human-Comput...  "
      ]
     },
     "execution_count": 33,
     "metadata": {},
     "output_type": "execute_result"
    }
   ],
   "source": [
    "train_v2_IBM.head()"
   ]
  },
  {
   "cell_type": "code",
   "execution_count": 34,
   "metadata": {},
   "outputs": [
    {
     "data": {
      "text/html": [
       "<div>\n",
       "<style scoped>\n",
       "    .dataframe tbody tr th:only-of-type {\n",
       "        vertical-align: middle;\n",
       "    }\n",
       "\n",
       "    .dataframe tbody tr th {\n",
       "        vertical-align: top;\n",
       "    }\n",
       "\n",
       "    .dataframe thead th {\n",
       "        text-align: right;\n",
       "    }\n",
       "</style>\n",
       "<table border=\"1\" class=\"dataframe\">\n",
       "  <thead>\n",
       "    <tr style=\"text-align: right;\">\n",
       "      <th></th>\n",
       "      <th>label</th>\n",
       "      <th>title</th>\n",
       "      <th>TDM</th>\n",
       "      <th>Context</th>\n",
       "    </tr>\n",
       "  </thead>\n",
       "  <tbody>\n",
       "    <tr>\n",
       "      <th>13066</th>\n",
       "      <td>False</td>\n",
       "      <td>C18-1121.pdf</td>\n",
       "      <td>dependency parsing; Penn Treebank; LAS</td>\n",
       "      <td>Ensure the Correctness of the Summary: Incorpo...</td>\n",
       "    </tr>\n",
       "    <tr>\n",
       "      <th>13067</th>\n",
       "      <td>False</td>\n",
       "      <td>C18-1121.pdf</td>\n",
       "      <td>language modeling; Hutter Prize; Number of params</td>\n",
       "      <td>Ensure the Correctness of the Summary: Incorpo...</td>\n",
       "    </tr>\n",
       "    <tr>\n",
       "      <th>13068</th>\n",
       "      <td>False</td>\n",
       "      <td>C18-1121.pdf</td>\n",
       "      <td>summarization; CNN / Daily Mail (Non-anonymize...</td>\n",
       "      <td>Ensure the Correctness of the Summary: Incorpo...</td>\n",
       "    </tr>\n",
       "    <tr>\n",
       "      <th>13069</th>\n",
       "      <td>False</td>\n",
       "      <td>C18-1121.pdf</td>\n",
       "      <td>word sense disambiguation; Senseval 3; F1</td>\n",
       "      <td>Ensure the Correctness of the Summary: Incorpo...</td>\n",
       "    </tr>\n",
       "    <tr>\n",
       "      <th>13070</th>\n",
       "      <td>False</td>\n",
       "      <td>C18-1121.pdf</td>\n",
       "      <td>text classification; TREC; Error</td>\n",
       "      <td>Ensure the Correctness of the Summary: Incorpo...</td>\n",
       "    </tr>\n",
       "  </tbody>\n",
       "</table>\n",
       "</div>"
      ],
      "text/plain": [
       "       label         title                                                TDM  \\\n",
       "13066  False  C18-1121.pdf             dependency parsing; Penn Treebank; LAS   \n",
       "13067  False  C18-1121.pdf  language modeling; Hutter Prize; Number of params   \n",
       "13068  False  C18-1121.pdf  summarization; CNN / Daily Mail (Non-anonymize...   \n",
       "13069  False  C18-1121.pdf          word sense disambiguation; Senseval 3; F1   \n",
       "13070  False  C18-1121.pdf                   text classification; TREC; Error   \n",
       "\n",
       "                                                 Context  \n",
       "13066  Ensure the Correctness of the Summary: Incorpo...  \n",
       "13067  Ensure the Correctness of the Summary: Incorpo...  \n",
       "13068  Ensure the Correctness of the Summary: Incorpo...  \n",
       "13069  Ensure the Correctness of the Summary: Incorpo...  \n",
       "13070  Ensure the Correctness of the Summary: Incorpo...  "
      ]
     },
     "execution_count": 34,
     "metadata": {},
     "output_type": "execute_result"
    }
   ],
   "source": [
    "test_v2_IBM.tail()"
   ]
  },
  {
   "cell_type": "markdown",
   "metadata": {},
   "source": [
    "## ARC-PDN"
   ]
  },
  {
   "cell_type": "code",
   "execution_count": 28,
   "metadata": {},
   "outputs": [
    {
     "name": "stdout",
     "output_type": "stream",
     "text": [
      "test_pdn.tsv\n"
     ]
    }
   ],
   "source": [
    "!tar -xvzf ~/Research/task-dataset-metric-nli-extraction/data/ibm/exp/few-shot-setup/ARC-PDN/test_pdn.tsv.tar.gz -C ~/Research/task-dataset-metric-nli-extraction/data/ibm/exp/few-shot-setup/ARC-PDN/"
   ]
  },
  {
   "cell_type": "code",
   "execution_count": 35,
   "metadata": {},
   "outputs": [],
   "source": [
    "IBM_test_pdn_csv = \"~/Research/task-dataset-metric-nli-extraction/data/ibm/exp/few-shot-setup/ARC-PDN/test_pdn.tsv\"\n",
    "IBM_test_pdn_score_csv = \"~/Research/task-dataset-metric-nli-extraction/data/ibm/exp/few-shot-setup/ARC-PDN/test_pdn_score.tsv\"\n",
    "# ! cp $IBM_test_pdn_csv ~/Research/task-dataset-metric-nli-extraction/data/ibm/exp/few-shot-setup/ARC-PDN/test_pdn_.tsv\n",
    "# ! cp $IBM_test_pdn_score_csv ~/Research/task-dataset-metric-nli-extraction/data/ibm/exp/few-shot-setup/ARC-PDN/test_pdn_score_.tsv"
   ]
  },
  {
   "cell_type": "code",
   "execution_count": 36,
   "metadata": {},
   "outputs": [],
   "source": [
    "test_pdn_IBM = pd.read_csv(IBM_train_csv, \n",
    "                    sep=\"\\t\", names=[\"label\", \"title\", \"TDM\", \"Context\"])\n",
    "\n",
    "test_pdn_score_IBM = pd.read_csv(IBM_test_csv, \n",
    "                    sep=\"\\t\", names=[\"label\", \"title\", \"TDM\", \"Context\"])"
   ]
  },
  {
   "cell_type": "code",
   "execution_count": 37,
   "metadata": {},
   "outputs": [
    {
     "data": {
      "text/html": [
       "<div>\n",
       "<style scoped>\n",
       "    .dataframe tbody tr th:only-of-type {\n",
       "        vertical-align: middle;\n",
       "    }\n",
       "\n",
       "    .dataframe tbody tr th {\n",
       "        vertical-align: top;\n",
       "    }\n",
       "\n",
       "    .dataframe thead th {\n",
       "        text-align: right;\n",
       "    }\n",
       "</style>\n",
       "<table border=\"1\" class=\"dataframe\">\n",
       "  <thead>\n",
       "    <tr style=\"text-align: right;\">\n",
       "      <th></th>\n",
       "      <th>label</th>\n",
       "      <th>title</th>\n",
       "      <th>TDM</th>\n",
       "      <th>Context</th>\n",
       "    </tr>\n",
       "  </thead>\n",
       "  <tbody>\n",
       "    <tr>\n",
       "      <th>0</th>\n",
       "      <td>True</td>\n",
       "      <td>D16-1036.pdf</td>\n",
       "      <td>unknown</td>\n",
       "      <td>Multi-view Response Selection for Human-Comput...</td>\n",
       "    </tr>\n",
       "    <tr>\n",
       "      <th>1</th>\n",
       "      <td>False</td>\n",
       "      <td>D16-1036.pdf</td>\n",
       "      <td>question answering; SQuAD; F1</td>\n",
       "      <td>Multi-view Response Selection for Human-Comput...</td>\n",
       "    </tr>\n",
       "    <tr>\n",
       "      <th>2</th>\n",
       "      <td>False</td>\n",
       "      <td>D16-1036.pdf</td>\n",
       "      <td>relation prediction; FB15K-237; H@1</td>\n",
       "      <td>Multi-view Response Selection for Human-Comput...</td>\n",
       "    </tr>\n",
       "    <tr>\n",
       "      <th>3</th>\n",
       "      <td>False</td>\n",
       "      <td>D16-1036.pdf</td>\n",
       "      <td>word sense disambiguation; SemEval 2013; F1</td>\n",
       "      <td>Multi-view Response Selection for Human-Comput...</td>\n",
       "    </tr>\n",
       "    <tr>\n",
       "      <th>4</th>\n",
       "      <td>False</td>\n",
       "      <td>D16-1036.pdf</td>\n",
       "      <td>language modeling; 1B Words / Google Billion W...</td>\n",
       "      <td>Multi-view Response Selection for Human-Comput...</td>\n",
       "    </tr>\n",
       "  </tbody>\n",
       "</table>\n",
       "</div>"
      ],
      "text/plain": [
       "   label         title                                                TDM  \\\n",
       "0   True  D16-1036.pdf                                            unknown   \n",
       "1  False  D16-1036.pdf                      question answering; SQuAD; F1   \n",
       "2  False  D16-1036.pdf                relation prediction; FB15K-237; H@1   \n",
       "3  False  D16-1036.pdf        word sense disambiguation; SemEval 2013; F1   \n",
       "4  False  D16-1036.pdf  language modeling; 1B Words / Google Billion W...   \n",
       "\n",
       "                                             Context  \n",
       "0  Multi-view Response Selection for Human-Comput...  \n",
       "1  Multi-view Response Selection for Human-Comput...  \n",
       "2  Multi-view Response Selection for Human-Comput...  \n",
       "3  Multi-view Response Selection for Human-Comput...  \n",
       "4  Multi-view Response Selection for Human-Comput...  "
      ]
     },
     "execution_count": 37,
     "metadata": {},
     "output_type": "execute_result"
    }
   ],
   "source": [
    "test_pdn_IBM.head()"
   ]
  },
  {
   "cell_type": "code",
   "execution_count": 33,
   "metadata": {},
   "outputs": [
    {
     "data": {
      "text/html": [
       "<div>\n",
       "<style scoped>\n",
       "    .dataframe tbody tr th:only-of-type {\n",
       "        vertical-align: middle;\n",
       "    }\n",
       "\n",
       "    .dataframe tbody tr th {\n",
       "        vertical-align: top;\n",
       "    }\n",
       "\n",
       "    .dataframe thead th {\n",
       "        text-align: right;\n",
       "    }\n",
       "</style>\n",
       "<table border=\"1\" class=\"dataframe\">\n",
       "  <thead>\n",
       "    <tr style=\"text-align: right;\">\n",
       "      <th></th>\n",
       "      <th>label</th>\n",
       "      <th>title</th>\n",
       "      <th>TDM</th>\n",
       "      <th>Context</th>\n",
       "    </tr>\n",
       "  </thead>\n",
       "  <tbody>\n",
       "    <tr>\n",
       "      <th>0</th>\n",
       "      <td>True</td>\n",
       "      <td>1803.11175.pdf</td>\n",
       "      <td>sentiment analysis; SUBJ; Accuracy</td>\n",
       "      <td>Universal Sentence Encoder We present models f...</td>\n",
       "    </tr>\n",
       "    <tr>\n",
       "      <th>1</th>\n",
       "      <td>True</td>\n",
       "      <td>1803.11175.pdf</td>\n",
       "      <td>text classification; TREC; Error</td>\n",
       "      <td>Universal Sentence Encoder We present models f...</td>\n",
       "    </tr>\n",
       "    <tr>\n",
       "      <th>2</th>\n",
       "      <td>False</td>\n",
       "      <td>1803.11175.pdf</td>\n",
       "      <td>question answering; SQuAD; F1</td>\n",
       "      <td>Universal Sentence Encoder We present models f...</td>\n",
       "    </tr>\n",
       "    <tr>\n",
       "      <th>3</th>\n",
       "      <td>False</td>\n",
       "      <td>1803.11175.pdf</td>\n",
       "      <td>relation prediction; FB15K-237; H@1</td>\n",
       "      <td>Universal Sentence Encoder We present models f...</td>\n",
       "    </tr>\n",
       "    <tr>\n",
       "      <th>4</th>\n",
       "      <td>False</td>\n",
       "      <td>1803.11175.pdf</td>\n",
       "      <td>word sense disambiguation; SemEval 2013; F1</td>\n",
       "      <td>Universal Sentence Encoder We present models f...</td>\n",
       "    </tr>\n",
       "  </tbody>\n",
       "</table>\n",
       "</div>"
      ],
      "text/plain": [
       "   label           title                                          TDM  \\\n",
       "0   True  1803.11175.pdf           sentiment analysis; SUBJ; Accuracy   \n",
       "1   True  1803.11175.pdf             text classification; TREC; Error   \n",
       "2  False  1803.11175.pdf                question answering; SQuAD; F1   \n",
       "3  False  1803.11175.pdf          relation prediction; FB15K-237; H@1   \n",
       "4  False  1803.11175.pdf  word sense disambiguation; SemEval 2013; F1   \n",
       "\n",
       "                                             Context  \n",
       "0  Universal Sentence Encoder We present models f...  \n",
       "1  Universal Sentence Encoder We present models f...  \n",
       "2  Universal Sentence Encoder We present models f...  \n",
       "3  Universal Sentence Encoder We present models f...  \n",
       "4  Universal Sentence Encoder We present models f...  "
      ]
     },
     "execution_count": 33,
     "metadata": {},
     "output_type": "execute_result"
    }
   ],
   "source": [
    "test_pdn_score_IBM.head()"
   ]
  },
  {
   "cell_type": "code",
   "execution_count": 15,
   "metadata": {},
   "outputs": [],
   "source": [
    "train_IBM[\"TDM\"] = train_IBM.TDM.apply(lambda x : re.sub(r\"[,]+\", ';', x).strip())\n",
    "test_IBM[\"TDM\"] = test_IBM.TDM.apply(lambda x : re.sub(r\"[,]+\", ';', x).strip())\n",
    "\n",
    "train_IBM[\"label\"] = train_IBM.label.apply(lambda x : str(x).lower())\n",
    "test_IBM[\"label\"] = test_IBM.label.apply(lambda x : str(x).lower())"
   ]
  },
  {
   "cell_type": "code",
   "execution_count": 16,
   "metadata": {},
   "outputs": [
    {
     "data": {
      "text/html": [
       "<div>\n",
       "<style scoped>\n",
       "    .dataframe tbody tr th:only-of-type {\n",
       "        vertical-align: middle;\n",
       "    }\n",
       "\n",
       "    .dataframe tbody tr th {\n",
       "        vertical-align: top;\n",
       "    }\n",
       "\n",
       "    .dataframe thead th {\n",
       "        text-align: right;\n",
       "    }\n",
       "</style>\n",
       "<table border=\"1\" class=\"dataframe\">\n",
       "  <thead>\n",
       "    <tr style=\"text-align: right;\">\n",
       "      <th></th>\n",
       "      <th>label</th>\n",
       "      <th>title</th>\n",
       "      <th>TDM</th>\n",
       "      <th>Context</th>\n",
       "    </tr>\n",
       "  </thead>\n",
       "  <tbody>\n",
       "    <tr>\n",
       "      <th>0</th>\n",
       "      <td>true</td>\n",
       "      <td>D16-1036.pdf</td>\n",
       "      <td>unknow</td>\n",
       "      <td>Multi-view Response Selection for Human-Comput...</td>\n",
       "    </tr>\n",
       "    <tr>\n",
       "      <th>1</th>\n",
       "      <td>false</td>\n",
       "      <td>D16-1036.pdf</td>\n",
       "      <td>question answering; SQuAD; F1</td>\n",
       "      <td>Multi-view Response Selection for Human-Comput...</td>\n",
       "    </tr>\n",
       "    <tr>\n",
       "      <th>2</th>\n",
       "      <td>false</td>\n",
       "      <td>D16-1036.pdf</td>\n",
       "      <td>relation prediction; FB15K-237; H@1</td>\n",
       "      <td>Multi-view Response Selection for Human-Comput...</td>\n",
       "    </tr>\n",
       "    <tr>\n",
       "      <th>3</th>\n",
       "      <td>false</td>\n",
       "      <td>D16-1036.pdf</td>\n",
       "      <td>word sense disambiguation; SemEval 2013; F1</td>\n",
       "      <td>Multi-view Response Selection for Human-Comput...</td>\n",
       "    </tr>\n",
       "    <tr>\n",
       "      <th>4</th>\n",
       "      <td>false</td>\n",
       "      <td>D16-1036.pdf</td>\n",
       "      <td>language modeling; 1B Words / Google Billion W...</td>\n",
       "      <td>Multi-view Response Selection for Human-Comput...</td>\n",
       "    </tr>\n",
       "  </tbody>\n",
       "</table>\n",
       "</div>"
      ],
      "text/plain": [
       "   label         title                                                TDM  \\\n",
       "0   true  D16-1036.pdf                                             unknow   \n",
       "1  false  D16-1036.pdf                      question answering; SQuAD; F1   \n",
       "2  false  D16-1036.pdf                relation prediction; FB15K-237; H@1   \n",
       "3  false  D16-1036.pdf        word sense disambiguation; SemEval 2013; F1   \n",
       "4  false  D16-1036.pdf  language modeling; 1B Words / Google Billion W...   \n",
       "\n",
       "                                             Context  \n",
       "0  Multi-view Response Selection for Human-Comput...  \n",
       "1  Multi-view Response Selection for Human-Comput...  \n",
       "2  Multi-view Response Selection for Human-Comput...  \n",
       "3  Multi-view Response Selection for Human-Comput...  \n",
       "4  Multi-view Response Selection for Human-Comput...  "
      ]
     },
     "execution_count": 16,
     "metadata": {},
     "output_type": "execute_result"
    }
   ],
   "source": [
    "train_IBM.head()"
   ]
  },
  {
   "cell_type": "code",
   "execution_count": 17,
   "metadata": {},
   "outputs": [
    {
     "data": {
      "text/html": [
       "<div>\n",
       "<style scoped>\n",
       "    .dataframe tbody tr th:only-of-type {\n",
       "        vertical-align: middle;\n",
       "    }\n",
       "\n",
       "    .dataframe tbody tr th {\n",
       "        vertical-align: top;\n",
       "    }\n",
       "\n",
       "    .dataframe thead th {\n",
       "        text-align: right;\n",
       "    }\n",
       "</style>\n",
       "<table border=\"1\" class=\"dataframe\">\n",
       "  <thead>\n",
       "    <tr style=\"text-align: right;\">\n",
       "      <th></th>\n",
       "      <th>label</th>\n",
       "      <th>title</th>\n",
       "      <th>TDM</th>\n",
       "      <th>Context</th>\n",
       "    </tr>\n",
       "  </thead>\n",
       "  <tbody>\n",
       "    <tr>\n",
       "      <th>13255</th>\n",
       "      <td>false</td>\n",
       "      <td>16165.pdf</td>\n",
       "      <td>dependency parsing; Penn Treebank; LAS</td>\n",
       "      <td>R 3 : Reinforced Ranker-Reader for Open-Domain...</td>\n",
       "    </tr>\n",
       "    <tr>\n",
       "      <th>13256</th>\n",
       "      <td>false</td>\n",
       "      <td>16165.pdf</td>\n",
       "      <td>language modeling; Hutter Prize; Number of params</td>\n",
       "      <td>R 3 : Reinforced Ranker-Reader for Open-Domain...</td>\n",
       "    </tr>\n",
       "    <tr>\n",
       "      <th>13257</th>\n",
       "      <td>false</td>\n",
       "      <td>16165.pdf</td>\n",
       "      <td>summarization; CNN / Daily Mail (Non-anonymize...</td>\n",
       "      <td>R 3 : Reinforced Ranker-Reader for Open-Domain...</td>\n",
       "    </tr>\n",
       "    <tr>\n",
       "      <th>13258</th>\n",
       "      <td>false</td>\n",
       "      <td>16165.pdf</td>\n",
       "      <td>word sense disambiguation; Senseval 3; F1</td>\n",
       "      <td>R 3 : Reinforced Ranker-Reader for Open-Domain...</td>\n",
       "    </tr>\n",
       "    <tr>\n",
       "      <th>13259</th>\n",
       "      <td>false</td>\n",
       "      <td>16165.pdf</td>\n",
       "      <td>text classification; TREC; Error</td>\n",
       "      <td>R 3 : Reinforced Ranker-Reader for Open-Domain...</td>\n",
       "    </tr>\n",
       "  </tbody>\n",
       "</table>\n",
       "</div>"
      ],
      "text/plain": [
       "       label      title                                                TDM  \\\n",
       "13255  false  16165.pdf             dependency parsing; Penn Treebank; LAS   \n",
       "13256  false  16165.pdf  language modeling; Hutter Prize; Number of params   \n",
       "13257  false  16165.pdf  summarization; CNN / Daily Mail (Non-anonymize...   \n",
       "13258  false  16165.pdf          word sense disambiguation; Senseval 3; F1   \n",
       "13259  false  16165.pdf                   text classification; TREC; Error   \n",
       "\n",
       "                                                 Context  \n",
       "13255  R 3 : Reinforced Ranker-Reader for Open-Domain...  \n",
       "13256  R 3 : Reinforced Ranker-Reader for Open-Domain...  \n",
       "13257  R 3 : Reinforced Ranker-Reader for Open-Domain...  \n",
       "13258  R 3 : Reinforced Ranker-Reader for Open-Domain...  \n",
       "13259  R 3 : Reinforced Ranker-Reader for Open-Domain...  "
      ]
     },
     "execution_count": 17,
     "metadata": {},
     "output_type": "execute_result"
    }
   ],
   "source": [
    "train_IBM.tail()"
   ]
  },
  {
   "cell_type": "code",
   "execution_count": 18,
   "metadata": {},
   "outputs": [
    {
     "data": {
      "text/html": [
       "<div>\n",
       "<style scoped>\n",
       "    .dataframe tbody tr th:only-of-type {\n",
       "        vertical-align: middle;\n",
       "    }\n",
       "\n",
       "    .dataframe tbody tr th {\n",
       "        vertical-align: top;\n",
       "    }\n",
       "\n",
       "    .dataframe thead th {\n",
       "        text-align: right;\n",
       "    }\n",
       "</style>\n",
       "<table border=\"1\" class=\"dataframe\">\n",
       "  <thead>\n",
       "    <tr style=\"text-align: right;\">\n",
       "      <th></th>\n",
       "      <th>label</th>\n",
       "      <th>title</th>\n",
       "      <th>TDM</th>\n",
       "      <th>Context</th>\n",
       "    </tr>\n",
       "  </thead>\n",
       "  <tbody>\n",
       "    <tr>\n",
       "      <th>12631</th>\n",
       "      <td>false</td>\n",
       "      <td>C18-1121.pdf</td>\n",
       "      <td>dependency parsing; Penn Treebank; LAS</td>\n",
       "      <td>Ensure the Correctness of the Summary: Incorpo...</td>\n",
       "    </tr>\n",
       "    <tr>\n",
       "      <th>12632</th>\n",
       "      <td>false</td>\n",
       "      <td>C18-1121.pdf</td>\n",
       "      <td>language modeling; Hutter Prize; Number of params</td>\n",
       "      <td>Ensure the Correctness of the Summary: Incorpo...</td>\n",
       "    </tr>\n",
       "    <tr>\n",
       "      <th>12633</th>\n",
       "      <td>false</td>\n",
       "      <td>C18-1121.pdf</td>\n",
       "      <td>summarization; CNN / Daily Mail (Non-anonymize...</td>\n",
       "      <td>Ensure the Correctness of the Summary: Incorpo...</td>\n",
       "    </tr>\n",
       "    <tr>\n",
       "      <th>12634</th>\n",
       "      <td>false</td>\n",
       "      <td>C18-1121.pdf</td>\n",
       "      <td>word sense disambiguation; Senseval 3; F1</td>\n",
       "      <td>Ensure the Correctness of the Summary: Incorpo...</td>\n",
       "    </tr>\n",
       "    <tr>\n",
       "      <th>12635</th>\n",
       "      <td>false</td>\n",
       "      <td>C18-1121.pdf</td>\n",
       "      <td>text classification; TREC; Error</td>\n",
       "      <td>Ensure the Correctness of the Summary: Incorpo...</td>\n",
       "    </tr>\n",
       "  </tbody>\n",
       "</table>\n",
       "</div>"
      ],
      "text/plain": [
       "       label         title                                                TDM  \\\n",
       "12631  false  C18-1121.pdf             dependency parsing; Penn Treebank; LAS   \n",
       "12632  false  C18-1121.pdf  language modeling; Hutter Prize; Number of params   \n",
       "12633  false  C18-1121.pdf  summarization; CNN / Daily Mail (Non-anonymize...   \n",
       "12634  false  C18-1121.pdf          word sense disambiguation; Senseval 3; F1   \n",
       "12635  false  C18-1121.pdf                   text classification; TREC; Error   \n",
       "\n",
       "                                                 Context  \n",
       "12631  Ensure the Correctness of the Summary: Incorpo...  \n",
       "12632  Ensure the Correctness of the Summary: Incorpo...  \n",
       "12633  Ensure the Correctness of the Summary: Incorpo...  \n",
       "12634  Ensure the Correctness of the Summary: Incorpo...  \n",
       "12635  Ensure the Correctness of the Summary: Incorpo...  "
      ]
     },
     "execution_count": 18,
     "metadata": {},
     "output_type": "execute_result"
    }
   ],
   "source": [
    "test_IBM.tail()"
   ]
  },
  {
   "cell_type": "code",
   "execution_count": 19,
   "metadata": {},
   "outputs": [],
   "source": [
    "train_IBM.to_csv(path_or_buf=IBM_train_csv, \n",
    "                 sep=\"\\t\", header=None, index=False)\n",
    "\n",
    "test_IBM.to_csv(path_or_buf=IBM_test_csv, \n",
    "                 sep=\"\\t\", header=None, index=False)"
   ]
  },
  {
   "cell_type": "code",
   "execution_count": 20,
   "metadata": {},
   "outputs": [],
   "source": [
    "train_v2_IBM = pd.read_csv(IBM_train_csv, \n",
    "                    sep=\"\\t\", names=[\"label\", \"title\", \"TDM\", \"Context\"])\n",
    "test_v2_IBM = pd.read_csv(IBM_test_csv, \n",
    "                    sep=\"\\t\", names=[\"label\", \"title\", \"TDM\", \"Context\"])"
   ]
  },
  {
   "cell_type": "code",
   "execution_count": 21,
   "metadata": {},
   "outputs": [
    {
     "data": {
      "text/html": [
       "<div>\n",
       "<style scoped>\n",
       "    .dataframe tbody tr th:only-of-type {\n",
       "        vertical-align: middle;\n",
       "    }\n",
       "\n",
       "    .dataframe tbody tr th {\n",
       "        vertical-align: top;\n",
       "    }\n",
       "\n",
       "    .dataframe thead th {\n",
       "        text-align: right;\n",
       "    }\n",
       "</style>\n",
       "<table border=\"1\" class=\"dataframe\">\n",
       "  <thead>\n",
       "    <tr style=\"text-align: right;\">\n",
       "      <th></th>\n",
       "      <th>label</th>\n",
       "      <th>title</th>\n",
       "      <th>TDM</th>\n",
       "      <th>Context</th>\n",
       "    </tr>\n",
       "  </thead>\n",
       "  <tbody>\n",
       "    <tr>\n",
       "      <th>0</th>\n",
       "      <td>True</td>\n",
       "      <td>D16-1036.pdf</td>\n",
       "      <td>unknow</td>\n",
       "      <td>Multi-view Response Selection for Human-Comput...</td>\n",
       "    </tr>\n",
       "    <tr>\n",
       "      <th>1</th>\n",
       "      <td>False</td>\n",
       "      <td>D16-1036.pdf</td>\n",
       "      <td>question answering; SQuAD; F1</td>\n",
       "      <td>Multi-view Response Selection for Human-Comput...</td>\n",
       "    </tr>\n",
       "    <tr>\n",
       "      <th>2</th>\n",
       "      <td>False</td>\n",
       "      <td>D16-1036.pdf</td>\n",
       "      <td>relation prediction; FB15K-237; H@1</td>\n",
       "      <td>Multi-view Response Selection for Human-Comput...</td>\n",
       "    </tr>\n",
       "    <tr>\n",
       "      <th>3</th>\n",
       "      <td>False</td>\n",
       "      <td>D16-1036.pdf</td>\n",
       "      <td>word sense disambiguation; SemEval 2013; F1</td>\n",
       "      <td>Multi-view Response Selection for Human-Comput...</td>\n",
       "    </tr>\n",
       "    <tr>\n",
       "      <th>4</th>\n",
       "      <td>False</td>\n",
       "      <td>D16-1036.pdf</td>\n",
       "      <td>language modeling; 1B Words / Google Billion W...</td>\n",
       "      <td>Multi-view Response Selection for Human-Comput...</td>\n",
       "    </tr>\n",
       "  </tbody>\n",
       "</table>\n",
       "</div>"
      ],
      "text/plain": [
       "   label         title                                                TDM  \\\n",
       "0   True  D16-1036.pdf                                             unknow   \n",
       "1  False  D16-1036.pdf                      question answering; SQuAD; F1   \n",
       "2  False  D16-1036.pdf                relation prediction; FB15K-237; H@1   \n",
       "3  False  D16-1036.pdf        word sense disambiguation; SemEval 2013; F1   \n",
       "4  False  D16-1036.pdf  language modeling; 1B Words / Google Billion W...   \n",
       "\n",
       "                                             Context  \n",
       "0  Multi-view Response Selection for Human-Comput...  \n",
       "1  Multi-view Response Selection for Human-Comput...  \n",
       "2  Multi-view Response Selection for Human-Comput...  \n",
       "3  Multi-view Response Selection for Human-Comput...  \n",
       "4  Multi-view Response Selection for Human-Comput...  "
      ]
     },
     "execution_count": 21,
     "metadata": {},
     "output_type": "execute_result"
    }
   ],
   "source": [
    "train_v2_IBM.head()"
   ]
  },
  {
   "cell_type": "code",
   "execution_count": 22,
   "metadata": {},
   "outputs": [
    {
     "data": {
      "text/html": [
       "<div>\n",
       "<style scoped>\n",
       "    .dataframe tbody tr th:only-of-type {\n",
       "        vertical-align: middle;\n",
       "    }\n",
       "\n",
       "    .dataframe tbody tr th {\n",
       "        vertical-align: top;\n",
       "    }\n",
       "\n",
       "    .dataframe thead th {\n",
       "        text-align: right;\n",
       "    }\n",
       "</style>\n",
       "<table border=\"1\" class=\"dataframe\">\n",
       "  <thead>\n",
       "    <tr style=\"text-align: right;\">\n",
       "      <th></th>\n",
       "      <th>label</th>\n",
       "      <th>title</th>\n",
       "      <th>TDM</th>\n",
       "      <th>Context</th>\n",
       "    </tr>\n",
       "  </thead>\n",
       "  <tbody>\n",
       "    <tr>\n",
       "      <th>12631</th>\n",
       "      <td>False</td>\n",
       "      <td>C18-1121.pdf</td>\n",
       "      <td>dependency parsing; Penn Treebank; LAS</td>\n",
       "      <td>Ensure the Correctness of the Summary: Incorpo...</td>\n",
       "    </tr>\n",
       "    <tr>\n",
       "      <th>12632</th>\n",
       "      <td>False</td>\n",
       "      <td>C18-1121.pdf</td>\n",
       "      <td>language modeling; Hutter Prize; Number of params</td>\n",
       "      <td>Ensure the Correctness of the Summary: Incorpo...</td>\n",
       "    </tr>\n",
       "    <tr>\n",
       "      <th>12633</th>\n",
       "      <td>False</td>\n",
       "      <td>C18-1121.pdf</td>\n",
       "      <td>summarization; CNN / Daily Mail (Non-anonymize...</td>\n",
       "      <td>Ensure the Correctness of the Summary: Incorpo...</td>\n",
       "    </tr>\n",
       "    <tr>\n",
       "      <th>12634</th>\n",
       "      <td>False</td>\n",
       "      <td>C18-1121.pdf</td>\n",
       "      <td>word sense disambiguation; Senseval 3; F1</td>\n",
       "      <td>Ensure the Correctness of the Summary: Incorpo...</td>\n",
       "    </tr>\n",
       "    <tr>\n",
       "      <th>12635</th>\n",
       "      <td>False</td>\n",
       "      <td>C18-1121.pdf</td>\n",
       "      <td>text classification; TREC; Error</td>\n",
       "      <td>Ensure the Correctness of the Summary: Incorpo...</td>\n",
       "    </tr>\n",
       "  </tbody>\n",
       "</table>\n",
       "</div>"
      ],
      "text/plain": [
       "       label         title                                                TDM  \\\n",
       "12631  False  C18-1121.pdf             dependency parsing; Penn Treebank; LAS   \n",
       "12632  False  C18-1121.pdf  language modeling; Hutter Prize; Number of params   \n",
       "12633  False  C18-1121.pdf  summarization; CNN / Daily Mail (Non-anonymize...   \n",
       "12634  False  C18-1121.pdf          word sense disambiguation; Senseval 3; F1   \n",
       "12635  False  C18-1121.pdf                   text classification; TREC; Error   \n",
       "\n",
       "                                                 Context  \n",
       "12631  Ensure the Correctness of the Summary: Incorpo...  \n",
       "12632  Ensure the Correctness of the Summary: Incorpo...  \n",
       "12633  Ensure the Correctness of the Summary: Incorpo...  \n",
       "12634  Ensure the Correctness of the Summary: Incorpo...  \n",
       "12635  Ensure the Correctness of the Summary: Incorpo...  "
      ]
     },
     "execution_count": 22,
     "metadata": {},
     "output_type": "execute_result"
    }
   ],
   "source": [
    "test_v2_IBM.tail()"
   ]
  },
  {
   "cell_type": "markdown",
   "metadata": {},
   "source": [
    "## Zero-shot"
   ]
  },
  {
   "cell_type": "code",
   "execution_count": 34,
   "metadata": {},
   "outputs": [],
   "source": [
    "IBM_train_csv = \"~/Research/task-dataset-metric-nli-extraction/data/ibm/exp/zero-shot-setup/NLP-TDMS/train.tsv\"\n",
    "IBM_test_csv = \"~/Research/task-dataset-metric-nli-extraction/data/ibm/exp/zero-shot-setup/NLP-TDMS/test.tsv\"\n",
    "! cp $IBM_train_csv ~/Research/task-dataset-metric-nli-extraction/data/ibm/exp/zero-shot-setup/NLP-TDMS/train_.tsv\n",
    "! cp $IBM_test_csv ~/Research/task-dataset-metric-nli-extraction/data/ibm/exp/zero-shot-setup/NLP-TDMS/test_.tsv"
   ]
  },
  {
   "cell_type": "code",
   "execution_count": 35,
   "metadata": {},
   "outputs": [],
   "source": [
    "train_IBM = pd.read_csv(IBM_train_csv, \n",
    "                    sep=\"\\t\", names=[\"label\", \"title\", \"TDM\", \"Context\"])\n",
    "\n",
    "test_IBM = pd.read_csv(IBM_test_csv, \n",
    "                    sep=\"\\t\", names=[\"label\", \"title\", \"TDM\", \"Context\"])"
   ]
  },
  {
   "cell_type": "code",
   "execution_count": 36,
   "metadata": {},
   "outputs": [
    {
     "data": {
      "text/html": [
       "<div>\n",
       "<style scoped>\n",
       "    .dataframe tbody tr th:only-of-type {\n",
       "        vertical-align: middle;\n",
       "    }\n",
       "\n",
       "    .dataframe tbody tr th {\n",
       "        vertical-align: top;\n",
       "    }\n",
       "\n",
       "    .dataframe thead th {\n",
       "        text-align: right;\n",
       "    }\n",
       "</style>\n",
       "<table border=\"1\" class=\"dataframe\">\n",
       "  <thead>\n",
       "    <tr style=\"text-align: right;\">\n",
       "      <th></th>\n",
       "      <th>label</th>\n",
       "      <th>title</th>\n",
       "      <th>TDM</th>\n",
       "      <th>Context</th>\n",
       "    </tr>\n",
       "  </thead>\n",
       "  <tbody>\n",
       "    <tr>\n",
       "      <th>0</th>\n",
       "      <td>True</td>\n",
       "      <td>D16-1036.pdf</td>\n",
       "      <td>retrieval-based chatbot, Ubuntu Corpus, R 2@1</td>\n",
       "      <td>Multi-view Response Selection for Human-Comput...</td>\n",
       "    </tr>\n",
       "    <tr>\n",
       "      <th>1</th>\n",
       "      <td>True</td>\n",
       "      <td>D16-1036.pdf</td>\n",
       "      <td>retrieval-based chatbot, Ubuntu Corpus, R 10@1</td>\n",
       "      <td>Multi-view Response Selection for Human-Comput...</td>\n",
       "    </tr>\n",
       "    <tr>\n",
       "      <th>2</th>\n",
       "      <td>False</td>\n",
       "      <td>D16-1036.pdf</td>\n",
       "      <td>temporal information extraction, TempEval-3, T...</td>\n",
       "      <td>Multi-view Response Selection for Human-Comput...</td>\n",
       "    </tr>\n",
       "    <tr>\n",
       "      <th>3</th>\n",
       "      <td>False</td>\n",
       "      <td>D16-1036.pdf</td>\n",
       "      <td>question answering, SQuAD, F1</td>\n",
       "      <td>Multi-view Response Selection for Human-Comput...</td>\n",
       "    </tr>\n",
       "    <tr>\n",
       "      <th>4</th>\n",
       "      <td>False</td>\n",
       "      <td>D16-1036.pdf</td>\n",
       "      <td>relation prediction, FB15K-237, H@1</td>\n",
       "      <td>Multi-view Response Selection for Human-Comput...</td>\n",
       "    </tr>\n",
       "  </tbody>\n",
       "</table>\n",
       "</div>"
      ],
      "text/plain": [
       "   label         title                                                TDM  \\\n",
       "0   True  D16-1036.pdf      retrieval-based chatbot, Ubuntu Corpus, R 2@1   \n",
       "1   True  D16-1036.pdf     retrieval-based chatbot, Ubuntu Corpus, R 10@1   \n",
       "2  False  D16-1036.pdf  temporal information extraction, TempEval-3, T...   \n",
       "3  False  D16-1036.pdf                      question answering, SQuAD, F1   \n",
       "4  False  D16-1036.pdf                relation prediction, FB15K-237, H@1   \n",
       "\n",
       "                                             Context  \n",
       "0  Multi-view Response Selection for Human-Comput...  \n",
       "1  Multi-view Response Selection for Human-Comput...  \n",
       "2  Multi-view Response Selection for Human-Comput...  \n",
       "3  Multi-view Response Selection for Human-Comput...  \n",
       "4  Multi-view Response Selection for Human-Comput...  "
      ]
     },
     "execution_count": 36,
     "metadata": {},
     "output_type": "execute_result"
    }
   ],
   "source": [
    "train_IBM.head()"
   ]
  },
  {
   "cell_type": "code",
   "execution_count": 37,
   "metadata": {},
   "outputs": [
    {
     "data": {
      "text/html": [
       "<div>\n",
       "<style scoped>\n",
       "    .dataframe tbody tr th:only-of-type {\n",
       "        vertical-align: middle;\n",
       "    }\n",
       "\n",
       "    .dataframe tbody tr th {\n",
       "        vertical-align: top;\n",
       "    }\n",
       "\n",
       "    .dataframe thead th {\n",
       "        text-align: right;\n",
       "    }\n",
       "</style>\n",
       "<table border=\"1\" class=\"dataframe\">\n",
       "  <thead>\n",
       "    <tr style=\"text-align: right;\">\n",
       "      <th></th>\n",
       "      <th>label</th>\n",
       "      <th>title</th>\n",
       "      <th>TDM</th>\n",
       "      <th>Context</th>\n",
       "    </tr>\n",
       "  </thead>\n",
       "  <tbody>\n",
       "    <tr>\n",
       "      <th>0</th>\n",
       "      <td>True</td>\n",
       "      <td>1806.02847.pdf</td>\n",
       "      <td>common sense, Winograd Schema Challenge, Accuracy</td>\n",
       "      <td>A Simple Method for Commonsense Reasoning Comm...</td>\n",
       "    </tr>\n",
       "    <tr>\n",
       "      <th>1</th>\n",
       "      <td>False</td>\n",
       "      <td>1806.02847.pdf</td>\n",
       "      <td>temporal information extraction, TempEval-3, T...</td>\n",
       "      <td>A Simple Method for Commonsense Reasoning Comm...</td>\n",
       "    </tr>\n",
       "    <tr>\n",
       "      <th>2</th>\n",
       "      <td>False</td>\n",
       "      <td>1806.02847.pdf</td>\n",
       "      <td>relation prediction, FB15K-237, H@1</td>\n",
       "      <td>A Simple Method for Commonsense Reasoning Comm...</td>\n",
       "    </tr>\n",
       "    <tr>\n",
       "      <th>3</th>\n",
       "      <td>False</td>\n",
       "      <td>1806.02847.pdf</td>\n",
       "      <td>word sense disambiguation, SemEval 2013, F1</td>\n",
       "      <td>A Simple Method for Commonsense Reasoning Comm...</td>\n",
       "    </tr>\n",
       "    <tr>\n",
       "      <th>4</th>\n",
       "      <td>False</td>\n",
       "      <td>1806.02847.pdf</td>\n",
       "      <td>word segmentation, CityU, F1</td>\n",
       "      <td>A Simple Method for Commonsense Reasoning Comm...</td>\n",
       "    </tr>\n",
       "  </tbody>\n",
       "</table>\n",
       "</div>"
      ],
      "text/plain": [
       "   label           title                                                TDM  \\\n",
       "0   True  1806.02847.pdf  common sense, Winograd Schema Challenge, Accuracy   \n",
       "1  False  1806.02847.pdf  temporal information extraction, TempEval-3, T...   \n",
       "2  False  1806.02847.pdf                relation prediction, FB15K-237, H@1   \n",
       "3  False  1806.02847.pdf        word sense disambiguation, SemEval 2013, F1   \n",
       "4  False  1806.02847.pdf                       word segmentation, CityU, F1   \n",
       "\n",
       "                                             Context  \n",
       "0  A Simple Method for Commonsense Reasoning Comm...  \n",
       "1  A Simple Method for Commonsense Reasoning Comm...  \n",
       "2  A Simple Method for Commonsense Reasoning Comm...  \n",
       "3  A Simple Method for Commonsense Reasoning Comm...  \n",
       "4  A Simple Method for Commonsense Reasoning Comm...  "
      ]
     },
     "execution_count": 37,
     "metadata": {},
     "output_type": "execute_result"
    }
   ],
   "source": [
    "test_IBM.head()"
   ]
  },
  {
   "cell_type": "code",
   "execution_count": 38,
   "metadata": {},
   "outputs": [],
   "source": [
    "train_IBM[\"TDM\"] = train_IBM.TDM.apply(lambda x : re.sub(r\"[,]+\", ';', x).strip())\n",
    "test_IBM[\"TDM\"] = test_IBM.TDM.apply(lambda x : re.sub(r\"[,]+\", ';', x).strip())\n",
    "\n",
    "train_IBM[\"label\"] = train_IBM.label.apply(lambda x : str(x).lower())\n",
    "test_IBM[\"label\"] = test_IBM.label.apply(lambda x : str(x).lower())"
   ]
  },
  {
   "cell_type": "code",
   "execution_count": 39,
   "metadata": {},
   "outputs": [
    {
     "data": {
      "text/html": [
       "<div>\n",
       "<style scoped>\n",
       "    .dataframe tbody tr th:only-of-type {\n",
       "        vertical-align: middle;\n",
       "    }\n",
       "\n",
       "    .dataframe tbody tr th {\n",
       "        vertical-align: top;\n",
       "    }\n",
       "\n",
       "    .dataframe thead th {\n",
       "        text-align: right;\n",
       "    }\n",
       "</style>\n",
       "<table border=\"1\" class=\"dataframe\">\n",
       "  <thead>\n",
       "    <tr style=\"text-align: right;\">\n",
       "      <th></th>\n",
       "      <th>label</th>\n",
       "      <th>title</th>\n",
       "      <th>TDM</th>\n",
       "      <th>Context</th>\n",
       "    </tr>\n",
       "  </thead>\n",
       "  <tbody>\n",
       "    <tr>\n",
       "      <th>0</th>\n",
       "      <td>true</td>\n",
       "      <td>D16-1036.pdf</td>\n",
       "      <td>retrieval-based chatbot; Ubuntu Corpus; R 2@1</td>\n",
       "      <td>Multi-view Response Selection for Human-Comput...</td>\n",
       "    </tr>\n",
       "    <tr>\n",
       "      <th>1</th>\n",
       "      <td>true</td>\n",
       "      <td>D16-1036.pdf</td>\n",
       "      <td>retrieval-based chatbot; Ubuntu Corpus; R 10@1</td>\n",
       "      <td>Multi-view Response Selection for Human-Comput...</td>\n",
       "    </tr>\n",
       "    <tr>\n",
       "      <th>2</th>\n",
       "      <td>false</td>\n",
       "      <td>D16-1036.pdf</td>\n",
       "      <td>temporal information extraction; TempEval-3; T...</td>\n",
       "      <td>Multi-view Response Selection for Human-Comput...</td>\n",
       "    </tr>\n",
       "    <tr>\n",
       "      <th>3</th>\n",
       "      <td>false</td>\n",
       "      <td>D16-1036.pdf</td>\n",
       "      <td>question answering; SQuAD; F1</td>\n",
       "      <td>Multi-view Response Selection for Human-Comput...</td>\n",
       "    </tr>\n",
       "    <tr>\n",
       "      <th>4</th>\n",
       "      <td>false</td>\n",
       "      <td>D16-1036.pdf</td>\n",
       "      <td>relation prediction; FB15K-237; H@1</td>\n",
       "      <td>Multi-view Response Selection for Human-Comput...</td>\n",
       "    </tr>\n",
       "  </tbody>\n",
       "</table>\n",
       "</div>"
      ],
      "text/plain": [
       "   label         title                                                TDM  \\\n",
       "0   true  D16-1036.pdf      retrieval-based chatbot; Ubuntu Corpus; R 2@1   \n",
       "1   true  D16-1036.pdf     retrieval-based chatbot; Ubuntu Corpus; R 10@1   \n",
       "2  false  D16-1036.pdf  temporal information extraction; TempEval-3; T...   \n",
       "3  false  D16-1036.pdf                      question answering; SQuAD; F1   \n",
       "4  false  D16-1036.pdf                relation prediction; FB15K-237; H@1   \n",
       "\n",
       "                                             Context  \n",
       "0  Multi-view Response Selection for Human-Comput...  \n",
       "1  Multi-view Response Selection for Human-Comput...  \n",
       "2  Multi-view Response Selection for Human-Comput...  \n",
       "3  Multi-view Response Selection for Human-Comput...  \n",
       "4  Multi-view Response Selection for Human-Comput...  "
      ]
     },
     "execution_count": 39,
     "metadata": {},
     "output_type": "execute_result"
    }
   ],
   "source": [
    "train_IBM.head()"
   ]
  },
  {
   "cell_type": "code",
   "execution_count": 40,
   "metadata": {},
   "outputs": [
    {
     "data": {
      "text/html": [
       "<div>\n",
       "<style scoped>\n",
       "    .dataframe tbody tr th:only-of-type {\n",
       "        vertical-align: middle;\n",
       "    }\n",
       "\n",
       "    .dataframe tbody tr th {\n",
       "        vertical-align: top;\n",
       "    }\n",
       "\n",
       "    .dataframe thead th {\n",
       "        text-align: right;\n",
       "    }\n",
       "</style>\n",
       "<table border=\"1\" class=\"dataframe\">\n",
       "  <thead>\n",
       "    <tr style=\"text-align: right;\">\n",
       "      <th></th>\n",
       "      <th>label</th>\n",
       "      <th>title</th>\n",
       "      <th>TDM</th>\n",
       "      <th>Context</th>\n",
       "    </tr>\n",
       "  </thead>\n",
       "  <tbody>\n",
       "    <tr>\n",
       "      <th>20155</th>\n",
       "      <td>false</td>\n",
       "      <td>C18-1121.pdf</td>\n",
       "      <td>language modeling; Hutter Prize; Number of params</td>\n",
       "      <td>Ensure the Correctness of the Summary: Incorpo...</td>\n",
       "    </tr>\n",
       "    <tr>\n",
       "      <th>20156</th>\n",
       "      <td>false</td>\n",
       "      <td>C18-1121.pdf</td>\n",
       "      <td>dialogue state tracking; Second dialogue state...</td>\n",
       "      <td>Ensure the Correctness of the Summary: Incorpo...</td>\n",
       "    </tr>\n",
       "    <tr>\n",
       "      <th>20157</th>\n",
       "      <td>false</td>\n",
       "      <td>C18-1121.pdf</td>\n",
       "      <td>summarization; CNN / Daily Mail (Non-anonymize...</td>\n",
       "      <td>Ensure the Correctness of the Summary: Incorpo...</td>\n",
       "    </tr>\n",
       "    <tr>\n",
       "      <th>20158</th>\n",
       "      <td>false</td>\n",
       "      <td>C18-1121.pdf</td>\n",
       "      <td>named entity recognition; Long-tail emerging e...</td>\n",
       "      <td>Ensure the Correctness of the Summary: Incorpo...</td>\n",
       "    </tr>\n",
       "    <tr>\n",
       "      <th>20159</th>\n",
       "      <td>false</td>\n",
       "      <td>C18-1121.pdf</td>\n",
       "      <td>text classification; TREC; Error</td>\n",
       "      <td>Ensure the Correctness of the Summary: Incorpo...</td>\n",
       "    </tr>\n",
       "  </tbody>\n",
       "</table>\n",
       "</div>"
      ],
      "text/plain": [
       "       label         title                                                TDM  \\\n",
       "20155  false  C18-1121.pdf  language modeling; Hutter Prize; Number of params   \n",
       "20156  false  C18-1121.pdf  dialogue state tracking; Second dialogue state...   \n",
       "20157  false  C18-1121.pdf  summarization; CNN / Daily Mail (Non-anonymize...   \n",
       "20158  false  C18-1121.pdf  named entity recognition; Long-tail emerging e...   \n",
       "20159  false  C18-1121.pdf                   text classification; TREC; Error   \n",
       "\n",
       "                                                 Context  \n",
       "20155  Ensure the Correctness of the Summary: Incorpo...  \n",
       "20156  Ensure the Correctness of the Summary: Incorpo...  \n",
       "20157  Ensure the Correctness of the Summary: Incorpo...  \n",
       "20158  Ensure the Correctness of the Summary: Incorpo...  \n",
       "20159  Ensure the Correctness of the Summary: Incorpo...  "
      ]
     },
     "execution_count": 40,
     "metadata": {},
     "output_type": "execute_result"
    }
   ],
   "source": [
    "train_IBM.tail()"
   ]
  },
  {
   "cell_type": "code",
   "execution_count": 41,
   "metadata": {},
   "outputs": [
    {
     "data": {
      "text/html": [
       "<div>\n",
       "<style scoped>\n",
       "    .dataframe tbody tr th:only-of-type {\n",
       "        vertical-align: middle;\n",
       "    }\n",
       "\n",
       "    .dataframe tbody tr th {\n",
       "        vertical-align: top;\n",
       "    }\n",
       "\n",
       "    .dataframe thead th {\n",
       "        text-align: right;\n",
       "    }\n",
       "</style>\n",
       "<table border=\"1\" class=\"dataframe\">\n",
       "  <thead>\n",
       "    <tr style=\"text-align: right;\">\n",
       "      <th></th>\n",
       "      <th>label</th>\n",
       "      <th>title</th>\n",
       "      <th>TDM</th>\n",
       "      <th>Context</th>\n",
       "    </tr>\n",
       "  </thead>\n",
       "  <tbody>\n",
       "    <tr>\n",
       "      <th>17383</th>\n",
       "      <td>false</td>\n",
       "      <td>nle07.pdf</td>\n",
       "      <td>dependency parsing; Penn Treebank; LAS</td>\n",
       "      <td>MaltParser: A language-independent system for ...</td>\n",
       "    </tr>\n",
       "    <tr>\n",
       "      <th>17384</th>\n",
       "      <td>false</td>\n",
       "      <td>nle07.pdf</td>\n",
       "      <td>question answering; CNN / Daily Mail; Accuracy...</td>\n",
       "      <td>MaltParser: A language-independent system for ...</td>\n",
       "    </tr>\n",
       "    <tr>\n",
       "      <th>17385</th>\n",
       "      <td>false</td>\n",
       "      <td>nle07.pdf</td>\n",
       "      <td>summarization; Google Dataset; F1</td>\n",
       "      <td>MaltParser: A language-independent system for ...</td>\n",
       "    </tr>\n",
       "    <tr>\n",
       "      <th>17386</th>\n",
       "      <td>false</td>\n",
       "      <td>nle07.pdf</td>\n",
       "      <td>summarization; CNN / Daily Mail (Non-anonymize...</td>\n",
       "      <td>MaltParser: A language-independent system for ...</td>\n",
       "    </tr>\n",
       "    <tr>\n",
       "      <th>17387</th>\n",
       "      <td>false</td>\n",
       "      <td>nle07.pdf</td>\n",
       "      <td>named entity recognition; Long-tail emerging e...</td>\n",
       "      <td>MaltParser: A language-independent system for ...</td>\n",
       "    </tr>\n",
       "  </tbody>\n",
       "</table>\n",
       "</div>"
      ],
      "text/plain": [
       "       label      title                                                TDM  \\\n",
       "17383  false  nle07.pdf             dependency parsing; Penn Treebank; LAS   \n",
       "17384  false  nle07.pdf  question answering; CNN / Daily Mail; Accuracy...   \n",
       "17385  false  nle07.pdf                  summarization; Google Dataset; F1   \n",
       "17386  false  nle07.pdf  summarization; CNN / Daily Mail (Non-anonymize...   \n",
       "17387  false  nle07.pdf  named entity recognition; Long-tail emerging e...   \n",
       "\n",
       "                                                 Context  \n",
       "17383  MaltParser: A language-independent system for ...  \n",
       "17384  MaltParser: A language-independent system for ...  \n",
       "17385  MaltParser: A language-independent system for ...  \n",
       "17386  MaltParser: A language-independent system for ...  \n",
       "17387  MaltParser: A language-independent system for ...  "
      ]
     },
     "execution_count": 41,
     "metadata": {},
     "output_type": "execute_result"
    }
   ],
   "source": [
    "test_IBM.tail()"
   ]
  },
  {
   "cell_type": "code",
   "execution_count": 42,
   "metadata": {},
   "outputs": [],
   "source": [
    "train_IBM.to_csv(path_or_buf=IBM_train_csv, \n",
    "                 sep=\"\\t\", header=None, index=False)\n",
    "\n",
    "test_IBM.to_csv(path_or_buf=IBM_test_csv, \n",
    "                 sep=\"\\t\", header=None, index=False)"
   ]
  },
  {
   "cell_type": "code",
   "execution_count": 43,
   "metadata": {},
   "outputs": [],
   "source": [
    "train_v2_IBM = pd.read_csv(IBM_train_csv, \n",
    "                    sep=\"\\t\", names=[\"label\", \"title\", \"TDM\", \"Context\"])\n",
    "test_v2_IBM = pd.read_csv(IBM_test_csv, \n",
    "                    sep=\"\\t\", names=[\"label\", \"title\", \"TDM\", \"Context\"])"
   ]
  },
  {
   "cell_type": "code",
   "execution_count": 44,
   "metadata": {},
   "outputs": [
    {
     "data": {
      "text/html": [
       "<div>\n",
       "<style scoped>\n",
       "    .dataframe tbody tr th:only-of-type {\n",
       "        vertical-align: middle;\n",
       "    }\n",
       "\n",
       "    .dataframe tbody tr th {\n",
       "        vertical-align: top;\n",
       "    }\n",
       "\n",
       "    .dataframe thead th {\n",
       "        text-align: right;\n",
       "    }\n",
       "</style>\n",
       "<table border=\"1\" class=\"dataframe\">\n",
       "  <thead>\n",
       "    <tr style=\"text-align: right;\">\n",
       "      <th></th>\n",
       "      <th>label</th>\n",
       "      <th>title</th>\n",
       "      <th>TDM</th>\n",
       "      <th>Context</th>\n",
       "    </tr>\n",
       "  </thead>\n",
       "  <tbody>\n",
       "    <tr>\n",
       "      <th>0</th>\n",
       "      <td>True</td>\n",
       "      <td>D16-1036.pdf</td>\n",
       "      <td>retrieval-based chatbot; Ubuntu Corpus; R 2@1</td>\n",
       "      <td>Multi-view Response Selection for Human-Comput...</td>\n",
       "    </tr>\n",
       "    <tr>\n",
       "      <th>1</th>\n",
       "      <td>True</td>\n",
       "      <td>D16-1036.pdf</td>\n",
       "      <td>retrieval-based chatbot; Ubuntu Corpus; R 10@1</td>\n",
       "      <td>Multi-view Response Selection for Human-Comput...</td>\n",
       "    </tr>\n",
       "    <tr>\n",
       "      <th>2</th>\n",
       "      <td>False</td>\n",
       "      <td>D16-1036.pdf</td>\n",
       "      <td>temporal information extraction; TempEval-3; T...</td>\n",
       "      <td>Multi-view Response Selection for Human-Comput...</td>\n",
       "    </tr>\n",
       "    <tr>\n",
       "      <th>3</th>\n",
       "      <td>False</td>\n",
       "      <td>D16-1036.pdf</td>\n",
       "      <td>question answering; SQuAD; F1</td>\n",
       "      <td>Multi-view Response Selection for Human-Comput...</td>\n",
       "    </tr>\n",
       "    <tr>\n",
       "      <th>4</th>\n",
       "      <td>False</td>\n",
       "      <td>D16-1036.pdf</td>\n",
       "      <td>relation prediction; FB15K-237; H@1</td>\n",
       "      <td>Multi-view Response Selection for Human-Comput...</td>\n",
       "    </tr>\n",
       "  </tbody>\n",
       "</table>\n",
       "</div>"
      ],
      "text/plain": [
       "   label         title                                                TDM  \\\n",
       "0   True  D16-1036.pdf      retrieval-based chatbot; Ubuntu Corpus; R 2@1   \n",
       "1   True  D16-1036.pdf     retrieval-based chatbot; Ubuntu Corpus; R 10@1   \n",
       "2  False  D16-1036.pdf  temporal information extraction; TempEval-3; T...   \n",
       "3  False  D16-1036.pdf                      question answering; SQuAD; F1   \n",
       "4  False  D16-1036.pdf                relation prediction; FB15K-237; H@1   \n",
       "\n",
       "                                             Context  \n",
       "0  Multi-view Response Selection for Human-Comput...  \n",
       "1  Multi-view Response Selection for Human-Comput...  \n",
       "2  Multi-view Response Selection for Human-Comput...  \n",
       "3  Multi-view Response Selection for Human-Comput...  \n",
       "4  Multi-view Response Selection for Human-Comput...  "
      ]
     },
     "execution_count": 44,
     "metadata": {},
     "output_type": "execute_result"
    }
   ],
   "source": [
    "train_v2_IBM.head()"
   ]
  },
  {
   "cell_type": "code",
   "execution_count": 45,
   "metadata": {},
   "outputs": [
    {
     "data": {
      "text/html": [
       "<div>\n",
       "<style scoped>\n",
       "    .dataframe tbody tr th:only-of-type {\n",
       "        vertical-align: middle;\n",
       "    }\n",
       "\n",
       "    .dataframe tbody tr th {\n",
       "        vertical-align: top;\n",
       "    }\n",
       "\n",
       "    .dataframe thead th {\n",
       "        text-align: right;\n",
       "    }\n",
       "</style>\n",
       "<table border=\"1\" class=\"dataframe\">\n",
       "  <thead>\n",
       "    <tr style=\"text-align: right;\">\n",
       "      <th></th>\n",
       "      <th>label</th>\n",
       "      <th>title</th>\n",
       "      <th>TDM</th>\n",
       "      <th>Context</th>\n",
       "    </tr>\n",
       "  </thead>\n",
       "  <tbody>\n",
       "    <tr>\n",
       "      <th>17383</th>\n",
       "      <td>False</td>\n",
       "      <td>nle07.pdf</td>\n",
       "      <td>dependency parsing; Penn Treebank; LAS</td>\n",
       "      <td>MaltParser: A language-independent system for ...</td>\n",
       "    </tr>\n",
       "    <tr>\n",
       "      <th>17384</th>\n",
       "      <td>False</td>\n",
       "      <td>nle07.pdf</td>\n",
       "      <td>question answering; CNN / Daily Mail; Accuracy...</td>\n",
       "      <td>MaltParser: A language-independent system for ...</td>\n",
       "    </tr>\n",
       "    <tr>\n",
       "      <th>17385</th>\n",
       "      <td>False</td>\n",
       "      <td>nle07.pdf</td>\n",
       "      <td>summarization; Google Dataset; F1</td>\n",
       "      <td>MaltParser: A language-independent system for ...</td>\n",
       "    </tr>\n",
       "    <tr>\n",
       "      <th>17386</th>\n",
       "      <td>False</td>\n",
       "      <td>nle07.pdf</td>\n",
       "      <td>summarization; CNN / Daily Mail (Non-anonymize...</td>\n",
       "      <td>MaltParser: A language-independent system for ...</td>\n",
       "    </tr>\n",
       "    <tr>\n",
       "      <th>17387</th>\n",
       "      <td>False</td>\n",
       "      <td>nle07.pdf</td>\n",
       "      <td>named entity recognition; Long-tail emerging e...</td>\n",
       "      <td>MaltParser: A language-independent system for ...</td>\n",
       "    </tr>\n",
       "  </tbody>\n",
       "</table>\n",
       "</div>"
      ],
      "text/plain": [
       "       label      title                                                TDM  \\\n",
       "17383  False  nle07.pdf             dependency parsing; Penn Treebank; LAS   \n",
       "17384  False  nle07.pdf  question answering; CNN / Daily Mail; Accuracy...   \n",
       "17385  False  nle07.pdf                  summarization; Google Dataset; F1   \n",
       "17386  False  nle07.pdf  summarization; CNN / Daily Mail (Non-anonymize...   \n",
       "17387  False  nle07.pdf  named entity recognition; Long-tail emerging e...   \n",
       "\n",
       "                                                 Context  \n",
       "17383  MaltParser: A language-independent system for ...  \n",
       "17384  MaltParser: A language-independent system for ...  \n",
       "17385  MaltParser: A language-independent system for ...  \n",
       "17386  MaltParser: A language-independent system for ...  \n",
       "17387  MaltParser: A language-independent system for ...  "
      ]
     },
     "execution_count": 45,
     "metadata": {},
     "output_type": "execute_result"
    }
   ],
   "source": [
    "test_v2_IBM.tail()"
   ]
  },
  {
   "cell_type": "code",
   "execution_count": 22,
   "metadata": {},
   "outputs": [],
   "source": [
    "IBM_train_csv = \"~/Research/task-dataset-metric-nli-extraction/data/pwc_ibm_150_10_10_1000\"\n",
    "IBM_test_csv = \"~/Research/task-dataset-metric-nli-extraction/data/ibm/exp/few-shot-setup/NLP-TDMS/paperVersion/test.tsv\"\n",
    "# ! cp $IBM_train_csv ~/Research/task-dataset-metric-nli-extraction/data/ibm/exp/few-shot-setup/NLP-TDMS/paperVersion/train_.tsv\n",
    "# ! cp $IBM_test_csv ~/Research/task-dataset-metric-nli-extraction/data/ibm/exp/few-shot-setup/NLP-TDMS/paperVersion/test_.tsv"
   ]
  },
  {
   "cell_type": "code",
   "execution_count": 23,
   "metadata": {},
   "outputs": [],
   "source": [
    "train_IBM = pd.read_csv(IBM_train_csv, \n",
    "                    sep=\"\\t\", names=[\"label\", \"title\", \"TDM\", \"Context\"])\n",
    "\n",
    "test_IBM = pd.read_csv(IBM_test_csv, \n",
    "                    sep=\"\\t\", names=[\"label\", \"title\", \"TDM\", \"Context\"])"
   ]
  },
  {
   "cell_type": "code",
   "execution_count": 24,
   "metadata": {},
   "outputs": [
    {
     "data": {
      "text/html": [
       "<div>\n",
       "<style scoped>\n",
       "    .dataframe tbody tr th:only-of-type {\n",
       "        vertical-align: middle;\n",
       "    }\n",
       "\n",
       "    .dataframe tbody tr th {\n",
       "        vertical-align: top;\n",
       "    }\n",
       "\n",
       "    .dataframe thead th {\n",
       "        text-align: right;\n",
       "    }\n",
       "</style>\n",
       "<table border=\"1\" class=\"dataframe\">\n",
       "  <thead>\n",
       "    <tr style=\"text-align: right;\">\n",
       "      <th></th>\n",
       "      <th>label</th>\n",
       "      <th>title</th>\n",
       "      <th>TDM</th>\n",
       "      <th>Context</th>\n",
       "    </tr>\n",
       "  </thead>\n",
       "  <tbody>\n",
       "    <tr>\n",
       "      <th>0</th>\n",
       "      <td>True</td>\n",
       "      <td>D16-1036.pdf</td>\n",
       "      <td>unknow</td>\n",
       "      <td>Multi-view Response Selection for Human-Comput...</td>\n",
       "    </tr>\n",
       "    <tr>\n",
       "      <th>1</th>\n",
       "      <td>False</td>\n",
       "      <td>D16-1036.pdf</td>\n",
       "      <td>question answering; SQuAD; F1</td>\n",
       "      <td>Multi-view Response Selection for Human-Comput...</td>\n",
       "    </tr>\n",
       "    <tr>\n",
       "      <th>2</th>\n",
       "      <td>False</td>\n",
       "      <td>D16-1036.pdf</td>\n",
       "      <td>relation prediction; FB15K-237; H@1</td>\n",
       "      <td>Multi-view Response Selection for Human-Comput...</td>\n",
       "    </tr>\n",
       "    <tr>\n",
       "      <th>3</th>\n",
       "      <td>False</td>\n",
       "      <td>D16-1036.pdf</td>\n",
       "      <td>word sense disambiguation; SemEval 2013; F1</td>\n",
       "      <td>Multi-view Response Selection for Human-Comput...</td>\n",
       "    </tr>\n",
       "    <tr>\n",
       "      <th>4</th>\n",
       "      <td>False</td>\n",
       "      <td>D16-1036.pdf</td>\n",
       "      <td>language modeling; 1B Words / Google Billion W...</td>\n",
       "      <td>Multi-view Response Selection for Human-Comput...</td>\n",
       "    </tr>\n",
       "  </tbody>\n",
       "</table>\n",
       "</div>"
      ],
      "text/plain": [
       "   label         title                                                TDM  \\\n",
       "0   True  D16-1036.pdf                                             unknow   \n",
       "1  False  D16-1036.pdf                      question answering; SQuAD; F1   \n",
       "2  False  D16-1036.pdf                relation prediction; FB15K-237; H@1   \n",
       "3  False  D16-1036.pdf        word sense disambiguation; SemEval 2013; F1   \n",
       "4  False  D16-1036.pdf  language modeling; 1B Words / Google Billion W...   \n",
       "\n",
       "                                             Context  \n",
       "0  Multi-view Response Selection for Human-Comput...  \n",
       "1  Multi-view Response Selection for Human-Comput...  \n",
       "2  Multi-view Response Selection for Human-Comput...  \n",
       "3  Multi-view Response Selection for Human-Comput...  \n",
       "4  Multi-view Response Selection for Human-Comput...  "
      ]
     },
     "execution_count": 24,
     "metadata": {},
     "output_type": "execute_result"
    }
   ],
   "source": [
    "train_IBM.head()"
   ]
  },
  {
   "cell_type": "code",
   "execution_count": 26,
   "metadata": {},
   "outputs": [
    {
     "data": {
      "text/html": [
       "<div>\n",
       "<style scoped>\n",
       "    .dataframe tbody tr th:only-of-type {\n",
       "        vertical-align: middle;\n",
       "    }\n",
       "\n",
       "    .dataframe tbody tr th {\n",
       "        vertical-align: top;\n",
       "    }\n",
       "\n",
       "    .dataframe thead th {\n",
       "        text-align: right;\n",
       "    }\n",
       "</style>\n",
       "<table border=\"1\" class=\"dataframe\">\n",
       "  <thead>\n",
       "    <tr style=\"text-align: right;\">\n",
       "      <th></th>\n",
       "      <th>label</th>\n",
       "      <th>title</th>\n",
       "      <th>TDM</th>\n",
       "      <th>Context</th>\n",
       "    </tr>\n",
       "  </thead>\n",
       "  <tbody>\n",
       "    <tr>\n",
       "      <th>0</th>\n",
       "      <td>True</td>\n",
       "      <td>1803.11175.pdf</td>\n",
       "      <td>sentiment analysis; SUBJ; Accuracy</td>\n",
       "      <td>Universal Sentence Encoder We present models f...</td>\n",
       "    </tr>\n",
       "    <tr>\n",
       "      <th>1</th>\n",
       "      <td>True</td>\n",
       "      <td>1803.11175.pdf</td>\n",
       "      <td>text classification; TREC; Error</td>\n",
       "      <td>Universal Sentence Encoder We present models f...</td>\n",
       "    </tr>\n",
       "    <tr>\n",
       "      <th>2</th>\n",
       "      <td>False</td>\n",
       "      <td>1803.11175.pdf</td>\n",
       "      <td>question answering; SQuAD; F1</td>\n",
       "      <td>Universal Sentence Encoder We present models f...</td>\n",
       "    </tr>\n",
       "    <tr>\n",
       "      <th>3</th>\n",
       "      <td>False</td>\n",
       "      <td>1803.11175.pdf</td>\n",
       "      <td>relation prediction; FB15K-237; H@1</td>\n",
       "      <td>Universal Sentence Encoder We present models f...</td>\n",
       "    </tr>\n",
       "    <tr>\n",
       "      <th>4</th>\n",
       "      <td>False</td>\n",
       "      <td>1803.11175.pdf</td>\n",
       "      <td>word sense disambiguation; SemEval 2013; F1</td>\n",
       "      <td>Universal Sentence Encoder We present models f...</td>\n",
       "    </tr>\n",
       "  </tbody>\n",
       "</table>\n",
       "</div>"
      ],
      "text/plain": [
       "   label           title                                          TDM  \\\n",
       "0   True  1803.11175.pdf           sentiment analysis; SUBJ; Accuracy   \n",
       "1   True  1803.11175.pdf             text classification; TREC; Error   \n",
       "2  False  1803.11175.pdf                question answering; SQuAD; F1   \n",
       "3  False  1803.11175.pdf          relation prediction; FB15K-237; H@1   \n",
       "4  False  1803.11175.pdf  word sense disambiguation; SemEval 2013; F1   \n",
       "\n",
       "                                             Context  \n",
       "0  Universal Sentence Encoder We present models f...  \n",
       "1  Universal Sentence Encoder We present models f...  \n",
       "2  Universal Sentence Encoder We present models f...  \n",
       "3  Universal Sentence Encoder We present models f...  \n",
       "4  Universal Sentence Encoder We present models f...  "
      ]
     },
     "execution_count": 26,
     "metadata": {},
     "output_type": "execute_result"
    }
   ],
   "source": [
    "test_IBM.head()"
   ]
  },
  {
   "cell_type": "code",
   "execution_count": 27,
   "metadata": {},
   "outputs": [],
   "source": [
    "train_IBM[\"TDM\"] = train_IBM.TDM.apply(lambda x : re.sub(r\"[,]+\", ';', x).strip())\n",
    "test_IBM[\"TDM\"] = test_IBM.TDM.apply(lambda x : re.sub(r\"[,]+\", ';', x).strip())\n",
    "\n",
    "train_IBM[\"TDM\"] = train_IBM.TDM.apply(lambda x : \"unknown\" if x == \"unknow\" else x)\n",
    "test_IBM[\"TDM\"] = test_IBM.TDM.apply(lambda x : \"unknown\" if x == \"unknow\" else x)\n",
    "\n",
    "train_IBM[\"label\"] = train_IBM.label.apply(lambda x : str(x).lower())\n",
    "test_IBM[\"label\"] = test_IBM.label.apply(lambda x : str(x).lower())"
   ]
  },
  {
   "cell_type": "code",
   "execution_count": 28,
   "metadata": {},
   "outputs": [
    {
     "data": {
      "text/html": [
       "<div>\n",
       "<style scoped>\n",
       "    .dataframe tbody tr th:only-of-type {\n",
       "        vertical-align: middle;\n",
       "    }\n",
       "\n",
       "    .dataframe tbody tr th {\n",
       "        vertical-align: top;\n",
       "    }\n",
       "\n",
       "    .dataframe thead th {\n",
       "        text-align: right;\n",
       "    }\n",
       "</style>\n",
       "<table border=\"1\" class=\"dataframe\">\n",
       "  <thead>\n",
       "    <tr style=\"text-align: right;\">\n",
       "      <th></th>\n",
       "      <th>label</th>\n",
       "      <th>title</th>\n",
       "      <th>TDM</th>\n",
       "      <th>Context</th>\n",
       "    </tr>\n",
       "  </thead>\n",
       "  <tbody>\n",
       "    <tr>\n",
       "      <th>0</th>\n",
       "      <td>true</td>\n",
       "      <td>D16-1036.pdf</td>\n",
       "      <td>unknown</td>\n",
       "      <td>Multi-view Response Selection for Human-Comput...</td>\n",
       "    </tr>\n",
       "    <tr>\n",
       "      <th>1</th>\n",
       "      <td>false</td>\n",
       "      <td>D16-1036.pdf</td>\n",
       "      <td>question answering; SQuAD; F1</td>\n",
       "      <td>Multi-view Response Selection for Human-Comput...</td>\n",
       "    </tr>\n",
       "    <tr>\n",
       "      <th>2</th>\n",
       "      <td>false</td>\n",
       "      <td>D16-1036.pdf</td>\n",
       "      <td>relation prediction; FB15K-237; H@1</td>\n",
       "      <td>Multi-view Response Selection for Human-Comput...</td>\n",
       "    </tr>\n",
       "    <tr>\n",
       "      <th>3</th>\n",
       "      <td>false</td>\n",
       "      <td>D16-1036.pdf</td>\n",
       "      <td>word sense disambiguation; SemEval 2013; F1</td>\n",
       "      <td>Multi-view Response Selection for Human-Comput...</td>\n",
       "    </tr>\n",
       "    <tr>\n",
       "      <th>4</th>\n",
       "      <td>false</td>\n",
       "      <td>D16-1036.pdf</td>\n",
       "      <td>language modeling; 1B Words / Google Billion W...</td>\n",
       "      <td>Multi-view Response Selection for Human-Comput...</td>\n",
       "    </tr>\n",
       "  </tbody>\n",
       "</table>\n",
       "</div>"
      ],
      "text/plain": [
       "   label         title                                                TDM  \\\n",
       "0   true  D16-1036.pdf                                            unknown   \n",
       "1  false  D16-1036.pdf                      question answering; SQuAD; F1   \n",
       "2  false  D16-1036.pdf                relation prediction; FB15K-237; H@1   \n",
       "3  false  D16-1036.pdf        word sense disambiguation; SemEval 2013; F1   \n",
       "4  false  D16-1036.pdf  language modeling; 1B Words / Google Billion W...   \n",
       "\n",
       "                                             Context  \n",
       "0  Multi-view Response Selection for Human-Comput...  \n",
       "1  Multi-view Response Selection for Human-Comput...  \n",
       "2  Multi-view Response Selection for Human-Comput...  \n",
       "3  Multi-view Response Selection for Human-Comput...  \n",
       "4  Multi-view Response Selection for Human-Comput...  "
      ]
     },
     "execution_count": 28,
     "metadata": {},
     "output_type": "execute_result"
    }
   ],
   "source": [
    "train_IBM.head()"
   ]
  },
  {
   "cell_type": "code",
   "execution_count": 29,
   "metadata": {},
   "outputs": [
    {
     "data": {
      "text/html": [
       "<div>\n",
       "<style scoped>\n",
       "    .dataframe tbody tr th:only-of-type {\n",
       "        vertical-align: middle;\n",
       "    }\n",
       "\n",
       "    .dataframe tbody tr th {\n",
       "        vertical-align: top;\n",
       "    }\n",
       "\n",
       "    .dataframe thead th {\n",
       "        text-align: right;\n",
       "    }\n",
       "</style>\n",
       "<table border=\"1\" class=\"dataframe\">\n",
       "  <thead>\n",
       "    <tr style=\"text-align: right;\">\n",
       "      <th></th>\n",
       "      <th>label</th>\n",
       "      <th>title</th>\n",
       "      <th>TDM</th>\n",
       "      <th>Context</th>\n",
       "    </tr>\n",
       "  </thead>\n",
       "  <tbody>\n",
       "    <tr>\n",
       "      <th>13301</th>\n",
       "      <td>false</td>\n",
       "      <td>16165.pdf</td>\n",
       "      <td>dependency parsing; Penn Treebank; LAS</td>\n",
       "      <td>R 3 : Reinforced Ranker-Reader for Open-Domain...</td>\n",
       "    </tr>\n",
       "    <tr>\n",
       "      <th>13302</th>\n",
       "      <td>false</td>\n",
       "      <td>16165.pdf</td>\n",
       "      <td>language modeling; Hutter Prize; Number of params</td>\n",
       "      <td>R 3 : Reinforced Ranker-Reader for Open-Domain...</td>\n",
       "    </tr>\n",
       "    <tr>\n",
       "      <th>13303</th>\n",
       "      <td>false</td>\n",
       "      <td>16165.pdf</td>\n",
       "      <td>summarization; CNN / Daily Mail (Non-anonymize...</td>\n",
       "      <td>R 3 : Reinforced Ranker-Reader for Open-Domain...</td>\n",
       "    </tr>\n",
       "    <tr>\n",
       "      <th>13304</th>\n",
       "      <td>false</td>\n",
       "      <td>16165.pdf</td>\n",
       "      <td>word sense disambiguation; Senseval 3; F1</td>\n",
       "      <td>R 3 : Reinforced Ranker-Reader for Open-Domain...</td>\n",
       "    </tr>\n",
       "    <tr>\n",
       "      <th>13305</th>\n",
       "      <td>false</td>\n",
       "      <td>16165.pdf</td>\n",
       "      <td>text classification; TREC; Error</td>\n",
       "      <td>R 3 : Reinforced Ranker-Reader for Open-Domain...</td>\n",
       "    </tr>\n",
       "  </tbody>\n",
       "</table>\n",
       "</div>"
      ],
      "text/plain": [
       "       label      title                                                TDM  \\\n",
       "13301  false  16165.pdf             dependency parsing; Penn Treebank; LAS   \n",
       "13302  false  16165.pdf  language modeling; Hutter Prize; Number of params   \n",
       "13303  false  16165.pdf  summarization; CNN / Daily Mail (Non-anonymize...   \n",
       "13304  false  16165.pdf          word sense disambiguation; Senseval 3; F1   \n",
       "13305  false  16165.pdf                   text classification; TREC; Error   \n",
       "\n",
       "                                                 Context  \n",
       "13301  R 3 : Reinforced Ranker-Reader for Open-Domain...  \n",
       "13302  R 3 : Reinforced Ranker-Reader for Open-Domain...  \n",
       "13303  R 3 : Reinforced Ranker-Reader for Open-Domain...  \n",
       "13304  R 3 : Reinforced Ranker-Reader for Open-Domain...  \n",
       "13305  R 3 : Reinforced Ranker-Reader for Open-Domain...  "
      ]
     },
     "execution_count": 29,
     "metadata": {},
     "output_type": "execute_result"
    }
   ],
   "source": [
    "train_IBM.tail()"
   ]
  },
  {
   "cell_type": "code",
   "execution_count": 30,
   "metadata": {},
   "outputs": [
    {
     "data": {
      "text/html": [
       "<div>\n",
       "<style scoped>\n",
       "    .dataframe tbody tr th:only-of-type {\n",
       "        vertical-align: middle;\n",
       "    }\n",
       "\n",
       "    .dataframe tbody tr th {\n",
       "        vertical-align: top;\n",
       "    }\n",
       "\n",
       "    .dataframe thead th {\n",
       "        text-align: right;\n",
       "    }\n",
       "</style>\n",
       "<table border=\"1\" class=\"dataframe\">\n",
       "  <thead>\n",
       "    <tr style=\"text-align: right;\">\n",
       "      <th></th>\n",
       "      <th>label</th>\n",
       "      <th>title</th>\n",
       "      <th>TDM</th>\n",
       "      <th>Context</th>\n",
       "    </tr>\n",
       "  </thead>\n",
       "  <tbody>\n",
       "    <tr>\n",
       "      <th>13066</th>\n",
       "      <td>false</td>\n",
       "      <td>C18-1121.pdf</td>\n",
       "      <td>dependency parsing; Penn Treebank; LAS</td>\n",
       "      <td>Ensure the Correctness of the Summary: Incorpo...</td>\n",
       "    </tr>\n",
       "    <tr>\n",
       "      <th>13067</th>\n",
       "      <td>false</td>\n",
       "      <td>C18-1121.pdf</td>\n",
       "      <td>language modeling; Hutter Prize; Number of params</td>\n",
       "      <td>Ensure the Correctness of the Summary: Incorpo...</td>\n",
       "    </tr>\n",
       "    <tr>\n",
       "      <th>13068</th>\n",
       "      <td>false</td>\n",
       "      <td>C18-1121.pdf</td>\n",
       "      <td>summarization; CNN / Daily Mail (Non-anonymize...</td>\n",
       "      <td>Ensure the Correctness of the Summary: Incorpo...</td>\n",
       "    </tr>\n",
       "    <tr>\n",
       "      <th>13069</th>\n",
       "      <td>false</td>\n",
       "      <td>C18-1121.pdf</td>\n",
       "      <td>word sense disambiguation; Senseval 3; F1</td>\n",
       "      <td>Ensure the Correctness of the Summary: Incorpo...</td>\n",
       "    </tr>\n",
       "    <tr>\n",
       "      <th>13070</th>\n",
       "      <td>false</td>\n",
       "      <td>C18-1121.pdf</td>\n",
       "      <td>text classification; TREC; Error</td>\n",
       "      <td>Ensure the Correctness of the Summary: Incorpo...</td>\n",
       "    </tr>\n",
       "  </tbody>\n",
       "</table>\n",
       "</div>"
      ],
      "text/plain": [
       "       label         title                                                TDM  \\\n",
       "13066  false  C18-1121.pdf             dependency parsing; Penn Treebank; LAS   \n",
       "13067  false  C18-1121.pdf  language modeling; Hutter Prize; Number of params   \n",
       "13068  false  C18-1121.pdf  summarization; CNN / Daily Mail (Non-anonymize...   \n",
       "13069  false  C18-1121.pdf          word sense disambiguation; Senseval 3; F1   \n",
       "13070  false  C18-1121.pdf                   text classification; TREC; Error   \n",
       "\n",
       "                                                 Context  \n",
       "13066  Ensure the Correctness of the Summary: Incorpo...  \n",
       "13067  Ensure the Correctness of the Summary: Incorpo...  \n",
       "13068  Ensure the Correctness of the Summary: Incorpo...  \n",
       "13069  Ensure the Correctness of the Summary: Incorpo...  \n",
       "13070  Ensure the Correctness of the Summary: Incorpo...  "
      ]
     },
     "execution_count": 30,
     "metadata": {},
     "output_type": "execute_result"
    }
   ],
   "source": [
    "test_IBM.tail()"
   ]
  },
  {
   "cell_type": "code",
   "execution_count": 31,
   "metadata": {},
   "outputs": [],
   "source": [
    "train_IBM.to_csv(path_or_buf=IBM_train_csv, \n",
    "                 sep=\"\\t\", header=None, index=False)\n",
    "\n",
    "test_IBM.to_csv(path_or_buf=IBM_test_csv, \n",
    "                 sep=\"\\t\", header=None, index=False)"
   ]
  },
  {
   "cell_type": "code",
   "execution_count": 32,
   "metadata": {},
   "outputs": [],
   "source": [
    "train_v2_IBM = pd.read_csv(IBM_train_csv, \n",
    "                    sep=\"\\t\", names=[\"label\", \"title\", \"TDM\", \"Context\"])\n",
    "test_v2_IBM = pd.read_csv(IBM_test_csv, \n",
    "                    sep=\"\\t\", names=[\"label\", \"title\", \"TDM\", \"Context\"])"
   ]
  },
  {
   "cell_type": "code",
   "execution_count": 33,
   "metadata": {},
   "outputs": [
    {
     "data": {
      "text/html": [
       "<div>\n",
       "<style scoped>\n",
       "    .dataframe tbody tr th:only-of-type {\n",
       "        vertical-align: middle;\n",
       "    }\n",
       "\n",
       "    .dataframe tbody tr th {\n",
       "        vertical-align: top;\n",
       "    }\n",
       "\n",
       "    .dataframe thead th {\n",
       "        text-align: right;\n",
       "    }\n",
       "</style>\n",
       "<table border=\"1\" class=\"dataframe\">\n",
       "  <thead>\n",
       "    <tr style=\"text-align: right;\">\n",
       "      <th></th>\n",
       "      <th>label</th>\n",
       "      <th>title</th>\n",
       "      <th>TDM</th>\n",
       "      <th>Context</th>\n",
       "    </tr>\n",
       "  </thead>\n",
       "  <tbody>\n",
       "    <tr>\n",
       "      <th>0</th>\n",
       "      <td>True</td>\n",
       "      <td>D16-1036.pdf</td>\n",
       "      <td>unknown</td>\n",
       "      <td>Multi-view Response Selection for Human-Comput...</td>\n",
       "    </tr>\n",
       "    <tr>\n",
       "      <th>1</th>\n",
       "      <td>False</td>\n",
       "      <td>D16-1036.pdf</td>\n",
       "      <td>question answering; SQuAD; F1</td>\n",
       "      <td>Multi-view Response Selection for Human-Comput...</td>\n",
       "    </tr>\n",
       "    <tr>\n",
       "      <th>2</th>\n",
       "      <td>False</td>\n",
       "      <td>D16-1036.pdf</td>\n",
       "      <td>relation prediction; FB15K-237; H@1</td>\n",
       "      <td>Multi-view Response Selection for Human-Comput...</td>\n",
       "    </tr>\n",
       "    <tr>\n",
       "      <th>3</th>\n",
       "      <td>False</td>\n",
       "      <td>D16-1036.pdf</td>\n",
       "      <td>word sense disambiguation; SemEval 2013; F1</td>\n",
       "      <td>Multi-view Response Selection for Human-Comput...</td>\n",
       "    </tr>\n",
       "    <tr>\n",
       "      <th>4</th>\n",
       "      <td>False</td>\n",
       "      <td>D16-1036.pdf</td>\n",
       "      <td>language modeling; 1B Words / Google Billion W...</td>\n",
       "      <td>Multi-view Response Selection for Human-Comput...</td>\n",
       "    </tr>\n",
       "  </tbody>\n",
       "</table>\n",
       "</div>"
      ],
      "text/plain": [
       "   label         title                                                TDM  \\\n",
       "0   True  D16-1036.pdf                                            unknown   \n",
       "1  False  D16-1036.pdf                      question answering; SQuAD; F1   \n",
       "2  False  D16-1036.pdf                relation prediction; FB15K-237; H@1   \n",
       "3  False  D16-1036.pdf        word sense disambiguation; SemEval 2013; F1   \n",
       "4  False  D16-1036.pdf  language modeling; 1B Words / Google Billion W...   \n",
       "\n",
       "                                             Context  \n",
       "0  Multi-view Response Selection for Human-Comput...  \n",
       "1  Multi-view Response Selection for Human-Comput...  \n",
       "2  Multi-view Response Selection for Human-Comput...  \n",
       "3  Multi-view Response Selection for Human-Comput...  \n",
       "4  Multi-view Response Selection for Human-Comput...  "
      ]
     },
     "execution_count": 33,
     "metadata": {},
     "output_type": "execute_result"
    }
   ],
   "source": [
    "train_v2_IBM.head()"
   ]
  },
  {
   "cell_type": "code",
   "execution_count": 34,
   "metadata": {},
   "outputs": [
    {
     "data": {
      "text/html": [
       "<div>\n",
       "<style scoped>\n",
       "    .dataframe tbody tr th:only-of-type {\n",
       "        vertical-align: middle;\n",
       "    }\n",
       "\n",
       "    .dataframe tbody tr th {\n",
       "        vertical-align: top;\n",
       "    }\n",
       "\n",
       "    .dataframe thead th {\n",
       "        text-align: right;\n",
       "    }\n",
       "</style>\n",
       "<table border=\"1\" class=\"dataframe\">\n",
       "  <thead>\n",
       "    <tr style=\"text-align: right;\">\n",
       "      <th></th>\n",
       "      <th>label</th>\n",
       "      <th>title</th>\n",
       "      <th>TDM</th>\n",
       "      <th>Context</th>\n",
       "    </tr>\n",
       "  </thead>\n",
       "  <tbody>\n",
       "    <tr>\n",
       "      <th>13066</th>\n",
       "      <td>False</td>\n",
       "      <td>C18-1121.pdf</td>\n",
       "      <td>dependency parsing; Penn Treebank; LAS</td>\n",
       "      <td>Ensure the Correctness of the Summary: Incorpo...</td>\n",
       "    </tr>\n",
       "    <tr>\n",
       "      <th>13067</th>\n",
       "      <td>False</td>\n",
       "      <td>C18-1121.pdf</td>\n",
       "      <td>language modeling; Hutter Prize; Number of params</td>\n",
       "      <td>Ensure the Correctness of the Summary: Incorpo...</td>\n",
       "    </tr>\n",
       "    <tr>\n",
       "      <th>13068</th>\n",
       "      <td>False</td>\n",
       "      <td>C18-1121.pdf</td>\n",
       "      <td>summarization; CNN / Daily Mail (Non-anonymize...</td>\n",
       "      <td>Ensure the Correctness of the Summary: Incorpo...</td>\n",
       "    </tr>\n",
       "    <tr>\n",
       "      <th>13069</th>\n",
       "      <td>False</td>\n",
       "      <td>C18-1121.pdf</td>\n",
       "      <td>word sense disambiguation; Senseval 3; F1</td>\n",
       "      <td>Ensure the Correctness of the Summary: Incorpo...</td>\n",
       "    </tr>\n",
       "    <tr>\n",
       "      <th>13070</th>\n",
       "      <td>False</td>\n",
       "      <td>C18-1121.pdf</td>\n",
       "      <td>text classification; TREC; Error</td>\n",
       "      <td>Ensure the Correctness of the Summary: Incorpo...</td>\n",
       "    </tr>\n",
       "  </tbody>\n",
       "</table>\n",
       "</div>"
      ],
      "text/plain": [
       "       label         title                                                TDM  \\\n",
       "13066  False  C18-1121.pdf             dependency parsing; Penn Treebank; LAS   \n",
       "13067  False  C18-1121.pdf  language modeling; Hutter Prize; Number of params   \n",
       "13068  False  C18-1121.pdf  summarization; CNN / Daily Mail (Non-anonymize...   \n",
       "13069  False  C18-1121.pdf          word sense disambiguation; Senseval 3; F1   \n",
       "13070  False  C18-1121.pdf                   text classification; TREC; Error   \n",
       "\n",
       "                                                 Context  \n",
       "13066  Ensure the Correctness of the Summary: Incorpo...  \n",
       "13067  Ensure the Correctness of the Summary: Incorpo...  \n",
       "13068  Ensure the Correctness of the Summary: Incorpo...  \n",
       "13069  Ensure the Correctness of the Summary: Incorpo...  \n",
       "13070  Ensure the Correctness of the Summary: Incorpo...  "
      ]
     },
     "execution_count": 34,
     "metadata": {},
     "output_type": "execute_result"
    }
   ],
   "source": [
    "test_v2_IBM.tail()"
   ]
  },
  {
   "cell_type": "code",
   "execution_count": null,
   "metadata": {},
   "outputs": [],
   "source": []
  },
  {
   "cell_type": "code",
   "execution_count": null,
   "metadata": {},
   "outputs": [],
   "source": []
  },
  {
   "cell_type": "markdown",
   "metadata": {},
   "source": [
    "## DatasetAnnotation"
   ]
  },
  {
   "cell_type": "code",
   "execution_count": 72,
   "metadata": {},
   "outputs": [],
   "source": [
    "datasetAnnotation_csv = \"/nfs/home/kabenamualus/Research/task-dataset-metric-extraction/data/paperwithcode/annotations/datasetAnnotation.tsv\"\n",
    "resultsAnnotation_csv = \"/nfs/home/kabenamualus/Research/task-dataset-metric-extraction/data/paperwithcode/annotations/resultsAnnotation.tsv\"\n",
    "taskAnnotation_csv = \"/nfs/home/kabenamualus/Research/task-dataset-metric-extraction/data/paperwithcode/annotations/taskAnnotation.tsv\"\n",
    "\n",
    "datasetAnnotation_IBM_csv = \"/nfs/home/kabenamualus/Research/task-dataset-metric-extraction/data/ibm/NLP-TDMS/annotations/datasetAnnotation.tsv\"\n",
    "resultsAnnotation_IBM_csv = \"/nfs/home/kabenamualus/Research/task-dataset-metric-extraction/data/ibm/NLP-TDMS/annotations/resultsAnnotation.tsv\"\n",
    "taskAnnotation_IBM_csv = \"/nfs/home/kabenamualus/Research/task-dataset-metric-extraction/data/ibm/NLP-TDMS/annotations/taskAnnotation.tsv\""
   ]
  },
  {
   "cell_type": "code",
   "execution_count": 73,
   "metadata": {},
   "outputs": [],
   "source": [
    "datasetAnnotation = pd.read_csv(datasetAnnotation_csv, \n",
    "                    sep=\"\\t\", names=[\"label\", \"datasets\"])\n",
    "resultsAnnotation = pd.read_csv(resultsAnnotation_csv, \n",
    "                    sep=\"\\t\", names=[\"label\", \"TDMS\"])\n",
    "taskAnnotation = pd.read_csv(taskAnnotation_csv, \n",
    "                    sep=\"\\t\", names=[\"label\", \"tasks\"])\n",
    "\n",
    "datasetAnnotation_IBM = pd.read_csv(datasetAnnotation_IBM_csv, \n",
    "                    sep=\"\\t\", names=[\"label\", \"datasets\"])\n",
    "resultsAnnotation_IBM = pd.read_csv(resultsAnnotation_IBM_csv, \n",
    "                    sep=\"\\t\", names=[\"label\", \"TDMS\"])\n",
    "taskAnnotation_IBM = pd.read_csv(taskAnnotation_IBM_csv, \n",
    "                    sep=\"\\t\", names=[\"label\", \"tasks\"])"
   ]
  },
  {
   "cell_type": "code",
   "execution_count": 74,
   "metadata": {},
   "outputs": [
    {
     "data": {
      "text/html": [
       "<div>\n",
       "<style scoped>\n",
       "    .dataframe tbody tr th:only-of-type {\n",
       "        vertical-align: middle;\n",
       "    }\n",
       "\n",
       "    .dataframe tbody tr th {\n",
       "        vertical-align: top;\n",
       "    }\n",
       "\n",
       "    .dataframe thead th {\n",
       "        text-align: right;\n",
       "    }\n",
       "</style>\n",
       "<table border=\"1\" class=\"dataframe\">\n",
       "  <thead>\n",
       "    <tr style=\"text-align: right;\">\n",
       "      <th></th>\n",
       "      <th>label</th>\n",
       "      <th>datasets</th>\n",
       "    </tr>\n",
       "  </thead>\n",
       "  <tbody>\n",
       "    <tr>\n",
       "      <th>0</th>\n",
       "      <td>1705.05952.pdf</td>\n",
       "      <td>UD</td>\n",
       "    </tr>\n",
       "    <tr>\n",
       "      <th>1</th>\n",
       "      <td>D18-1205.pdf</td>\n",
       "      <td>CNN / Daily Mail (Non-anonymized version)</td>\n",
       "    </tr>\n",
       "    <tr>\n",
       "      <th>2</th>\n",
       "      <td>C18-1121.pdf</td>\n",
       "      <td>Gigaword#DUC 2004 Task 1</td>\n",
       "    </tr>\n",
       "    <tr>\n",
       "      <th>3</th>\n",
       "      <td>P18-1063.pdf</td>\n",
       "      <td>CNN / Daily Mail (Anonymized version)</td>\n",
       "    </tr>\n",
       "    <tr>\n",
       "      <th>4</th>\n",
       "      <td>5635-grammar-as-a-foreign-language.pdf</td>\n",
       "      <td>Penn Treebank</td>\n",
       "    </tr>\n",
       "  </tbody>\n",
       "</table>\n",
       "</div>"
      ],
      "text/plain": [
       "                                    label  \\\n",
       "0                          1705.05952.pdf   \n",
       "1                            D18-1205.pdf   \n",
       "2                            C18-1121.pdf   \n",
       "3                            P18-1063.pdf   \n",
       "4  5635-grammar-as-a-foreign-language.pdf   \n",
       "\n",
       "                                    datasets  \n",
       "0                                         UD  \n",
       "1  CNN / Daily Mail (Non-anonymized version)  \n",
       "2                   Gigaword#DUC 2004 Task 1  \n",
       "3      CNN / Daily Mail (Anonymized version)  \n",
       "4                              Penn Treebank  "
      ]
     },
     "execution_count": 74,
     "metadata": {},
     "output_type": "execute_result"
    }
   ],
   "source": [
    "datasetAnnotation_IBM.head()"
   ]
  },
  {
   "cell_type": "code",
   "execution_count": 75,
   "metadata": {},
   "outputs": [
    {
     "data": {
      "text/html": [
       "<div>\n",
       "<style scoped>\n",
       "    .dataframe tbody tr th:only-of-type {\n",
       "        vertical-align: middle;\n",
       "    }\n",
       "\n",
       "    .dataframe tbody tr th {\n",
       "        vertical-align: top;\n",
       "    }\n",
       "\n",
       "    .dataframe thead th {\n",
       "        text-align: right;\n",
       "    }\n",
       "</style>\n",
       "<table border=\"1\" class=\"dataframe\">\n",
       "  <thead>\n",
       "    <tr style=\"text-align: right;\">\n",
       "      <th></th>\n",
       "      <th>label</th>\n",
       "      <th>datasets</th>\n",
       "    </tr>\n",
       "  </thead>\n",
       "  <tbody>\n",
       "    <tr>\n",
       "      <th>0</th>\n",
       "      <td>1704.03549v4.pdf</td>\n",
       "      <td>FSNS - Test</td>\n",
       "    </tr>\n",
       "    <tr>\n",
       "      <th>1</th>\n",
       "      <td>1712.05404.pdf</td>\n",
       "      <td>FSNS - Test</td>\n",
       "    </tr>\n",
       "    <tr>\n",
       "      <th>2</th>\n",
       "      <td>1702.03970v1.pdf</td>\n",
       "      <td>FSNS - Test</td>\n",
       "    </tr>\n",
       "    <tr>\n",
       "      <th>3</th>\n",
       "      <td>2104.02324v1.pdf</td>\n",
       "      <td>COCO#PASCAL VOC 07+12#PASCAL VOC 07+12#COCO#PA...</td>\n",
       "    </tr>\n",
       "    <tr>\n",
       "      <th>4</th>\n",
       "      <td>2008.12995v3.pdf</td>\n",
       "      <td>BanglaLekha Isolated Dataset#BanglaLekha Isola...</td>\n",
       "    </tr>\n",
       "  </tbody>\n",
       "</table>\n",
       "</div>"
      ],
      "text/plain": [
       "              label                                           datasets\n",
       "0  1704.03549v4.pdf                                        FSNS - Test\n",
       "1    1712.05404.pdf                                        FSNS - Test\n",
       "2  1702.03970v1.pdf                                        FSNS - Test\n",
       "3  2104.02324v1.pdf  COCO#PASCAL VOC 07+12#PASCAL VOC 07+12#COCO#PA...\n",
       "4  2008.12995v3.pdf  BanglaLekha Isolated Dataset#BanglaLekha Isola..."
      ]
     },
     "execution_count": 75,
     "metadata": {},
     "output_type": "execute_result"
    }
   ],
   "source": [
    "datasetAnnotation.head()"
   ]
  },
  {
   "cell_type": "code",
   "execution_count": 76,
   "metadata": {},
   "outputs": [
    {
     "data": {
      "text/html": [
       "<div>\n",
       "<style scoped>\n",
       "    .dataframe tbody tr th:only-of-type {\n",
       "        vertical-align: middle;\n",
       "    }\n",
       "\n",
       "    .dataframe tbody tr th {\n",
       "        vertical-align: top;\n",
       "    }\n",
       "\n",
       "    .dataframe thead th {\n",
       "        text-align: right;\n",
       "    }\n",
       "</style>\n",
       "<table border=\"1\" class=\"dataframe\">\n",
       "  <thead>\n",
       "    <tr style=\"text-align: right;\">\n",
       "      <th></th>\n",
       "      <th>label</th>\n",
       "      <th>TDMS</th>\n",
       "    </tr>\n",
       "  </thead>\n",
       "  <tbody>\n",
       "    <tr>\n",
       "      <th>5726</th>\n",
       "      <td>2104.01378v1.pdf</td>\n",
       "      <td>Phone-level pronunciation scoring#speechocean7...</td>\n",
       "    </tr>\n",
       "    <tr>\n",
       "      <th>5727</th>\n",
       "      <td>2104.10283v1.pdf</td>\n",
       "      <td>Graph Question Answering#GQA#Accuracy#96.30</td>\n",
       "    </tr>\n",
       "    <tr>\n",
       "      <th>5728</th>\n",
       "      <td>2104.11980v1.pdf</td>\n",
       "      <td>Trajectory Modeling#NBA SportVU#1x1 NLL#0.472</td>\n",
       "    </tr>\n",
       "    <tr>\n",
       "      <th>5729</th>\n",
       "      <td>1704.00077v1.pdf</td>\n",
       "      <td>Video Segmentation#SegTrack v2#Accuracy#86.86</td>\n",
       "    </tr>\n",
       "    <tr>\n",
       "      <th>5730</th>\n",
       "      <td>2004.07922v1.pdf</td>\n",
       "      <td>Document Text Classification#Tobacco small-348...</td>\n",
       "    </tr>\n",
       "  </tbody>\n",
       "</table>\n",
       "</div>"
      ],
      "text/plain": [
       "                 label                                               TDMS\n",
       "5726  2104.01378v1.pdf  Phone-level pronunciation scoring#speechocean7...\n",
       "5727  2104.10283v1.pdf        Graph Question Answering#GQA#Accuracy#96.30\n",
       "5728  2104.11980v1.pdf      Trajectory Modeling#NBA SportVU#1x1 NLL#0.472\n",
       "5729  1704.00077v1.pdf      Video Segmentation#SegTrack v2#Accuracy#86.86\n",
       "5730  2004.07922v1.pdf  Document Text Classification#Tobacco small-348..."
      ]
     },
     "execution_count": 76,
     "metadata": {},
     "output_type": "execute_result"
    }
   ],
   "source": [
    "resultsAnnotation.tail()"
   ]
  },
  {
   "cell_type": "code",
   "execution_count": 71,
   "metadata": {},
   "outputs": [
    {
     "data": {
      "text/html": [
       "<div>\n",
       "<style scoped>\n",
       "    .dataframe tbody tr th:only-of-type {\n",
       "        vertical-align: middle;\n",
       "    }\n",
       "\n",
       "    .dataframe tbody tr th {\n",
       "        vertical-align: top;\n",
       "    }\n",
       "\n",
       "    .dataframe thead th {\n",
       "        text-align: right;\n",
       "    }\n",
       "</style>\n",
       "<table border=\"1\" class=\"dataframe\">\n",
       "  <thead>\n",
       "    <tr style=\"text-align: right;\">\n",
       "      <th></th>\n",
       "      <th>label</th>\n",
       "      <th>TDMS</th>\n",
       "    </tr>\n",
       "  </thead>\n",
       "  <tbody>\n",
       "    <tr>\n",
       "      <th>341</th>\n",
       "      <td>1704.08381.pdf</td>\n",
       "      <td>amr_parsing#LDC2015E86#Smatch#62.1</td>\n",
       "    </tr>\n",
       "    <tr>\n",
       "      <th>342</th>\n",
       "      <td>1803.09074.pdf</td>\n",
       "      <td>question_answering#RACE#Accuracy on RACE-m#60....</td>\n",
       "    </tr>\n",
       "    <tr>\n",
       "      <th>343</th>\n",
       "      <td>1602.02373.pdf</td>\n",
       "      <td>text_classification#AG News#Error#6.57$text_cl...</td>\n",
       "    </tr>\n",
       "    <tr>\n",
       "      <th>344</th>\n",
       "      <td>N18-2108.pdf</td>\n",
       "      <td>coreference_resolution#CoNLL 2012#Avg F1#73.0</td>\n",
       "    </tr>\n",
       "    <tr>\n",
       "      <th>345</th>\n",
       "      <td>P17-1089.pdf</td>\n",
       "      <td>sql_parsing#ATIS#Question Split#45$sql_parsing...</td>\n",
       "    </tr>\n",
       "  </tbody>\n",
       "</table>\n",
       "</div>"
      ],
      "text/plain": [
       "              label                                               TDMS\n",
       "341  1704.08381.pdf                 amr_parsing#LDC2015E86#Smatch#62.1\n",
       "342  1803.09074.pdf  question_answering#RACE#Accuracy on RACE-m#60....\n",
       "343  1602.02373.pdf  text_classification#AG News#Error#6.57$text_cl...\n",
       "344    N18-2108.pdf      coreference_resolution#CoNLL 2012#Avg F1#73.0\n",
       "345    P17-1089.pdf  sql_parsing#ATIS#Question Split#45$sql_parsing..."
      ]
     },
     "execution_count": 71,
     "metadata": {},
     "output_type": "execute_result"
    }
   ],
   "source": [
    "resultsAnnotation_IBM.tail()"
   ]
  },
  {
   "cell_type": "code",
   "execution_count": 81,
   "metadata": {},
   "outputs": [
    {
     "data": {
      "text/html": [
       "<div>\n",
       "<style scoped>\n",
       "    .dataframe tbody tr th:only-of-type {\n",
       "        vertical-align: middle;\n",
       "    }\n",
       "\n",
       "    .dataframe tbody tr th {\n",
       "        vertical-align: top;\n",
       "    }\n",
       "\n",
       "    .dataframe thead th {\n",
       "        text-align: right;\n",
       "    }\n",
       "</style>\n",
       "<table border=\"1\" class=\"dataframe\">\n",
       "  <thead>\n",
       "    <tr style=\"text-align: right;\">\n",
       "      <th></th>\n",
       "      <th>label</th>\n",
       "      <th>tasks</th>\n",
       "    </tr>\n",
       "  </thead>\n",
       "  <tbody>\n",
       "    <tr>\n",
       "      <th>5724</th>\n",
       "      <td>2104.01378v1.pdf</td>\n",
       "      <td>Phone-level pronunciation scoring</td>\n",
       "    </tr>\n",
       "    <tr>\n",
       "      <th>5725</th>\n",
       "      <td>2104.10283v1.pdf</td>\n",
       "      <td>Graph Question Answering</td>\n",
       "    </tr>\n",
       "    <tr>\n",
       "      <th>5726</th>\n",
       "      <td>2104.11980v1.pdf</td>\n",
       "      <td>Trajectory Modeling</td>\n",
       "    </tr>\n",
       "    <tr>\n",
       "      <th>5727</th>\n",
       "      <td>1704.00077v1.pdf</td>\n",
       "      <td>Video Segmentation</td>\n",
       "    </tr>\n",
       "    <tr>\n",
       "      <th>5728</th>\n",
       "      <td>2004.07922v1.pdf</td>\n",
       "      <td>Document Text Classification</td>\n",
       "    </tr>\n",
       "  </tbody>\n",
       "</table>\n",
       "</div>"
      ],
      "text/plain": [
       "                 label                              tasks\n",
       "5724  2104.01378v1.pdf  Phone-level pronunciation scoring\n",
       "5725  2104.10283v1.pdf           Graph Question Answering\n",
       "5726  2104.11980v1.pdf                Trajectory Modeling\n",
       "5727  1704.00077v1.pdf                 Video Segmentation\n",
       "5728  2004.07922v1.pdf       Document Text Classification"
      ]
     },
     "execution_count": 81,
     "metadata": {},
     "output_type": "execute_result"
    }
   ],
   "source": [
    "taskAnnotation.tail()"
   ]
  },
  {
   "cell_type": "code",
   "execution_count": 78,
   "metadata": {},
   "outputs": [
    {
     "data": {
      "text/html": [
       "<div>\n",
       "<style scoped>\n",
       "    .dataframe tbody tr th:only-of-type {\n",
       "        vertical-align: middle;\n",
       "    }\n",
       "\n",
       "    .dataframe tbody tr th {\n",
       "        vertical-align: top;\n",
       "    }\n",
       "\n",
       "    .dataframe thead th {\n",
       "        text-align: right;\n",
       "    }\n",
       "</style>\n",
       "<table border=\"1\" class=\"dataframe\">\n",
       "  <thead>\n",
       "    <tr style=\"text-align: right;\">\n",
       "      <th></th>\n",
       "      <th>label</th>\n",
       "      <th>tasks</th>\n",
       "    </tr>\n",
       "  </thead>\n",
       "  <tbody>\n",
       "    <tr>\n",
       "      <th>342</th>\n",
       "      <td>1704.08381.pdf</td>\n",
       "      <td>amr_parsing</td>\n",
       "    </tr>\n",
       "    <tr>\n",
       "      <th>343</th>\n",
       "      <td>1803.09074.pdf</td>\n",
       "      <td>question_answering</td>\n",
       "    </tr>\n",
       "    <tr>\n",
       "      <th>344</th>\n",
       "      <td>1602.02373.pdf</td>\n",
       "      <td>sentiment_analysis</td>\n",
       "    </tr>\n",
       "    <tr>\n",
       "      <th>345</th>\n",
       "      <td>N18-2108.pdf</td>\n",
       "      <td>coreference_resolution</td>\n",
       "    </tr>\n",
       "    <tr>\n",
       "      <th>346</th>\n",
       "      <td>P17-1089.pdf</td>\n",
       "      <td>sql_parsing</td>\n",
       "    </tr>\n",
       "  </tbody>\n",
       "</table>\n",
       "</div>"
      ],
      "text/plain": [
       "              label                   tasks\n",
       "342  1704.08381.pdf             amr_parsing\n",
       "343  1803.09074.pdf      question_answering\n",
       "344  1602.02373.pdf      sentiment_analysis\n",
       "345    N18-2108.pdf  coreference_resolution\n",
       "346    P17-1089.pdf             sql_parsing"
      ]
     },
     "execution_count": 78,
     "metadata": {},
     "output_type": "execute_result"
    }
   ],
   "source": [
    "taskAnnotation_IBM.tail()"
   ]
  },
  {
   "cell_type": "code",
   "execution_count": null,
   "metadata": {},
   "outputs": [],
   "source": []
  },
  {
   "cell_type": "code",
   "execution_count": null,
   "metadata": {},
   "outputs": [],
   "source": []
  },
  {
   "cell_type": "code",
   "execution_count": 166,
   "metadata": {},
   "outputs": [],
   "source": [
    "with open(f\"/nfs/home/kabenamualus/Research/task-dataset-metric-extraction/data/ibm/exp/few-shot-setup/NLP-TDMS/paperVersion/test.tsv\") as f:\n",
    "    list_test_IBM = f.read().splitlines()\n",
    "\n",
    "# with open(f\"/nfs/home/kabenamualus/Research/task-dataset-metric-extraction/data/ibm/exp/few-shot-setup/NLP-TDMS/paperVersion/test_results_IBM.tsv\") as f:\n",
    "with open(f\"/nfs/home/kabenamualus/Research/task-dataset-metric-extraction/data/paperwithcode/new/60Neg800unk/twofoldwithunk/fold1/models/SciBERT/test_results.tsv\") as f:\n",
    "# with open(f\"/nfs/home/kabenamualus/Research/task-dataset-metric-extraction/data/paperwithcode/new/jar/80Neg600unk/twofoldwithunk/fold1/models/cased_L-12_H-768_A-12_XLNet/test_results.tsv\") as f:\n",
    "    list_test_IBM_results = f.read().splitlines()"
   ]
  },
  {
   "cell_type": "code",
   "execution_count": 167,
   "metadata": {},
   "outputs": [
    {
     "data": {
      "text/plain": [
       "13071"
      ]
     },
     "execution_count": 167,
     "metadata": {},
     "output_type": "execute_result"
    }
   ],
   "source": [
    "len(list_test_IBM_results)"
   ]
  },
  {
   "cell_type": "code",
   "execution_count": 168,
   "metadata": {},
   "outputs": [],
   "source": [
    "assert len(list_test_IBM) == len(list_test_IBM_results), \"Error in Lenght\""
   ]
  },
  {
   "cell_type": "code",
   "execution_count": 169,
   "metadata": {},
   "outputs": [
    {
     "data": {
      "text/plain": [
       "'false'"
      ]
     },
     "execution_count": 169,
     "metadata": {},
     "output_type": "execute_result"
    }
   ],
   "source": [
    "list_test_IBM[-1].split(\"\\t\")[0]"
   ]
  },
  {
   "cell_type": "code",
   "execution_count": 170,
   "metadata": {},
   "outputs": [
    {
     "data": {
      "text/plain": [
       "['0.9912383', '0.008761689']"
      ]
     },
     "execution_count": 170,
     "metadata": {},
     "output_type": "execute_result"
    }
   ],
   "source": [
    "list_test_IBM_results[0].split(\"\\t\")"
   ]
  },
  {
   "cell_type": "code",
   "execution_count": 171,
   "metadata": {},
   "outputs": [],
   "source": [
    "tp, fn, tn, fp = 0, 0, 0, 0\n",
    "y = []\n",
    "y_pred = []\n",
    "# here 0: true, 1: false\n",
    "for idx in range(len(list_test_IBM)):\n",
    "    true_label = list_test_IBM[idx].split(\"\\t\")[0]\n",
    "    true, false = list_test_IBM_results[idx].split(\"\\t\")\n",
    "    true, false = float(true), float(false)\n",
    "    if true_label=='true' :\n",
    "        y.append(0)\n",
    "        if true > false:\n",
    "            tp += 1\n",
    "            y_pred.append(0)\n",
    "        else:\n",
    "            fn += 1\n",
    "            y_pred.append(1)\n",
    "    else:\n",
    "        y.append(1)\n",
    "        if false > true:\n",
    "            tn += 1\n",
    "            y_pred.append(1)\n",
    "        else:\n",
    "            fp += 1    \n",
    "            y_pred.append(0)"
   ]
  },
  {
   "cell_type": "code",
   "execution_count": 172,
   "metadata": {},
   "outputs": [],
   "source": [
    "# print(f\"TP: {tp} FN: {fn} TN: {tn} FP: {fp}\")\n",
    "# precision = tp/(tp+fp)\n",
    "# recall = tp/(tp+fn)\n",
    "# f1 = 2 * (precision * recall) / (precision + recall)\n",
    "# print(f\"Precision: {precision} Recall: {recall} and F1 = {f1}\")\n",
    "\n",
    "# classification_report(y, y_pred, target_names=[\"true\", \"false\"], output_dict=True)"
   ]
  },
  {
   "cell_type": "code",
   "execution_count": 165,
   "metadata": {},
   "outputs": [
    {
     "name": "stdout",
     "output_type": "stream",
     "text": [
      "precision_score (macro): 0.7972994801609445\n",
      "recall_score (macro): 0.8752512657119265\n",
      "f1_score (macro): 0.8313975319966176\n",
      "precision_score (micro): 0.9807206793665366\n",
      "recall_score (micro): 0.9807206793665366\n",
      "f1_score (micro): 0.9807206793665366\n",
      "Avg. 0.9061\n"
     ]
    }
   ],
   "source": [
    "print(f\"precision_score (macro): {precision_score(y, y_pred, average ='macro')}\")\n",
    "print(f\"recall_score (macro): {recall_score(y, y_pred, average ='macro')}\")\n",
    "print(f\"f1_score (macro): {f1_score(y, y_pred, average ='macro')}\")\n",
    "print(f\"precision_score (micro): {precision_score(y, y_pred, average ='micro')}\")\n",
    "print(f\"recall_score (micro): {recall_score(y, y_pred, average ='micro')}\")\n",
    "print(f\"f1_score (micro): {f1_score(y, y_pred, average ='micro')}\")\n",
    "print(f\"Avg. {round((f1_score(y, y_pred, average ='macro')+f1_score(y, y_pred, average ='micro'))/2, 4)}\")\n",
    "\n",
    "# metrics_dict = classification_report(y, y_pred, target_names=[\"true\", \"false\"], output_dict=True)['macro avg']\n",
    "# print(f\"precision macro avg: {metrics_dict['precision']}\")\n",
    "# print(f\"recall macro avg: {metrics_dict['recall']}\")\n",
    "# print(f\"f1-score macro avg: {metrics_dict['f1-score']}\")\n"
   ]
  },
  {
   "cell_type": "code",
   "execution_count": null,
   "metadata": {},
   "outputs": [],
   "source": []
  },
  {
   "cell_type": "code",
   "execution_count": 173,
   "metadata": {},
   "outputs": [
    {
     "name": "stdout",
     "output_type": "stream",
     "text": [
      "precision_score (macro): 0.6988143433708494\n",
      "recall_score (macro): 0.9431944873067374\n",
      "f1_score (macro): 0.7690540615635835\n",
      "precision_score (micro): 0.9620534006579451\n",
      "recall_score (micro): 0.9620534006579451\n",
      "f1_score (micro): 0.9620534006579451\n",
      "Avg. 0.866\n"
     ]
    }
   ],
   "source": [
    "print(f\"precision_score (macro): {precision_score(y, y_pred, average ='macro')}\")\n",
    "print(f\"recall_score (macro): {recall_score(y, y_pred, average ='macro')}\")\n",
    "print(f\"f1_score (macro): {f1_score(y, y_pred, average ='macro')}\")\n",
    "print(f\"precision_score (micro): {precision_score(y, y_pred, average ='micro')}\")\n",
    "print(f\"recall_score (micro): {recall_score(y, y_pred, average ='micro')}\")\n",
    "print(f\"f1_score (micro): {f1_score(y, y_pred, average ='micro')}\")\n",
    "print(f\"Avg. {round((f1_score(y, y_pred, average ='macro')+f1_score(y, y_pred, average ='micro'))/2, 3)}\")\n",
    "\n",
    "# metrics_dict = classification_report(y, y_pred, target_names=[\"true\", \"false\"], output_dict=True)['macro avg']\n",
    "# print(f\"precision macro avg: {metrics_dict['precision']}\")\n",
    "# print(f\"recall macro avg: {metrics_dict['recall']}\")\n",
    "# print(f\"f1-score macro avg: {metrics_dict['f1-score']}\")"
   ]
  },
  {
   "cell_type": "code",
   "execution_count": 156,
   "metadata": {},
   "outputs": [
    {
     "data": {
      "text/plain": [
       "0.962"
      ]
     },
     "execution_count": 156,
     "metadata": {},
     "output_type": "execute_result"
    }
   ],
   "source": [
    "round(0.9620534006579451, 3)"
   ]
  },
  {
   "cell_type": "markdown",
   "metadata": {},
   "source": [
    "# Data clearning"
   ]
  },
  {
   "cell_type": "markdown",
   "metadata": {},
   "source": [
    "### paperVerion"
   ]
  },
  {
   "cell_type": "code",
   "execution_count": 27,
   "metadata": {},
   "outputs": [],
   "source": [
    "test_IBM_pd = pd.read_csv(f\"/nfs/home/kabenamualus/Research/task-dataset-metric-nli-extraction/data/ibm/exp/few-shot-setup/NLP-TDMS/paperVersion/test.tsv\", \n",
    "                    sep=\"\\t\", names=[\"label\", \"title\", \"TDM\", \"Context\"])\n",
    "\n",
    "train_IBM_pd = pd.read_csv(f\"/nfs/home/kabenamualus/Research/task-dataset-metric-nli-extraction/data/ibm/exp/few-shot-setup/NLP-TDMS/paperVersion/train.tsv\", \n",
    "                    sep=\"\\t\", names=[\"label\", \"title\", \"TDM\", \"Context\"])\n",
    "\n",
    "paper_links_pd = pd.read_csv(f\"/nfs/home/kabenamualus/Research/task-dataset-metric-extraction/data/ibm/NLP-TDMS/downloader/paper_links.tsv\", \n",
    "                    sep=\"\\t\", names=[\"pdf\", \"link\", \"hashCode\"])\n",
    "\n",
    "path_pdf_IBM_Original = \"/nfs/home/kabenamualus/Research/task-dataset-metric-extraction/data/pdf_IBM_Original\""
   ]
  },
  {
   "cell_type": "code",
   "execution_count": 28,
   "metadata": {},
   "outputs": [
    {
     "data": {
      "text/html": [
       "<div>\n",
       "<style scoped>\n",
       "    .dataframe tbody tr th:only-of-type {\n",
       "        vertical-align: middle;\n",
       "    }\n",
       "\n",
       "    .dataframe tbody tr th {\n",
       "        vertical-align: top;\n",
       "    }\n",
       "\n",
       "    .dataframe thead th {\n",
       "        text-align: right;\n",
       "    }\n",
       "</style>\n",
       "<table border=\"1\" class=\"dataframe\">\n",
       "  <thead>\n",
       "    <tr style=\"text-align: right;\">\n",
       "      <th></th>\n",
       "      <th>label</th>\n",
       "      <th>title</th>\n",
       "      <th>TDM</th>\n",
       "      <th>Context</th>\n",
       "    </tr>\n",
       "  </thead>\n",
       "  <tbody>\n",
       "    <tr>\n",
       "      <th>13301</th>\n",
       "      <td>False</td>\n",
       "      <td>16165.pdf</td>\n",
       "      <td>dependency parsing; Penn Treebank; LAS</td>\n",
       "      <td>R 3 : Reinforced Ranker-Reader for Open-Domain...</td>\n",
       "    </tr>\n",
       "    <tr>\n",
       "      <th>13302</th>\n",
       "      <td>False</td>\n",
       "      <td>16165.pdf</td>\n",
       "      <td>language modeling; Hutter Prize; Number of params</td>\n",
       "      <td>R 3 : Reinforced Ranker-Reader for Open-Domain...</td>\n",
       "    </tr>\n",
       "    <tr>\n",
       "      <th>13303</th>\n",
       "      <td>False</td>\n",
       "      <td>16165.pdf</td>\n",
       "      <td>summarization; CNN / Daily Mail (Non-anonymize...</td>\n",
       "      <td>R 3 : Reinforced Ranker-Reader for Open-Domain...</td>\n",
       "    </tr>\n",
       "    <tr>\n",
       "      <th>13304</th>\n",
       "      <td>False</td>\n",
       "      <td>16165.pdf</td>\n",
       "      <td>word sense disambiguation; Senseval 3; F1</td>\n",
       "      <td>R 3 : Reinforced Ranker-Reader for Open-Domain...</td>\n",
       "    </tr>\n",
       "    <tr>\n",
       "      <th>13305</th>\n",
       "      <td>False</td>\n",
       "      <td>16165.pdf</td>\n",
       "      <td>text classification; TREC; Error</td>\n",
       "      <td>R 3 : Reinforced Ranker-Reader for Open-Domain...</td>\n",
       "    </tr>\n",
       "  </tbody>\n",
       "</table>\n",
       "</div>"
      ],
      "text/plain": [
       "       label      title                                                TDM  \\\n",
       "13301  False  16165.pdf             dependency parsing; Penn Treebank; LAS   \n",
       "13302  False  16165.pdf  language modeling; Hutter Prize; Number of params   \n",
       "13303  False  16165.pdf  summarization; CNN / Daily Mail (Non-anonymize...   \n",
       "13304  False  16165.pdf          word sense disambiguation; Senseval 3; F1   \n",
       "13305  False  16165.pdf                   text classification; TREC; Error   \n",
       "\n",
       "                                                 Context  \n",
       "13301  R 3 : Reinforced Ranker-Reader for Open-Domain...  \n",
       "13302  R 3 : Reinforced Ranker-Reader for Open-Domain...  \n",
       "13303  R 3 : Reinforced Ranker-Reader for Open-Domain...  \n",
       "13304  R 3 : Reinforced Ranker-Reader for Open-Domain...  \n",
       "13305  R 3 : Reinforced Ranker-Reader for Open-Domain...  "
      ]
     },
     "execution_count": 28,
     "metadata": {},
     "output_type": "execute_result"
    }
   ],
   "source": [
    "train_IBM_pd.tail()"
   ]
  },
  {
   "cell_type": "code",
   "execution_count": 29,
   "metadata": {},
   "outputs": [
    {
     "data": {
      "text/html": [
       "<div>\n",
       "<style scoped>\n",
       "    .dataframe tbody tr th:only-of-type {\n",
       "        vertical-align: middle;\n",
       "    }\n",
       "\n",
       "    .dataframe tbody tr th {\n",
       "        vertical-align: top;\n",
       "    }\n",
       "\n",
       "    .dataframe thead th {\n",
       "        text-align: right;\n",
       "    }\n",
       "</style>\n",
       "<table border=\"1\" class=\"dataframe\">\n",
       "  <thead>\n",
       "    <tr style=\"text-align: right;\">\n",
       "      <th></th>\n",
       "      <th>label</th>\n",
       "      <th>title</th>\n",
       "      <th>TDM</th>\n",
       "      <th>Context</th>\n",
       "    </tr>\n",
       "  </thead>\n",
       "  <tbody>\n",
       "    <tr>\n",
       "      <th>13066</th>\n",
       "      <td>False</td>\n",
       "      <td>C18-1121.pdf</td>\n",
       "      <td>dependency parsing; Penn Treebank; LAS</td>\n",
       "      <td>Ensure the Correctness of the Summary: Incorpo...</td>\n",
       "    </tr>\n",
       "    <tr>\n",
       "      <th>13067</th>\n",
       "      <td>False</td>\n",
       "      <td>C18-1121.pdf</td>\n",
       "      <td>language modeling; Hutter Prize; Number of params</td>\n",
       "      <td>Ensure the Correctness of the Summary: Incorpo...</td>\n",
       "    </tr>\n",
       "    <tr>\n",
       "      <th>13068</th>\n",
       "      <td>False</td>\n",
       "      <td>C18-1121.pdf</td>\n",
       "      <td>summarization; CNN / Daily Mail (Non-anonymize...</td>\n",
       "      <td>Ensure the Correctness of the Summary: Incorpo...</td>\n",
       "    </tr>\n",
       "    <tr>\n",
       "      <th>13069</th>\n",
       "      <td>False</td>\n",
       "      <td>C18-1121.pdf</td>\n",
       "      <td>word sense disambiguation; Senseval 3; F1</td>\n",
       "      <td>Ensure the Correctness of the Summary: Incorpo...</td>\n",
       "    </tr>\n",
       "    <tr>\n",
       "      <th>13070</th>\n",
       "      <td>False</td>\n",
       "      <td>C18-1121.pdf</td>\n",
       "      <td>text classification; TREC; Error</td>\n",
       "      <td>Ensure the Correctness of the Summary: Incorpo...</td>\n",
       "    </tr>\n",
       "  </tbody>\n",
       "</table>\n",
       "</div>"
      ],
      "text/plain": [
       "       label         title                                                TDM  \\\n",
       "13066  False  C18-1121.pdf             dependency parsing; Penn Treebank; LAS   \n",
       "13067  False  C18-1121.pdf  language modeling; Hutter Prize; Number of params   \n",
       "13068  False  C18-1121.pdf  summarization; CNN / Daily Mail (Non-anonymize...   \n",
       "13069  False  C18-1121.pdf          word sense disambiguation; Senseval 3; F1   \n",
       "13070  False  C18-1121.pdf                   text classification; TREC; Error   \n",
       "\n",
       "                                                 Context  \n",
       "13066  Ensure the Correctness of the Summary: Incorpo...  \n",
       "13067  Ensure the Correctness of the Summary: Incorpo...  \n",
       "13068  Ensure the Correctness of the Summary: Incorpo...  \n",
       "13069  Ensure the Correctness of the Summary: Incorpo...  \n",
       "13070  Ensure the Correctness of the Summary: Incorpo...  "
      ]
     },
     "execution_count": 29,
     "metadata": {},
     "output_type": "execute_result"
    }
   ],
   "source": [
    "test_IBM_pd.tail()"
   ]
  },
  {
   "cell_type": "code",
   "execution_count": 30,
   "metadata": {},
   "outputs": [
    {
     "data": {
      "text/html": [
       "<div>\n",
       "<style scoped>\n",
       "    .dataframe tbody tr th:only-of-type {\n",
       "        vertical-align: middle;\n",
       "    }\n",
       "\n",
       "    .dataframe tbody tr th {\n",
       "        vertical-align: top;\n",
       "    }\n",
       "\n",
       "    .dataframe thead th {\n",
       "        text-align: right;\n",
       "    }\n",
       "</style>\n",
       "<table border=\"1\" class=\"dataframe\">\n",
       "  <thead>\n",
       "    <tr style=\"text-align: right;\">\n",
       "      <th></th>\n",
       "      <th>pdf</th>\n",
       "      <th>link</th>\n",
       "      <th>hashCode</th>\n",
       "    </tr>\n",
       "  </thead>\n",
       "  <tbody>\n",
       "    <tr>\n",
       "      <th>0</th>\n",
       "      <td>1705.05952.pdf</td>\n",
       "      <td>https://arxiv.org/pdf/1705.05952.pdf</td>\n",
       "      <td>fa507bb9b71735760388dda965c8d676</td>\n",
       "    </tr>\n",
       "    <tr>\n",
       "      <th>1</th>\n",
       "      <td>C18-1121.pdf</td>\n",
       "      <td>http://aclweb.org/anthology/C18-1121</td>\n",
       "      <td>810ea6e211512f049940e945ddf47e96</td>\n",
       "    </tr>\n",
       "    <tr>\n",
       "      <th>2</th>\n",
       "      <td>D18-1205.pdf</td>\n",
       "      <td>http://aclweb.org/anthology/D18-1205</td>\n",
       "      <td>b0921e9016f0ebd4c1a4b467d17bcb18</td>\n",
       "    </tr>\n",
       "    <tr>\n",
       "      <th>3</th>\n",
       "      <td>P18-1063.pdf</td>\n",
       "      <td>http://aclweb.org/anthology/P18-1063</td>\n",
       "      <td>4d573757d6419edc2d8c0bb9d4d3ec6b</td>\n",
       "    </tr>\n",
       "    <tr>\n",
       "      <th>4</th>\n",
       "      <td>5635-grammar-as-a-foreign-language.pdf</td>\n",
       "      <td>https://papers.nips.cc/paper/5635-grammar-as-a...</td>\n",
       "      <td>c42e59f47a0d9dc254efb7ec3bc11b88</td>\n",
       "    </tr>\n",
       "  </tbody>\n",
       "</table>\n",
       "</div>"
      ],
      "text/plain": [
       "                                      pdf  \\\n",
       "0                          1705.05952.pdf   \n",
       "1                            C18-1121.pdf   \n",
       "2                            D18-1205.pdf   \n",
       "3                            P18-1063.pdf   \n",
       "4  5635-grammar-as-a-foreign-language.pdf   \n",
       "\n",
       "                                                link  \\\n",
       "0               https://arxiv.org/pdf/1705.05952.pdf   \n",
       "1               http://aclweb.org/anthology/C18-1121   \n",
       "2               http://aclweb.org/anthology/D18-1205   \n",
       "3               http://aclweb.org/anthology/P18-1063   \n",
       "4  https://papers.nips.cc/paper/5635-grammar-as-a...   \n",
       "\n",
       "                           hashCode  \n",
       "0  fa507bb9b71735760388dda965c8d676  \n",
       "1  810ea6e211512f049940e945ddf47e96  \n",
       "2  b0921e9016f0ebd4c1a4b467d17bcb18  \n",
       "3  4d573757d6419edc2d8c0bb9d4d3ec6b  \n",
       "4  c42e59f47a0d9dc254efb7ec3bc11b88  "
      ]
     },
     "execution_count": 30,
     "metadata": {},
     "output_type": "execute_result"
    }
   ],
   "source": [
    "paper_links_pd.head()"
   ]
  },
  {
   "cell_type": "code",
   "execution_count": 31,
   "metadata": {},
   "outputs": [],
   "source": [
    "# path_pdf_IBM_Original"
   ]
  },
  {
   "cell_type": "code",
   "execution_count": 32,
   "metadata": {},
   "outputs": [],
   "source": [
    "# test_IBM_pd[test_IBM_pd.label==True].head()"
   ]
  },
  {
   "cell_type": "code",
   "execution_count": 33,
   "metadata": {},
   "outputs": [
    {
     "data": {
      "text/plain": [
       "170"
      ]
     },
     "execution_count": 33,
     "metadata": {},
     "output_type": "execute_result"
    }
   ],
   "source": [
    "# List of pdf name that are in the test file\n",
    "list_train_IBM_uniq = list(train_IBM_pd.title.unique())\n",
    "len(list_train_IBM_uniq)"
   ]
  },
  {
   "cell_type": "code",
   "execution_count": 34,
   "metadata": {},
   "outputs": [
    {
     "data": {
      "text/plain": [
       "167"
      ]
     },
     "execution_count": 34,
     "metadata": {},
     "output_type": "execute_result"
    }
   ],
   "source": [
    "# List of pdf name that are in the train file\n",
    "list_test_IBM_uniq = list(test_IBM_pd.title.unique())\n",
    "len(list_test_IBM_uniq)"
   ]
  },
  {
   "cell_type": "code",
   "execution_count": 35,
   "metadata": {},
   "outputs": [
    {
     "data": {
      "text/plain": [
       "337"
      ]
     },
     "execution_count": 35,
     "metadata": {},
     "output_type": "execute_result"
    }
   ],
   "source": [
    "# total number of uniq pdf in the train and testing\n",
    "len(list_test_IBM_uniq)+len(list_train_IBM_uniq)"
   ]
  },
  {
   "cell_type": "code",
   "execution_count": 36,
   "metadata": {},
   "outputs": [
    {
     "data": {
      "text/plain": [
       "348"
      ]
     },
     "execution_count": 36,
     "metadata": {},
     "output_type": "execute_result"
    }
   ],
   "source": [
    "# List of number unique file in main pdf folder \n",
    "list_paper_links_uniq = list(paper_links_pd.pdf.unique())\n",
    "len(list_paper_links_uniq)"
   ]
  },
  {
   "cell_type": "code",
   "execution_count": 37,
   "metadata": {},
   "outputs": [
    {
     "data": {
      "text/plain": [
       "346"
      ]
     },
     "execution_count": 37,
     "metadata": {},
     "output_type": "execute_result"
    }
   ],
   "source": [
    "list_pdf_IBM_Original = os.listdir(\"/nfs/home/kabenamualus/Research/task-dataset-metric-extraction/data/pdf_IBM_Original\")\n",
    "len(list_pdf_IBM_Original)"
   ]
  },
  {
   "cell_type": "raw",
   "metadata": {},
   "source": [
    "3 missing pdf :\n",
    "    - 16137.pdf\thttps://www.aaai.org/ocs/index.php/AAAI/AAAI18/paper/viewFile/17308/16137\t11332ec3719ae5705a61af9be7ef7a83 (Train, paper version)\n",
    "    - htyo14.pdf\thttp://svr-ftp.eng.cam.ac.uk/~sjy/papers/htyo14.pdf\t3956d0d4bfbda654742b5ac7788d4510 (Train, paper version)\n",
    "    - 9571-9523.pdf\thttps://www.aaai.org/ocs/index.php/AAAI/AAAI15/paper/download/9571/9523\td41d8cd98f00b204e9800998ecf8427e\n",
    "    \n",
    "    Duplicate:\n",
    "        - 81.257.pdf\thttps://arxiv.org/pdf/1703.04617\tfa732e25d1e1bb143a58cafb2307c5e6\n",
    "    \n",
    "Rename :\n",
    "    - human.pdf\thttps://arxiv.org/pdf/1606.05250\t8de951ff9c46a73fbb9ddd10cb372d84\n",
    "    - 16492.pdf\thttps://arxiv.org/pdf/1711.09357.pdf\tea36f92cab5315ab3dc6155544c9fdac\n",
    "    - 16165.pdf\thttps://arxiv.org/pdf/1709.00023.pdf\t6fbf514a2c82ea720b9288c8adba04d8\n",
    "    - 16118.pdf\thttps://arxiv.org/pdf/1804.07036.pdf\t05562418871a7938acf4882582334dbe\n",
    "    - stamp.jsp_arnumber_8344797.pdf\thttps://arxiv.org/pdf/1805.07799.pdf\t677b1e07844270b1300f61045ca6c3fb\n",
    "    - 16101.pdf\thttps://arxiv.org/pdf/1712.01813.pdf\t9980c02aa744cda27cc0a9726b9b56e7"
   ]
  },
  {
   "cell_type": "code",
   "execution_count": 44,
   "metadata": {},
   "outputs": [
    {
     "name": "stdout",
     "output_type": "stream",
     "text": [
      "0\n"
     ]
    }
   ],
   "source": [
    "count = 0\n",
    "missing_list = []\n",
    "for pdf in list_test_IBM_uniq:\n",
    "#     if pdf not in list_pdf_IBM_Original:\n",
    "    if pdf not in list_pdf_IBM_Original:\n",
    "#         print(pdf)\n",
    "        count+=1\n",
    "        missing_list.append(pdf)\n",
    "print(count)"
   ]
  },
  {
   "cell_type": "code",
   "execution_count": 43,
   "metadata": {},
   "outputs": [
    {
     "data": {
      "text/plain": [
       "['htyo14.pdf', '16137.pdf']"
      ]
     },
     "execution_count": 43,
     "metadata": {},
     "output_type": "execute_result"
    }
   ],
   "source": [
    "missing_list"
   ]
  },
  {
   "cell_type": "code",
   "execution_count": 38,
   "metadata": {},
   "outputs": [
    {
     "name": "stdout",
     "output_type": "stream",
     "text": [
      "9\n"
     ]
    }
   ],
   "source": [
    "count = 0\n",
    "missing_list = []\n",
    "for pdf in list_pdf_IBM_Original:\n",
    "#     if pdf not in list_pdf_IBM_Original:\n",
    "    if pdf not in list_test_IBM_uniq and  pdf not in list_train_IBM_uniq:\n",
    "#         print(pdf)\n",
    "        count+=1\n",
    "        missing_list.append(pdf)\n",
    "print(count)"
   ]
  },
  {
   "cell_type": "code",
   "execution_count": 39,
   "metadata": {},
   "outputs": [
    {
     "data": {
      "text/plain": [
       "['1811.08619.pdf',\n",
       " 'D13-1090.pdf',\n",
       " '847.pdf',\n",
       " '1506.03340.pdf',\n",
       " 'forum_id_BJEX_H1Pf.pdf',\n",
       " 'cikm2014.pdf',\n",
       " 'coli_a_00164.pdf',\n",
       " 'N16-1020.pdf',\n",
       " '1410.5401.pdf']"
      ]
     },
     "execution_count": 39,
     "metadata": {},
     "output_type": "execute_result"
    }
   ],
   "source": [
    "# The following pdf don't have taxonomy in the original IBM released metadata\n",
    "missing_list"
   ]
  },
  {
   "cell_type": "code",
   "execution_count": 40,
   "metadata": {},
   "outputs": [
    {
     "name": "stdout",
     "output_type": "stream",
     "text": [
      "Pdf 1811.08619.pdf not used in train nor test, skiped\n",
      "Pdf D13-1090.pdf not used in train nor test, skiped\n",
      "Pdf 847.pdf not used in train nor test, skiped\n",
      "Pdf 1506.03340.pdf not used in train nor test, skiped\n",
      "Pdf forum_id_BJEX_H1Pf.pdf not used in train nor test, skiped\n",
      "Pdf cikm2014.pdf not used in train nor test, skiped\n",
      "Pdf coli_a_00164.pdf not used in train nor test, skiped\n",
      "Pdf N16-1020.pdf not used in train nor test, skiped\n",
      "Pdf 1410.5401.pdf not used in train nor test, skiped\n"
     ]
    },
    {
     "data": {
      "text/plain": [
       "True"
      ]
     },
     "execution_count": 40,
     "metadata": {},
     "output_type": "execute_result"
    }
   ],
   "source": [
    "pdf_path = \"/nfs/home/kabenamualus/Research/task-dataset-metric-extraction/data/pdf_IBM_Original/\"\n",
    "output_path = \"/nfs/home/kabenamualus/Research/task-dataset-metric-extraction/data/pdf_IBM_Original_Clean/\"\n",
    "\n",
    "if not (os.path.exists(output_path)):\n",
    "    os.makedirs(output_path)\n",
    "\n",
    "for pdf in list_pdf_IBM_Original:\n",
    "    if pdf not in list_test_IBM_uniq and  pdf not in list_train_IBM_uniq:\n",
    "        print(f\"Pdf {pdf} not used in train nor test, skiped\")\n",
    "    else:\n",
    "        !cp $pdf_path$pdf $output_path \n",
    "        \n",
    "len(os.listdir(pdf_path))==len(os.listdir(output_path))+len(missing_list)"
   ]
  },
  {
   "cell_type": "code",
   "execution_count": 41,
   "metadata": {},
   "outputs": [],
   "source": [
    "# len(os.listdir(pdf_path))==len(os.listdir(output_path))+len(missing_list)"
   ]
  },
  {
   "cell_type": "code",
   "execution_count": 17,
   "metadata": {},
   "outputs": [
    {
     "name": "stdout",
     "output_type": "stream",
     "text": [
      "0\n"
     ]
    }
   ],
   "source": [
    "count = 0\n",
    "missing_list = []\n",
    "for pdf in list_pdf_IBM_Original:\n",
    "#     if pdf not in list_pdf_IBM_Original:\n",
    "    if pdf not in list_paper_links_uniq:\n",
    "#         print(pdf)\n",
    "        count+=1\n",
    "        missing_list.append(pdf)\n",
    "print(count)"
   ]
  },
  {
   "cell_type": "code",
   "execution_count": null,
   "metadata": {},
   "outputs": [],
   "source": []
  },
  {
   "cell_type": "code",
   "execution_count": 62,
   "metadata": {},
   "outputs": [],
   "source": [
    "import ipdb"
   ]
  },
  {
   "cell_type": "code",
   "execution_count": 45,
   "metadata": {},
   "outputs": [],
   "source": [
    "# for pdf in missing_list:\n",
    "#     print(paper_links_pd[paper_links_pd.pdf==pdf])\n",
    "#     ipdb.set_trace()\n",
    "    "
   ]
  },
  {
   "cell_type": "markdown",
   "metadata": {},
   "source": [
    "### Create separate train, test folder as per the original data split"
   ]
  },
  {
   "cell_type": "code",
   "execution_count": 50,
   "metadata": {},
   "outputs": [
    {
     "data": {
      "text/plain": [
       "True"
      ]
     },
     "execution_count": 50,
     "metadata": {},
     "output_type": "execute_result"
    }
   ],
   "source": [
    "pdf_path = \"/nfs/home/kabenamualus/Research/task-dataset-metric-extraction/data/pdf_IBM_Original/\"\n",
    "output_path = \"/nfs/home/kabenamualus/Research/task-dataset-metric-extraction/data/pdf_IBM_Test_Paper_Version/\"\n",
    "\n",
    "for pdf in list_test_IBM_uniq:\n",
    "    !cp $pdf_path$pdf $output_path \n",
    "len(os.listdir(\"/nfs/home/kabenamualus/Research/task-dataset-metric-extraction/data/pdf_IBM_Test_Paper_Version\"))==len(list_test_IBM_uniq)"
   ]
  },
  {
   "cell_type": "code",
   "execution_count": 57,
   "metadata": {},
   "outputs": [
    {
     "name": "stdout",
     "output_type": "stream",
     "text": [
      "cp: cannot stat '/nfs/home/kabenamualus/Research/task-dataset-metric-extraction/data/pdf_IBM_Original/htyo14.pdf': No such file or directory\n",
      "cp: cannot stat '/nfs/home/kabenamualus/Research/task-dataset-metric-extraction/data/pdf_IBM_Original/16137.pdf': No such file or directory\n"
     ]
    },
    {
     "data": {
      "text/plain": [
       "True"
      ]
     },
     "execution_count": 57,
     "metadata": {},
     "output_type": "execute_result"
    }
   ],
   "source": [
    "pdf_path = \"/nfs/home/kabenamualus/Research/task-dataset-metric-extraction/data/pdf_IBM_Original/\"\n",
    "output_path = \"/nfs/home/kabenamualus/Research/task-dataset-metric-extraction/data/pdf_IBM_Train_Paper_Version/\"\n",
    "\n",
    "for pdf in list_train_IBM_uniq:\n",
    "    !cp $pdf_path$pdf $output_path \n",
    "len(os.listdir(\"/nfs/home/kabenamualus/Research/task-dataset-metric-extraction/data/pdf_IBM_Train_Paper_Version\"))==len(list_train_IBM_uniq)-2"
   ]
  },
  {
   "cell_type": "code",
   "execution_count": 77,
   "metadata": {},
   "outputs": [],
   "source": [
    "# Remove test pdf in the main dataset folder "
   ]
  },
  {
   "cell_type": "code",
   "execution_count": 79,
   "metadata": {},
   "outputs": [
    {
     "data": {
      "text/plain": [
       "5401"
      ]
     },
     "execution_count": 79,
     "metadata": {},
     "output_type": "execute_result"
    }
   ],
   "source": [
    "len(os.listdir(\"/nfs/home/kabenamualus/Research/task-dataset-metric-extraction/data/pdf_IBM/\"))"
   ]
  },
  {
   "cell_type": "code",
   "execution_count": 80,
   "metadata": {},
   "outputs": [
    {
     "data": {
      "text/plain": [
       "167"
      ]
     },
     "execution_count": 80,
     "metadata": {},
     "output_type": "execute_result"
    }
   ],
   "source": [
    "len(list_test_IBM_uniq)"
   ]
  },
  {
   "cell_type": "code",
   "execution_count": 81,
   "metadata": {},
   "outputs": [
    {
     "data": {
      "text/plain": [
       "5234"
      ]
     },
     "execution_count": 81,
     "metadata": {},
     "output_type": "execute_result"
    }
   ],
   "source": [
    "len(os.listdir(\"/nfs/home/kabenamualus/Research/task-dataset-metric-extraction/data/pdf_IBM/\"))-len(list_test_IBM_uniq)"
   ]
  },
  {
   "cell_type": "code",
   "execution_count": 82,
   "metadata": {},
   "outputs": [],
   "source": [
    "pdf_path = \"/nfs/home/kabenamualus/Research/task-dataset-metric-extraction/data/pdf_IBM/\"\n",
    "output_path = \"/nfs/home/kabenamualus/Research/task-dataset-metric-extraction/data/pdf_IBM_Train_Paper_Version/\"\n",
    "\n",
    "for pdf in os.listdir(pdf_path):\n",
    "    if pdf in list_test_IBM_uniq:\n",
    "        !rm $pdf_path$pdf"
   ]
  },
  {
   "cell_type": "code",
   "execution_count": 99,
   "metadata": {},
   "outputs": [
    {
     "data": {
      "text/plain": [
       "5374"
      ]
     },
     "execution_count": 99,
     "metadata": {},
     "output_type": "execute_result"
    }
   ],
   "source": [
    "len(os.listdir(pdf_path))"
   ]
  },
  {
   "cell_type": "code",
   "execution_count": 91,
   "metadata": {},
   "outputs": [],
   "source": [
    "pdf_path = \"/nfs/home/kabenamualus/Research/task-dataset-metric-extraction/data/pdf_IBM/\"\n",
    "pdf_train_path = \"/nfs/home/kabenamualus/Research/task-dataset-metric-extraction/data/pdf_IBM_Train_Paper_Version/\"\n",
    "\n",
    "for pdf in os.listdir(pdf_train_path):\n",
    "    !cp $pdf_train_path$pdf $pdf_path \n",
    "# len(os.listdir(\"/nfs/home/kabenamualus/Research/task-dataset-metric-extraction/data/pdf_IBM_Train_Paper_Version\"))==len(list_train_IBM_uniq)-2"
   ]
  },
  {
   "cell_type": "code",
   "execution_count": 92,
   "metadata": {},
   "outputs": [
    {
     "data": {
      "text/plain": [
       "5374"
      ]
     },
     "execution_count": 92,
     "metadata": {},
     "output_type": "execute_result"
    }
   ],
   "source": [
    "len(os.listdir(pdf_path))"
   ]
  },
  {
   "cell_type": "code",
   "execution_count": 96,
   "metadata": {},
   "outputs": [
    {
     "name": "stdout",
     "output_type": "stream",
     "text": [
      "htyo14.pdf\n",
      "1\n"
     ]
    }
   ],
   "source": [
    "count = 0\n",
    "missing_list = []\n",
    "for pdf in list_train_IBM_uniq:\n",
    "    if pdf not in os.listdir(pdf_path):\n",
    "        print(pdf)\n",
    "        count+=1\n",
    "        missing_list.append(pdf)\n",
    "print(count)"
   ]
  },
  {
   "cell_type": "code",
   "execution_count": 97,
   "metadata": {},
   "outputs": [
    {
     "data": {
      "text/plain": [
       "['htyo14.pdf']"
      ]
     },
     "execution_count": 97,
     "metadata": {},
     "output_type": "execute_result"
    }
   ],
   "source": [
    "missing_list"
   ]
  },
  {
   "cell_type": "markdown",
   "metadata": {},
   "source": [
    "# Zero shot setup"
   ]
  },
  {
   "cell_type": "code",
   "execution_count": 68,
   "metadata": {},
   "outputs": [],
   "source": [
    "test2_IBM_pd = pd.read_csv(f\"/nfs/home/kabenamualus/Research/task-dataset-metric-extraction/data/ibm/exp/few-shot-setup/NLP-TDMS/test.tsv\", \n",
    "                    sep=\"\\t\", names=[\"label\", \"title\", \"TDM\", \"Context\"])\n",
    "\n",
    "train2_IBM_pd = pd.read_csv(f\"/nfs/home/kabenamualus/Research/task-dataset-metric-extraction/data/ibm/exp/few-shot-setup/NLP-TDMS/train.tsv\", \n",
    "                    sep=\"\\t\", names=[\"label\", \"title\", \"TDM\", \"Context\"])\n",
    "\n",
    "# paper_links_pd = pd.read_csv(f\"/nfs/home/kabenamualus/Research/task-dataset-metric-extraction/data/ibm/NLP-TDMS/downloader/paper_links.tsv\", \n",
    "#                     sep=\"\\t\", names=[\"pdf\", \"link\", \"hashCode\"])"
   ]
  },
  {
   "cell_type": "code",
   "execution_count": 70,
   "metadata": {},
   "outputs": [
    {
     "data": {
      "text/plain": [
       "170"
      ]
     },
     "execution_count": 70,
     "metadata": {},
     "output_type": "execute_result"
    }
   ],
   "source": [
    "len(list_train_IBM_uniq)"
   ]
  },
  {
   "cell_type": "code",
   "execution_count": 71,
   "metadata": {},
   "outputs": [
    {
     "data": {
      "text/plain": [
       "170"
      ]
     },
     "execution_count": 71,
     "metadata": {},
     "output_type": "execute_result"
    }
   ],
   "source": [
    "list_train2_IBM_uniq = list(train2_IBM_pd.title.unique())\n",
    "len(list_train2_IBM_uniq)"
   ]
  },
  {
   "cell_type": "code",
   "execution_count": 74,
   "metadata": {},
   "outputs": [
    {
     "data": {
      "text/plain": [
       "167"
      ]
     },
     "execution_count": 74,
     "metadata": {},
     "output_type": "execute_result"
    }
   ],
   "source": [
    "len(list_test_IBM_uniq)"
   ]
  },
  {
   "cell_type": "code",
   "execution_count": 73,
   "metadata": {},
   "outputs": [
    {
     "data": {
      "text/plain": [
       "167"
      ]
     },
     "execution_count": 73,
     "metadata": {},
     "output_type": "execute_result"
    }
   ],
   "source": [
    "# List of pdf name that are in the train file\n",
    "list_test2_IBM_uniq = list(test2_IBM_pd.title.unique())\n",
    "len(list_test_IBM_uniq)"
   ]
  },
  {
   "cell_type": "code",
   "execution_count": 76,
   "metadata": {},
   "outputs": [
    {
     "name": "stdout",
     "output_type": "stream",
     "text": [
      "2\n"
     ]
    }
   ],
   "source": [
    "count = 0\n",
    "missing_list = []\n",
    "for pdf in list_test2_IBM_uniq:\n",
    "#     if pdf not in list_pdf_IBM_Original:\n",
    "    if pdf not in list_pdf_IBM_Original:\n",
    "#         print(pdf)\n",
    "        count+=1\n",
    "        missing_list.append(pdf)\n",
    "print(count)"
   ]
  },
  {
   "cell_type": "markdown",
   "metadata": {},
   "source": [
    "## Check the balance between classes"
   ]
  },
  {
   "cell_type": "markdown",
   "metadata": {},
   "source": [
    "### IBM"
   ]
  },
  {
   "cell_type": "code",
   "execution_count": 2,
   "metadata": {},
   "outputs": [],
   "source": [
    "test_IBM_pd = pd.read_csv(f\"/nfs/home/kabenamualus/Research/task-dataset-metric-extraction/data/ibm/exp/few-shot-setup/NLP-TDMS/paperVersion/test.tsv\", \n",
    "                    sep=\"\\t\", names=[\"label\", \"title\", \"TDM\", \"Context\"])\n",
    "\n",
    "train_IBM_pd = pd.read_csv(f\"/nfs/home/kabenamualus/Research/task-dataset-metric-extraction/data/ibm/exp/few-shot-setup/NLP-TDMS/paperVersion/train.tsv\", \n",
    "                    sep=\"\\t\", names=[\"label\", \"title\", \"TDM\", \"Context\"])"
   ]
  },
  {
   "cell_type": "code",
   "execution_count": 3,
   "metadata": {},
   "outputs": [
    {
     "data": {
      "text/html": [
       "<div>\n",
       "<style scoped>\n",
       "    .dataframe tbody tr th:only-of-type {\n",
       "        vertical-align: middle;\n",
       "    }\n",
       "\n",
       "    .dataframe tbody tr th {\n",
       "        vertical-align: top;\n",
       "    }\n",
       "\n",
       "    .dataframe thead th {\n",
       "        text-align: right;\n",
       "    }\n",
       "</style>\n",
       "<table border=\"1\" class=\"dataframe\">\n",
       "  <thead>\n",
       "    <tr style=\"text-align: right;\">\n",
       "      <th></th>\n",
       "      <th>label</th>\n",
       "      <th>title</th>\n",
       "      <th>TDM</th>\n",
       "      <th>Context</th>\n",
       "    </tr>\n",
       "  </thead>\n",
       "  <tbody>\n",
       "    <tr>\n",
       "      <th>0</th>\n",
       "      <td>True</td>\n",
       "      <td>D16-1036.pdf</td>\n",
       "      <td>unknow</td>\n",
       "      <td>Multi-view Response Selection for Human-Comput...</td>\n",
       "    </tr>\n",
       "    <tr>\n",
       "      <th>1</th>\n",
       "      <td>False</td>\n",
       "      <td>D16-1036.pdf</td>\n",
       "      <td>question answering; SQuAD; F1</td>\n",
       "      <td>Multi-view Response Selection for Human-Comput...</td>\n",
       "    </tr>\n",
       "    <tr>\n",
       "      <th>2</th>\n",
       "      <td>False</td>\n",
       "      <td>D16-1036.pdf</td>\n",
       "      <td>relation prediction; FB15K-237; H@1</td>\n",
       "      <td>Multi-view Response Selection for Human-Comput...</td>\n",
       "    </tr>\n",
       "    <tr>\n",
       "      <th>3</th>\n",
       "      <td>False</td>\n",
       "      <td>D16-1036.pdf</td>\n",
       "      <td>word sense disambiguation; SemEval 2013; F1</td>\n",
       "      <td>Multi-view Response Selection for Human-Comput...</td>\n",
       "    </tr>\n",
       "    <tr>\n",
       "      <th>4</th>\n",
       "      <td>False</td>\n",
       "      <td>D16-1036.pdf</td>\n",
       "      <td>language modeling; 1B Words / Google Billion W...</td>\n",
       "      <td>Multi-view Response Selection for Human-Comput...</td>\n",
       "    </tr>\n",
       "  </tbody>\n",
       "</table>\n",
       "</div>"
      ],
      "text/plain": [
       "   label         title                                                TDM  \\\n",
       "0   True  D16-1036.pdf                                             unknow   \n",
       "1  False  D16-1036.pdf                      question answering; SQuAD; F1   \n",
       "2  False  D16-1036.pdf                relation prediction; FB15K-237; H@1   \n",
       "3  False  D16-1036.pdf        word sense disambiguation; SemEval 2013; F1   \n",
       "4  False  D16-1036.pdf  language modeling; 1B Words / Google Billion W...   \n",
       "\n",
       "                                             Context  \n",
       "0  Multi-view Response Selection for Human-Comput...  \n",
       "1  Multi-view Response Selection for Human-Comput...  \n",
       "2  Multi-view Response Selection for Human-Comput...  \n",
       "3  Multi-view Response Selection for Human-Comput...  \n",
       "4  Multi-view Response Selection for Human-Comput...  "
      ]
     },
     "execution_count": 3,
     "metadata": {},
     "output_type": "execute_result"
    }
   ],
   "source": [
    "train_IBM_pd.head()"
   ]
  },
  {
   "cell_type": "code",
   "execution_count": 11,
   "metadata": {},
   "outputs": [
    {
     "data": {
      "text/plain": [
       "label      373\n",
       "title      373\n",
       "TDM        373\n",
       "Context    373\n",
       "dtype: int64"
      ]
     },
     "execution_count": 11,
     "metadata": {},
     "output_type": "execute_result"
    }
   ],
   "source": [
    "train_IBM_pd[train_IBM_pd.label==True].count()"
   ]
  },
  {
   "cell_type": "code",
   "execution_count": 10,
   "metadata": {},
   "outputs": [
    {
     "data": {
      "text/plain": [
       "label        1\n",
       "title      170\n",
       "TDM         79\n",
       "Context    169\n",
       "dtype: int64"
      ]
     },
     "execution_count": 10,
     "metadata": {},
     "output_type": "execute_result"
    }
   ],
   "source": [
    "train_IBM_pd[train_IBM_pd.label==True].nunique()"
   ]
  },
  {
   "cell_type": "code",
   "execution_count": 20,
   "metadata": {},
   "outputs": [],
   "source": [
    "# train_IBM_pd_true = train_IBM_pd[train_IBM_pd.label==True]\n",
    "\n",
    "# train_IBM_pd_true[train_IBM_pd_true.title.duplicated()]"
   ]
  },
  {
   "cell_type": "code",
   "execution_count": null,
   "metadata": {},
   "outputs": [],
   "source": []
  },
  {
   "cell_type": "code",
   "execution_count": 8,
   "metadata": {},
   "outputs": [
    {
     "data": {
      "text/plain": [
       "label      12933\n",
       "title      12933\n",
       "TDM        12933\n",
       "Context    12933\n",
       "dtype: int64"
      ]
     },
     "execution_count": 8,
     "metadata": {},
     "output_type": "execute_result"
    }
   ],
   "source": [
    "train_IBM_pd[train_IBM_pd.label==False].count()"
   ]
  },
  {
   "cell_type": "markdown",
   "metadata": {},
   "source": [
    "## Update the IBM train and test data to our generated context"
   ]
  },
  {
   "cell_type": "code",
   "execution_count": 2,
   "metadata": {},
   "outputs": [],
   "source": [
    "train_IBM_pd = pd.read_csv(f\"/nfs/home/kabenamualus/Research/task-dataset-metric-nli-extraction/data/ibm/exp/few-shot-setup/NLP-TDMS/paperVersion/train.tsv\", \n",
    "                    sep=\"\\t\", names=[\"label\", \"title\", \"TDM\", \"Context\"])\n",
    "\n",
    "test_IBM_pd = pd.read_csv(f\"/nfs/home/kabenamualus/Research/task-dataset-metric-nli-extraction/data/ibm/exp/few-shot-setup/NLP-TDMS/paperVersion/test.tsv\", \n",
    "                    sep=\"\\t\", names=[\"label\", \"title\", \"TDM\", \"Context\"])\n",
    "\n",
    "\n",
    "trainOutput_150_IBM_pd = pd.read_csv(f\"/nfs/home/kabenamualus/Research/task-dataset-metric-nli-extraction/data/ibm/exp/few-shot-setup/NLP-TDMS/paperVersion/IBM_jar_150/0Neg1000unk/trainOutput.tsv\", \n",
    "                    sep=\"\\t\", names=[\"label\", \"title\", \"TDM\", \"Context\"])\n",
    "\n",
    "trainOutput_full_IBM_pd = pd.read_csv(f\"/nfs/home/kabenamualus/Research/task-dataset-metric-nli-extraction/data/ibm/exp/few-shot-setup/NLP-TDMS/paperVersion/IBM_jar_full/0Neg1000unk/trainOutput.tsv\", \n",
    "                    sep=\"\\t\", names=[\"label\", \"title\", \"TDM\", \"Context\"])\n",
    "\n",
    "# path_train_150 = \"/nfs/home/kabenamualus/Research/task-dataset-metric-nli-extraction/data/ibm/exp/few-shot-setup/NLP-TDMS/paperVersion/train_150.tsv\"\n",
    "# path_train_full = \"/nfs/home/kabenamualus/Research/task-dataset-metric-nli-extraction/data/ibm/exp/few-shot-setup/NLP-TDMS/paperVersion/train_full.tsv\""
   ]
  },
  {
   "cell_type": "code",
   "execution_count": 3,
   "metadata": {},
   "outputs": [
    {
     "data": {
      "text/html": [
       "<div>\n",
       "<style scoped>\n",
       "    .dataframe tbody tr th:only-of-type {\n",
       "        vertical-align: middle;\n",
       "    }\n",
       "\n",
       "    .dataframe tbody tr th {\n",
       "        vertical-align: top;\n",
       "    }\n",
       "\n",
       "    .dataframe thead th {\n",
       "        text-align: right;\n",
       "    }\n",
       "</style>\n",
       "<table border=\"1\" class=\"dataframe\">\n",
       "  <thead>\n",
       "    <tr style=\"text-align: right;\">\n",
       "      <th></th>\n",
       "      <th>label</th>\n",
       "      <th>title</th>\n",
       "      <th>TDM</th>\n",
       "      <th>Context</th>\n",
       "    </tr>\n",
       "  </thead>\n",
       "  <tbody>\n",
       "    <tr>\n",
       "      <th>810</th>\n",
       "      <td>True</td>\n",
       "      <td>S17-2080.pdf</td>\n",
       "      <td>unknown</td>\n",
       "      <td>UWaterloo at SemEval-2017 Task 8: Detecting St...</td>\n",
       "    </tr>\n",
       "    <tr>\n",
       "      <th>811</th>\n",
       "      <td>True</td>\n",
       "      <td>N18-2009.pdf</td>\n",
       "      <td>summarization; CNN / Daily Mail (Anonymized ve...</td>\n",
       "      <td>Guiding Generation for Abstractive Text Summar...</td>\n",
       "    </tr>\n",
       "    <tr>\n",
       "      <th>812</th>\n",
       "      <td>True</td>\n",
       "      <td>N18-2009.pdf</td>\n",
       "      <td>summarization; CNN / Daily Mail (Anonymized ve...</td>\n",
       "      <td>Guiding Generation for Abstractive Text Summar...</td>\n",
       "    </tr>\n",
       "    <tr>\n",
       "      <th>813</th>\n",
       "      <td>True</td>\n",
       "      <td>N18-2009.pdf</td>\n",
       "      <td>summarization; CNN / Daily Mail (Anonymized ve...</td>\n",
       "      <td>Guiding Generation for Abstractive Text Summar...</td>\n",
       "    </tr>\n",
       "    <tr>\n",
       "      <th>814</th>\n",
       "      <td>True</td>\n",
       "      <td>N18-2009.pdf</td>\n",
       "      <td>summarization; CNN / Daily Mail (Anonymized ve...</td>\n",
       "      <td>Guiding Generation for Abstractive Text Summar...</td>\n",
       "    </tr>\n",
       "  </tbody>\n",
       "</table>\n",
       "</div>"
      ],
      "text/plain": [
       "     label         title                                                TDM  \\\n",
       "810   True  S17-2080.pdf                                            unknown   \n",
       "811   True  N18-2009.pdf  summarization; CNN / Daily Mail (Anonymized ve...   \n",
       "812   True  N18-2009.pdf  summarization; CNN / Daily Mail (Anonymized ve...   \n",
       "813   True  N18-2009.pdf  summarization; CNN / Daily Mail (Anonymized ve...   \n",
       "814   True  N18-2009.pdf  summarization; CNN / Daily Mail (Anonymized ve...   \n",
       "\n",
       "                                               Context  \n",
       "810  UWaterloo at SemEval-2017 Task 8: Detecting St...  \n",
       "811  Guiding Generation for Abstractive Text Summar...  \n",
       "812  Guiding Generation for Abstractive Text Summar...  \n",
       "813  Guiding Generation for Abstractive Text Summar...  \n",
       "814  Guiding Generation for Abstractive Text Summar...  "
      ]
     },
     "execution_count": 3,
     "metadata": {},
     "output_type": "execute_result"
    }
   ],
   "source": [
    "trainOutput_150_IBM_pd.tail()"
   ]
  },
  {
   "cell_type": "code",
   "execution_count": 4,
   "metadata": {},
   "outputs": [
    {
     "data": {
      "text/html": [
       "<div>\n",
       "<style scoped>\n",
       "    .dataframe tbody tr th:only-of-type {\n",
       "        vertical-align: middle;\n",
       "    }\n",
       "\n",
       "    .dataframe tbody tr th {\n",
       "        vertical-align: top;\n",
       "    }\n",
       "\n",
       "    .dataframe thead th {\n",
       "        text-align: right;\n",
       "    }\n",
       "</style>\n",
       "<table border=\"1\" class=\"dataframe\">\n",
       "  <thead>\n",
       "    <tr style=\"text-align: right;\">\n",
       "      <th></th>\n",
       "      <th>label</th>\n",
       "      <th>title</th>\n",
       "      <th>TDM</th>\n",
       "      <th>Context</th>\n",
       "    </tr>\n",
       "  </thead>\n",
       "  <tbody>\n",
       "    <tr>\n",
       "      <th>0</th>\n",
       "      <td>True</td>\n",
       "      <td>64f0dab74295e5eb139c160ed79ff262558a.pdf</td>\n",
       "      <td>constituency_parsing; Penn Treebank; F1</td>\n",
       "      <td>Effective Self-Training for Parsing We present...</td>\n",
       "    </tr>\n",
       "    <tr>\n",
       "      <th>1</th>\n",
       "      <td>True</td>\n",
       "      <td>D18-1205.pdf</td>\n",
       "      <td>summarization; CNN / Daily Mail (Non-anonymize...</td>\n",
       "      <td>Improving Neural Abstractive Document Summariz...</td>\n",
       "    </tr>\n",
       "    <tr>\n",
       "      <th>2</th>\n",
       "      <td>True</td>\n",
       "      <td>D18-1205.pdf</td>\n",
       "      <td>summarization; CNN / Daily Mail (Non-anonymize...</td>\n",
       "      <td>Improving Neural Abstractive Document Summariz...</td>\n",
       "    </tr>\n",
       "    <tr>\n",
       "      <th>3</th>\n",
       "      <td>True</td>\n",
       "      <td>D18-1205.pdf</td>\n",
       "      <td>summarization; CNN / Daily Mail (Non-anonymize...</td>\n",
       "      <td>Improving Neural Abstractive Document Summariz...</td>\n",
       "    </tr>\n",
       "    <tr>\n",
       "      <th>4</th>\n",
       "      <td>True</td>\n",
       "      <td>D18-1205.pdf</td>\n",
       "      <td>summarization; CNN / Daily Mail (Non-anonymize...</td>\n",
       "      <td>Improving Neural Abstractive Document Summariz...</td>\n",
       "    </tr>\n",
       "  </tbody>\n",
       "</table>\n",
       "</div>"
      ],
      "text/plain": [
       "   label                                     title  \\\n",
       "0   True  64f0dab74295e5eb139c160ed79ff262558a.pdf   \n",
       "1   True                              D18-1205.pdf   \n",
       "2   True                              D18-1205.pdf   \n",
       "3   True                              D18-1205.pdf   \n",
       "4   True                              D18-1205.pdf   \n",
       "\n",
       "                                                 TDM  \\\n",
       "0            constituency_parsing; Penn Treebank; F1   \n",
       "1  summarization; CNN / Daily Mail (Non-anonymize...   \n",
       "2  summarization; CNN / Daily Mail (Non-anonymize...   \n",
       "3  summarization; CNN / Daily Mail (Non-anonymize...   \n",
       "4  summarization; CNN / Daily Mail (Non-anonymize...   \n",
       "\n",
       "                                             Context  \n",
       "0  Effective Self-Training for Parsing We present...  \n",
       "1  Improving Neural Abstractive Document Summariz...  \n",
       "2  Improving Neural Abstractive Document Summariz...  \n",
       "3  Improving Neural Abstractive Document Summariz...  \n",
       "4  Improving Neural Abstractive Document Summariz...  "
      ]
     },
     "execution_count": 4,
     "metadata": {},
     "output_type": "execute_result"
    }
   ],
   "source": [
    "trainOutput_full_IBM_pd.head()"
   ]
  },
  {
   "cell_type": "markdown",
   "metadata": {},
   "source": [
    "### train_IBM_pd vs trainOutput_150_IBM_pd"
   ]
  },
  {
   "cell_type": "code",
   "execution_count": 5,
   "metadata": {},
   "outputs": [
    {
     "data": {
      "text/html": [
       "<div>\n",
       "<style scoped>\n",
       "    .dataframe tbody tr th:only-of-type {\n",
       "        vertical-align: middle;\n",
       "    }\n",
       "\n",
       "    .dataframe tbody tr th {\n",
       "        vertical-align: top;\n",
       "    }\n",
       "\n",
       "    .dataframe thead th {\n",
       "        text-align: right;\n",
       "    }\n",
       "</style>\n",
       "<table border=\"1\" class=\"dataframe\">\n",
       "  <thead>\n",
       "    <tr style=\"text-align: right;\">\n",
       "      <th></th>\n",
       "      <th>label</th>\n",
       "      <th>title</th>\n",
       "      <th>TDM</th>\n",
       "      <th>Context</th>\n",
       "    </tr>\n",
       "  </thead>\n",
       "  <tbody>\n",
       "    <tr>\n",
       "      <th>0</th>\n",
       "      <td>True</td>\n",
       "      <td>D16-1036.pdf</td>\n",
       "      <td>unknown</td>\n",
       "      <td>Multi-view Response Selection for Human-Comput...</td>\n",
       "    </tr>\n",
       "    <tr>\n",
       "      <th>79</th>\n",
       "      <td>True</td>\n",
       "      <td>1803.09074.pdf</td>\n",
       "      <td>unknown</td>\n",
       "      <td>Multi-range Reasoning for Machine Comprehensio...</td>\n",
       "    </tr>\n",
       "    <tr>\n",
       "      <th>158</th>\n",
       "      <td>True</td>\n",
       "      <td>1806.06228.pdf</td>\n",
       "      <td>unknown</td>\n",
       "      <td>Multimodal Sentiment Analysis using Hierarchic...</td>\n",
       "    </tr>\n",
       "    <tr>\n",
       "      <th>237</th>\n",
       "      <td>True</td>\n",
       "      <td>P17-1127.pdf</td>\n",
       "      <td>unknown</td>\n",
       "      <td>Can Syntax Help? Improving an LSTM-based Sente...</td>\n",
       "    </tr>\n",
       "    <tr>\n",
       "      <th>316</th>\n",
       "      <td>True</td>\n",
       "      <td>1602.02373.pdf</td>\n",
       "      <td>text classification; DBpedia; Error</td>\n",
       "      <td>Supervised and Semi-Supervised Text Categoriza...</td>\n",
       "    </tr>\n",
       "  </tbody>\n",
       "</table>\n",
       "</div>"
      ],
      "text/plain": [
       "     label           title                                  TDM  \\\n",
       "0     True    D16-1036.pdf                              unknown   \n",
       "79    True  1803.09074.pdf                              unknown   \n",
       "158   True  1806.06228.pdf                              unknown   \n",
       "237   True    P17-1127.pdf                              unknown   \n",
       "316   True  1602.02373.pdf  text classification; DBpedia; Error   \n",
       "\n",
       "                                               Context  \n",
       "0    Multi-view Response Selection for Human-Comput...  \n",
       "79   Multi-range Reasoning for Machine Comprehensio...  \n",
       "158  Multimodal Sentiment Analysis using Hierarchic...  \n",
       "237  Can Syntax Help? Improving an LSTM-based Sente...  \n",
       "316  Supervised and Semi-Supervised Text Categoriza...  "
      ]
     },
     "execution_count": 5,
     "metadata": {},
     "output_type": "execute_result"
    }
   ],
   "source": [
    "train_IBM_pd[train_IBM_pd.label==True].head()"
   ]
  },
  {
   "cell_type": "code",
   "execution_count": 6,
   "metadata": {},
   "outputs": [
    {
     "data": {
      "text/html": [
       "<div>\n",
       "<style scoped>\n",
       "    .dataframe tbody tr th:only-of-type {\n",
       "        vertical-align: middle;\n",
       "    }\n",
       "\n",
       "    .dataframe tbody tr th {\n",
       "        vertical-align: top;\n",
       "    }\n",
       "\n",
       "    .dataframe thead th {\n",
       "        text-align: right;\n",
       "    }\n",
       "</style>\n",
       "<table border=\"1\" class=\"dataframe\">\n",
       "  <thead>\n",
       "    <tr style=\"text-align: right;\">\n",
       "      <th></th>\n",
       "      <th>label</th>\n",
       "      <th>title</th>\n",
       "      <th>TDM</th>\n",
       "      <th>Context</th>\n",
       "    </tr>\n",
       "  </thead>\n",
       "  <tbody>\n",
       "    <tr>\n",
       "      <th>0</th>\n",
       "      <td>True</td>\n",
       "      <td>64f0dab74295e5eb139c160ed79ff262558a.pdf</td>\n",
       "      <td>constituency_parsing; Penn Treebank; F1</td>\n",
       "      <td>Effective Self-Training for Parsing We present...</td>\n",
       "    </tr>\n",
       "    <tr>\n",
       "      <th>1</th>\n",
       "      <td>True</td>\n",
       "      <td>D18-1205.pdf</td>\n",
       "      <td>summarization; CNN / Daily Mail (Non-anonymize...</td>\n",
       "      <td>Improving Neural Abstractive Document Summariz...</td>\n",
       "    </tr>\n",
       "    <tr>\n",
       "      <th>2</th>\n",
       "      <td>True</td>\n",
       "      <td>D18-1205.pdf</td>\n",
       "      <td>summarization; CNN / Daily Mail (Non-anonymize...</td>\n",
       "      <td>Improving Neural Abstractive Document Summariz...</td>\n",
       "    </tr>\n",
       "    <tr>\n",
       "      <th>3</th>\n",
       "      <td>True</td>\n",
       "      <td>D18-1205.pdf</td>\n",
       "      <td>summarization; CNN / Daily Mail (Non-anonymize...</td>\n",
       "      <td>Improving Neural Abstractive Document Summariz...</td>\n",
       "    </tr>\n",
       "    <tr>\n",
       "      <th>4</th>\n",
       "      <td>True</td>\n",
       "      <td>D18-1205.pdf</td>\n",
       "      <td>summarization; CNN / Daily Mail (Non-anonymize...</td>\n",
       "      <td>Improving Neural Abstractive Document Summariz...</td>\n",
       "    </tr>\n",
       "  </tbody>\n",
       "</table>\n",
       "</div>"
      ],
      "text/plain": [
       "   label                                     title  \\\n",
       "0   True  64f0dab74295e5eb139c160ed79ff262558a.pdf   \n",
       "1   True                              D18-1205.pdf   \n",
       "2   True                              D18-1205.pdf   \n",
       "3   True                              D18-1205.pdf   \n",
       "4   True                              D18-1205.pdf   \n",
       "\n",
       "                                                 TDM  \\\n",
       "0            constituency_parsing; Penn Treebank; F1   \n",
       "1  summarization; CNN / Daily Mail (Non-anonymize...   \n",
       "2  summarization; CNN / Daily Mail (Non-anonymize...   \n",
       "3  summarization; CNN / Daily Mail (Non-anonymize...   \n",
       "4  summarization; CNN / Daily Mail (Non-anonymize...   \n",
       "\n",
       "                                             Context  \n",
       "0  Effective Self-Training for Parsing We present...  \n",
       "1  Improving Neural Abstractive Document Summariz...  \n",
       "2  Improving Neural Abstractive Document Summariz...  \n",
       "3  Improving Neural Abstractive Document Summariz...  \n",
       "4  Improving Neural Abstractive Document Summariz...  "
      ]
     },
     "execution_count": 6,
     "metadata": {},
     "output_type": "execute_result"
    }
   ],
   "source": [
    "trainOutput_150_IBM_pd.head()"
   ]
  },
  {
   "cell_type": "code",
   "execution_count": 7,
   "metadata": {},
   "outputs": [
    {
     "data": {
      "text/plain": [
       "array(['D16-1036.pdf', '1803.09074.pdf'], dtype=object)"
      ]
     },
     "execution_count": 7,
     "metadata": {},
     "output_type": "execute_result"
    }
   ],
   "source": [
    "train_IBM_pd.title.unique()[:2]"
   ]
  },
  {
   "cell_type": "code",
   "execution_count": 9,
   "metadata": {},
   "outputs": [],
   "source": [
    "# list_trainOutput_150_IBM_pd_uniq[:2]"
   ]
  },
  {
   "cell_type": "code",
   "execution_count": 10,
   "metadata": {},
   "outputs": [
    {
     "data": {
      "text/plain": [
       "170"
      ]
     },
     "execution_count": 10,
     "metadata": {},
     "output_type": "execute_result"
    }
   ],
   "source": [
    "# List of pdf name that are in the test file\n",
    "list_train_IBM_uniq = list(train_IBM_pd.title.unique())\n",
    "len(list_train_IBM_uniq)"
   ]
  },
  {
   "cell_type": "code",
   "execution_count": 11,
   "metadata": {},
   "outputs": [
    {
     "data": {
      "text/plain": [
       "167"
      ]
     },
     "execution_count": 11,
     "metadata": {},
     "output_type": "execute_result"
    }
   ],
   "source": [
    "# List of pdf name that are in the train file\n",
    "list_test_IBM_uniq = list(test_IBM_pd.title.unique())\n",
    "len(list_test_IBM_uniq)"
   ]
  },
  {
   "cell_type": "code",
   "execution_count": 12,
   "metadata": {},
   "outputs": [
    {
     "data": {
      "text/plain": [
       "337"
      ]
     },
     "execution_count": 12,
     "metadata": {},
     "output_type": "execute_result"
    }
   ],
   "source": [
    "# total number of uniq pdf in the train and testing\n",
    "len(list_test_IBM_uniq)+len(list_train_IBM_uniq)"
   ]
  },
  {
   "cell_type": "code",
   "execution_count": 13,
   "metadata": {},
   "outputs": [
    {
     "data": {
      "text/plain": [
       "337"
      ]
     },
     "execution_count": 13,
     "metadata": {},
     "output_type": "execute_result"
    }
   ],
   "source": [
    "# List of pdf name that are in the train file\n",
    "list_trainOutput_150_IBM_pd_uniq = list(trainOutput_150_IBM_pd.title.unique())\n",
    "len(list_trainOutput_150_IBM_pd_uniq)"
   ]
  },
  {
   "cell_type": "code",
   "execution_count": 14,
   "metadata": {},
   "outputs": [
    {
     "data": {
      "text/plain": [
       "337"
      ]
     },
     "execution_count": 14,
     "metadata": {},
     "output_type": "execute_result"
    }
   ],
   "source": [
    "# List of pdf name that are in the train file\n",
    "list_trainOutput_full_IBM_pd_uniq = list(trainOutput_full_IBM_pd.title.unique())\n",
    "len(list_trainOutput_full_IBM_pd_uniq)"
   ]
  },
  {
   "cell_type": "code",
   "execution_count": 15,
   "metadata": {},
   "outputs": [],
   "source": [
    "# Dict to contains new context\n",
    "\n",
    "dict_150_paper_context = {}\n",
    "for paper in list_trainOutput_150_IBM_pd_uniq:\n",
    "    dict_150_paper_context[paper]=trainOutput_150_IBM_pd[trainOutput_150_IBM_pd.title==paper].Context.values[0]\n",
    "    \n",
    "dict_original_paper_context = {}\n",
    "for paper in list_train_IBM_uniq:\n",
    "    dict_original_paper_context[paper]=train_IBM_pd[train_IBM_pd.title==paper].Context.values[0]\n",
    "for paper in list_test_IBM_uniq:\n",
    "    dict_original_paper_context[paper]=test_IBM_pd[test_IBM_pd.title==paper].Context.values[0]\n",
    "    \n",
    "    \n",
    "dict_full_paper_context = {}\n",
    "for paper in list_trainOutput_full_IBM_pd_uniq:\n",
    "    dict_full_paper_context[paper]=trainOutput_full_IBM_pd[trainOutput_full_IBM_pd.title==paper].Context.values[0]"
   ]
  },
  {
   "cell_type": "code",
   "execution_count": 74,
   "metadata": {},
   "outputs": [],
   "source": [
    "def get_start_lenght(dictionary, limit=\"150\", title=\"\",):\n",
    "    # Stats\n",
    "    len_context= []\n",
    "    for context in dictionary.values():\n",
    "        len_context.append(len(context.split()))\n",
    "    \n",
    "    print(f\"Context TDM limit {limit}:\")\n",
    "    print(f\"Mean lenght: {np.mean(len_context)}\")\n",
    "    print(f\"Max lenght: {np.max(len_context)}\")\n",
    "    print(f\"Min lenght: {np.min(len_context)}\")\n",
    "    print(f\"Std lenght: {np.std(len_context)}\")\n",
    "    \n",
    "    x = np.arange(1, len(len_context)+1, 1)\n",
    "    y = len_context\n",
    "\n",
    "    plt.plot(x, y)\n",
    "\n",
    "    plt.title(title)\n",
    "    plt.xlabel(\"number of papers\")\n",
    "    plt.ylabel(\"lenght DocTAET\")\n",
    "    plt.savefig(fname=re.sub(r\"[0-9]+\", '', title).strip())\n",
    "    plt.show()\n",
    "    \n",
    "    return len_context"
   ]
  },
  {
   "cell_type": "code",
   "execution_count": 75,
   "metadata": {},
   "outputs": [
    {
     "name": "stdout",
     "output_type": "stream",
     "text": [
      "Context TDM limit 150:\n",
      "Mean lenght: 309.6706231454006\n",
      "Max lenght: 546\n",
      "Min lenght: 81\n",
      "Std lenght: 94.29262551239724\n"
     ]
    },
    {
     "data": {
      "image/png": "[encoded data removed]",
      "text/plain": [
       "<Figure size 432x288 with 1 Axes>"
      ]
     },
     "metadata": {
      "needs_background": "light"
     },
     "output_type": "display_data"
    }
   ],
   "source": [
    "len_context_150 = get_start_lenght(dict_150_paper_context, \n",
    "                                   limit=\"150\", \n",
    "                                   title=\"Original DocTAET Hou et al. 2019\")"
   ]
  },
  {
   "cell_type": "code",
   "execution_count": 76,
   "metadata": {},
   "outputs": [
    {
     "name": "stdout",
     "output_type": "stream",
     "text": [
      "Context TDM limit IBM Original:\n",
      "Mean lenght: 309.45103857566767\n",
      "Max lenght: 546\n",
      "Min lenght: 81\n",
      "Std lenght: 93.92587269350176\n"
     ]
    },
    {
     "data": {
      "image/png": "[encoded data removed]",
      "text/plain": [
       "<Figure size 432x288 with 1 Axes>"
      ]
     },
     "metadata": {
      "needs_background": "light"
     },
     "output_type": "display_data"
    }
   ],
   "source": [
    "len_context_original = get_start_lenght(dict_original_paper_context, \n",
    "                                        limit=\"IBM Original\",\n",
    "                                       title=\"Original DocTAET Hou et al. 2019\")"
   ]
  },
  {
   "cell_type": "code",
   "execution_count": 77,
   "metadata": {},
   "outputs": [
    {
     "name": "stdout",
     "output_type": "stream",
     "text": [
      "Context TDM limit full:\n",
      "Mean lenght: 374.7091988130564\n",
      "Max lenght: 1220\n",
      "Min lenght: 81\n",
      "Std lenght: 172.08599311150843\n"
     ]
    },
    {
     "data": {
      "image/png": "[encoded data removed]",
      "text/plain": [
       "<Figure size 432x288 with 1 Axes>"
      ]
     },
     "metadata": {
      "needs_background": "light"
     },
     "output_type": "display_data"
    }
   ],
   "source": [
    "len_context_full = get_start_lenght(dict_full_paper_context, \n",
    "                                    limit=\"full\",\n",
    "                                    title=\"Extended DocTAET\")"
   ]
  },
  {
   "cell_type": "code",
   "execution_count": 20,
   "metadata": {},
   "outputs": [
    {
     "data": {
      "text/html": [
       "<div>\n",
       "<style scoped>\n",
       "    .dataframe tbody tr th:only-of-type {\n",
       "        vertical-align: middle;\n",
       "    }\n",
       "\n",
       "    .dataframe tbody tr th {\n",
       "        vertical-align: top;\n",
       "    }\n",
       "\n",
       "    .dataframe thead th {\n",
       "        text-align: right;\n",
       "    }\n",
       "</style>\n",
       "<table border=\"1\" class=\"dataframe\">\n",
       "  <thead>\n",
       "    <tr style=\"text-align: right;\">\n",
       "      <th></th>\n",
       "      <th>label</th>\n",
       "      <th>title</th>\n",
       "      <th>TDM</th>\n",
       "      <th>Context</th>\n",
       "    </tr>\n",
       "  </thead>\n",
       "  <tbody>\n",
       "    <tr>\n",
       "      <th>0</th>\n",
       "      <td>True</td>\n",
       "      <td>D16-1036.pdf</td>\n",
       "      <td>unknown</td>\n",
       "      <td>Multi-view Response Selection for Human-Comput...</td>\n",
       "    </tr>\n",
       "    <tr>\n",
       "      <th>1</th>\n",
       "      <td>False</td>\n",
       "      <td>D16-1036.pdf</td>\n",
       "      <td>question answering; SQuAD; F1</td>\n",
       "      <td>Multi-view Response Selection for Human-Comput...</td>\n",
       "    </tr>\n",
       "    <tr>\n",
       "      <th>2</th>\n",
       "      <td>False</td>\n",
       "      <td>D16-1036.pdf</td>\n",
       "      <td>relation prediction; FB15K-237; H@1</td>\n",
       "      <td>Multi-view Response Selection for Human-Comput...</td>\n",
       "    </tr>\n",
       "    <tr>\n",
       "      <th>3</th>\n",
       "      <td>False</td>\n",
       "      <td>D16-1036.pdf</td>\n",
       "      <td>word sense disambiguation; SemEval 2013; F1</td>\n",
       "      <td>Multi-view Response Selection for Human-Comput...</td>\n",
       "    </tr>\n",
       "    <tr>\n",
       "      <th>4</th>\n",
       "      <td>False</td>\n",
       "      <td>D16-1036.pdf</td>\n",
       "      <td>language modeling; 1B Words / Google Billion W...</td>\n",
       "      <td>Multi-view Response Selection for Human-Comput...</td>\n",
       "    </tr>\n",
       "  </tbody>\n",
       "</table>\n",
       "</div>"
      ],
      "text/plain": [
       "   label         title                                                TDM  \\\n",
       "0   True  D16-1036.pdf                                            unknown   \n",
       "1  False  D16-1036.pdf                      question answering; SQuAD; F1   \n",
       "2  False  D16-1036.pdf                relation prediction; FB15K-237; H@1   \n",
       "3  False  D16-1036.pdf        word sense disambiguation; SemEval 2013; F1   \n",
       "4  False  D16-1036.pdf  language modeling; 1B Words / Google Billion W...   \n",
       "\n",
       "                                             Context  \n",
       "0  Multi-view Response Selection for Human-Comput...  \n",
       "1  Multi-view Response Selection for Human-Comput...  \n",
       "2  Multi-view Response Selection for Human-Comput...  \n",
       "3  Multi-view Response Selection for Human-Comput...  \n",
       "4  Multi-view Response Selection for Human-Comput...  "
      ]
     },
     "execution_count": 20,
     "metadata": {},
     "output_type": "execute_result"
    }
   ],
   "source": [
    "train_IBM_pd.head()"
   ]
  },
  {
   "cell_type": "code",
   "execution_count": 21,
   "metadata": {},
   "outputs": [
    {
     "data": {
      "text/plain": [
       "array([1, 2, 3, 4])"
      ]
     },
     "execution_count": 21,
     "metadata": {},
     "output_type": "execute_result"
    }
   ],
   "source": [
    "np.arange(1, 5, 1)"
   ]
  },
  {
   "cell_type": "code",
   "execution_count": 245,
   "metadata": {},
   "outputs": [
    {
     "ename": "TypeError",
     "evalue": "'str' object is not callable",
     "output_type": "error",
     "traceback": [
      "\u001b[0;31m---------------------------------------------------------------------------\u001b[0m",
      "\u001b[0;31mTypeError\u001b[0m                                 Traceback (most recent call last)",
      "\u001b[0;32m<ipython-input-245-897c7d05a7cf>\u001b[0m in \u001b[0;36m<module>\u001b[0;34m\u001b[0m\n\u001b[1;32m     29\u001b[0m plt.plot(x, y, color = 'black',\n\u001b[1;32m     30\u001b[0m      linestyle = ':')\n\u001b[0;32m---> 31\u001b[0;31m \u001b[0mplt\u001b[0m\u001b[0;34m.\u001b[0m\u001b[0mxlabel\u001b[0m\u001b[0;34m(\u001b[0m\u001b[0;34m\"len tokens\"\u001b[0m\u001b[0;34m)\u001b[0m\u001b[0;34m\u001b[0m\u001b[0;34m\u001b[0m\u001b[0m\n\u001b[0m\u001b[1;32m     32\u001b[0m \u001b[0mplt\u001b[0m\u001b[0;34m.\u001b[0m\u001b[0mylabel\u001b[0m\u001b[0;34m(\u001b[0m\u001b[0;34m\"Papers count\"\u001b[0m\u001b[0;34m)\u001b[0m\u001b[0;34m\u001b[0m\u001b[0;34m\u001b[0m\u001b[0m\n\u001b[1;32m     33\u001b[0m \u001b[0;34m\u001b[0m\u001b[0m\n",
      "\u001b[0;31mTypeError\u001b[0m: 'str' object is not callable"
     ]
    },
    {
     "data": {
      "image/png": "[encoded data removed]",
      "text/plain": [
       "<Figure size 432x432 with 1 Axes>"
      ]
     },
     "metadata": {},
     "output_type": "display_data"
    }
   ],
   "source": [
    "\n",
    "  \n",
    "# To generate an array of x-values\n",
    "x = np.arange(1, len(len_context_original)+1, 1)\n",
    "\n",
    "# To generate an array of\n",
    "# y-values using corresponding x-values\n",
    "y = len_context_original\n",
    "\n",
    "# def pdf(x):\n",
    "#     mean = np.mean(x)\n",
    "#     std = np.std(x)\n",
    "#     y_out = 1/(std * np.sqrt(2 * np.pi)) * np.exp( - (x - mean)**2 / (2 * std**2))\n",
    "#     return y_out\n",
    "  \n",
    "# # To generate an array of x-values\n",
    "# x = np.arange(-2, 2, 0.1)\n",
    "  \n",
    "# # To generate an array of \n",
    "# # y-values using corresponding x-values\n",
    "# y = pdf(x)\n",
    "  \n",
    "\n",
    "  \n",
    "# Plotting the bell-shaped curve\n",
    "plt.style.use('seaborn')\n",
    "plt.figure(figsize = (6, 6))\n",
    "plt.plot(x, y, color = 'black',\n",
    "     linestyle = ':')\n",
    "plt.xlabel(\"len tokens\")\n",
    "plt.ylabel(\"Papers count\")\n",
    "  \n",
    "plt.scatter( x, y, marker = 'o', s = 25, color = 'red')\n",
    "plt.show()"
   ]
  },
  {
   "cell_type": "code",
   "execution_count": 34,
   "metadata": {},
   "outputs": [
    {
     "data": {
      "image/png": "[encoded data removed]",
      "text/plain": [
       "<Figure size 432x288 with 1 Axes>"
      ]
     },
     "metadata": {
      "needs_background": "light"
     },
     "output_type": "display_data"
    }
   ],
   "source": [
    "import numpy as np\n",
    "import matplotlib.pyplot as plt\n",
    "\n",
    "x = np.arange(1, len(len_context_original)+1, 1)\n",
    "y = len_context_original\n",
    "\n",
    "plt.plot(x, y)\n",
    "\n",
    "plt.title(\"Sports Watch Data\")\n",
    "plt.xlabel(\"Average Pulse\")\n",
    "plt.ylabel(\"Calorie Burnage\")\n",
    "plt.savefig(\"test\")\n",
    "plt.show()\n"
   ]
  },
  {
   "cell_type": "code",
   "execution_count": 24,
   "metadata": {},
   "outputs": [
    {
     "data": {
      "image/png": "[encoded data removed]",
      "text/plain": [
       "<Figure size 432x288 with 1 Axes>"
      ]
     },
     "metadata": {
      "needs_background": "light"
     },
     "output_type": "display_data"
    }
   ],
   "source": [
    "import numpy as np\n",
    "import matplotlib.pyplot as plt\n",
    "\n",
    "x = np.arange(1, len(len_context_full)+1, 1)\n",
    "y = len_context_full\n",
    "\n",
    "plt.plot(x, y)\n",
    "\n",
    "plt.title(\"Sports Watch Data\")\n",
    "plt.xlabel(\"Average Pulse\")\n",
    "plt.ylabel(\"Calorie Burnage\")\n",
    "\n",
    "plt.show()"
   ]
  },
  {
   "cell_type": "code",
   "execution_count": 237,
   "metadata": {},
   "outputs": [
    {
     "data": {
      "image/png": "[encoded data removed]",
      "text/plain": [
       "<Figure size 432x432 with 1 Axes>"
      ]
     },
     "metadata": {},
     "output_type": "display_data"
    }
   ],
   "source": [
    "# To generate an array of x-values\n",
    "x = np.arange(1, len(len_context_full)+1, 1)\n",
    "  \n",
    "# To generate an array of\n",
    "# y-values using corresponding x-values\n",
    "y = len_context_full\n",
    "  \n",
    "# Plotting the bell-shaped curve\n",
    "plt.style.use('seaborn')\n",
    "plt.figure(figsize = (6, 6))\n",
    "plt.plot(x, y, color = 'black',\n",
    "     linestyle = ':')\n",
    "  \n",
    "plt.scatter( x, y, marker = 'o', s = 25, color = 'red')\n",
    "plt.show()"
   ]
  },
  {
   "cell_type": "code",
   "execution_count": null,
   "metadata": {},
   "outputs": [],
   "source": []
  },
  {
   "cell_type": "code",
   "execution_count": 142,
   "metadata": {},
   "outputs": [],
   "source": [
    "train_IBM_pd[\"Context\"] = train_IBM_pd.apply(lambda x : dict_full_paper_context[x['title']] if x['title'] in dict_full_paper_context.keys() else \"None\", axis=1)\n",
    "test_IBM_pd[\"Context\"] = test_IBM_pd.apply(lambda x : dict_full_paper_context[x['title']] if x['title'] in dict_full_paper_context.keys() else \"None\", axis=1)"
   ]
  },
  {
   "cell_type": "code",
   "execution_count": 143,
   "metadata": {},
   "outputs": [
    {
     "name": "stdout",
     "output_type": "stream",
     "text": [
      "Context TDM limit IBM Original:\n",
      "Mean lenght: 374.7091988130564\n",
      "Max lenght: 1220\n",
      "Min lenght: 81\n",
      "Std lenght: 172.08599311150843\n"
     ]
    }
   ],
   "source": [
    "# Verification\n",
    "dict_original_paper_context = {}\n",
    "for paper in list_train_IBM_uniq:\n",
    "    dict_original_paper_context[paper]=train_IBM_pd[train_IBM_pd.title==paper].Context.values[0]\n",
    "for paper in list_test_IBM_uniq:\n",
    "    dict_original_paper_context[paper]=test_IBM_pd[test_IBM_pd.title==paper].Context.values[0]\n",
    "    \n",
    "len_context_original = get_start_lenght(dict_original_paper_context, limit=\"IBM Original\")"
   ]
  },
  {
   "cell_type": "code",
   "execution_count": 144,
   "metadata": {},
   "outputs": [],
   "source": [
    "path_train_full = \"/nfs/home/kabenamualus/Research/task-dataset-metric-nli-extraction/data/ibm/exp/few-shot-setup/NLP-TDMS/paperVersion/train_full.tsv\"\n",
    "path_test_full = \"/nfs/home/kabenamualus/Research/task-dataset-metric-nli-extraction/data/ibm/exp/few-shot-setup/NLP-TDMS/paperVersion/test_full.tsv\"\n",
    "\n",
    "train_IBM_pd.to_csv(path_or_buf=path_train_full, \n",
    "                 sep=\"\\t\", header=None, index=False)\n",
    "\n",
    "test_IBM_pd.to_csv(path_or_buf=path_test_full, \n",
    "                 sep=\"\\t\", header=None, index=False)"
   ]
  },
  {
   "cell_type": "code",
   "execution_count": null,
   "metadata": {},
   "outputs": [],
   "source": []
  },
  {
   "cell_type": "markdown",
   "metadata": {},
   "source": [
    "### Zero-shot"
   ]
  },
  {
   "cell_type": "code",
   "execution_count": 145,
   "metadata": {},
   "outputs": [],
   "source": [
    "train_IBM_zero_shot_pd = pd.read_csv(f\"/nfs/home/kabenamualus/Research/task-dataset-metric-nli-extraction/data/ibm/exp/zero-shot-setup/NLP-TDMS/train.tsv\", \n",
    "                    sep=\"\\t\", names=[\"label\", \"title\", \"TDM\", \"Context\"])\n",
    "\n",
    "test_IBM_zero_shot_pd = pd.read_csv(f\"/nfs/home/kabenamualus/Research/task-dataset-metric-nli-extraction/data/ibm/exp/zero-shot-setup/NLP-TDMS/test.tsv\", \n",
    "                    sep=\"\\t\", names=[\"label\", \"title\", \"TDM\", \"Context\"])\n",
    "\n",
    "\n",
    "trainOutput_150_IBM_pd = pd.read_csv(f\"/nfs/home/kabenamualus/Research/task-dataset-metric-nli-extraction/data/ibm/exp/few-shot-setup/NLP-TDMS/paperVersion/IBM_jar_150/0Neg1000unk/trainOutput.tsv\", \n",
    "                    sep=\"\\t\", names=[\"label\", \"title\", \"TDM\", \"Context\"])\n",
    "\n",
    "trainOutput_full_IBM_pd = pd.read_csv(f\"/nfs/home/kabenamualus/Research/task-dataset-metric-nli-extraction/data/ibm/exp/few-shot-setup/NLP-TDMS/paperVersion/IBM_jar_full/0Neg1000unk/trainOutput.tsv\", \n",
    "                    sep=\"\\t\", names=[\"label\", \"title\", \"TDM\", \"Context\"])"
   ]
  },
  {
   "cell_type": "code",
   "execution_count": 150,
   "metadata": {},
   "outputs": [
    {
     "data": {
      "text/plain": [
       "210"
      ]
     },
     "execution_count": 150,
     "metadata": {},
     "output_type": "execute_result"
    }
   ],
   "source": [
    "# List of pdf name that are in the test file\n",
    "list_train_IBM_zero_shot_uniq = list(train_IBM_zero_shot_pd.title.unique())\n",
    "len(list_train_IBM_zero_shot_uniq)"
   ]
  },
  {
   "cell_type": "code",
   "execution_count": 151,
   "metadata": {},
   "outputs": [
    {
     "data": {
      "text/plain": [
       "108"
      ]
     },
     "execution_count": 151,
     "metadata": {},
     "output_type": "execute_result"
    }
   ],
   "source": [
    "# List of pdf name that are in the train file\n",
    "list_test_IBM_zero_shot_uniq = list(test_IBM_zero_shot_pd.title.unique())\n",
    "len(list_test_IBM_zero_shot_uniq)"
   ]
  },
  {
   "cell_type": "code",
   "execution_count": 152,
   "metadata": {},
   "outputs": [],
   "source": [
    "# # Dict to contain new context\n",
    "# dict_150_paper_zero_shot_context = {}\n",
    "# for paper in list_trainOutput_150_IBM_pd_uniq:\n",
    "#     dict_150_paper_context[paper]=trainOutput_150_IBM_pd[trainOutput_150_IBM_pd.title==paper].Context.values[0]\n",
    "    \n",
    "dict_original_paper_zero_shot_context = {}\n",
    "for paper in list_train_IBM_zero_shot_uniq:\n",
    "    dict_original_paper_zero_shot_context[paper]=train_IBM_zero_shot_pd[train_IBM_zero_shot_pd.title==paper].Context.values[0]\n",
    "for paper in list_test_IBM_zero_shot_uniq:\n",
    "    dict_original_paper_zero_shot_context[paper]=test_IBM_zero_shot_pd[test_IBM_zero_shot_pd.title==paper].Context.values[0]"
   ]
  },
  {
   "cell_type": "code",
   "execution_count": 154,
   "metadata": {},
   "outputs": [
    {
     "name": "stdout",
     "output_type": "stream",
     "text": [
      "Context TDM limit IBM Original Zero-shot:\n",
      "Mean lenght: 309.7295597484277\n",
      "Max lenght: 546\n",
      "Min lenght: 81\n",
      "Std lenght: 93.96825943002948\n"
     ]
    }
   ],
   "source": [
    "len_context_original_zero_shot = get_start_lenght(dict_original_paper_zero_shot_context, limit=\"IBM Original Zero-shot\")"
   ]
  },
  {
   "cell_type": "code",
   "execution_count": 155,
   "metadata": {},
   "outputs": [],
   "source": [
    "train_IBM_zero_shot_pd[\"Context\"] = train_IBM_zero_shot_pd.apply(lambda x : dict_full_paper_context[x['title']] if x['title'] in dict_full_paper_context.keys() else \"None\", axis=1)\n",
    "test_IBM_zero_shot_pd[\"Context\"] = test_IBM_zero_shot_pd.apply(lambda x : dict_full_paper_context[x['title']] if x['title'] in dict_full_paper_context.keys() else \"None\", axis=1)"
   ]
  },
  {
   "cell_type": "code",
   "execution_count": 157,
   "metadata": {},
   "outputs": [
    {
     "name": "stdout",
     "output_type": "stream",
     "text": [
      "Context TDM limit IBM Original Zero-shot extended:\n",
      "Mean lenght: 372.1383647798742\n",
      "Max lenght: 1220\n",
      "Min lenght: 81\n",
      "Std lenght: 170.48358809915555\n"
     ]
    }
   ],
   "source": [
    "# Verification\n",
    "dict_original_paper_zero_shot_context = {}\n",
    "for paper in list_train_IBM_zero_shot_uniq:\n",
    "    dict_original_paper_zero_shot_context[paper]=train_IBM_zero_shot_pd[train_IBM_zero_shot_pd.title==paper].Context.values[0]\n",
    "for paper in list_test_IBM_zero_shot_uniq:\n",
    "    dict_original_paper_zero_shot_context[paper]=test_IBM_zero_shot_pd[test_IBM_zero_shot_pd.title==paper].Context.values[0]\n",
    "    \n",
    "len_context_original_zero_shot = get_start_lenght(dict_original_paper_zero_shot_context, limit=\"IBM Original Zero-shot extended\")"
   ]
  },
  {
   "cell_type": "code",
   "execution_count": 164,
   "metadata": {},
   "outputs": [],
   "source": [
    "path_train_full = \"/nfs/home/kabenamualus/Research/task-dataset-metric-nli-extraction/data/ibm/exp/few-shot-setup/NLP-TDMS/paperVersion/train_full.tsv\"\n",
    "path_test_full = \"/nfs/home/kabenamualus/Research/task-dataset-metric-nli-extraction/data/ibm/exp/few-shot-setup/NLP-TDMS/paperVersion/test_full.tsv\"\n",
    "\n",
    "train_IBM_pd.to_csv(path_or_buf=path_train_full, \n",
    "                 sep=\"\\t\", header=None, index=False)\n",
    "\n",
    "test_IBM_pd.to_csv(path_or_buf=path_test_full, \n",
    "                 sep=\"\\t\", header=None, index=False)"
   ]
  },
  {
   "cell_type": "markdown",
   "metadata": {},
   "source": [
    "### ARC-PDN"
   ]
  },
  {
   "cell_type": "code",
   "execution_count": 173,
   "metadata": {},
   "outputs": [],
   "source": [
    "train_IBM_ARC_PDN_pd = pd.read_csv(f\"/nfs/home/kabenamualus/Research/task-dataset-metric-nli-extraction/data/ibm/exp/few-shot-setup/ARC-PDN/test_pdn.tsv\", \n",
    "                    sep=\"\\t\", names=[\"label\", \"title\", \"TDM\", \"Context\"])"
   ]
  },
  {
   "cell_type": "code",
   "execution_count": 174,
   "metadata": {},
   "outputs": [
    {
     "data": {
      "text/html": [
       "<div>\n",
       "<style scoped>\n",
       "    .dataframe tbody tr th:only-of-type {\n",
       "        vertical-align: middle;\n",
       "    }\n",
       "\n",
       "    .dataframe tbody tr th {\n",
       "        vertical-align: top;\n",
       "    }\n",
       "\n",
       "    .dataframe thead th {\n",
       "        text-align: right;\n",
       "    }\n",
       "</style>\n",
       "<table border=\"1\" class=\"dataframe\">\n",
       "  <thead>\n",
       "    <tr style=\"text-align: right;\">\n",
       "      <th></th>\n",
       "      <th>label</th>\n",
       "      <th>title</th>\n",
       "      <th>TDM</th>\n",
       "      <th>Context</th>\n",
       "    </tr>\n",
       "  </thead>\n",
       "  <tbody>\n",
       "    <tr>\n",
       "      <th>304540</th>\n",
       "      <td>True</td>\n",
       "      <td>N10-3003.pdf</td>\n",
       "      <td>dependency parsing, Penn Treebank, LAS</td>\n",
       "      <td>Detecting Novelty in the context of Progressiv...</td>\n",
       "    </tr>\n",
       "    <tr>\n",
       "      <th>304541</th>\n",
       "      <td>True</td>\n",
       "      <td>N10-3003.pdf</td>\n",
       "      <td>language modeling, Hutter Prize, Number of params</td>\n",
       "      <td>Detecting Novelty in the context of Progressiv...</td>\n",
       "    </tr>\n",
       "    <tr>\n",
       "      <th>304542</th>\n",
       "      <td>True</td>\n",
       "      <td>N10-3003.pdf</td>\n",
       "      <td>summarization, CNN / Daily Mail (Non-anonymize...</td>\n",
       "      <td>Detecting Novelty in the context of Progressiv...</td>\n",
       "    </tr>\n",
       "    <tr>\n",
       "      <th>304543</th>\n",
       "      <td>True</td>\n",
       "      <td>N10-3003.pdf</td>\n",
       "      <td>word sense disambiguation, Senseval 3, F1</td>\n",
       "      <td>Detecting Novelty in the context of Progressiv...</td>\n",
       "    </tr>\n",
       "    <tr>\n",
       "      <th>304544</th>\n",
       "      <td>True</td>\n",
       "      <td>N10-3003.pdf</td>\n",
       "      <td>text classification, TREC, Error</td>\n",
       "      <td>Detecting Novelty in the context of Progressiv...</td>\n",
       "    </tr>\n",
       "  </tbody>\n",
       "</table>\n",
       "</div>"
      ],
      "text/plain": [
       "        label         title  \\\n",
       "304540   True  N10-3003.pdf   \n",
       "304541   True  N10-3003.pdf   \n",
       "304542   True  N10-3003.pdf   \n",
       "304543   True  N10-3003.pdf   \n",
       "304544   True  N10-3003.pdf   \n",
       "\n",
       "                                                      TDM  \\\n",
       "304540             dependency parsing, Penn Treebank, LAS   \n",
       "304541  language modeling, Hutter Prize, Number of params   \n",
       "304542  summarization, CNN / Daily Mail (Non-anonymize...   \n",
       "304543          word sense disambiguation, Senseval 3, F1   \n",
       "304544                   text classification, TREC, Error   \n",
       "\n",
       "                                                  Context  \n",
       "304540  Detecting Novelty in the context of Progressiv...  \n",
       "304541  Detecting Novelty in the context of Progressiv...  \n",
       "304542  Detecting Novelty in the context of Progressiv...  \n",
       "304543  Detecting Novelty in the context of Progressiv...  \n",
       "304544  Detecting Novelty in the context of Progressiv...  "
      ]
     },
     "execution_count": 174,
     "metadata": {},
     "output_type": "execute_result"
    }
   ],
   "source": [
    "train_IBM_ARC_PDN_pd.tail()"
   ]
  },
  {
   "cell_type": "code",
   "execution_count": 175,
   "metadata": {},
   "outputs": [
    {
     "data": {
      "text/plain": [
       "3855"
      ]
     },
     "execution_count": 175,
     "metadata": {},
     "output_type": "execute_result"
    }
   ],
   "source": [
    "# List of pdf name that are in the test file\n",
    "list_train_IBM_ARC_PDN_pd_uniq = list(train_IBM_ARC_PDN_pd.title.unique())\n",
    "len(list_train_IBM_ARC_PDN_pd_uniq)"
   ]
  },
  {
   "cell_type": "code",
   "execution_count": 176,
   "metadata": {},
   "outputs": [],
   "source": [
    "# # Dict to contain new context\n",
    "# dict_150_paper_zero_shot_context = {}\n",
    "# for paper in list_trainOutput_150_IBM_pd_uniq:\n",
    "#     dict_150_paper_context[paper]=trainOutput_150_IBM_pd[trainOutput_150_IBM_pd.title==paper].Context.values[0]\n",
    "    \n",
    "dict_original_IBM_ARC_PDN_context = {}\n",
    "for paper in list_train_IBM_ARC_PDN_pd_uniq:\n",
    "    dict_original_IBM_ARC_PDN_context[paper]=train_IBM_ARC_PDN_pd[train_IBM_ARC_PDN_pd.title==paper].Context.values[0]"
   ]
  },
  {
   "cell_type": "code",
   "execution_count": 177,
   "metadata": {},
   "outputs": [
    {
     "name": "stdout",
     "output_type": "stream",
     "text": [
      "Context TDM limit IBM Original ARC-PDN:\n",
      "Mean lenght: 254.063813229572\n",
      "Max lenght: 2198\n",
      "Min lenght: 0\n",
      "Std lenght: 111.35486130695618\n"
     ]
    }
   ],
   "source": [
    "len_context_original_ARC_PDN = get_start_lenght(dict_original_IBM_ARC_PDN_context, limit=\"IBM Original ARC-PDN\")"
   ]
  },
  {
   "cell_type": "code",
   "execution_count": 183,
   "metadata": {},
   "outputs": [
    {
     "data": {
      "text/plain": [
       "57"
      ]
     },
     "execution_count": 183,
     "metadata": {},
     "output_type": "execute_result"
    }
   ],
   "source": [
    "len(train_IBM_ARC_PDN_pd.Context.values[0].split())"
   ]
  },
  {
   "cell_type": "code",
   "execution_count": 190,
   "metadata": {},
   "outputs": [
    {
     "data": {
      "text/html": [
       "<div>\n",
       "<style scoped>\n",
       "    .dataframe tbody tr th:only-of-type {\n",
       "        vertical-align: middle;\n",
       "    }\n",
       "\n",
       "    .dataframe tbody tr th {\n",
       "        vertical-align: top;\n",
       "    }\n",
       "\n",
       "    .dataframe thead th {\n",
       "        text-align: right;\n",
       "    }\n",
       "</style>\n",
       "<table border=\"1\" class=\"dataframe\">\n",
       "  <thead>\n",
       "    <tr style=\"text-align: right;\">\n",
       "      <th></th>\n",
       "      <th>label</th>\n",
       "      <th>title</th>\n",
       "      <th>TDM</th>\n",
       "      <th>Context</th>\n",
       "    </tr>\n",
       "  </thead>\n",
       "  <tbody>\n",
       "  </tbody>\n",
       "</table>\n",
       "</div>"
      ],
      "text/plain": [
       "Empty DataFrame\n",
       "Columns: [label, title, TDM, Context]\n",
       "Index: []"
      ]
     },
     "execution_count": 190,
     "metadata": {},
     "output_type": "execute_result"
    }
   ],
   "source": [
    "train_IBM_ARC_PDN_pd[train_IBM_ARC_PDN_pd.Context == \" \"].head()"
   ]
  },
  {
   "cell_type": "code",
   "execution_count": 171,
   "metadata": {},
   "outputs": [],
   "source": [
    "train_IBM_ARC_PDN_pd[\"Context\"] = train_IBM_ARC_PDN_pd.apply(lambda x : dict_full_paper_context[x['title']] if x['title'] in dict_full_paper_context.keys() else \"None\", axis=1)\n",
    "# test_IBM_zero_shot_pd[\"Context\"] = test_IBM_zero_shot_pd.apply(lambda x : dict_full_paper_context[x['title']] if x['title'] in dict_full_paper_context.keys() else \"None\", axis=1)"
   ]
  },
  {
   "cell_type": "code",
   "execution_count": 172,
   "metadata": {},
   "outputs": [
    {
     "name": "stdout",
     "output_type": "stream",
     "text": [
      "Context TDM limit IBM Original ARC-PDN:\n",
      "Mean lenght: 2.6684824902723734\n",
      "Max lenght: 631\n",
      "Min lenght: 1\n",
      "Std lenght: 24.29166868448258\n"
     ]
    }
   ],
   "source": [
    "dict_original_IBM_ARC_PDN_context = {}\n",
    "for paper in list_train_IBM_ARC_PDN_pd_uniq:\n",
    "    dict_original_IBM_ARC_PDN_context[paper]=train_IBM_ARC_PDN_pd[train_IBM_ARC_PDN_pd.title==paper].Context.values[0]\n",
    "    \n",
    "len_context_original_ARC_PDN = get_start_lenght(dict_original_IBM_ARC_PDN_context, limit=\"IBM Original ARC-PDN\")"
   ]
  },
  {
   "cell_type": "code",
   "execution_count": null,
   "metadata": {},
   "outputs": [],
   "source": []
  },
  {
   "cell_type": "code",
   "execution_count": null,
   "metadata": {},
   "outputs": [],
   "source": []
  },
  {
   "cell_type": "code",
   "execution_count": 164,
   "metadata": {},
   "outputs": [],
   "source": [
    "path_train_full = \"/nfs/home/kabenamualus/Research/task-dataset-metric-nli-extraction/data/ibm/exp/few-shot-setup/NLP-TDMS/paperVersion/train_full.tsv\"\n",
    "path_test_full = \"/nfs/home/kabenamualus/Research/task-dataset-metric-nli-extraction/data/ibm/exp/few-shot-setup/NLP-TDMS/paperVersion/test_full.tsv\"\n",
    "\n",
    "train_IBM_pd.to_csv(path_or_buf=path_train_full, \n",
    "                 sep=\"\\t\", header=None, index=False)\n",
    "\n",
    "test_IBM_pd.to_csv(path_or_buf=path_test_full, \n",
    "                 sep=\"\\t\", header=None, index=False)"
   ]
  },
  {
   "cell_type": "code",
   "execution_count": null,
   "metadata": {},
   "outputs": [],
   "source": []
  },
  {
   "cell_type": "code",
   "execution_count": null,
   "metadata": {},
   "outputs": [],
   "source": []
  },
  {
   "cell_type": "code",
   "execution_count": null,
   "metadata": {},
   "outputs": [],
   "source": [
    "# Big dataset problematic resources \n",
    "\n",
    "# Max lenght exceed 10000 Grobid limit\n",
    "Processing file: /nfs/home/kabenamualus/Research/task-dataset-metric-extraction/data/pdf_IBM/1810.06682v2.pdf\n",
    "        \n",
    "    \n",
    "/nfs/home/kabenamualus/Research/task-dataset-metric-extraction/data/pdf_IBM/1504.08200.pdf\n",
    "/nfs/home/kabenamualus/Research/task-dataset-metric-extraction/data/pdf_IBM/1907.09665v10.pdf\n",
    "/nfs/home/kabenamualus/Research/task-dataset-metric-extraction/data/pdf_IBM/2002.02050v3.pdf\n",
    "/nfs/home/kabenamualus/Research/task-dataset-metric-extraction/data/pdf_IBM/2002.02050v3.pdf\n",
    "/nfs/home/kabenamualus/Research/task-dataset-metric-extraction/data/pdf_IBM/1911.10807v3.pdf\n",
    "/nfs/home/kabenamualus/Research/task-dataset-metric-extraction/data/pdf_IBM/1909.13476v1.pdf\n",
    "/nfs/home/kabenamualus/Research/task-dataset-metric-extraction/data/pdf_IBM/1711.07566v1.pdf\n",
    "/nfs/home/kabenamualus/Research/task-dataset-metric-extraction/data/pdf_IBM/download_pdfs.py\n",
    "/nfs/home/kabenamualus/Research/task-dataset-metric-extraction/data/pdf_IBM/1804.01508v10.pdf\n",
    "/nfs/home/kabenamualus/Research/task-dataset-metric-extraction/data/pdf_IBM/1812.01527v2.pdf"
   ]
  },
  {
   "cell_type": "code",
   "execution_count": 78,
   "metadata": {},
   "outputs": [],
   "source": [
    "!mv /nfs/home/kabenamualus/Research/task-dataset-metric-extraction/data/pdf_IBM/download_pdfs.py /nfs/home/kabenamualus/Research/task-dataset-metric-extraction/data/pdf_IBM/download_pdfs_2.py"
   ]
  },
  {
   "cell_type": "code",
   "execution_count": 90,
   "metadata": {},
   "outputs": [
    {
     "name": "stdout",
     "output_type": "stream",
     "text": [
      "rm: cannot remove '/nfs/home/kabenamualus/Research/task-dataset-metric-extraction/data/pdf_IBM/1810.06682v2.pdf': No such file or directory\n"
     ]
    }
   ],
   "source": [
    "# !rm /nfs/home/kabenamualus/Research/task-dataset-metric-extraction/data/pdf_IBM/1810.06682v2.pdf"
   ]
  },
  {
   "cell_type": "code",
   "execution_count": null,
   "metadata": {},
   "outputs": [],
   "source": []
  }
 ],
 "metadata": {
  "kernelspec": {
   "display_name": "Python 3",
   "language": "python",
   "name": "python3"
  },
  "language_info": {
   "codemirror_mode": {
    "name": "ipython",
    "version": 3
   },
   "file_extension": ".py",
   "mimetype": "text/x-python",
   "name": "python",
   "nbconvert_exporter": "python",
   "pygments_lexer": "ipython3",
   "version": "3.6.12"
  }
 },
 "nbformat": 4,
 "nbformat_minor": 5
}
