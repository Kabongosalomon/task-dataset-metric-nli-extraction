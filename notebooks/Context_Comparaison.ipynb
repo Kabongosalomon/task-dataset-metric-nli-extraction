{
 "cells": [
  {
   "cell_type": "code",
   "execution_count": 1,
   "id": "750d259b-a0c9-4c48-932e-a818888e8f7a",
   "metadata": {},
   "outputs": [],
   "source": [
    "# imports\n",
    "import ipdb, os, re\n",
    "import pandas as pd\n",
    "import numpy as np\n",
    "import matplotlib.pyplot as plt"
   ]
  },
  {
   "cell_type": "markdown",
   "id": "cc63b50e",
   "metadata": {},
   "source": [
    "## Compare context lenghts"
   ]
  },
  {
   "cell_type": "code",
   "execution_count": 34,
   "id": "66844ea7-4894-4d49-a05d-ab7a99858e03",
   "metadata": {},
   "outputs": [],
   "source": [
    "# path_to_latex = f\"/nfs/home/kabenamualus/Research/task-dataset-metric-nli-extraction/data/pwc_latex_text/pwc_latex_5_10_10000_clone/twofoldwithunk\"\n",
    "path_to_latex = f\"/nfs/home/kabenamualus/Research/task-dataset-metric-nli-extraction/data/pwc_latex_text/PWC_latex_5_10_10000/twofoldwithunk\"\n",
    "# path_to_published = f\"/nfs/home/kabenamualus/Research/task-dataset-metric-nli-extraction/data/pwc_ibm_150_5_10_10000/10Neg10000unk/twofoldwithunk\"\n",
    "path_to_published = f\"/nfs/home/kabenamualus/Research/task-dataset-metric-nli-extraction/data/pwc_ibm_full_5_10_10000/10Neg10000unk/twofoldwithunk\""
   ]
  },
  {
   "cell_type": "code",
   "execution_count": 35,
   "id": "821c6a6e",
   "metadata": {},
   "outputs": [],
   "source": [
    "fold = \"fold2\"\n",
    "train_latex_pd = pd.read_csv(f\"{path_to_latex}/{fold}/train.tsv\", \n",
    "                    sep=\"\\t\", names=[\"label\", \"title\", \"TDM\", \"Context\"])\n",
    "\n",
    "dev_latex_pd = pd.read_csv(f\"{path_to_latex}/{fold}/dev.tsv\", \n",
    "                    sep=\"\\t\", names=[\"label\", \"title\", \"TDM\", \"Context\"])\n",
    "\n",
    "# train_latex_pd = pd.read_csv(f\"{path_to_latex}/{fold}/train_old.tsv\", \n",
    "#                     sep=\"\\t\", names=[\"label\", \"title\", \"TDM\", \"Context\"])\n",
    "\n",
    "# dev_latex_pd = pd.read_csv(f\"{path_to_latex}/{fold}/dev_old.tsv\", \n",
    "#                     sep=\"\\t\", names=[\"label\", \"title\", \"TDM\", \"Context\"])\n",
    "\n",
    "\n",
    "train_published_pd = pd.read_csv(f\"{path_to_published}/{fold}/train.tsv\", \n",
    "                    sep=\"\\t\", names=[\"label\", \"title\", \"TDM\", \"Context\"])\n",
    "\n",
    "dev_published_pd = pd.read_csv(f\"{path_to_published}/{fold}/dev.tsv\", \n",
    "                    sep=\"\\t\", names=[\"label\", \"title\", \"TDM\", \"Context\"])"
   ]
  },
  {
   "cell_type": "code",
   "execution_count": 36,
   "id": "1ce2b48e",
   "metadata": {},
   "outputs": [],
   "source": [
    "# train_latex_pd.tail()"
   ]
  },
  {
   "cell_type": "code",
   "execution_count": 37,
   "id": "40f2254b",
   "metadata": {},
   "outputs": [
    {
     "data": {
      "text/html": [
       "<div>\n",
       "<style scoped>\n",
       "    .dataframe tbody tr th:only-of-type {\n",
       "        vertical-align: middle;\n",
       "    }\n",
       "\n",
       "    .dataframe tbody tr th {\n",
       "        vertical-align: top;\n",
       "    }\n",
       "\n",
       "    .dataframe thead th {\n",
       "        text-align: right;\n",
       "    }\n",
       "</style>\n",
       "<table border=\"1\" class=\"dataframe\">\n",
       "  <thead>\n",
       "    <tr style=\"text-align: right;\">\n",
       "      <th></th>\n",
       "      <th>label</th>\n",
       "      <th>title</th>\n",
       "      <th>TDM</th>\n",
       "      <th>Context</th>\n",
       "    </tr>\n",
       "  </thead>\n",
       "  <tbody>\n",
       "    <tr>\n",
       "      <th>52310</th>\n",
       "      <td>False</td>\n",
       "      <td>1307.0414v1.pdf</td>\n",
       "      <td>Named Entity Recognition; GENIA; F1</td>\n",
       "      <td>Challenges in Representation Learning: A repor...</td>\n",
       "    </tr>\n",
       "    <tr>\n",
       "      <th>52311</th>\n",
       "      <td>False</td>\n",
       "      <td>1307.0414v1.pdf</td>\n",
       "      <td>3D Human Pose Estimation; 3DPW; acceleration e...</td>\n",
       "      <td>Challenges in Representation Learning: A repor...</td>\n",
       "    </tr>\n",
       "    <tr>\n",
       "      <th>52312</th>\n",
       "      <td>False</td>\n",
       "      <td>1307.0414v1.pdf</td>\n",
       "      <td>Node Classification; Facebook; Accuracy</td>\n",
       "      <td>Challenges in Representation Learning: A repor...</td>\n",
       "    </tr>\n",
       "    <tr>\n",
       "      <th>52313</th>\n",
       "      <td>False</td>\n",
       "      <td>1307.0414v1.pdf</td>\n",
       "      <td>Image Super-Resolution; Set5 - 4x upscaling; PSNR</td>\n",
       "      <td>Challenges in Representation Learning: A repor...</td>\n",
       "    </tr>\n",
       "    <tr>\n",
       "      <th>52314</th>\n",
       "      <td>False</td>\n",
       "      <td>1307.0414v1.pdf</td>\n",
       "      <td>summarization; CNN / Daily Mail (Non-anonymize...</td>\n",
       "      <td>Challenges in Representation Learning: A repor...</td>\n",
       "    </tr>\n",
       "  </tbody>\n",
       "</table>\n",
       "</div>"
      ],
      "text/plain": [
       "       label            title  \\\n",
       "52310  False  1307.0414v1.pdf   \n",
       "52311  False  1307.0414v1.pdf   \n",
       "52312  False  1307.0414v1.pdf   \n",
       "52313  False  1307.0414v1.pdf   \n",
       "52314  False  1307.0414v1.pdf   \n",
       "\n",
       "                                                     TDM  \\\n",
       "52310                Named Entity Recognition; GENIA; F1   \n",
       "52311  3D Human Pose Estimation; 3DPW; acceleration e...   \n",
       "52312            Node Classification; Facebook; Accuracy   \n",
       "52313  Image Super-Resolution; Set5 - 4x upscaling; PSNR   \n",
       "52314  summarization; CNN / Daily Mail (Non-anonymize...   \n",
       "\n",
       "                                                 Context  \n",
       "52310  Challenges in Representation Learning: A repor...  \n",
       "52311  Challenges in Representation Learning: A repor...  \n",
       "52312  Challenges in Representation Learning: A repor...  \n",
       "52313  Challenges in Representation Learning: A repor...  \n",
       "52314  Challenges in Representation Learning: A repor...  "
      ]
     },
     "execution_count": 37,
     "metadata": {},
     "output_type": "execute_result"
    }
   ],
   "source": [
    "train_published_pd.tail()"
   ]
  },
  {
   "cell_type": "code",
   "execution_count": 38,
   "id": "02a43d7d-7281-46d3-9e6d-f698e57e2c7c",
   "metadata": {},
   "outputs": [],
   "source": [
    "# train_latex_pd[\"Len_Context\"] = train_latex_pd.Context.apply(lambda x: len(x.split()))\n",
    "# train_latex_pd = train_latex_pd[train_latex_pd.Len_Context >= 100].drop(\"Len_Context\", axis=1)\n",
    "\n",
    "# dev_latex_pd[\"Len_Context\"] = dev_latex_pd.Context.apply(lambda x: len(x.split()))\n",
    "# dev_latex_pd = dev_latex_pd[dev_latex_pd.Len_Context >= 100].drop(\"Len_Context\", axis=1)\n",
    "\n",
    "# for paper in train_latex_pd.title.unique():\n",
    "#     train_published_pd[train_published_pd.title==paper]\n"
   ]
  },
  {
   "cell_type": "code",
   "execution_count": 39,
   "id": "57ab66e4",
   "metadata": {},
   "outputs": [
    {
     "name": "stdout",
     "output_type": "stream",
     "text": [
      "Number of Paper in the Train set used in ICADL paper : 3753\n",
      "Number of Paper in the Dev set used in ICADL paper : 1608\n",
      "################################################################\n",
      "Number of Paper in the Train set with Latex source code : 2942\n",
      "Number of Paper in the Dev set with Latex source code : 1267\n"
     ]
    }
   ],
   "source": [
    "print(f\"Number of Paper in the Train set used in ICADL paper : {len(train_published_pd[train_published_pd.label==True].title.unique())}\")\n",
    "print(f\"Number of Paper in the Dev set used in ICADL paper : {len(dev_published_pd[dev_published_pd.label==True].title.unique())}\")\n",
    "\n",
    "print(\"################################################################\")\n",
    "\n",
    "print(f\"Number of Paper in the Train set with Latex source code : {len(train_latex_pd[train_latex_pd.label==True].title.unique())}\")\n",
    "print(f\"Number of Paper in the Dev set with Latex source code : {len(dev_latex_pd[dev_latex_pd.label==True].title.unique())}\")"
   ]
  },
  {
   "cell_type": "code",
   "execution_count": 40,
   "id": "a96a1e90-d698-4478-a5d7-9af3e8ac045c",
   "metadata": {},
   "outputs": [
    {
     "data": {
      "text/plain": [
       "5361"
      ]
     },
     "execution_count": 40,
     "metadata": {},
     "output_type": "execute_result"
    }
   ],
   "source": [
    "3753+1608"
   ]
  },
  {
   "cell_type": "code",
   "execution_count": 41,
   "id": "13ce8dc4-f1f8-4916-8f7a-ce8e651b2148",
   "metadata": {},
   "outputs": [
    {
     "data": {
      "text/plain": [
       "4209"
      ]
     },
     "execution_count": 41,
     "metadata": {},
     "output_type": "execute_result"
    }
   ],
   "source": [
    "2942+1267"
   ]
  },
  {
   "cell_type": "raw",
   "id": "3875f55e-f4e3-4b85-b6aa-9393132f898a",
   "metadata": {},
   "source": [
    "Number of Paper in the Train set used in ICADL paper : 3753\n",
    "Number of Paper in the Dev set used in ICADL paper : 1608\n",
    "################################################################\n",
    "# Fold 1\n",
    "Number of Paper in the Train set with Latex source code : 3057\n",
    "Number of Paper in the Dev set with Latex source code : 1310"
   ]
  },
  {
   "cell_type": "code",
   "execution_count": 42,
   "id": "b17c068a",
   "metadata": {},
   "outputs": [
    {
     "data": {
      "text/plain": [
       "2942"
      ]
     },
     "execution_count": 42,
     "metadata": {},
     "output_type": "execute_result"
    }
   ],
   "source": [
    "# List of pdf name that are in the train file\n",
    "list_train_latex_pd_uniq = list(train_latex_pd.title.unique())\n",
    "len(list_train_latex_pd_uniq)"
   ]
  },
  {
   "cell_type": "code",
   "execution_count": 43,
   "id": "f092f441",
   "metadata": {},
   "outputs": [
    {
     "data": {
      "text/plain": [
       "1267"
      ]
     },
     "execution_count": 43,
     "metadata": {},
     "output_type": "execute_result"
    }
   ],
   "source": [
    "# List of pdf name that are in the test file\n",
    "list_dev_latex_pd_uniq = list(dev_latex_pd.title.unique())\n",
    "len(list_dev_latex_pd_uniq)"
   ]
  },
  {
   "cell_type": "code",
   "execution_count": 44,
   "id": "c5263d2c",
   "metadata": {},
   "outputs": [
    {
     "data": {
      "text/plain": [
       "3753"
      ]
     },
     "execution_count": 44,
     "metadata": {},
     "output_type": "execute_result"
    }
   ],
   "source": [
    "# List of pdf name that are in the train file\n",
    "list_train_published_pd_uniq = list(train_published_pd.title.unique())\n",
    "len(list_train_published_pd_uniq)"
   ]
  },
  {
   "cell_type": "code",
   "execution_count": 45,
   "id": "00a91eca",
   "metadata": {},
   "outputs": [
    {
     "data": {
      "text/plain": [
       "1608"
      ]
     },
     "execution_count": 45,
     "metadata": {},
     "output_type": "execute_result"
    }
   ],
   "source": [
    "# List of pdf name that are in the train file\n",
    "list_dev_published_pd_uniq = list(dev_published_pd.title.unique())\n",
    "len(list_dev_published_pd_uniq)"
   ]
  },
  {
   "cell_type": "code",
   "execution_count": 46,
   "id": "69d84f2b",
   "metadata": {},
   "outputs": [],
   "source": [
    "# Dict to contains new context\n",
    "dict_latex_paper_context = {}\n",
    "for paper in list_train_latex_pd_uniq:\n",
    "    dict_latex_paper_context[paper] = train_latex_pd[train_latex_pd.title == paper].Context.values[0]\n",
    "for paper in list_dev_latex_pd_uniq:\n",
    "    dict_latex_paper_context[paper] = dev_latex_pd[dev_latex_pd.title == paper].Context.values[0]\n",
    "    \n",
    "dict_published_paper_context = {}\n",
    "for paper in list_train_published_pd_uniq:\n",
    "    dict_published_paper_context[paper] = train_published_pd[train_published_pd.title == paper].Context.values[0]\n",
    "for paper in list_dev_published_pd_uniq:\n",
    "    dict_published_paper_context[paper] = dev_published_pd[dev_published_pd.title == paper].Context.values[0]"
   ]
  },
  {
   "cell_type": "code",
   "execution_count": 47,
   "id": "1d7b6852",
   "metadata": {},
   "outputs": [],
   "source": [
    "def get_start_lenght(dictionary, limit=\"150\", title=\"\", savefig=False):\n",
    "    # Stats\n",
    "    len_context = []\n",
    "    short_context = 0\n",
    "    paper_to_short_context = {}\n",
    "    \n",
    "    for paper, context in dictionary.items():\n",
    "        len_context.append(len(context.split()))\n",
    "        if len(context.split()) <= 100 :\n",
    "            short_context += 1\n",
    "            paper_to_short_context[paper] = len(context.split()) \n",
    "    \n",
    "    print(f\"Context TDM limit {limit}:\")\n",
    "    print(f\"Mean lenght: {np.mean(len_context)}\")\n",
    "    print(f\"Max lenght: {np.max(len_context)}\")\n",
    "    print(f\"Min lenght: {np.min(len_context)}\")\n",
    "    print(f\"Std lenght: {np.std(len_context)}\")\n",
    "    print(f\"Lenght paper with context less than 10: {len(paper_to_short_context)}\")\n",
    "    \n",
    "    x = np.arange(1, len(len_context)+1, 1)\n",
    "    y = len_context\n",
    "\n",
    "    plt.plot(x, y)\n",
    "\n",
    "    plt.title(title)\n",
    "    plt.xlabel(\"number of papers\")\n",
    "    plt.ylabel(\"lenght DocTAET\")\n",
    "    if savefig:\n",
    "        plt.savefig(fname=re.sub(r\"[0-9]+\", '', title).strip())\n",
    "    plt.show()\n",
    "    \n",
    "    return paper_to_short_context"
   ]
  },
  {
   "cell_type": "code",
   "execution_count": 48,
   "id": "ab1388c1-d2bd-4a4c-ab14-78f96f6f14ea",
   "metadata": {},
   "outputs": [
    {
     "name": "stdout",
     "output_type": "stream",
     "text": [
      "Context TDM limit 512:\n",
      "Mean lenght: 504.3794068270845\n",
      "Max lenght: 2686\n",
      "Min lenght: 5\n",
      "Std lenght: 265.50071944364134\n",
      "Lenght paper with context less than 10: 12\n"
     ]
    },
    {
     "data": {
      "image/png": "[encoded data removed]",
      "text/plain": [
       "<Figure size 432x288 with 1 Axes>"
      ]
     },
     "metadata": {
      "needs_background": "light"
     },
     "output_type": "display_data"
    }
   ],
   "source": [
    "len_published = get_start_lenght(dict_published_paper_context, \n",
    "                               limit=\"512\",\n",
    "                                   title=\"ORKG-TDM ICADL Paper\", savefig=False)"
   ]
  },
  {
   "cell_type": "code",
   "execution_count": 49,
   "id": "7b42a837",
   "metadata": {},
   "outputs": [
    {
     "name": "stdout",
     "output_type": "stream",
     "text": [
      "Context TDM limit None:\n",
      "Mean lenght: 685.2520788785935\n",
      "Max lenght: 7374\n",
      "Min lenght: 100\n",
      "Std lenght: 442.4167283742035\n",
      "Lenght paper with context less than 10: 2\n"
     ]
    },
    {
     "data": {
      "image/png": "[encoded data removed]",
      "text/plain": [
       "<Figure size 432x288 with 1 Axes>"
      ]
     },
     "metadata": {
      "needs_background": "light"
     },
     "output_type": "display_data"
    }
   ],
   "source": [
    "len_latex = get_start_lenght(dict_latex_paper_context, \n",
    "                               limit=\"None\",\n",
    "                                   title=\"ORKG-TDM Latex\", savefig=False)"
   ]
  },
  {
   "cell_type": "code",
   "execution_count": 49,
   "id": "6e508b2b-084a-45bb-9514-6656e999df65",
   "metadata": {},
   "outputs": [
    {
     "data": {
      "text/plain": [
       "{'1504.04666v1.pdf': 84,\n",
       " '2010.07290v1.pdf': 84,\n",
       " '1711.07361v1.pdf': 10,\n",
       " '1703.05165v2.pdf': 31,\n",
       " '2102.04308v1.pdf': 100,\n",
       " '1608.02644v2.pdf': 98,\n",
       " '1307.0414v1.pdf': 78,\n",
       " 'S18-1146.pdf': 81,\n",
       " '2102.04680v1.pdf': 5,\n",
       " 'S16-1186.pdf': 93,\n",
       " '2102.01120v1.pdf': 91,\n",
       " '1709.07809v1.pdf': 66}"
      ]
     },
     "execution_count": 49,
     "metadata": {},
     "output_type": "execute_result"
    }
   ],
   "source": [
    "len_published"
   ]
  },
  {
   "cell_type": "code",
   "execution_count": 50,
   "id": "3f1ce4ab",
   "metadata": {},
   "outputs": [
    {
     "data": {
      "text/plain": [
       "{'1911.04211v4.pdf': 100, '1603.07771v3.pdf': 100}"
      ]
     },
     "execution_count": 50,
     "metadata": {},
     "output_type": "execute_result"
    }
   ],
   "source": [
    "len_latex"
   ]
  },
  {
   "cell_type": "code",
   "execution_count": 51,
   "id": "56a4db04-1ce0-47ed-9067-ae7b6b7590ff",
   "metadata": {},
   "outputs": [],
   "source": [
    "# train_latex_pd.to_csv(path_or_buf=f\"{path_to_latex}/{fold}/train_.tsv\", \n",
    "#                  sep=\"\\t\", header=None, index=False)\n",
    "\n",
    "# dev_latex_pd.to_csv(path_or_buf=f\"{path_to_latex}/{fold}/dev_.tsv\", \n",
    "#                  sep=\"\\t\", header=None, index=False)"
   ]
  },
  {
   "cell_type": "code",
   "execution_count": 52,
   "id": "0ee5de0b-74f7-4307-8d88-c6c3611909d1",
   "metadata": {},
   "outputs": [],
   "source": [
    "# # paper = '1505.07110v2.pdf'\n",
    "# paper = \"1605.06211v1.pdf\"\n",
    "# # paper = '1508.01819v1.pdf'\n",
    "# dict_latex_paper_context[paper]"
   ]
  },
  {
   "cell_type": "code",
   "execution_count": 53,
   "id": "ab24403c-46a7-473c-9288-a9016536360b",
   "metadata": {},
   "outputs": [],
   "source": [
    "# dict_published_paper_context[\"1301.3592v6.pdf\"]"
   ]
  },
  {
   "cell_type": "code",
   "execution_count": 54,
   "id": "a44b4fcb-f992-4681-beb8-c7813f82c4fd",
   "metadata": {},
   "outputs": [],
   "source": [
    "# train_published_pd[\"Context\"] = train_published_pd.apply(lambda x : dict_published_paper_context[x['title']] if x['title'] in dict_latex_paper_context.keys() else \"None\", axis=1)\n",
    "# train_published_pd.drop(train_published_pd.index[train_published_pd['Context'] == 'None'], inplace = True)\n",
    "# train_published_pd.reset_index(drop=True, inplace=True)\n",
    "# dev_published_pd[\"Context\"] = dev_published_pd.apply(lambda x : dict_published_paper_context[x['title']] if x['title'] in dict_latex_paper_context.keys() else \"None\", axis=1)\n",
    "# dev_published_pd.drop(dev_published_pd.index[dev_published_pd['Context'] == 'None'], inplace = True)\n",
    "# dev_published_pd.reset_index(drop=True, inplace=True)\n",
    "\n",
    "train_latex_pd[\"Context\"] = train_latex_pd.apply(lambda x : dict_published_paper_context[x['title']], axis=1)\n",
    "dev_latex_pd[\"Context\"] = dev_latex_pd.apply(lambda x : dict_published_paper_context[x['title']], axis=1)"
   ]
  },
  {
   "cell_type": "code",
   "execution_count": 55,
   "id": "2e93fd7f-6218-4ae6-9806-c9d6ce77e35a",
   "metadata": {},
   "outputs": [
    {
     "data": {
      "text/html": [
       "<div>\n",
       "<style scoped>\n",
       "    .dataframe tbody tr th:only-of-type {\n",
       "        vertical-align: middle;\n",
       "    }\n",
       "\n",
       "    .dataframe tbody tr th {\n",
       "        vertical-align: top;\n",
       "    }\n",
       "\n",
       "    .dataframe thead th {\n",
       "        text-align: right;\n",
       "    }\n",
       "</style>\n",
       "<table border=\"1\" class=\"dataframe\">\n",
       "  <thead>\n",
       "    <tr style=\"text-align: right;\">\n",
       "      <th></th>\n",
       "      <th>label</th>\n",
       "      <th>title</th>\n",
       "      <th>TDM</th>\n",
       "      <th>Context</th>\n",
       "    </tr>\n",
       "  </thead>\n",
       "  <tbody>\n",
       "    <tr>\n",
       "      <th>41137</th>\n",
       "      <td>False</td>\n",
       "      <td>1909.09051v1.pdf</td>\n",
       "      <td>Semi-Supervised Video Object Segmentation; You...</td>\n",
       "      <td>Self-Supervised Monocular Depth Hints Monocula...</td>\n",
       "    </tr>\n",
       "    <tr>\n",
       "      <th>41138</th>\n",
       "      <td>False</td>\n",
       "      <td>1909.09051v1.pdf</td>\n",
       "      <td>Image Clustering; STL-10; Backbone</td>\n",
       "      <td>Self-Supervised Monocular Depth Hints Monocula...</td>\n",
       "    </tr>\n",
       "    <tr>\n",
       "      <th>41139</th>\n",
       "      <td>False</td>\n",
       "      <td>1909.09051v1.pdf</td>\n",
       "      <td>Semi-Supervised Image Classification; SVHN, 10...</td>\n",
       "      <td>Self-Supervised Monocular Depth Hints Monocula...</td>\n",
       "    </tr>\n",
       "    <tr>\n",
       "      <th>41140</th>\n",
       "      <td>False</td>\n",
       "      <td>1909.09051v1.pdf</td>\n",
       "      <td>RGB-D Salient Object Detection; NJU2K; Average...</td>\n",
       "      <td>Self-Supervised Monocular Depth Hints Monocula...</td>\n",
       "    </tr>\n",
       "    <tr>\n",
       "      <th>41141</th>\n",
       "      <td>False</td>\n",
       "      <td>1909.09051v1.pdf</td>\n",
       "      <td>Question Answering; SQuAD2.0 dev; EM</td>\n",
       "      <td>Self-Supervised Monocular Depth Hints Monocula...</td>\n",
       "    </tr>\n",
       "  </tbody>\n",
       "</table>\n",
       "</div>"
      ],
      "text/plain": [
       "       label             title  \\\n",
       "41137  False  1909.09051v1.pdf   \n",
       "41138  False  1909.09051v1.pdf   \n",
       "41139  False  1909.09051v1.pdf   \n",
       "41140  False  1909.09051v1.pdf   \n",
       "41141  False  1909.09051v1.pdf   \n",
       "\n",
       "                                                     TDM  \\\n",
       "41137  Semi-Supervised Video Object Segmentation; You...   \n",
       "41138                 Image Clustering; STL-10; Backbone   \n",
       "41139  Semi-Supervised Image Classification; SVHN, 10...   \n",
       "41140  RGB-D Salient Object Detection; NJU2K; Average...   \n",
       "41141               Question Answering; SQuAD2.0 dev; EM   \n",
       "\n",
       "                                                 Context  \n",
       "41137  Self-Supervised Monocular Depth Hints Monocula...  \n",
       "41138  Self-Supervised Monocular Depth Hints Monocula...  \n",
       "41139  Self-Supervised Monocular Depth Hints Monocula...  \n",
       "41140  Self-Supervised Monocular Depth Hints Monocula...  \n",
       "41141  Self-Supervised Monocular Depth Hints Monocula...  "
      ]
     },
     "execution_count": 55,
     "metadata": {},
     "output_type": "execute_result"
    }
   ],
   "source": [
    "train_latex_pd.tail()"
   ]
  },
  {
   "cell_type": "code",
   "execution_count": 56,
   "id": "5aba4e67-7b38-4701-84f9-a3201e79cc91",
   "metadata": {},
   "outputs": [
    {
     "data": {
      "text/html": [
       "<div>\n",
       "<style scoped>\n",
       "    .dataframe tbody tr th:only-of-type {\n",
       "        vertical-align: middle;\n",
       "    }\n",
       "\n",
       "    .dataframe tbody tr th {\n",
       "        vertical-align: top;\n",
       "    }\n",
       "\n",
       "    .dataframe thead th {\n",
       "        text-align: right;\n",
       "    }\n",
       "</style>\n",
       "<table border=\"1\" class=\"dataframe\">\n",
       "  <thead>\n",
       "    <tr style=\"text-align: right;\">\n",
       "      <th></th>\n",
       "      <th>label</th>\n",
       "      <th>title</th>\n",
       "      <th>TDM</th>\n",
       "      <th>Context</th>\n",
       "    </tr>\n",
       "  </thead>\n",
       "  <tbody>\n",
       "    <tr>\n",
       "      <th>50202</th>\n",
       "      <td>False</td>\n",
       "      <td>1307.0414v1.pdf</td>\n",
       "      <td>Named Entity Recognition; GENIA; F1</td>\n",
       "      <td>Challenges in Representation Learning: A repor...</td>\n",
       "    </tr>\n",
       "    <tr>\n",
       "      <th>50203</th>\n",
       "      <td>False</td>\n",
       "      <td>1307.0414v1.pdf</td>\n",
       "      <td>3D Human Pose Estimation; 3DPW; acceleration e...</td>\n",
       "      <td>Challenges in Representation Learning: A repor...</td>\n",
       "    </tr>\n",
       "    <tr>\n",
       "      <th>50204</th>\n",
       "      <td>False</td>\n",
       "      <td>1307.0414v1.pdf</td>\n",
       "      <td>Node Classification; Facebook; Accuracy</td>\n",
       "      <td>Challenges in Representation Learning: A repor...</td>\n",
       "    </tr>\n",
       "    <tr>\n",
       "      <th>50205</th>\n",
       "      <td>False</td>\n",
       "      <td>1307.0414v1.pdf</td>\n",
       "      <td>Image Super-Resolution; Set5 - 4x upscaling; PSNR</td>\n",
       "      <td>Challenges in Representation Learning: A repor...</td>\n",
       "    </tr>\n",
       "    <tr>\n",
       "      <th>50206</th>\n",
       "      <td>False</td>\n",
       "      <td>1307.0414v1.pdf</td>\n",
       "      <td>summarization; CNN / Daily Mail (Non-anonymize...</td>\n",
       "      <td>Challenges in Representation Learning: A repor...</td>\n",
       "    </tr>\n",
       "  </tbody>\n",
       "</table>\n",
       "</div>"
      ],
      "text/plain": [
       "       label            title  \\\n",
       "50202  False  1307.0414v1.pdf   \n",
       "50203  False  1307.0414v1.pdf   \n",
       "50204  False  1307.0414v1.pdf   \n",
       "50205  False  1307.0414v1.pdf   \n",
       "50206  False  1307.0414v1.pdf   \n",
       "\n",
       "                                                     TDM  \\\n",
       "50202                Named Entity Recognition; GENIA; F1   \n",
       "50203  3D Human Pose Estimation; 3DPW; acceleration e...   \n",
       "50204            Node Classification; Facebook; Accuracy   \n",
       "50205  Image Super-Resolution; Set5 - 4x upscaling; PSNR   \n",
       "50206  summarization; CNN / Daily Mail (Non-anonymize...   \n",
       "\n",
       "                                                 Context  \n",
       "50202  Challenges in Representation Learning: A repor...  \n",
       "50203  Challenges in Representation Learning: A repor...  \n",
       "50204  Challenges in Representation Learning: A repor...  \n",
       "50205  Challenges in Representation Learning: A repor...  \n",
       "50206  Challenges in Representation Learning: A repor...  "
      ]
     },
     "execution_count": 56,
     "metadata": {},
     "output_type": "execute_result"
    }
   ],
   "source": [
    "train_published_pd.tail()"
   ]
  },
  {
   "cell_type": "code",
   "execution_count": 57,
   "id": "3a992dea-f4d0-4e71-8ba7-da91592173a1",
   "metadata": {},
   "outputs": [
    {
     "data": {
      "text/plain": [
       "2942"
      ]
     },
     "execution_count": 57,
     "metadata": {},
     "output_type": "execute_result"
    }
   ],
   "source": [
    "# List of pdf name that are in the test file\n",
    "list_train_latex_pd_uniq = list(train_latex_pd.title.unique())\n",
    "len(list_train_latex_pd_uniq)"
   ]
  },
  {
   "cell_type": "code",
   "execution_count": 58,
   "id": "6acfcecf-1bc1-4989-a257-64fbd58eed22",
   "metadata": {},
   "outputs": [
    {
     "data": {
      "text/plain": [
       "1267"
      ]
     },
     "execution_count": 58,
     "metadata": {},
     "output_type": "execute_result"
    }
   ],
   "source": [
    "# List of pdf name that are in the train file\n",
    "list_dev_latex_pd_uniq = list(dev_latex_pd.title.unique())\n",
    "len(list_dev_latex_pd_uniq)"
   ]
  },
  {
   "cell_type": "code",
   "execution_count": 59,
   "id": "d1ad94fd-79c9-4c5f-84a7-adc56b31afb9",
   "metadata": {},
   "outputs": [
    {
     "data": {
      "text/plain": [
       "3753"
      ]
     },
     "execution_count": 59,
     "metadata": {},
     "output_type": "execute_result"
    }
   ],
   "source": [
    "# List of pdf name that are in the train file\n",
    "list_train_published_pd_uniq = list(train_published_pd.title.unique())\n",
    "len(list_train_published_pd_uniq)"
   ]
  },
  {
   "cell_type": "code",
   "execution_count": 60,
   "id": "5028730d-5cbc-441f-bfe8-e1c797194740",
   "metadata": {},
   "outputs": [
    {
     "data": {
      "text/plain": [
       "1608"
      ]
     },
     "execution_count": 60,
     "metadata": {},
     "output_type": "execute_result"
    }
   ],
   "source": [
    "# List of pdf name that are in the train file\n",
    "list_dev_published_pd_uniq = list(dev_published_pd.title.unique())\n",
    "len(list_dev_published_pd_uniq)"
   ]
  },
  {
   "cell_type": "code",
   "execution_count": 61,
   "id": "3139b08c-d005-44d1-ae34-83a41477d2eb",
   "metadata": {},
   "outputs": [
    {
     "data": {
      "text/plain": [
       "0"
      ]
     },
     "execution_count": 61,
     "metadata": {},
     "output_type": "execute_result"
    }
   ],
   "source": [
    "count = 0\n",
    "for paper in list_dev_latex_pd_uniq:\n",
    "    if paper not in list_train_published_pd_uniq and paper not in list_dev_published_pd_uniq :\n",
    "        # print(paper)\n",
    "        count += 1\n",
    "count"
   ]
  },
  {
   "cell_type": "code",
   "execution_count": 62,
   "id": "7828472f-200e-49f5-8563-ae2e1d268181",
   "metadata": {},
   "outputs": [],
   "source": [
    "# dict_published_paper_context = {}\n",
    "# for paper in list_train_latex_pd_uniq:\n",
    "#     dict_published_paper_context[paper]=train_latex_pd[train_latex_pd.title==paper].Context.values[0]\n",
    "# for paper in list_dev_latex_pd_uniq:\n",
    "#     dict_published_paper_context[paper]=dev_latex_pd[dev_latex_pd.title==paper].Context.values[0]\n",
    "\n",
    "# Dict to contains new context\n",
    "dict_latex_paper_context = {}\n",
    "for paper in list_train_latex_pd_uniq:\n",
    "    dict_latex_paper_context[paper] = train_latex_pd[train_latex_pd.title == paper].Context.values[0]\n",
    "for paper in list_dev_latex_pd_uniq:\n",
    "    dict_latex_paper_context[paper] = dev_latex_pd[dev_latex_pd.title == paper].Context.values[0]\n",
    "    \n",
    "dict_published_paper_context = {}\n",
    "for paper in list_train_published_pd_uniq:\n",
    "    dict_published_paper_context[paper] = train_published_pd[train_published_pd.title == paper].Context.values[0]\n",
    "for paper in list_dev_published_pd_uniq:\n",
    "    dict_published_paper_context[paper] = dev_published_pd[dev_published_pd.title == paper].Context.values[0]"
   ]
  },
  {
   "cell_type": "code",
   "execution_count": 63,
   "id": "f1d12db6-55c7-43b1-8d2b-9b675b162124",
   "metadata": {},
   "outputs": [
    {
     "name": "stdout",
     "output_type": "stream",
     "text": [
      "Context TDM limit None:\n",
      "Mean lenght: 378.88919977616115\n",
      "Max lenght: 2161\n",
      "Min lenght: 5\n",
      "Std lenght: 119.6318828220644\n",
      "Lenght paper with context less than 10: 12\n"
     ]
    },
    {
     "data": {
      "image/png": "[encoded data removed]",
      "text/plain": [
       "<Figure size 432x288 with 1 Axes>"
      ]
     },
     "metadata": {
      "needs_background": "light"
     },
     "output_type": "display_data"
    }
   ],
   "source": [
    "len_context_150 = get_start_lenght(dict_published_paper_context, \n",
    "                                   limit=\"None\", \n",
    "                                   title=\"ORKG-TDM like Papers with Latex Context\",\n",
    "                                  savefig=False)"
   ]
  },
  {
   "cell_type": "code",
   "execution_count": 64,
   "id": "a5d2641a-2bf8-4561-8ab2-8e9416828495",
   "metadata": {},
   "outputs": [
    {
     "name": "stdout",
     "output_type": "stream",
     "text": [
      "Context TDM limit None:\n",
      "Mean lenght: 385.37633642195294\n",
      "Max lenght: 2161\n",
      "Min lenght: 101\n",
      "Std lenght: 118.75935434325383\n",
      "Lenght paper with context less than 10: 0\n"
     ]
    },
    {
     "data": {
      "image/png": "[encoded data removed]",
      "text/plain": [
       "<Figure size 432x288 with 1 Axes>"
      ]
     },
     "metadata": {
      "needs_background": "light"
     },
     "output_type": "display_data"
    }
   ],
   "source": [
    "len_latex = get_start_lenght(dict_latex_paper_context, \n",
    "                               limit=\"None\",\n",
    "                                   title=\"ORKG-TDM Latex\", savefig=False)"
   ]
  },
  {
   "cell_type": "code",
   "execution_count": 65,
   "id": "214d95ff-cc29-4e32-9bd4-b2fae47dd323",
   "metadata": {},
   "outputs": [],
   "source": [
    "# path_to_clone = f\"/nfs/home/kabenamualus/Research/task-dataset-metric-nli-extraction/data/pwc_latex_text/pwc_latex_5_10_10000/twofoldwithunk\"\n",
    "new_path = f\"/nfs/home/kabenamualus/Research/task-dataset-metric-nli-extraction/data/pwc_latex_text/PWC_latex_5_10_10000_compare/twofoldwithunk/{fold}\"\n",
    "# new_path = f\"/nfs/home/kabenamualus/Research/task-dataset-metric-nli-extraction/data/pwc_ibm_150_5_10_10000_compare/10Neg10000unk/twofoldwithunk/{fold}\"\n",
    "# compare = \"_compare\"\n",
    "# new_path_pred = f\"/nfs/home/kabenamualus/Research/task-dataset-metric-nli-extraction/data/pwc_latex_text/PWC_latex_5_10_10000{compare}/10Neg10000unk/twofoldwithunk/{fold}/torch/{model_pth_name}\"\n",
    "\n",
    "os.makedirs(new_path) if not os.path.exists(new_path) else \"Pass\"\n",
    "# os.makedirs(new_path_pred) if not os.path.exists(new_path_pred) else \"Pass\"\n",
    "\n",
    "\n",
    "                              \n",
    "train_latex_pd.to_csv(path_or_buf=f\"{new_path}/train.tsv\", \n",
    "                 sep=\"\\t\", header=None, index=False)\n",
    "\n",
    "dev_latex_pd.to_csv(path_or_buf=f\"{new_path}/dev.tsv\", \n",
    "                 sep=\"\\t\", header=None, index=False)\n",
    "\n",
    "# Pred_pd.to_csv(path_or_buf=f\"{new_path_pred}/test_results_Bert.tsv\", \n",
    "#                  sep=\"\\t\", header=None, index=False)\n",
    "# Pred_pd.to_csv(path_or_buf=f\"{new_path_pred}/{file_name}\", \n",
    "#                  sep=\"\\t\", header=None, index=False)"
   ]
  },
  {
   "cell_type": "markdown",
   "id": "96029cb8-fa4d-4b37-865d-b96e681f6c38",
   "metadata": {},
   "source": [
    "# ORKG-Latex vs IBM"
   ]
  },
  {
   "cell_type": "code",
   "execution_count": 52,
   "id": "01906a36-2cf6-477c-9ee8-36e9a05ba9ad",
   "metadata": {},
   "outputs": [],
   "source": [
    "# path_to_latex = f\"/nfs/home/kabenamualus/Research/task-dataset-metric-nli-extraction/data/pwc_latex_text/pwc_latex_5_10_10000_clone/twofoldwithunk\"\n",
    "path_to_latex = f\"/nfs/home/kabenamualus/Research/task-dataset-metric-nli-extraction/data/pwc_latex_text/PWC_latex_5_10_10000/twofoldwithunk\"\n",
    "path_to_ibm = f\"/nfs/home/kabenamualus/Research/task-dataset-metric-nli-extraction/data/ibm/exp/few-shot-setup/NLP-TDMS/paperVersion\""
   ]
  },
  {
   "cell_type": "code",
   "execution_count": 53,
   "id": "0aff02be-4799-4cc4-95ac-a14b84b55dde",
   "metadata": {},
   "outputs": [],
   "source": [
    "fold = \"fold1\"\n",
    "train_latex_f1_pd = pd.read_csv(f\"{path_to_latex}/{fold}/train.tsv\", \n",
    "                    sep=\"\\t\", names=[\"label\", \"title\", \"TDM\", \"Context\"])\n",
    "\n",
    "dev_latex_f1_pd = pd.read_csv(f\"{path_to_latex}/{fold}/dev.tsv\", \n",
    "                    sep=\"\\t\", names=[\"label\", \"title\", \"TDM\", \"Context\"])\n",
    "\n",
    "fold = \"fold2\"\n",
    "train_latex_f2_pd = pd.read_csv(f\"{path_to_latex}/{fold}/train.tsv\", \n",
    "                    sep=\"\\t\", names=[\"label\", \"title\", \"TDM\", \"Context\"])\n",
    "\n",
    "dev_latex_f2_pd = pd.read_csv(f\"{path_to_latex}/{fold}/dev.tsv\", \n",
    "                    sep=\"\\t\", names=[\"label\", \"title\", \"TDM\", \"Context\"])\n",
    "\n",
    "\n",
    "train_published_pd = pd.read_csv(f\"{path_to_ibm}/train.tsv\", \n",
    "                    sep=\"\\t\", names=[\"label\", \"title\", \"TDM\", \"Context\"])\n",
    "\n",
    "dev_published_pd = pd.read_csv(f\"{path_to_ibm}/test.tsv\", \n",
    "                    sep=\"\\t\", names=[\"label\", \"title\", \"TDM\", \"Context\"])"
   ]
  },
  {
   "cell_type": "code",
   "execution_count": 54,
   "id": "b8f1cf6a-dcf5-4f18-8829-df247c3a7b3a",
   "metadata": {},
   "outputs": [
    {
     "data": {
      "text/html": [
       "<div>\n",
       "<style scoped>\n",
       "    .dataframe tbody tr th:only-of-type {\n",
       "        vertical-align: middle;\n",
       "    }\n",
       "\n",
       "    .dataframe tbody tr th {\n",
       "        vertical-align: top;\n",
       "    }\n",
       "\n",
       "    .dataframe thead th {\n",
       "        text-align: right;\n",
       "    }\n",
       "</style>\n",
       "<table border=\"1\" class=\"dataframe\">\n",
       "  <thead>\n",
       "    <tr style=\"text-align: right;\">\n",
       "      <th></th>\n",
       "      <th>label</th>\n",
       "      <th>title</th>\n",
       "      <th>TDM</th>\n",
       "      <th>Context</th>\n",
       "    </tr>\n",
       "  </thead>\n",
       "  <tbody>\n",
       "    <tr>\n",
       "      <th>13301</th>\n",
       "      <td>False</td>\n",
       "      <td>16165.pdf</td>\n",
       "      <td>dependency parsing; Penn Treebank; LAS</td>\n",
       "      <td>R 3 : Reinforced Ranker-Reader for Open-Domain...</td>\n",
       "    </tr>\n",
       "    <tr>\n",
       "      <th>13302</th>\n",
       "      <td>False</td>\n",
       "      <td>16165.pdf</td>\n",
       "      <td>language modeling; Hutter Prize; Number of params</td>\n",
       "      <td>R 3 : Reinforced Ranker-Reader for Open-Domain...</td>\n",
       "    </tr>\n",
       "    <tr>\n",
       "      <th>13303</th>\n",
       "      <td>False</td>\n",
       "      <td>16165.pdf</td>\n",
       "      <td>summarization; CNN / Daily Mail (Non-anonymize...</td>\n",
       "      <td>R 3 : Reinforced Ranker-Reader for Open-Domain...</td>\n",
       "    </tr>\n",
       "    <tr>\n",
       "      <th>13304</th>\n",
       "      <td>False</td>\n",
       "      <td>16165.pdf</td>\n",
       "      <td>word sense disambiguation; Senseval 3; F1</td>\n",
       "      <td>R 3 : Reinforced Ranker-Reader for Open-Domain...</td>\n",
       "    </tr>\n",
       "    <tr>\n",
       "      <th>13305</th>\n",
       "      <td>False</td>\n",
       "      <td>16165.pdf</td>\n",
       "      <td>text classification; TREC; Error</td>\n",
       "      <td>R 3 : Reinforced Ranker-Reader for Open-Domain...</td>\n",
       "    </tr>\n",
       "  </tbody>\n",
       "</table>\n",
       "</div>"
      ],
      "text/plain": [
       "       label      title                                                TDM  \\\n",
       "13301  False  16165.pdf             dependency parsing; Penn Treebank; LAS   \n",
       "13302  False  16165.pdf  language modeling; Hutter Prize; Number of params   \n",
       "13303  False  16165.pdf  summarization; CNN / Daily Mail (Non-anonymize...   \n",
       "13304  False  16165.pdf          word sense disambiguation; Senseval 3; F1   \n",
       "13305  False  16165.pdf                   text classification; TREC; Error   \n",
       "\n",
       "                                                 Context  \n",
       "13301  R 3 : Reinforced Ranker-Reader for Open-Domain...  \n",
       "13302  R 3 : Reinforced Ranker-Reader for Open-Domain...  \n",
       "13303  R 3 : Reinforced Ranker-Reader for Open-Domain...  \n",
       "13304  R 3 : Reinforced Ranker-Reader for Open-Domain...  \n",
       "13305  R 3 : Reinforced Ranker-Reader for Open-Domain...  "
      ]
     },
     "execution_count": 54,
     "metadata": {},
     "output_type": "execute_result"
    }
   ],
   "source": [
    "train_published_pd.tail()"
   ]
  },
  {
   "cell_type": "code",
   "execution_count": 55,
   "id": "5cab9c99-3010-4928-88b7-e8478fc8eaba",
   "metadata": {},
   "outputs": [],
   "source": [
    "# train_latex_pd[\"Len_Context\"] = train_latex_pd.Context.apply(lambda x: len(x.split()))\n",
    "# train_latex_pd = train_latex_pd[train_latex_pd.Len_Context >= 100].drop(\"Len_Context\", axis=1)\n",
    "\n",
    "# dev_latex_pd[\"Len_Context\"] = dev_latex_pd.Context.apply(lambda x: len(x.split()))\n",
    "# dev_latex_pd = dev_latex_pd[dev_latex_pd.Len_Context >= 100].drop(\"Len_Context\", axis=1)\n",
    "\n",
    "# for paper in train_latex_pd.title.unique():\n",
    "#     train_published_pd[train_published_pd.title==paper]"
   ]
  },
  {
   "cell_type": "code",
   "execution_count": 56,
   "id": "c533990a-1109-4900-aa39-2b4bedb9c925",
   "metadata": {},
   "outputs": [
    {
     "data": {
      "text/plain": [
       "2951"
      ]
     },
     "execution_count": 56,
     "metadata": {},
     "output_type": "execute_result"
    }
   ],
   "source": [
    "# List of pdf name that are in the train file\n",
    "list_train_latex_f1_pd_uniq = list(train_latex_f1_pd.title.unique())\n",
    "list_train_latex_f2_pd_uniq = list(train_latex_f2_pd.title.unique())\n",
    "len(list_train_latex_f1_pd_uniq)"
   ]
  },
  {
   "cell_type": "code",
   "execution_count": 57,
   "id": "b1b5bfbf-7478-4e03-a957-2a92bcf46cfa",
   "metadata": {},
   "outputs": [
    {
     "data": {
      "text/plain": [
       "1258"
      ]
     },
     "execution_count": 57,
     "metadata": {},
     "output_type": "execute_result"
    }
   ],
   "source": [
    "# List of pdf name that are in the test file\n",
    "list_dev_latex_f1_pd_uniq = list(dev_latex_f1_pd.title.unique())\n",
    "list_dev_latex_f2_pd_uniq = list(dev_latex_f2_pd.title.unique())\n",
    "len(list_dev_latex_f1_pd_uniq)"
   ]
  },
  {
   "cell_type": "code",
   "execution_count": 58,
   "id": "03751c25-4c69-436e-bc72-2a382d56f80a",
   "metadata": {},
   "outputs": [
    {
     "data": {
      "text/plain": [
       "170"
      ]
     },
     "execution_count": 58,
     "metadata": {},
     "output_type": "execute_result"
    }
   ],
   "source": [
    "# List of pdf name that are in the train file\n",
    "list_train_published_pd_uniq = list(train_published_pd.title.unique())\n",
    "len(list_train_published_pd_uniq)"
   ]
  },
  {
   "cell_type": "code",
   "execution_count": 59,
   "id": "e639cad8-879a-44b3-9fc4-48a80f6f1ce8",
   "metadata": {},
   "outputs": [
    {
     "data": {
      "text/plain": [
       "167"
      ]
     },
     "execution_count": 59,
     "metadata": {},
     "output_type": "execute_result"
    }
   ],
   "source": [
    "# List of pdf name that are in the train file\n",
    "list_dev_published_pd_uniq = list(dev_published_pd.title.unique())\n",
    "len(list_dev_published_pd_uniq)"
   ]
  },
  {
   "cell_type": "code",
   "execution_count": 60,
   "id": "cc166e92-c367-435e-9f18-8322413d1a45",
   "metadata": {},
   "outputs": [],
   "source": [
    "# Dict to contains new context\n",
    "dict_latex_paper_context = {}\n",
    "for paper in list_train_latex_f1_pd_uniq:\n",
    "    dict_latex_paper_context[paper] = train_latex_f1_pd[train_latex_f1_pd.title == paper].Context.values[0]\n",
    "for paper in list_dev_latex_f1_pd_uniq:\n",
    "    dict_latex_paper_context[paper] = dev_latex_f1_pd[dev_latex_f1_pd.title == paper].Context.values[0]\n",
    "for paper in list_train_latex_f2_pd_uniq:\n",
    "    dict_latex_paper_context[paper] = train_latex_f2_pd[train_latex_f2_pd.title == paper].Context.values[0]\n",
    "for paper in list_dev_latex_f2_pd_uniq:\n",
    "    dict_latex_paper_context[paper] = dev_latex_f2_pd[dev_latex_f2_pd.title == paper].Context.values[0]\n",
    "    \n",
    "dict_published_paper_context = {}\n",
    "for paper in list_train_published_pd_uniq:\n",
    "    dict_published_paper_context[paper] = train_published_pd[train_published_pd.title == paper].Context.values[0]\n",
    "for paper in list_dev_published_pd_uniq:\n",
    "    dict_published_paper_context[paper] = dev_published_pd[dev_published_pd.title == paper].Context.values[0]"
   ]
  },
  {
   "cell_type": "code",
   "execution_count": 69,
   "id": "129464d2-18d1-49ca-baf3-e6c2198733ae",
   "metadata": {},
   "outputs": [],
   "source": [
    "# train_published_pd[\"Context\"] = train_published_pd.apply(lambda x : dict_latex_paper_context[x['title']] if x['title'] in dict_latex_paper_context.keys() else \"None\", axis=1)\n",
    "# train_published_pd.drop(train_published_pd.index[train_published_pd['Context'] == 'None'], inplace = True)\n",
    "# train_published_pd.reset_index(drop=True, inplace=True)\n",
    "# dev_published_pd[\"Context\"] = dev_published_pd.apply(lambda x : dict_latex_paper_context[x['title']] if x['title'] in dict_latex_paper_context.keys() else \"None\", axis=1)\n",
    "# dev_published_pd.drop(dev_published_pd.index[dev_published_pd['Context'] == 'None'], inplace = True)\n",
    "# dev_published_pd.reset_index(drop=True, inplace=True)\n",
    "\n",
    "# # train_latex_pd[\"Context\"] = train_latex_pd.apply(lambda x : dict_published_paper_context[x['title']], axis=1)\n",
    "# # dev_latex_pd[\"Context\"] = dev_latex_pd.apply(lambda x : dict_published_paper_context[x['title']], axis=1)"
   ]
  },
  {
   "cell_type": "code",
   "execution_count": 70,
   "id": "8a1a6e84-ded0-49d3-b295-707f4fbbbcb6",
   "metadata": {},
   "outputs": [],
   "source": [
    "# # List of pdf name that are in the train file\n",
    "# list_train_published_pd_uniq = list(train_published_pd.title.unique())\n",
    "# len(list_train_published_pd_uniq)"
   ]
  },
  {
   "cell_type": "code",
   "execution_count": 71,
   "id": "79f7809d-f7a9-46e6-a104-2ba01d1f8498",
   "metadata": {},
   "outputs": [],
   "source": [
    "# # List of pdf name that are in the train file\n",
    "# list_dev_published_pd_uniq = list(dev_published_pd.title.unique())\n",
    "# len(list_dev_published_pd_uniq)"
   ]
  },
  {
   "cell_type": "code",
   "execution_count": 48,
   "id": "e130d4fd-ea49-4d20-8182-74313ff17b7c",
   "metadata": {},
   "outputs": [],
   "source": [
    "def get_start_lenght(dictionary, limit=\"150\", title=\"\", savefig=False):\n",
    "    # Stats\n",
    "    len_context = []\n",
    "    short_context = 0\n",
    "    paper_to_short_context = {}\n",
    "    \n",
    "    for paper, context in dictionary.items():\n",
    "        len_context.append(len(context.split()))\n",
    "        if len(context.split()) <= 100 :\n",
    "            short_context += 1\n",
    "            paper_to_short_context[paper] = len(context.split()) \n",
    "    \n",
    "    print(f\"Context TDM limit {limit}:\")\n",
    "    print(f\"Mean lenght: {np.mean(len_context)}\")\n",
    "    print(f\"Max lenght: {np.max(len_context)}\")\n",
    "    print(f\"Min lenght: {np.min(len_context)}\")\n",
    "    print(f\"Std lenght: {np.std(len_context)}\")\n",
    "    print(f\"Lenght paper with context less than 10: {len(paper_to_short_context)}\")\n",
    "    \n",
    "    x = np.arange(1, len(len_context)+1, 1)\n",
    "    y = len_context\n",
    "\n",
    "    plt.plot(x, y)\n",
    "\n",
    "    plt.title(title)\n",
    "    plt.xlabel(\"number of papers\")\n",
    "    plt.ylabel(\"lenght DocTAET\")\n",
    "    if savefig:\n",
    "        plt.savefig(fname=re.sub(r\"[0-9]+\", '', title).strip())\n",
    "    plt.show()\n",
    "    \n",
    "    return paper_to_short_context"
   ]
  },
  {
   "cell_type": "code",
   "execution_count": 72,
   "id": "fb5b6775-1aab-4f40-a057-a421df63880a",
   "metadata": {},
   "outputs": [],
   "source": [
    "# len_published = get_start_lenght(dict_published_paper_context, \n",
    "#                                limit=\"None\",\n",
    "#                                    title=\"ORKG-TDM Paper Latex\", savefig=False)"
   ]
  },
  {
   "cell_type": "code",
   "execution_count": 46,
   "id": "6ad315e2-2d22-496a-ab76-9e071add12cb",
   "metadata": {},
   "outputs": [
    {
     "name": "stdout",
     "output_type": "stream",
     "text": [
      "Context TDM limit 512:\n",
      "Mean lenght: 309.45103857566767\n",
      "Max lenght: 546\n",
      "Min lenght: 81\n",
      "Std lenght: 93.92587269350176\n",
      "Lenght paper with context less than 10: 3\n"
     ]
    },
    {
     "data": {
      "image/png": "[encoded data removed]",
      "text/plain": [
       "<Figure size 432x288 with 1 Axes>"
      ]
     },
     "metadata": {
      "needs_background": "light"
     },
     "output_type": "display_data"
    }
   ],
   "source": [
    "len_published = get_start_lenght(dict_published_paper_context, \n",
    "                               limit=\"512\",\n",
    "                                   title=\"TDM-IE IBM Paper\", savefig=False)"
   ]
  },
  {
   "cell_type": "code",
   "execution_count": 18,
   "id": "a652bd64-f923-4651-9b64-326173309589",
   "metadata": {},
   "outputs": [
    {
     "name": "stdout",
     "output_type": "stream",
     "text": [
      "Context TDM limit None:\n",
      "Mean lenght: 374.7091988130564\n",
      "Max lenght: 1220\n",
      "Min lenght: 81\n",
      "Std lenght: 172.08599311150843\n",
      "Lenght paper with context less than 10: 3\n"
     ]
    },
    {
     "data": {
      "image/png": "[encoded data removed]",
      "text/plain": [
       "<Figure size 432x288 with 1 Axes>"
      ]
     },
     "metadata": {
      "needs_background": "light"
     },
     "output_type": "display_data"
    }
   ],
   "source": [
    "len_published = get_start_lenght(dict_published_paper_context, \n",
    "                               limit=\"None\",\n",
    "                                   title=\"TDM-IE IBM Paper full\", savefig=False)"
   ]
  },
  {
   "cell_type": "code",
   "execution_count": 17,
   "id": "d173c705-a357-48f0-9727-f71dc7d12f0b",
   "metadata": {},
   "outputs": [
    {
     "name": "stdout",
     "output_type": "stream",
     "text": [
      "Context TDM limit None:\n",
      "Mean lenght: 685.2520788785935\n",
      "Max lenght: 7374\n",
      "Min lenght: 100\n",
      "Std lenght: 442.4167283742035\n",
      "Lenght paper with context less than 10: 2\n"
     ]
    },
    {
     "data": {
      "image/png": "[encoded data removed]",
      "text/plain": [
       "<Figure size 432x288 with 1 Axes>"
      ]
     },
     "metadata": {
      "needs_background": "light"
     },
     "output_type": "display_data"
    }
   ],
   "source": [
    "len_latex = get_start_lenght(dict_latex_paper_context, \n",
    "                               limit=\"None\",\n",
    "                                   title=\"ORKG-TDM Latex\", savefig=False)"
   ]
  },
  {
   "cell_type": "code",
   "execution_count": 78,
   "id": "0631695e-f1e2-40dd-8c3e-838b441f6246",
   "metadata": {},
   "outputs": [
    {
     "name": "stdout",
     "output_type": "stream",
     "text": [
      "yes\n"
     ]
    }
   ],
   "source": [
    "d = \" \"\n",
    "if d:\n",
    "    print(\"yes\")"
   ]
  },
  {
   "cell_type": "code",
   "execution_count": null,
   "id": "2239c41c-850f-4533-aba4-b9ab54067d8c",
   "metadata": {},
   "outputs": [],
   "source": []
  }
 ],
 "metadata": {
  "kernelspec": {
   "display_name": "Python 3",
   "language": "python",
   "name": "python3"
  },
  "language_info": {
   "codemirror_mode": {
    "name": "ipython",
    "version": 3
   },
   "file_extension": ".py",
   "mimetype": "text/x-python",
   "name": "python",
   "nbconvert_exporter": "python",
   "pygments_lexer": "ipython3",
   "version": "3.8.8"
  }
 },
 "nbformat": 4,
 "nbformat_minor": 5
}
