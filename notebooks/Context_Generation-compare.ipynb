{
 "cells": [
  {
   "cell_type": "code",
   "execution_count": 2,
   "id": "750d259b-a0c9-4c48-932e-a818888e8f7a",
   "metadata": {},
   "outputs": [],
   "source": [
    "# imports\n",
    "import ipdb, os, re\n",
    "import pandas as pd\n",
    "import numpy as np\n",
    "import matplotlib.pyplot as plt\n",
    "import random"
   ]
  },
  {
   "cell_type": "markdown",
   "id": "cc63b50e",
   "metadata": {},
   "source": [
    "## Switch context"
   ]
  },
  {
   "cell_type": "code",
   "execution_count": 3,
   "id": "66844ea7-4894-4d49-a05d-ab7a99858e03",
   "metadata": {},
   "outputs": [],
   "source": [
    "# # path_to_source = f\"/nfs/home/kabenamualus/Research/task-dataset-metric-nli-extraction/data/pwc_ibm_150_5_10_10000/10Neg10000unk/twofoldwithunk\"\n",
    "# path_to_source = f\"/nfs/home/kabenamualus/Research/task-dataset-metric-nli-extraction/data/pwc_latex_text/PWC_latex_5_10_10000_compare/twofoldwithunk\"\n",
    "path_to_source = f\"/nfs/home/kabenamualus/Research/task-dataset-metric-nli-extraction/data/pwc_ibm_full_5_10_10000_clone_latex_compare/10Neg10000unk/twofoldwithunk\"\n",
    "\n",
    "# path_to_clone = f\"/nfs/home/kabenamualus/Research/task-dataset-metric-nli-extraction/data/pwc_ibm_150_5_10_10000/10Neg10000unk/twofoldwithunk\"\n",
    "# path_to_clone = f\"/nfs/home/kabenamualus/Research/task-dataset-metric-nli-extraction/data/pwc_ibm_full_5_10_800/twofoldwithunk\"\n",
    "path_to_clone = f\"/nfs/home/kabenamualus/Research/task-dataset-metric-nli-extraction/data/pwc_latex_text/PWC_latex_5_10_10000/twofoldwithunk\""
   ]
  },
  {
   "cell_type": "code",
   "execution_count": 4,
   "id": "821c6a6e",
   "metadata": {},
   "outputs": [],
   "source": [
    "fold = \"fold1\"\n",
    "train_source_pd = pd.read_csv(f\"{path_to_source}/{fold}/train.tsv\", \n",
    "                    sep=\"\\t\", names=[\"label\", \"title\", \"TDM\", \"Context\"])\n",
    "\n",
    "dev_source_pd = pd.read_csv(f\"{path_to_source}/{fold}/dev.tsv\", \n",
    "                    sep=\"\\t\", names=[\"label\", \"title\", \"TDM\", \"Context\"])\n",
    "\n",
    "\n",
    "train_clone_pd = pd.read_csv(f\"{path_to_clone}/{fold}/train.tsv\", \n",
    "                    sep=\"\\t\", names=[\"label\", \"title\", \"TDM\", \"Context\"])\n",
    "\n",
    "dev_clone_pd = pd.read_csv(f\"{path_to_clone}/{fold}/dev.tsv\", \n",
    "                    sep=\"\\t\", names=[\"label\", \"title\", \"TDM\", \"Context\"])"
   ]
  },
  {
   "cell_type": "code",
   "execution_count": 5,
   "id": "1ce2b48e",
   "metadata": {},
   "outputs": [
    {
     "data": {
      "text/html": [
       "<div>\n",
       "<style scoped>\n",
       "    .dataframe tbody tr th:only-of-type {\n",
       "        vertical-align: middle;\n",
       "    }\n",
       "\n",
       "    .dataframe tbody tr th {\n",
       "        vertical-align: top;\n",
       "    }\n",
       "\n",
       "    .dataframe thead th {\n",
       "        text-align: right;\n",
       "    }\n",
       "</style>\n",
       "<table border=\"1\" class=\"dataframe\">\n",
       "  <thead>\n",
       "    <tr style=\"text-align: right;\">\n",
       "      <th></th>\n",
       "      <th>label</th>\n",
       "      <th>title</th>\n",
       "      <th>TDM</th>\n",
       "      <th>Context</th>\n",
       "    </tr>\n",
       "  </thead>\n",
       "  <tbody>\n",
       "    <tr>\n",
       "      <th>41728</th>\n",
       "      <td>False</td>\n",
       "      <td>1905.11946v5.pdf</td>\n",
       "      <td>question_answering; Quasar; F1 (Quasar-T)</td>\n",
       "      <td>EfficientNet: Rethinking Model Scaling for Con...</td>\n",
       "    </tr>\n",
       "    <tr>\n",
       "      <th>41729</th>\n",
       "      <td>False</td>\n",
       "      <td>1905.11946v5.pdf</td>\n",
       "      <td>language_modeling; Hutter Prize; Bit per Chara...</td>\n",
       "      <td>EfficientNet: Rethinking Model Scaling for Con...</td>\n",
       "    </tr>\n",
       "    <tr>\n",
       "      <th>41730</th>\n",
       "      <td>False</td>\n",
       "      <td>1905.11946v5.pdf</td>\n",
       "      <td>language_modeling; 1B Words / Google Billion W...</td>\n",
       "      <td>EfficientNet: Rethinking Model Scaling for Con...</td>\n",
       "    </tr>\n",
       "    <tr>\n",
       "      <th>41731</th>\n",
       "      <td>False</td>\n",
       "      <td>1905.11946v5.pdf</td>\n",
       "      <td>Few-Shot Image Classification; Mini-Imagenet 1...</td>\n",
       "      <td>EfficientNet: Rethinking Model Scaling for Con...</td>\n",
       "    </tr>\n",
       "    <tr>\n",
       "      <th>41732</th>\n",
       "      <td>False</td>\n",
       "      <td>1905.11946v5.pdf</td>\n",
       "      <td>Click-Through Rate Prediction; Criteo; AUC</td>\n",
       "      <td>EfficientNet: Rethinking Model Scaling for Con...</td>\n",
       "    </tr>\n",
       "  </tbody>\n",
       "</table>\n",
       "</div>"
      ],
      "text/plain": [
       "       label             title  \\\n",
       "41728  False  1905.11946v5.pdf   \n",
       "41729  False  1905.11946v5.pdf   \n",
       "41730  False  1905.11946v5.pdf   \n",
       "41731  False  1905.11946v5.pdf   \n",
       "41732  False  1905.11946v5.pdf   \n",
       "\n",
       "                                                     TDM  \\\n",
       "41728          question_answering; Quasar; F1 (Quasar-T)   \n",
       "41729  language_modeling; Hutter Prize; Bit per Chara...   \n",
       "41730  language_modeling; 1B Words / Google Billion W...   \n",
       "41731  Few-Shot Image Classification; Mini-Imagenet 1...   \n",
       "41732         Click-Through Rate Prediction; Criteo; AUC   \n",
       "\n",
       "                                                 Context  \n",
       "41728  EfficientNet: Rethinking Model Scaling for Con...  \n",
       "41729  EfficientNet: Rethinking Model Scaling for Con...  \n",
       "41730  EfficientNet: Rethinking Model Scaling for Con...  \n",
       "41731  EfficientNet: Rethinking Model Scaling for Con...  \n",
       "41732  EfficientNet: Rethinking Model Scaling for Con...  "
      ]
     },
     "execution_count": 5,
     "metadata": {},
     "output_type": "execute_result"
    }
   ],
   "source": [
    "train_source_pd.tail()"
   ]
  },
  {
   "cell_type": "code",
   "execution_count": 6,
   "id": "40f2254b",
   "metadata": {},
   "outputs": [
    {
     "data": {
      "text/html": [
       "<div>\n",
       "<style scoped>\n",
       "    .dataframe tbody tr th:only-of-type {\n",
       "        vertical-align: middle;\n",
       "    }\n",
       "\n",
       "    .dataframe tbody tr th {\n",
       "        vertical-align: top;\n",
       "    }\n",
       "\n",
       "    .dataframe thead th {\n",
       "        text-align: right;\n",
       "    }\n",
       "</style>\n",
       "<table border=\"1\" class=\"dataframe\">\n",
       "  <thead>\n",
       "    <tr style=\"text-align: right;\">\n",
       "      <th></th>\n",
       "      <th>label</th>\n",
       "      <th>title</th>\n",
       "      <th>TDM</th>\n",
       "      <th>Context</th>\n",
       "    </tr>\n",
       "  </thead>\n",
       "  <tbody>\n",
       "    <tr>\n",
       "      <th>41728</th>\n",
       "      <td>False</td>\n",
       "      <td>1905.11946v5.pdf</td>\n",
       "      <td>question_answering; Quasar; F1 (Quasar-T)</td>\n",
       "      <td>Convolutional Neural Networks (ConvNets) are c...</td>\n",
       "    </tr>\n",
       "    <tr>\n",
       "      <th>41729</th>\n",
       "      <td>False</td>\n",
       "      <td>1905.11946v5.pdf</td>\n",
       "      <td>language_modeling; Hutter Prize; Bit per Chara...</td>\n",
       "      <td>Convolutional Neural Networks (ConvNets) are c...</td>\n",
       "    </tr>\n",
       "    <tr>\n",
       "      <th>41730</th>\n",
       "      <td>False</td>\n",
       "      <td>1905.11946v5.pdf</td>\n",
       "      <td>language_modeling; 1B Words / Google Billion W...</td>\n",
       "      <td>Convolutional Neural Networks (ConvNets) are c...</td>\n",
       "    </tr>\n",
       "    <tr>\n",
       "      <th>41731</th>\n",
       "      <td>False</td>\n",
       "      <td>1905.11946v5.pdf</td>\n",
       "      <td>Few-Shot Image Classification; Mini-Imagenet 1...</td>\n",
       "      <td>Convolutional Neural Networks (ConvNets) are c...</td>\n",
       "    </tr>\n",
       "    <tr>\n",
       "      <th>41732</th>\n",
       "      <td>False</td>\n",
       "      <td>1905.11946v5.pdf</td>\n",
       "      <td>Click-Through Rate Prediction; Criteo; AUC</td>\n",
       "      <td>Convolutional Neural Networks (ConvNets) are c...</td>\n",
       "    </tr>\n",
       "  </tbody>\n",
       "</table>\n",
       "</div>"
      ],
      "text/plain": [
       "       label             title  \\\n",
       "41728  False  1905.11946v5.pdf   \n",
       "41729  False  1905.11946v5.pdf   \n",
       "41730  False  1905.11946v5.pdf   \n",
       "41731  False  1905.11946v5.pdf   \n",
       "41732  False  1905.11946v5.pdf   \n",
       "\n",
       "                                                     TDM  \\\n",
       "41728          question_answering; Quasar; F1 (Quasar-T)   \n",
       "41729  language_modeling; Hutter Prize; Bit per Chara...   \n",
       "41730  language_modeling; 1B Words / Google Billion W...   \n",
       "41731  Few-Shot Image Classification; Mini-Imagenet 1...   \n",
       "41732         Click-Through Rate Prediction; Criteo; AUC   \n",
       "\n",
       "                                                 Context  \n",
       "41728  Convolutional Neural Networks (ConvNets) are c...  \n",
       "41729  Convolutional Neural Networks (ConvNets) are c...  \n",
       "41730  Convolutional Neural Networks (ConvNets) are c...  \n",
       "41731  Convolutional Neural Networks (ConvNets) are c...  \n",
       "41732  Convolutional Neural Networks (ConvNets) are c...  "
      ]
     },
     "execution_count": 6,
     "metadata": {},
     "output_type": "execute_result"
    }
   ],
   "source": [
    "train_clone_pd.tail()"
   ]
  },
  {
   "cell_type": "code",
   "execution_count": 7,
   "id": "57ab66e4",
   "metadata": {},
   "outputs": [
    {
     "data": {
      "text/html": [
       "<div>\n",
       "<style scoped>\n",
       "    .dataframe tbody tr th:only-of-type {\n",
       "        vertical-align: middle;\n",
       "    }\n",
       "\n",
       "    .dataframe tbody tr th {\n",
       "        vertical-align: top;\n",
       "    }\n",
       "\n",
       "    .dataframe thead th {\n",
       "        text-align: right;\n",
       "    }\n",
       "</style>\n",
       "<table border=\"1\" class=\"dataframe\">\n",
       "  <thead>\n",
       "    <tr style=\"text-align: right;\">\n",
       "      <th></th>\n",
       "      <th>label</th>\n",
       "      <th>title</th>\n",
       "      <th>TDM</th>\n",
       "      <th>Context</th>\n",
       "    </tr>\n",
       "  </thead>\n",
       "  <tbody>\n",
       "    <tr>\n",
       "      <th>0</th>\n",
       "      <td>True</td>\n",
       "      <td>1707.03497v2.pdf</td>\n",
       "      <td>Atari Games; Atari 2600 Seaquest; Score</td>\n",
       "      <td>Value Prediction Network This paper proposes a...</td>\n",
       "    </tr>\n",
       "    <tr>\n",
       "      <th>1</th>\n",
       "      <td>True</td>\n",
       "      <td>1707.03497v2.pdf</td>\n",
       "      <td>Atari Games; Atari 2600 Amidar; Score</td>\n",
       "      <td>Value Prediction Network This paper proposes a...</td>\n",
       "    </tr>\n",
       "    <tr>\n",
       "      <th>2</th>\n",
       "      <td>True</td>\n",
       "      <td>1707.03497v2.pdf</td>\n",
       "      <td>Atari Games; Atari 2600 Krull; Score</td>\n",
       "      <td>Value Prediction Network This paper proposes a...</td>\n",
       "    </tr>\n",
       "    <tr>\n",
       "      <th>3</th>\n",
       "      <td>True</td>\n",
       "      <td>1707.03497v2.pdf</td>\n",
       "      <td>Atari Games; Atari 2600 Alien; Score</td>\n",
       "      <td>Value Prediction Network This paper proposes a...</td>\n",
       "    </tr>\n",
       "    <tr>\n",
       "      <th>4</th>\n",
       "      <td>True</td>\n",
       "      <td>1707.03497v2.pdf</td>\n",
       "      <td>Atari Games; Atari 2600 Enduro; Score</td>\n",
       "      <td>Value Prediction Network This paper proposes a...</td>\n",
       "    </tr>\n",
       "  </tbody>\n",
       "</table>\n",
       "</div>"
      ],
      "text/plain": [
       "   label             title                                      TDM  \\\n",
       "0   True  1707.03497v2.pdf  Atari Games; Atari 2600 Seaquest; Score   \n",
       "1   True  1707.03497v2.pdf    Atari Games; Atari 2600 Amidar; Score   \n",
       "2   True  1707.03497v2.pdf     Atari Games; Atari 2600 Krull; Score   \n",
       "3   True  1707.03497v2.pdf     Atari Games; Atari 2600 Alien; Score   \n",
       "4   True  1707.03497v2.pdf    Atari Games; Atari 2600 Enduro; Score   \n",
       "\n",
       "                                             Context  \n",
       "0  Value Prediction Network This paper proposes a...  \n",
       "1  Value Prediction Network This paper proposes a...  \n",
       "2  Value Prediction Network This paper proposes a...  \n",
       "3  Value Prediction Network This paper proposes a...  \n",
       "4  Value Prediction Network This paper proposes a...  "
      ]
     },
     "execution_count": 7,
     "metadata": {},
     "output_type": "execute_result"
    }
   ],
   "source": [
    "train_source_pd[train_source_pd.label==True].head()"
   ]
  },
  {
   "cell_type": "code",
   "execution_count": 8,
   "id": "b17c068a",
   "metadata": {},
   "outputs": [
    {
     "data": {
      "text/plain": [
       "2951"
      ]
     },
     "execution_count": 8,
     "metadata": {},
     "output_type": "execute_result"
    }
   ],
   "source": [
    "# List of pdf name that are in the test file\n",
    "list_train_source_pd_uniq = list(train_source_pd.title.unique())\n",
    "len(list_train_source_pd_uniq)"
   ]
  },
  {
   "cell_type": "code",
   "execution_count": 9,
   "id": "f092f441",
   "metadata": {},
   "outputs": [
    {
     "data": {
      "text/plain": [
       "1258"
      ]
     },
     "execution_count": 9,
     "metadata": {},
     "output_type": "execute_result"
    }
   ],
   "source": [
    "# List of pdf name that are in the train file\n",
    "list_dev_source_pd_uniq = list(dev_source_pd.title.unique())\n",
    "len(list_dev_source_pd_uniq)"
   ]
  },
  {
   "cell_type": "code",
   "execution_count": 10,
   "id": "87cb3a7b",
   "metadata": {},
   "outputs": [
    {
     "data": {
      "text/plain": [
       "4209"
      ]
     },
     "execution_count": 10,
     "metadata": {},
     "output_type": "execute_result"
    }
   ],
   "source": [
    "# total number of uniq pdf in the train and testing\n",
    "len(list_train_source_pd_uniq)+len(list_dev_source_pd_uniq)"
   ]
  },
  {
   "cell_type": "code",
   "execution_count": 11,
   "id": "c5263d2c",
   "metadata": {},
   "outputs": [
    {
     "data": {
      "text/plain": [
       "2951"
      ]
     },
     "execution_count": 11,
     "metadata": {},
     "output_type": "execute_result"
    }
   ],
   "source": [
    "# List of pdf name that are in the train file\n",
    "list_train_clone_pd_uniq = list(train_clone_pd.title.unique())\n",
    "len(list_train_clone_pd_uniq)"
   ]
  },
  {
   "cell_type": "code",
   "execution_count": 12,
   "id": "00a91eca",
   "metadata": {},
   "outputs": [
    {
     "data": {
      "text/plain": [
       "1258"
      ]
     },
     "execution_count": 12,
     "metadata": {},
     "output_type": "execute_result"
    }
   ],
   "source": [
    "# List of pdf name that are in the train file\n",
    "list_dev_clone_pd_uniq = list(dev_clone_pd.title.unique())\n",
    "len(list_dev_clone_pd_uniq)"
   ]
  },
  {
   "cell_type": "code",
   "execution_count": 13,
   "id": "7225cec6-7898-4117-b3c1-7a893be3f2f2",
   "metadata": {},
   "outputs": [
    {
     "data": {
      "text/plain": [
       "4209"
      ]
     },
     "execution_count": 13,
     "metadata": {},
     "output_type": "execute_result"
    }
   ],
   "source": [
    "# total number of uniq pdf in the train and testing\n",
    "len(list_train_clone_pd_uniq)+len(list_dev_clone_pd_uniq)"
   ]
  },
  {
   "cell_type": "code",
   "execution_count": 14,
   "id": "69d84f2b",
   "metadata": {},
   "outputs": [],
   "source": [
    "# Dict to contains new context\n",
    "\n",
    "dict_train_source_paper_context = {}\n",
    "for paper in list_train_source_pd_uniq:\n",
    "    dict_train_source_paper_context[paper]=train_source_pd[train_source_pd.title==paper].Context.values[0]\n",
    "for paper in list_dev_source_pd_uniq:\n",
    "    dict_train_source_paper_context[paper]=dev_source_pd[dev_source_pd.title==paper].Context.values[0]\n",
    "    \n",
    "dict_train_clone_paper_context = {}\n",
    "for paper in list_train_clone_pd_uniq:\n",
    "    dict_train_clone_paper_context[paper]=train_clone_pd[train_clone_pd.title==paper].Context.values[0]\n",
    "for paper in list_dev_clone_pd_uniq:\n",
    "    dict_train_clone_paper_context[paper]=dev_clone_pd[dev_clone_pd.title==paper].Context.values[0]"
   ]
  },
  {
   "cell_type": "code",
   "execution_count": 15,
   "id": "1d7b6852",
   "metadata": {},
   "outputs": [],
   "source": [
    "def get_start_lenght(dictionary, limit=\"150\", title=\"\", savefig=False):\n",
    "    # Stats\n",
    "    len_context = []\n",
    "    short_context = 0\n",
    "    paper_to_short_context = {}\n",
    "    \n",
    "    for paper, context in dictionary.items():\n",
    "        len_context.append(len(context.split()))\n",
    "        if len(context.split()) <= 50 :\n",
    "            short_context += 1\n",
    "            paper_to_short_context[paper] = len(context.split()) \n",
    "    \n",
    "    print(f\"Context TDM limit {limit}:\")\n",
    "    print(f\"Mean lenght: {np.mean(len_context)}\")\n",
    "    print(f\"Max lenght: {np.max(len_context)}\")\n",
    "    print(f\"Min lenght: {np.min(len_context)}\")\n",
    "    print(f\"Std lenght: {np.std(len_context)}\")\n",
    "    print(f\"Lenght paper with context less than 10: {len(paper_to_short_context)}\")\n",
    "    \n",
    "    x = np.arange(1, len(len_context)+1, 1)\n",
    "    y = len_context\n",
    "\n",
    "    plt.plot(x, y)\n",
    "\n",
    "    plt.title(title)\n",
    "    plt.xlabel(\"number of papers\")\n",
    "    plt.ylabel(\"lenght DocTAET\")\n",
    "    if savefig:\n",
    "        plt.savefig(fname=re.sub(r\"[0-9]+\", '', title).strip())\n",
    "    plt.show()\n",
    "    \n",
    "    return paper_to_short_context"
   ]
  },
  {
   "cell_type": "code",
   "execution_count": 17,
   "id": "7b42a837",
   "metadata": {},
   "outputs": [
    {
     "name": "stdout",
     "output_type": "stream",
     "text": [
      "Context TDM limit None:\n",
      "Mean lenght: 513.3689712520788\n",
      "Max lenght: 2686\n",
      "Min lenght: 101\n",
      "Std lenght: 263.735437674214\n",
      "Lenght paper with context less than 10: 0\n"
     ]
    },
    {
     "data": {
      "image/png": "[encoded data removed]",
      "text/plain": [
       "<Figure size 432x288 with 1 Axes>"
      ]
     },
     "metadata": {
      "needs_background": "light"
     },
     "output_type": "display_data"
    }
   ],
   "source": [
    "len_context_150 = get_start_lenght(dict_train_source_paper_context, \n",
    "                                   limit=\"None\", \n",
    "                                   title=\"Our-present Grobid Full\",\n",
    "                                   savefig=True)"
   ]
  },
  {
   "cell_type": "code",
   "execution_count": 19,
   "id": "3f1ce4ab",
   "metadata": {},
   "outputs": [
    {
     "name": "stdout",
     "output_type": "stream",
     "text": [
      "Context TDM limit None:\n",
      "Mean lenght: 685.2520788785935\n",
      "Max lenght: 7374\n",
      "Min lenght: 100\n",
      "Std lenght: 442.4167283742035\n",
      "Lenght paper with context less than 10: 0\n"
     ]
    },
    {
     "data": {
      "image/png": "[encoded data removed]",
      "text/plain": [
       "<Figure size 432x288 with 1 Axes>"
      ]
     },
     "metadata": {
      "needs_background": "light"
     },
     "output_type": "display_data"
    }
   ],
   "source": [
    "len_context_150 = get_start_lenght(dict_train_clone_paper_context, \n",
    "                                   limit=\"None\", \n",
    "                                   title=\"Our-present Latex Full\",\n",
    "                                   savefig=True)"
   ]
  },
  {
   "cell_type": "code",
   "execution_count": 48,
   "id": "cae5cd62-ac3f-4038-aab4-f5e733869103",
   "metadata": {},
   "outputs": [
    {
     "data": {
      "text/plain": [
       "'1907.09504v1.pdf'"
      ]
     },
     "execution_count": 48,
     "metadata": {},
     "output_type": "execute_result"
    }
   ],
   "source": [
    "rand_indx = random.randint(0, len(list(dict_train_source_paper_context.keys())))\n",
    "random_paper = list(dict_train_source_paper_context.keys())[rand_indx]\n",
    "random_paper"
   ]
  },
  {
   "cell_type": "code",
   "execution_count": 49,
   "id": "ab24403c-46a7-473c-9288-a9016536360b",
   "metadata": {},
   "outputs": [
    {
     "data": {
      "text/plain": [
       "\"Reservoir Computing Models for Patient-Adaptable ECG Monitoring in Wearable Devices The reservoir computing paradigm is employed to classify heartbeat anomalies online based on electrocardiogram signals. Inspired by the principles of information processing in the brain, reservoir computing provides a framework to design, train, and analyze recurrent neural networks (RNNs) for processing time-dependent information. Due to its computational efficiency and the fact that training amounts to a simple linear regression, this supervised learning algorithm has been variously considered as a strategy to implement useful computations not only on digital computers but also on emerging unconventional hardware platforms such as neuromorphic microchips. Here, this biological-inspired learning framework is exploited to devise an accurate patient-adaptive model that has the potential to be integrated into wearable cardiac events monitoring devices. The proposed patient-customized model was trained and tested on ECG recordings selected from the MIT-BIH arrhythmia database. Restrictive inclusion criteria were used to conduct the study only on ECGs including, at least, two classes of heartbeats with highly unequal number of instances. The results of extensive simulations showed this model not only provides accurate, cheap and fast patient-customized heartbeat classifier but also circumvents the problem of imbalanced classes when the readout weights are trained using weighted ridge-regression. computing, Weighted least squares regression 1. Introduction Patient-customized electrocardiogram (ECG) analysis is becoming increasingly important in clinical applications. The latest generation of event and Holter monitor systems, patch-type electrocardiogram recorders [1] and wearable devices with ECG sensors [2] offer continuous recording and monitoring of the real-time cardiac data overtime courses of days or weeks (i.e. beyond the traditional 48 hours) allowing fora detailed statistical analysis and a clearer picture of a patient's cardiovascular health. Real-time, patient-customized monitoring can also enable immediate intervention, or patient callbacks if an appropriate model has been exploited to diagnose patient-specific conditions. However, in order to manage this vast amount of data, and to extract the relevant information for conducting further statistical analyses, smart automated algorithms which are compatible with emerging hardware technology must be developed.Over decades of research, many signal processing techniques such as frequency analysis, template-matching, wavelet transform, filter banks, and hidden Markov models as well as different variations of neural networks have been employed for arrhythmia detection or for the classification of cardiac beats [3,4,5,6]. However, due to the lack of a complete set of algorithms compatible with emerging micro-device technologies, the practical exploitation of automated ECG diagnostic systems is not yet very extensive, and further improvements are needed in the field of automatic portable ECG interpretation.The strong variations in the temporal course and morphology of ECG waveforms of different patients and patient groups area major problem in automated ECG monitoring tasks such as beat classification. One obvious, yet computationally expensive solution to this problem is exploiting a multitude of training data recorded from many subjects -with different healthy or pathological cardiac conditions -to develop a generic classifier. This is the approach However, the global metrics, when calculated as the non-weighted average of personalized metrics overall the subjects and classes, are highly affected by the relatively poor performance of the algorithm on subjects identified by the files #209 and #207 in the dataset Table 1: Global parameters of the fixed reservoir. leakage rate Parameter sparsity spectral radius reservoir size input scaling Table 2: Patient-specific control parameters and performance evaluation of the reservoir computing model on MIT-BIH arrhythmia database. s ' 104 ' ( # beats= 148 ) ( # beats= 156 ) scaling factors ( a [ Acc Se P F1 - score ] ) , τ ] [ Test time slot , #Beats ,\""
      ]
     },
     "execution_count": 49,
     "metadata": {},
     "output_type": "execute_result"
    }
   ],
   "source": [
    "dict_train_source_paper_context[random_paper]"
   ]
  },
  {
   "cell_type": "code",
   "execution_count": 50,
   "id": "e8cf1fc6-093a-45cf-baaf-e96313ee7e17",
   "metadata": {},
   "outputs": [
    {
     "data": {
      "text/plain": [
       "\"Reservoir Computing Models for Patient-Adaptable ECG Monitoring in Wearable Devices The reservoir computing paradigm is employed to classify heartbeat anomalies online based on electrocardiogram signals. Inspired by the principles of information processing in the brain, reservoir computing provides a framework to design, train, and analyze recurrent neural networks (RNNs) for processing time-dependent information. Due to its computational efficiency and the fact that training amounts to a simple linear regression, this supervised learning algorithm has been variously considered as a strategy to implement useful computations not only on digital computers but also on emerging unconventional hardware platforms such as neuromorphic microchips. Here, this biological-inspired learning framework is exploited to devise an accurate patient-adaptive model that has the potential to be integrated into wearable cardiac events monitoring devices. The proposed patient-customized model was trained and tested on ECG recordings selected from the MIT-BIH arrhythmia database. Restrictive inclusion criteria were used to conduct the study only on ECGs including, at least, two classes of heartbeats with highly unequal number of instances. The results of extensive simulations showed this model not only provides accurate, cheap and fast patient-customized heartbeat classifier but also circumvents the problem of imbalanced classes when the readout weights are trained using weighted ridge-regression. The performance of the models was evaluated using accuracy (Acc), sensitivity (Se), precision (P) and F1-score which are determined by the quantity of true positive (TP), true negative (TN), false negative(FN), false positive (FP) as follows: In cases where a patient exhibited several abnormality classes, separate reports on different classes were provided However, the global metrics, when calculated as the non-weighted average of personalized metrics overall the subjects and classes, are highly affected by the relatively poor performance of the algorithm on subjects identified by the files #209 and #207 in the dataset The performance of the models was evaluated using accuracy (Acc), sensitivity (Se), precision (P) and F1-score which are determined by the quantity of true positive (TP), true negative (TN), false negative(FN), false positive (FP) as follows: In cases where a patient exhibited several abnormality classes, separate reports on different classes were provided However, the global metrics, when calculated as the non-weighted average of personalized metrics overall the subjects and classes, are highly affected by the relatively poor performance of the algorithm on subjects identified by the files #209 and #207 in the dataset Table 1: Global parameters of the fixed reservoir.  leakage rate Parameter sparsity spectral radius reservoir size input scaling  Table 2: Patient-specific control parameters and performance evaluation of the reservoir computing model on MIT-BIH arrhythmia database.  s ' 104 ' ( # beats= 148 ) ( # beats= 156 ) scaling factors ( a [ Acc Se P F1 - score ] ) , τ ] [ Test time slot , #Beats ,\""
      ]
     },
     "execution_count": 50,
     "metadata": {},
     "output_type": "execute_result"
    }
   ],
   "source": [
    "dict_train_clone_paper_context[random_paper]"
   ]
  },
  {
   "cell_type": "code",
   "execution_count": 51,
   "id": "a44b4fcb-f992-4681-beb8-c7813f82c4fd",
   "metadata": {},
   "outputs": [],
   "source": [
    "train_clone_pd[\"Context\"] = train_clone_pd.apply(lambda x : dict_train_source_paper_context[x['title']] if x['title'] in dict_train_source_paper_context.keys() else \"None\", axis=1)\n",
    "train_clone_pd.drop(train_clone_pd.index[train_clone_pd['Context'] == 'None'], inplace = True)\n",
    "train_clone_pd.reset_index(drop=True, inplace=True)\n",
    "dev_clone_pd[\"Context\"] = dev_clone_pd.apply(lambda x : dict_train_source_paper_context[x['title']] if x['title'] in dict_train_source_paper_context.keys() else \"None\", axis=1)\n",
    "dev_clone_pd.drop(dev_clone_pd.index[dev_clone_pd['Context'] == 'None'], inplace = True)\n",
    "dev_clone_pd.reset_index(drop=True, inplace=True)"
   ]
  },
  {
   "cell_type": "code",
   "execution_count": 52,
   "id": "2e93fd7f-6218-4ae6-9806-c9d6ce77e35a",
   "metadata": {},
   "outputs": [
    {
     "data": {
      "text/html": [
       "<div>\n",
       "<style scoped>\n",
       "    .dataframe tbody tr th:only-of-type {\n",
       "        vertical-align: middle;\n",
       "    }\n",
       "\n",
       "    .dataframe tbody tr th {\n",
       "        vertical-align: top;\n",
       "    }\n",
       "\n",
       "    .dataframe thead th {\n",
       "        text-align: right;\n",
       "    }\n",
       "</style>\n",
       "<table border=\"1\" class=\"dataframe\">\n",
       "  <thead>\n",
       "    <tr style=\"text-align: right;\">\n",
       "      <th></th>\n",
       "      <th>label</th>\n",
       "      <th>title</th>\n",
       "      <th>TDM</th>\n",
       "      <th>Context</th>\n",
       "    </tr>\n",
       "  </thead>\n",
       "  <tbody>\n",
       "    <tr>\n",
       "      <th>49673</th>\n",
       "      <td>False</td>\n",
       "      <td>1912.04799v2.pdf</td>\n",
       "      <td>Time Series Classification; AUSLAN; Accuracy</td>\n",
       "      <td>Learning Depth-Guided Convolutions for Monocul...</td>\n",
       "    </tr>\n",
       "    <tr>\n",
       "      <th>49674</th>\n",
       "      <td>False</td>\n",
       "      <td>1912.04799v2.pdf</td>\n",
       "      <td>Sentiment Analysis; Amazon Review Full; Accuracy</td>\n",
       "      <td>Learning Depth-Guided Convolutions for Monocul...</td>\n",
       "    </tr>\n",
       "    <tr>\n",
       "      <th>49675</th>\n",
       "      <td>False</td>\n",
       "      <td>1912.04799v2.pdf</td>\n",
       "      <td>Node Classification; Wisconsin; Accuracy</td>\n",
       "      <td>Learning Depth-Guided Convolutions for Monocul...</td>\n",
       "    </tr>\n",
       "    <tr>\n",
       "      <th>49676</th>\n",
       "      <td>False</td>\n",
       "      <td>1912.04799v2.pdf</td>\n",
       "      <td>Question Answering; CoQA; Out-of-domain</td>\n",
       "      <td>Learning Depth-Guided Convolutions for Monocul...</td>\n",
       "    </tr>\n",
       "    <tr>\n",
       "      <th>49677</th>\n",
       "      <td>False</td>\n",
       "      <td>1912.04799v2.pdf</td>\n",
       "      <td>Fact-based Text Editing; WebEdit; Precision</td>\n",
       "      <td>Learning Depth-Guided Convolutions for Monocul...</td>\n",
       "    </tr>\n",
       "  </tbody>\n",
       "</table>\n",
       "</div>"
      ],
      "text/plain": [
       "       label             title  \\\n",
       "49673  False  1912.04799v2.pdf   \n",
       "49674  False  1912.04799v2.pdf   \n",
       "49675  False  1912.04799v2.pdf   \n",
       "49676  False  1912.04799v2.pdf   \n",
       "49677  False  1912.04799v2.pdf   \n",
       "\n",
       "                                                    TDM  \\\n",
       "49673      Time Series Classification; AUSLAN; Accuracy   \n",
       "49674  Sentiment Analysis; Amazon Review Full; Accuracy   \n",
       "49675          Node Classification; Wisconsin; Accuracy   \n",
       "49676           Question Answering; CoQA; Out-of-domain   \n",
       "49677       Fact-based Text Editing; WebEdit; Precision   \n",
       "\n",
       "                                                 Context  \n",
       "49673  Learning Depth-Guided Convolutions for Monocul...  \n",
       "49674  Learning Depth-Guided Convolutions for Monocul...  \n",
       "49675  Learning Depth-Guided Convolutions for Monocul...  \n",
       "49676  Learning Depth-Guided Convolutions for Monocul...  \n",
       "49677  Learning Depth-Guided Convolutions for Monocul...  "
      ]
     },
     "execution_count": 52,
     "metadata": {},
     "output_type": "execute_result"
    }
   ],
   "source": [
    "train_source_pd.tail()"
   ]
  },
  {
   "cell_type": "code",
   "execution_count": 53,
   "id": "5aba4e67-7b38-4701-84f9-a3201e79cc91",
   "metadata": {},
   "outputs": [
    {
     "data": {
      "text/html": [
       "<div>\n",
       "<style scoped>\n",
       "    .dataframe tbody tr th:only-of-type {\n",
       "        vertical-align: middle;\n",
       "    }\n",
       "\n",
       "    .dataframe tbody tr th {\n",
       "        vertical-align: top;\n",
       "    }\n",
       "\n",
       "    .dataframe thead th {\n",
       "        text-align: right;\n",
       "    }\n",
       "</style>\n",
       "<table border=\"1\" class=\"dataframe\">\n",
       "  <thead>\n",
       "    <tr style=\"text-align: right;\">\n",
       "      <th></th>\n",
       "      <th>label</th>\n",
       "      <th>title</th>\n",
       "      <th>TDM</th>\n",
       "      <th>Context</th>\n",
       "    </tr>\n",
       "  </thead>\n",
       "  <tbody>\n",
       "    <tr>\n",
       "      <th>41137</th>\n",
       "      <td>False</td>\n",
       "      <td>1909.09051v1.pdf</td>\n",
       "      <td>Semi-Supervised Video Object Segmentation; You...</td>\n",
       "      <td>Self-Supervised Monocular Depth Hints Monocula...</td>\n",
       "    </tr>\n",
       "    <tr>\n",
       "      <th>41138</th>\n",
       "      <td>False</td>\n",
       "      <td>1909.09051v1.pdf</td>\n",
       "      <td>Image Clustering; STL-10; Backbone</td>\n",
       "      <td>Self-Supervised Monocular Depth Hints Monocula...</td>\n",
       "    </tr>\n",
       "    <tr>\n",
       "      <th>41139</th>\n",
       "      <td>False</td>\n",
       "      <td>1909.09051v1.pdf</td>\n",
       "      <td>Semi-Supervised Image Classification; SVHN, 10...</td>\n",
       "      <td>Self-Supervised Monocular Depth Hints Monocula...</td>\n",
       "    </tr>\n",
       "    <tr>\n",
       "      <th>41140</th>\n",
       "      <td>False</td>\n",
       "      <td>1909.09051v1.pdf</td>\n",
       "      <td>RGB-D Salient Object Detection; NJU2K; Average...</td>\n",
       "      <td>Self-Supervised Monocular Depth Hints Monocula...</td>\n",
       "    </tr>\n",
       "    <tr>\n",
       "      <th>41141</th>\n",
       "      <td>False</td>\n",
       "      <td>1909.09051v1.pdf</td>\n",
       "      <td>Question Answering; SQuAD2.0 dev; EM</td>\n",
       "      <td>Self-Supervised Monocular Depth Hints Monocula...</td>\n",
       "    </tr>\n",
       "  </tbody>\n",
       "</table>\n",
       "</div>"
      ],
      "text/plain": [
       "       label             title  \\\n",
       "41137  False  1909.09051v1.pdf   \n",
       "41138  False  1909.09051v1.pdf   \n",
       "41139  False  1909.09051v1.pdf   \n",
       "41140  False  1909.09051v1.pdf   \n",
       "41141  False  1909.09051v1.pdf   \n",
       "\n",
       "                                                     TDM  \\\n",
       "41137  Semi-Supervised Video Object Segmentation; You...   \n",
       "41138                 Image Clustering; STL-10; Backbone   \n",
       "41139  Semi-Supervised Image Classification; SVHN, 10...   \n",
       "41140  RGB-D Salient Object Detection; NJU2K; Average...   \n",
       "41141               Question Answering; SQuAD2.0 dev; EM   \n",
       "\n",
       "                                                 Context  \n",
       "41137  Self-Supervised Monocular Depth Hints Monocula...  \n",
       "41138  Self-Supervised Monocular Depth Hints Monocula...  \n",
       "41139  Self-Supervised Monocular Depth Hints Monocula...  \n",
       "41140  Self-Supervised Monocular Depth Hints Monocula...  \n",
       "41141  Self-Supervised Monocular Depth Hints Monocula...  "
      ]
     },
     "execution_count": 53,
     "metadata": {},
     "output_type": "execute_result"
    }
   ],
   "source": [
    "train_clone_pd.tail()"
   ]
  },
  {
   "cell_type": "code",
   "execution_count": 54,
   "id": "3a992dea-f4d0-4e71-8ba7-da91592173a1",
   "metadata": {},
   "outputs": [
    {
     "data": {
      "text/plain": [
       "3753"
      ]
     },
     "execution_count": 54,
     "metadata": {},
     "output_type": "execute_result"
    }
   ],
   "source": [
    "# List of pdf name that are in the test file\n",
    "list_train_source_pd_uniq = list(train_source_pd.title.unique())\n",
    "len(list_train_source_pd_uniq)"
   ]
  },
  {
   "cell_type": "code",
   "execution_count": 55,
   "id": "6acfcecf-1bc1-4989-a257-64fbd58eed22",
   "metadata": {},
   "outputs": [
    {
     "data": {
      "text/plain": [
       "1608"
      ]
     },
     "execution_count": 55,
     "metadata": {},
     "output_type": "execute_result"
    }
   ],
   "source": [
    "# List of pdf name that are in the train file\n",
    "list_dev_source_pd_uniq = list(dev_source_pd.title.unique())\n",
    "len(list_dev_source_pd_uniq)"
   ]
  },
  {
   "cell_type": "code",
   "execution_count": 56,
   "id": "7828472f-200e-49f5-8563-ae2e1d268181",
   "metadata": {},
   "outputs": [],
   "source": [
    "dict_train_source_paper_context = {}\n",
    "for paper in list_train_source_pd_uniq:\n",
    "    dict_train_source_paper_context[paper]=train_source_pd[train_source_pd.title==paper].Context.values[0]\n",
    "for paper in list_dev_source_pd_uniq:\n",
    "    dict_train_source_paper_context[paper]=dev_source_pd[dev_source_pd.title==paper].Context.values[0]"
   ]
  },
  {
   "cell_type": "code",
   "execution_count": 57,
   "id": "f1d12db6-55c7-43b1-8d2b-9b675b162124",
   "metadata": {},
   "outputs": [
    {
     "name": "stdout",
     "output_type": "stream",
     "text": [
      "Context TDM limit None:\n",
      "Mean lenght: 504.3794068270845\n",
      "Max lenght: 2686\n",
      "Min lenght: 5\n",
      "Std lenght: 265.50071944364134\n",
      "Lenght paper with context less than 10: 3\n"
     ]
    },
    {
     "data": {
      "image/png": "[encoded data removed]",
      "text/plain": [
       "<Figure size 432x288 with 1 Axes>"
      ]
     },
     "metadata": {
      "needs_background": "light"
     },
     "output_type": "display_data"
    }
   ],
   "source": [
    "len_context_150 = get_start_lenght(dict_train_source_paper_context, \n",
    "                                   limit=\"None\", \n",
    "                                   title=\"ORKG-TDM like Papers with Latex Context\")"
   ]
  },
  {
   "cell_type": "code",
   "execution_count": 58,
   "id": "98d9f597-131e-4e71-9000-07cbaaddb8c9",
   "metadata": {},
   "outputs": [
    {
     "data": {
      "text/plain": [
       "2942"
      ]
     },
     "execution_count": 58,
     "metadata": {},
     "output_type": "execute_result"
    }
   ],
   "source": [
    "# List of pdf name that are in the train file\n",
    "list_train_clone_pd_uniq = list(train_clone_pd.title.unique())\n",
    "len(list_train_clone_pd_uniq)"
   ]
  },
  {
   "cell_type": "code",
   "execution_count": 59,
   "id": "1c3707c0-ac61-4534-8a57-e9cf58c11f3a",
   "metadata": {},
   "outputs": [
    {
     "data": {
      "text/plain": [
       "1267"
      ]
     },
     "execution_count": 59,
     "metadata": {},
     "output_type": "execute_result"
    }
   ],
   "source": [
    "# List of pdf name that are in the train file\n",
    "list_dev_clone_pd_uniq = list(dev_clone_pd.title.unique())\n",
    "len(list_dev_clone_pd_uniq)"
   ]
  },
  {
   "cell_type": "code",
   "execution_count": 60,
   "id": "ad2db896-f7e8-49e4-9162-e0a9ccf0ab3a",
   "metadata": {},
   "outputs": [],
   "source": [
    "dict_train_clone_paper_context = {}\n",
    "for paper in list_train_clone_pd_uniq:\n",
    "    dict_train_clone_paper_context[paper]=train_clone_pd[train_clone_pd.title==paper].Context.values[0]\n",
    "for paper in list_dev_clone_pd_uniq:\n",
    "    dict_train_clone_paper_context[paper]=dev_clone_pd[dev_clone_pd.title==paper].Context.values[0]"
   ]
  },
  {
   "cell_type": "code",
   "execution_count": 61,
   "id": "0a3b32f2-27c0-41aa-b68a-5ab5762f12d9",
   "metadata": {},
   "outputs": [
    {
     "name": "stdout",
     "output_type": "stream",
     "text": [
      "Context TDM limit None:\n",
      "Mean lenght: 513.3689712520788\n",
      "Max lenght: 2686\n",
      "Min lenght: 101\n",
      "Std lenght: 263.735437674214\n",
      "Lenght paper with context less than 10: 0\n"
     ]
    },
    {
     "data": {
      "image/png": "[encoded data removed]",
      "text/plain": [
       "<Figure size 432x288 with 1 Axes>"
      ]
     },
     "metadata": {
      "needs_background": "light"
     },
     "output_type": "display_data"
    }
   ],
   "source": [
    "len_context_150 = get_start_lenght(dict_train_clone_paper_context, \n",
    "                                   limit=\"None\", \n",
    "                                   title=\"Latex context\")"
   ]
  },
  {
   "cell_type": "code",
   "execution_count": 62,
   "id": "214d95ff-cc29-4e32-9bd4-b2fae47dd323",
   "metadata": {},
   "outputs": [],
   "source": [
    "# path_to_clone = f\"/nfs/home/kabenamualus/Research/task-dataset-metric-nli-extraction/data/pwc_latex_text/pwc_latex_5_10_10000/twofoldwithunk\"\n",
    "# new_path = f\"/nfs/home/kabenamualus/Research/task-dataset-metric-nli-extraction/data/pwc_latex_text/pwc_latex_5_10_10000_clone/twofoldwithunk/{fold}\"\n",
    "new_path = f\"/nfs/home/kabenamualus/Research/task-dataset-metric-nli-extraction/data/pwc_ibm_full_5_10_10000_clone_latex_compare/10Neg10000unk/twofoldwithunk/{fold}\"\n",
    "# compare = \"_compare\"\n",
    "# new_path_pred = f\"/nfs/home/kabenamualus/Research/task-dataset-metric-nli-extraction/data/pwc_ibm_150_5_10_10000{compare}/10Neg10000unk/twofoldwithunk/{fold}/torch/{model_pth_name}\"\n",
    "\n",
    "os.makedirs(new_path) if not os.path.exists(new_path) else \"Pass\"\n",
    "# os.makedirs(new_path_pred) if not os.path.exists(new_path_pred) else \"Pass\"\n",
    "\n",
    "\n",
    "                              \n",
    "train_clone_pd.to_csv(path_or_buf=f\"{new_path}/train.tsv\", \n",
    "                 sep=\"\\t\", header=None, index=False)\n",
    "\n",
    "dev_clone_pd.to_csv(path_or_buf=f\"{new_path}/dev.tsv\", \n",
    "                 sep=\"\\t\", header=None, index=False)\n",
    "\n",
    "# Pred_pd.to_csv(path_or_buf=f\"{new_path_pred}/test_results_Bert.tsv\", \n",
    "#                  sep=\"\\t\", header=None, index=False)\n",
    "# Pred_pd.to_csv(path_or_buf=f\"{new_path_pred}/{file_name}\", \n",
    "#                  sep=\"\\t\", header=None, index=False)"
   ]
  },
  {
   "cell_type": "code",
   "execution_count": null,
   "id": "80737211-475c-40dd-b645-e221e8c96cba",
   "metadata": {},
   "outputs": [],
   "source": []
  }
 ],
 "metadata": {
  "kernelspec": {
   "display_name": "Python 3",
   "language": "python",
   "name": "python3"
  },
  "language_info": {
   "codemirror_mode": {
    "name": "ipython",
    "version": 3
   },
   "file_extension": ".py",
   "mimetype": "text/x-python",
   "name": "python",
   "nbconvert_exporter": "python",
   "pygments_lexer": "ipython3",
   "version": "3.8.8"
  }
 },
 "nbformat": 4,
 "nbformat_minor": 5
}
