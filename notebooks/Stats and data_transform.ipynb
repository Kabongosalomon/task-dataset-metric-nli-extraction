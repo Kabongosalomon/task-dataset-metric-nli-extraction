{
 "cells": [
  {
   "cell_type": "markdown",
   "metadata": {},
   "source": [
    "# Stats in Paper"
   ]
  },
  {
   "cell_type": "code",
   "execution_count": 119,
   "metadata": {},
   "outputs": [],
   "source": [
    "# imports\n",
    "import ipdb, os, re\n",
    "import pandas as pd\n",
    "import numpy as np\n",
    "import matplotlib.pyplot as plt\n",
    "from collections import defaultdict\n",
    "from sklearn.model_selection import train_test_split \n",
    "from sklearn.metrics import accuracy_score, f1_score, precision_score, recall_score, classification_report"
   ]
  },
  {
   "cell_type": "markdown",
   "metadata": {},
   "source": [
    "## IBM"
   ]
  },
  {
   "cell_type": "code",
   "execution_count": 120,
   "metadata": {},
   "outputs": [],
   "source": [
    "IBM_train_csv = \"~/Research/task-dataset-metric-nli-extraction/data/ibm/exp/few-shot-setup/NLP-TDMS/paperVersion/train.tsv\"\n",
    "IBM_test_csv = \"~/Research/task-dataset-metric-nli-extraction/data/ibm/exp/few-shot-setup/NLP-TDMS/paperVersion/test.tsv\""
   ]
  },
  {
   "cell_type": "code",
   "execution_count": 4,
   "metadata": {},
   "outputs": [],
   "source": [
    "train_IBM = pd.read_csv(IBM_train_csv, \n",
    "                    sep=\"\\t\", names=[\"label\", \"title\", \"TDM\", \"Context\"])\n",
    "# train_IBM['label'] = train_IBM.label.apply(lambda x: \"true\" if x else \"false\")\n",
    "\n",
    "test_IBM = pd.read_csv(IBM_test_csv, \n",
    "                    sep=\"\\t\", names=[\"label\", \"title\", \"TDM\", \"Context\"])"
   ]
  },
  {
   "cell_type": "code",
   "execution_count": 2,
   "metadata": {},
   "outputs": [],
   "source": [
    "def get_stats(path_to_df): \n",
    "    \n",
    "    unique_labels = path_to_df[(path_to_df.label == True)].TDM.tolist()\n",
    "    \n",
    "    TDM = set()\n",
    "    Uniq_task = set()\n",
    "    Uniq_dataset = set()\n",
    "    Uniq_metric = set()\n",
    "    unknown_count = 0\n",
    "    avg_tdm_per_paper = defaultdict(lambda : 0)\n",
    "    \n",
    "    for contrib in unique_labels:\n",
    "        split = contrib.split(';')\n",
    "        \n",
    "        if(len(split) == 1):\n",
    "            \n",
    "            unknown_count += 1 \n",
    "        else:\n",
    "            if len(split) !=3:\n",
    "#                 ipdb.set_trace()\n",
    "                task, dataset, metric, _ = split\n",
    "                \n",
    "            else:\n",
    "                task, dataset, metric = split\n",
    "            \n",
    "            t, d, m = task.strip(), dataset.strip(), metric.strip()\n",
    "            TDM.add(f\"{t}#{d}#{m}\")\n",
    "            \n",
    "            Uniq_task.add(t)\n",
    "            Uniq_dataset.add(d)\n",
    "            Uniq_metric.add(m)\n",
    "    \n",
    "    for paper in path_to_df[(path_to_df.label == True) & (path_to_df.TDM != 'unknown') ].title.tolist():\n",
    "        avg_tdm_per_paper[paper] += 1\n",
    "    \n",
    "    print(f\"Number of papers: {len(set(path_to_df[(path_to_df.label == True)].title.tolist()))}\")\n",
    "    print(f\"Unknown count: {unknown_count}\")\n",
    "    print(f\"Total leaderboards: {len(path_to_df[(path_to_df.label == True) & (path_to_df.TDM != 'unknown')].title.tolist())}\")\n",
    "    print(f\"Avg leaderboard per paper: {round(np.mean(list(avg_tdm_per_paper.values())), 2)}\")\n",
    "    print(f\"Distinc leaderboard: {len(TDM)}\")\n",
    "    print(f\"Distinct taks: {len(Uniq_task)}\")\n",
    "    print(f\"Distinc datasets: {len(Uniq_dataset)}\")\n",
    "    print(f\"Distinc metrics: {len(Uniq_metric)}\")\n",
    "    print(f\"Max leaderboard per paper: {round(np.max(list(avg_tdm_per_paper.values())), 2)}\")\n",
    "    print(f\"Min leaderboard per paper: {round(np.min(list(avg_tdm_per_paper.values())), 2)}\")\n",
    "    \n",
    "    \n",
    "    return avg_tdm_per_paper"
   ]
  },
  {
   "cell_type": "markdown",
   "metadata": {},
   "source": [
    "### Train"
   ]
  },
  {
   "cell_type": "code",
   "execution_count": 6,
   "metadata": {},
   "outputs": [
    {
     "data": {
      "text/html": [
       "<div>\n",
       "<style scoped>\n",
       "    .dataframe tbody tr th:only-of-type {\n",
       "        vertical-align: middle;\n",
       "    }\n",
       "\n",
       "    .dataframe tbody tr th {\n",
       "        vertical-align: top;\n",
       "    }\n",
       "\n",
       "    .dataframe thead th {\n",
       "        text-align: right;\n",
       "    }\n",
       "</style>\n",
       "<table border=\"1\" class=\"dataframe\">\n",
       "  <thead>\n",
       "    <tr style=\"text-align: right;\">\n",
       "      <th></th>\n",
       "      <th>label</th>\n",
       "      <th>title</th>\n",
       "      <th>TDM</th>\n",
       "      <th>Context</th>\n",
       "    </tr>\n",
       "  </thead>\n",
       "  <tbody>\n",
       "    <tr>\n",
       "      <th>0</th>\n",
       "      <td>True</td>\n",
       "      <td>D16-1036.pdf</td>\n",
       "      <td>unknown</td>\n",
       "      <td>Multi-view Response Selection for Human-Comput...</td>\n",
       "    </tr>\n",
       "    <tr>\n",
       "      <th>1</th>\n",
       "      <td>False</td>\n",
       "      <td>D16-1036.pdf</td>\n",
       "      <td>question answering; SQuAD; F1</td>\n",
       "      <td>Multi-view Response Selection for Human-Comput...</td>\n",
       "    </tr>\n",
       "    <tr>\n",
       "      <th>2</th>\n",
       "      <td>False</td>\n",
       "      <td>D16-1036.pdf</td>\n",
       "      <td>relation prediction; FB15K-237; H@1</td>\n",
       "      <td>Multi-view Response Selection for Human-Comput...</td>\n",
       "    </tr>\n",
       "    <tr>\n",
       "      <th>3</th>\n",
       "      <td>False</td>\n",
       "      <td>D16-1036.pdf</td>\n",
       "      <td>word sense disambiguation; SemEval 2013; F1</td>\n",
       "      <td>Multi-view Response Selection for Human-Comput...</td>\n",
       "    </tr>\n",
       "    <tr>\n",
       "      <th>4</th>\n",
       "      <td>False</td>\n",
       "      <td>D16-1036.pdf</td>\n",
       "      <td>language modeling; 1B Words / Google Billion W...</td>\n",
       "      <td>Multi-view Response Selection for Human-Comput...</td>\n",
       "    </tr>\n",
       "  </tbody>\n",
       "</table>\n",
       "</div>"
      ],
      "text/plain": [
       "   label         title                                                TDM  \\\n",
       "0   True  D16-1036.pdf                                            unknown   \n",
       "1  False  D16-1036.pdf                      question answering; SQuAD; F1   \n",
       "2  False  D16-1036.pdf                relation prediction; FB15K-237; H@1   \n",
       "3  False  D16-1036.pdf        word sense disambiguation; SemEval 2013; F1   \n",
       "4  False  D16-1036.pdf  language modeling; 1B Words / Google Billion W...   \n",
       "\n",
       "                                             Context  \n",
       "0  Multi-view Response Selection for Human-Comput...  \n",
       "1  Multi-view Response Selection for Human-Comput...  \n",
       "2  Multi-view Response Selection for Human-Comput...  \n",
       "3  Multi-view Response Selection for Human-Comput...  \n",
       "4  Multi-view Response Selection for Human-Comput...  "
      ]
     },
     "execution_count": 6,
     "metadata": {},
     "output_type": "execute_result"
    }
   ],
   "source": [
    "train_IBM.head()"
   ]
  },
  {
   "cell_type": "code",
   "execution_count": 7,
   "metadata": {},
   "outputs": [
    {
     "data": {
      "text/plain": [
       "170"
      ]
     },
     "execution_count": 7,
     "metadata": {},
     "output_type": "execute_result"
    }
   ],
   "source": [
    "train_IBM.title.nunique()"
   ]
  },
  {
   "cell_type": "code",
   "execution_count": 8,
   "metadata": {},
   "outputs": [
    {
     "name": "stdout",
     "output_type": "stream",
     "text": [
      "Number of papers: 170\n",
      "Unknown count: 46\n",
      "Total leaderboards: 327\n",
      "Avg leaderboard per paper: 2.64\n",
      "Distinc leaderboard: 78\n",
      "Distinct taks: 18\n",
      "Distinc datasets: 44\n",
      "Distinc metrics: 31\n"
     ]
    }
   ],
   "source": [
    "avg_tdm_per_paper = get_stats(train_IBM)"
   ]
  },
  {
   "cell_type": "markdown",
   "metadata": {},
   "source": [
    "### Test"
   ]
  },
  {
   "cell_type": "code",
   "execution_count": 9,
   "metadata": {},
   "outputs": [
    {
     "data": {
      "text/html": [
       "<div>\n",
       "<style scoped>\n",
       "    .dataframe tbody tr th:only-of-type {\n",
       "        vertical-align: middle;\n",
       "    }\n",
       "\n",
       "    .dataframe tbody tr th {\n",
       "        vertical-align: top;\n",
       "    }\n",
       "\n",
       "    .dataframe thead th {\n",
       "        text-align: right;\n",
       "    }\n",
       "</style>\n",
       "<table border=\"1\" class=\"dataframe\">\n",
       "  <thead>\n",
       "    <tr style=\"text-align: right;\">\n",
       "      <th></th>\n",
       "      <th>label</th>\n",
       "      <th>title</th>\n",
       "      <th>TDM</th>\n",
       "      <th>Context</th>\n",
       "    </tr>\n",
       "  </thead>\n",
       "  <tbody>\n",
       "    <tr>\n",
       "      <th>0</th>\n",
       "      <td>True</td>\n",
       "      <td>1803.11175.pdf</td>\n",
       "      <td>sentiment analysis; SUBJ; Accuracy</td>\n",
       "      <td>Universal Sentence Encoder We present models f...</td>\n",
       "    </tr>\n",
       "    <tr>\n",
       "      <th>1</th>\n",
       "      <td>True</td>\n",
       "      <td>1803.11175.pdf</td>\n",
       "      <td>text classification; TREC; Error</td>\n",
       "      <td>Universal Sentence Encoder We present models f...</td>\n",
       "    </tr>\n",
       "    <tr>\n",
       "      <th>2</th>\n",
       "      <td>False</td>\n",
       "      <td>1803.11175.pdf</td>\n",
       "      <td>question answering; SQuAD; F1</td>\n",
       "      <td>Universal Sentence Encoder We present models f...</td>\n",
       "    </tr>\n",
       "    <tr>\n",
       "      <th>3</th>\n",
       "      <td>False</td>\n",
       "      <td>1803.11175.pdf</td>\n",
       "      <td>relation prediction; FB15K-237; H@1</td>\n",
       "      <td>Universal Sentence Encoder We present models f...</td>\n",
       "    </tr>\n",
       "    <tr>\n",
       "      <th>4</th>\n",
       "      <td>False</td>\n",
       "      <td>1803.11175.pdf</td>\n",
       "      <td>word sense disambiguation; SemEval 2013; F1</td>\n",
       "      <td>Universal Sentence Encoder We present models f...</td>\n",
       "    </tr>\n",
       "  </tbody>\n",
       "</table>\n",
       "</div>"
      ],
      "text/plain": [
       "   label           title                                          TDM  \\\n",
       "0   True  1803.11175.pdf           sentiment analysis; SUBJ; Accuracy   \n",
       "1   True  1803.11175.pdf             text classification; TREC; Error   \n",
       "2  False  1803.11175.pdf                question answering; SQuAD; F1   \n",
       "3  False  1803.11175.pdf          relation prediction; FB15K-237; H@1   \n",
       "4  False  1803.11175.pdf  word sense disambiguation; SemEval 2013; F1   \n",
       "\n",
       "                                             Context  \n",
       "0  Universal Sentence Encoder We present models f...  \n",
       "1  Universal Sentence Encoder We present models f...  \n",
       "2  Universal Sentence Encoder We present models f...  \n",
       "3  Universal Sentence Encoder We present models f...  \n",
       "4  Universal Sentence Encoder We present models f...  "
      ]
     },
     "execution_count": 9,
     "metadata": {},
     "output_type": "execute_result"
    }
   ],
   "source": [
    "test_IBM.head()"
   ]
  },
  {
   "cell_type": "code",
   "execution_count": 10,
   "metadata": {},
   "outputs": [
    {
     "name": "stdout",
     "output_type": "stream",
     "text": [
      "Number of papers: 167\n",
      "Unknown count: 45\n",
      "Total leaderboards: 294\n",
      "Avg leaderboard per paper: 2.41\n",
      "Distinc leaderboard: 78\n",
      "Distinct taks: 18\n",
      "Distinc datasets: 44\n",
      "Distinc metrics: 31\n"
     ]
    }
   ],
   "source": [
    "metric = get_stats(test_IBM)"
   ]
  },
  {
   "cell_type": "code",
   "execution_count": 11,
   "metadata": {},
   "outputs": [
    {
     "name": "stdout",
     "output_type": "stream",
     "text": [
      "[]\n"
     ]
    }
   ],
   "source": [
    "# Make sure that all leaderboard in test are present in train \n",
    "count = []\n",
    "for paper in test_IBM.TDM.to_list():\n",
    "    if paper not in train_IBM.TDM.to_list():\n",
    "        count.append(paper)\n",
    "print(count)"
   ]
  },
  {
   "cell_type": "code",
   "execution_count": 12,
   "metadata": {},
   "outputs": [
    {
     "name": "stdout",
     "output_type": "stream",
     "text": [
      "[]\n"
     ]
    }
   ],
   "source": [
    "count = []\n",
    "for paper in train_IBM.TDM.to_list():\n",
    "    if paper not in test_IBM.TDM.to_list():\n",
    "        print(paper)\n",
    "        count.append(paper)\n",
    "print(count)"
   ]
  },
  {
   "cell_type": "markdown",
   "metadata": {},
   "source": [
    "### our dataset"
   ]
  },
  {
   "cell_type": "code",
   "execution_count": 78,
   "metadata": {},
   "outputs": [],
   "source": [
    "# New_train_csv = \"~/Research/task-dataset-metric-nli-extraction/data/pwc_ibm_150_5_10_800/twofoldwithunk/fold1/train.tsv\"\n",
    "# New_test_csv = \"~/Research/task-dataset-metric-nli-extraction/data/pwc_ibm_150_5_10_800/twofoldwithunk/fold1/dev.tsv\"\n",
    "\n",
    "New_train_csv = \"/nfs/home/kabenamualus/Research/task-dataset-metric-nli-extraction/data/pwc_ibm_150_5_10_10000/10Neg10000unk/twofoldwithunk/fold2/train.tsv\"\n",
    "New_test_csv = \"/nfs/home/kabenamualus/Research/task-dataset-metric-nli-extraction/data/pwc_ibm_150_5_10_10000/10Neg10000unk/twofoldwithunk/fold2/dev.tsv\"\n",
    "\n",
    "# New_train_csv = \"/nfs/home/kabenamualus/Research/task-dataset-metric-nli-extraction/data/pwc_ibm_150_5_10_5000/10Neg5000unk/twofoldwithunk/fold2/train.tsv\"\n",
    "# New_test_csv = \"/nfs/home/kabenamualus/Research/task-dataset-metric-nli-extraction/data/pwc_ibm_150_5_10_5000/10Neg5000unk/twofoldwithunk/fold2/dev.tsv\"\n",
    "\n",
    "# New_train_csv = \"/nfs/home/kabenamualus/Research/task-dataset-metric-nli-extraction/data/pwc_ibm_150_5_10_1000/10Neg1000unk/twofoldwithunk/fold2/train.tsv\"\n",
    "# New_test_csv = \"/nfs/home/kabenamualus/Research/task-dataset-metric-nli-extraction/data/pwc_ibm_150_5_10_1000/10Neg1000unk/twofoldwithunk/fold2/dev.tsv\"\n",
    "\n",
    "# New_train_csv = \"/nfs/home/kabenamualus/Research/task-dataset-metric-nli-extraction/data/pwc_ibm_150_5_10_500/10Neg500unk/twofoldwithunk/fold1/train.tsv\"\n",
    "# New_test_csv = \"/nfs/home/kabenamualus/Research/task-dataset-metric-nli-extraction/data/pwc_ibm_150_5_10_500/10Neg500unk/twofoldwithunk/fold1/dev.tsv\"\n",
    "\n",
    "# New_train_csv = IBM_train_csv\n",
    "# New_test_csv = IBM_test_csv"
   ]
  },
  {
   "cell_type": "code",
   "execution_count": 91,
   "metadata": {},
   "outputs": [],
   "source": [
    "train_New = pd.read_csv(New_train_csv, \n",
    "                    sep=\"\\t\", names=[\"label\", \"title\", \"TDM\", \"Context\"])\n",
    "# train_IBM['label'] = train_IBM.label.apply(lambda x: \"true\" if x else \"false\")\n",
    "\n",
    "test_New = pd.read_csv(New_test_csv, \n",
    "                    sep=\"\\t\", names=[\"label\", \"title\", \"TDM\", \"Context\"])"
   ]
  },
  {
   "cell_type": "code",
   "execution_count": 92,
   "metadata": {},
   "outputs": [
    {
     "data": {
      "text/plain": [
       "50821"
      ]
     },
     "execution_count": 92,
     "metadata": {},
     "output_type": "execute_result"
    }
   ],
   "source": [
    "len(train_New.drop_duplicates())"
   ]
  },
  {
   "cell_type": "code",
   "execution_count": 93,
   "metadata": {},
   "outputs": [
    {
     "data": {
      "text/plain": [
       "52315"
      ]
     },
     "execution_count": 93,
     "metadata": {},
     "output_type": "execute_result"
    }
   ],
   "source": [
    "len(train_New)"
   ]
  },
  {
   "cell_type": "code",
   "execution_count": 94,
   "metadata": {},
   "outputs": [
    {
     "data": {
      "text/plain": [
       "8"
      ]
     },
     "execution_count": 94,
     "metadata": {},
     "output_type": "execute_result"
    }
   ],
   "source": [
    "len(train_New[(train_New.TDM==\"unknown\") & (train_New.label==False)])"
   ]
  },
  {
   "cell_type": "code",
   "execution_count": 102,
   "metadata": {},
   "outputs": [
    {
     "data": {
      "text/html": [
       "<div>\n",
       "<style scoped>\n",
       "    .dataframe tbody tr th:only-of-type {\n",
       "        vertical-align: middle;\n",
       "    }\n",
       "\n",
       "    .dataframe tbody tr th {\n",
       "        vertical-align: top;\n",
       "    }\n",
       "\n",
       "    .dataframe thead th {\n",
       "        text-align: right;\n",
       "    }\n",
       "</style>\n",
       "<table border=\"1\" class=\"dataframe\">\n",
       "  <thead>\n",
       "    <tr style=\"text-align: right;\">\n",
       "      <th></th>\n",
       "      <th>label</th>\n",
       "      <th>title</th>\n",
       "      <th>TDM</th>\n",
       "      <th>Context</th>\n",
       "    </tr>\n",
       "  </thead>\n",
       "  <tbody>\n",
       "    <tr>\n",
       "      <th>0</th>\n",
       "      <td>True</td>\n",
       "      <td>1707.03497v2.pdf</td>\n",
       "      <td>Atari Games; Atari 2600 Seaquest; Score</td>\n",
       "      <td>Value Prediction Network This paper proposes a...</td>\n",
       "    </tr>\n",
       "    <tr>\n",
       "      <th>1</th>\n",
       "      <td>True</td>\n",
       "      <td>1707.03497v2.pdf</td>\n",
       "      <td>Atari Games; Atari 2600 Amidar; Score</td>\n",
       "      <td>Value Prediction Network This paper proposes a...</td>\n",
       "    </tr>\n",
       "    <tr>\n",
       "      <th>2</th>\n",
       "      <td>True</td>\n",
       "      <td>1707.03497v2.pdf</td>\n",
       "      <td>Atari Games; Atari 2600 Krull; Score</td>\n",
       "      <td>Value Prediction Network This paper proposes a...</td>\n",
       "    </tr>\n",
       "    <tr>\n",
       "      <th>3</th>\n",
       "      <td>True</td>\n",
       "      <td>1707.03497v2.pdf</td>\n",
       "      <td>Atari Games; Atari 2600 Alien; Score</td>\n",
       "      <td>Value Prediction Network This paper proposes a...</td>\n",
       "    </tr>\n",
       "    <tr>\n",
       "      <th>4</th>\n",
       "      <td>True</td>\n",
       "      <td>1707.03497v2.pdf</td>\n",
       "      <td>Atari Games; Atari 2600 Enduro; Score</td>\n",
       "      <td>Value Prediction Network This paper proposes a...</td>\n",
       "    </tr>\n",
       "    <tr>\n",
       "      <th>...</th>\n",
       "      <td>...</td>\n",
       "      <td>...</td>\n",
       "      <td>...</td>\n",
       "      <td>...</td>\n",
       "    </tr>\n",
       "    <tr>\n",
       "      <th>52290</th>\n",
       "      <td>True</td>\n",
       "      <td>1905.11946v5.pdf</td>\n",
       "      <td>Fine-Grained Image Classification; Birdsnap; A...</td>\n",
       "      <td>EfficientNet: Rethinking Model Scaling for Con...</td>\n",
       "    </tr>\n",
       "    <tr>\n",
       "      <th>52291</th>\n",
       "      <td>True</td>\n",
       "      <td>1905.11946v5.pdf</td>\n",
       "      <td>Fine-Grained Image Classification; Food-101; A...</td>\n",
       "      <td>EfficientNet: Rethinking Model Scaling for Con...</td>\n",
       "    </tr>\n",
       "    <tr>\n",
       "      <th>52292</th>\n",
       "      <td>True</td>\n",
       "      <td>1905.11946v5.pdf</td>\n",
       "      <td>Fine-Grained Image Classification; Stanford Ca...</td>\n",
       "      <td>EfficientNet: Rethinking Model Scaling for Con...</td>\n",
       "    </tr>\n",
       "    <tr>\n",
       "      <th>52293</th>\n",
       "      <td>True</td>\n",
       "      <td>1905.11946v5.pdf</td>\n",
       "      <td>Fine-Grained Image Classification; Oxford-IIIT...</td>\n",
       "      <td>EfficientNet: Rethinking Model Scaling for Con...</td>\n",
       "    </tr>\n",
       "    <tr>\n",
       "      <th>52304</th>\n",
       "      <td>True</td>\n",
       "      <td>1307.0414v1.pdf</td>\n",
       "      <td>Facial Expression Recognition; FER2013; Accuracy</td>\n",
       "      <td>Challenges in Representation Learning: A repor...</td>\n",
       "    </tr>\n",
       "  </tbody>\n",
       "</table>\n",
       "<p>14785 rows × 4 columns</p>\n",
       "</div>"
      ],
      "text/plain": [
       "       label             title  \\\n",
       "0       True  1707.03497v2.pdf   \n",
       "1       True  1707.03497v2.pdf   \n",
       "2       True  1707.03497v2.pdf   \n",
       "3       True  1707.03497v2.pdf   \n",
       "4       True  1707.03497v2.pdf   \n",
       "...      ...               ...   \n",
       "52290   True  1905.11946v5.pdf   \n",
       "52291   True  1905.11946v5.pdf   \n",
       "52292   True  1905.11946v5.pdf   \n",
       "52293   True  1905.11946v5.pdf   \n",
       "52304   True   1307.0414v1.pdf   \n",
       "\n",
       "                                                     TDM  \\\n",
       "0                Atari Games; Atari 2600 Seaquest; Score   \n",
       "1                  Atari Games; Atari 2600 Amidar; Score   \n",
       "2                   Atari Games; Atari 2600 Krull; Score   \n",
       "3                   Atari Games; Atari 2600 Alien; Score   \n",
       "4                  Atari Games; Atari 2600 Enduro; Score   \n",
       "...                                                  ...   \n",
       "52290  Fine-Grained Image Classification; Birdsnap; A...   \n",
       "52291  Fine-Grained Image Classification; Food-101; A...   \n",
       "52292  Fine-Grained Image Classification; Stanford Ca...   \n",
       "52293  Fine-Grained Image Classification; Oxford-IIIT...   \n",
       "52304   Facial Expression Recognition; FER2013; Accuracy   \n",
       "\n",
       "                                                 Context  \n",
       "0      Value Prediction Network This paper proposes a...  \n",
       "1      Value Prediction Network This paper proposes a...  \n",
       "2      Value Prediction Network This paper proposes a...  \n",
       "3      Value Prediction Network This paper proposes a...  \n",
       "4      Value Prediction Network This paper proposes a...  \n",
       "...                                                  ...  \n",
       "52290  EfficientNet: Rethinking Model Scaling for Con...  \n",
       "52291  EfficientNet: Rethinking Model Scaling for Con...  \n",
       "52292  EfficientNet: Rethinking Model Scaling for Con...  \n",
       "52293  EfficientNet: Rethinking Model Scaling for Con...  \n",
       "52304  Challenges in Representation Learning: A repor...  \n",
       "\n",
       "[14785 rows x 4 columns]"
      ]
     },
     "execution_count": 102,
     "metadata": {},
     "output_type": "execute_result"
    }
   ],
   "source": [
    "train_New[ (train_New.label==True)]"
   ]
  },
  {
   "cell_type": "code",
   "execution_count": 95,
   "metadata": {},
   "outputs": [
    {
     "data": {
      "text/html": [
       "<div>\n",
       "<style scoped>\n",
       "    .dataframe tbody tr th:only-of-type {\n",
       "        vertical-align: middle;\n",
       "    }\n",
       "\n",
       "    .dataframe tbody tr th {\n",
       "        vertical-align: top;\n",
       "    }\n",
       "\n",
       "    .dataframe thead th {\n",
       "        text-align: right;\n",
       "    }\n",
       "</style>\n",
       "<table border=\"1\" class=\"dataframe\">\n",
       "  <thead>\n",
       "    <tr style=\"text-align: right;\">\n",
       "      <th></th>\n",
       "      <th>label</th>\n",
       "      <th>title</th>\n",
       "      <th>TDM</th>\n",
       "      <th>Context</th>\n",
       "    </tr>\n",
       "  </thead>\n",
       "  <tbody>\n",
       "    <tr>\n",
       "      <th>125</th>\n",
       "      <td>True</td>\n",
       "      <td>1908.05786v1.pdf</td>\n",
       "      <td>unknown</td>\n",
       "      <td>TASED-Net: Temporally-Aggregating Spatial Enco...</td>\n",
       "    </tr>\n",
       "    <tr>\n",
       "      <th>176</th>\n",
       "      <td>True</td>\n",
       "      <td>2008.04259.pdf</td>\n",
       "      <td>unknown</td>\n",
       "      <td>A Perceptually-Motivated Approach for Low-Comp...</td>\n",
       "    </tr>\n",
       "    <tr>\n",
       "      <th>188</th>\n",
       "      <td>True</td>\n",
       "      <td>2009.04534v2.pdf</td>\n",
       "      <td>unknown</td>\n",
       "      <td>PAY ATTENTION WHEN REQUIRED A PREPRINT Transfo...</td>\n",
       "    </tr>\n",
       "    <tr>\n",
       "      <th>190</th>\n",
       "      <td>True</td>\n",
       "      <td>2009.04534v2.pdf</td>\n",
       "      <td>unknown</td>\n",
       "      <td>PAY ATTENTION WHEN REQUIRED A PREPRINT Transfo...</td>\n",
       "    </tr>\n",
       "    <tr>\n",
       "      <th>202</th>\n",
       "      <td>True</td>\n",
       "      <td>2007.04973v3.pdf</td>\n",
       "      <td>unknown</td>\n",
       "      <td>Contrastive Code Representation Learning Recen...</td>\n",
       "    </tr>\n",
       "    <tr>\n",
       "      <th>...</th>\n",
       "      <td>...</td>\n",
       "      <td>...</td>\n",
       "      <td>...</td>\n",
       "      <td>...</td>\n",
       "    </tr>\n",
       "    <tr>\n",
       "      <th>52191</th>\n",
       "      <td>True</td>\n",
       "      <td>2101.07172v2.pdf</td>\n",
       "      <td>unknown</td>\n",
       "      <td>HarDNet-MSEG: A Simple Encoder-Decoder Polyp S...</td>\n",
       "    </tr>\n",
       "    <tr>\n",
       "      <th>52205</th>\n",
       "      <td>True</td>\n",
       "      <td>1905.00067v3.pdf</td>\n",
       "      <td>unknown</td>\n",
       "      <td>MixHop: Higher-Order Graph Convolutional Archi...</td>\n",
       "    </tr>\n",
       "    <tr>\n",
       "      <th>52211</th>\n",
       "      <td>True</td>\n",
       "      <td>1905.00067v3.pdf</td>\n",
       "      <td>unknown</td>\n",
       "      <td>MixHop: Higher-Order Graph Convolutional Archi...</td>\n",
       "    </tr>\n",
       "    <tr>\n",
       "      <th>52223</th>\n",
       "      <td>True</td>\n",
       "      <td>1602.01595v4.pdf</td>\n",
       "      <td>unknown</td>\n",
       "      <td>Many Languages, One Parser We train one multil...</td>\n",
       "    </tr>\n",
       "    <tr>\n",
       "      <th>52259</th>\n",
       "      <td>True</td>\n",
       "      <td>1411.1091v1.pdf</td>\n",
       "      <td>unknown</td>\n",
       "      <td>Do Convnets Learn Correspondence? Convolutiona...</td>\n",
       "    </tr>\n",
       "  </tbody>\n",
       "</table>\n",
       "<p>3028 rows × 4 columns</p>\n",
       "</div>"
      ],
      "text/plain": [
       "       label             title      TDM  \\\n",
       "125     True  1908.05786v1.pdf  unknown   \n",
       "176     True    2008.04259.pdf  unknown   \n",
       "188     True  2009.04534v2.pdf  unknown   \n",
       "190     True  2009.04534v2.pdf  unknown   \n",
       "202     True  2007.04973v3.pdf  unknown   \n",
       "...      ...               ...      ...   \n",
       "52191   True  2101.07172v2.pdf  unknown   \n",
       "52205   True  1905.00067v3.pdf  unknown   \n",
       "52211   True  1905.00067v3.pdf  unknown   \n",
       "52223   True  1602.01595v4.pdf  unknown   \n",
       "52259   True   1411.1091v1.pdf  unknown   \n",
       "\n",
       "                                                 Context  \n",
       "125    TASED-Net: Temporally-Aggregating Spatial Enco...  \n",
       "176    A Perceptually-Motivated Approach for Low-Comp...  \n",
       "188    PAY ATTENTION WHEN REQUIRED A PREPRINT Transfo...  \n",
       "190    PAY ATTENTION WHEN REQUIRED A PREPRINT Transfo...  \n",
       "202    Contrastive Code Representation Learning Recen...  \n",
       "...                                                  ...  \n",
       "52191  HarDNet-MSEG: A Simple Encoder-Decoder Polyp S...  \n",
       "52205  MixHop: Higher-Order Graph Convolutional Archi...  \n",
       "52211  MixHop: Higher-Order Graph Convolutional Archi...  \n",
       "52223  Many Languages, One Parser We train one multil...  \n",
       "52259  Do Convnets Learn Correspondence? Convolutiona...  \n",
       "\n",
       "[3028 rows x 4 columns]"
      ]
     },
     "execution_count": 95,
     "metadata": {},
     "output_type": "execute_result"
    }
   ],
   "source": [
    "train_New[(train_New.TDM==\"unknown\") & (train_New.label==True)]"
   ]
  },
  {
   "cell_type": "code",
   "execution_count": 96,
   "metadata": {},
   "outputs": [
    {
     "data": {
      "text/html": [
       "<div>\n",
       "<style scoped>\n",
       "    .dataframe tbody tr th:only-of-type {\n",
       "        vertical-align: middle;\n",
       "    }\n",
       "\n",
       "    .dataframe tbody tr th {\n",
       "        vertical-align: top;\n",
       "    }\n",
       "\n",
       "    .dataframe thead th {\n",
       "        text-align: right;\n",
       "    }\n",
       "</style>\n",
       "<table border=\"1\" class=\"dataframe\">\n",
       "  <thead>\n",
       "    <tr style=\"text-align: right;\">\n",
       "      <th></th>\n",
       "      <th>label</th>\n",
       "      <th>title</th>\n",
       "      <th>TDM</th>\n",
       "      <th>Context</th>\n",
       "    </tr>\n",
       "  </thead>\n",
       "  <tbody>\n",
       "    <tr>\n",
       "      <th>52223</th>\n",
       "      <td>True</td>\n",
       "      <td>1602.01595v4.pdf</td>\n",
       "      <td>unknown</td>\n",
       "      <td>Many Languages, One Parser We train one multil...</td>\n",
       "    </tr>\n",
       "  </tbody>\n",
       "</table>\n",
       "</div>"
      ],
      "text/plain": [
       "       label             title      TDM  \\\n",
       "52223   True  1602.01595v4.pdf  unknown   \n",
       "\n",
       "                                                 Context  \n",
       "52223  Many Languages, One Parser We train one multil...  "
      ]
     },
     "execution_count": 96,
     "metadata": {},
     "output_type": "execute_result"
    }
   ],
   "source": [
    "train_New[(train_New.title==\"1602.01595v4.pdf\") & (train_New.label==True)]"
   ]
  },
  {
   "cell_type": "code",
   "execution_count": 97,
   "metadata": {},
   "outputs": [
    {
     "data": {
      "text/html": [
       "<div>\n",
       "<style scoped>\n",
       "    .dataframe tbody tr th:only-of-type {\n",
       "        vertical-align: middle;\n",
       "    }\n",
       "\n",
       "    .dataframe tbody tr th {\n",
       "        vertical-align: top;\n",
       "    }\n",
       "\n",
       "    .dataframe thead th {\n",
       "        text-align: right;\n",
       "    }\n",
       "</style>\n",
       "<table border=\"1\" class=\"dataframe\">\n",
       "  <thead>\n",
       "    <tr style=\"text-align: right;\">\n",
       "      <th></th>\n",
       "      <th>label</th>\n",
       "      <th>title</th>\n",
       "      <th>TDM</th>\n",
       "      <th>Context</th>\n",
       "    </tr>\n",
       "  </thead>\n",
       "  <tbody>\n",
       "    <tr>\n",
       "      <th>187</th>\n",
       "      <td>True</td>\n",
       "      <td>2009.04534v2.pdf</td>\n",
       "      <td>Language Modelling; WikiText-103; Test perplexity</td>\n",
       "      <td>PAY ATTENTION WHEN REQUIRED A PREPRINT Transfo...</td>\n",
       "    </tr>\n",
       "    <tr>\n",
       "      <th>188</th>\n",
       "      <td>True</td>\n",
       "      <td>2009.04534v2.pdf</td>\n",
       "      <td>unknown</td>\n",
       "      <td>PAY ATTENTION WHEN REQUIRED A PREPRINT Transfo...</td>\n",
       "    </tr>\n",
       "    <tr>\n",
       "      <th>189</th>\n",
       "      <td>True</td>\n",
       "      <td>2009.04534v2.pdf</td>\n",
       "      <td>Language Modelling; Text8; Bit per Character (...</td>\n",
       "      <td>PAY ATTENTION WHEN REQUIRED A PREPRINT Transfo...</td>\n",
       "    </tr>\n",
       "    <tr>\n",
       "      <th>190</th>\n",
       "      <td>True</td>\n",
       "      <td>2009.04534v2.pdf</td>\n",
       "      <td>unknown</td>\n",
       "      <td>PAY ATTENTION WHEN REQUIRED A PREPRINT Transfo...</td>\n",
       "    </tr>\n",
       "    <tr>\n",
       "      <th>191</th>\n",
       "      <td>True</td>\n",
       "      <td>2009.04534v2.pdf</td>\n",
       "      <td>Sentiment Analysis; SST-2 Binary classificatio...</td>\n",
       "      <td>PAY ATTENTION WHEN REQUIRED A PREPRINT Transfo...</td>\n",
       "    </tr>\n",
       "  </tbody>\n",
       "</table>\n",
       "</div>"
      ],
      "text/plain": [
       "     label             title  \\\n",
       "187   True  2009.04534v2.pdf   \n",
       "188   True  2009.04534v2.pdf   \n",
       "189   True  2009.04534v2.pdf   \n",
       "190   True  2009.04534v2.pdf   \n",
       "191   True  2009.04534v2.pdf   \n",
       "\n",
       "                                                   TDM  \\\n",
       "187  Language Modelling; WikiText-103; Test perplexity   \n",
       "188                                            unknown   \n",
       "189  Language Modelling; Text8; Bit per Character (...   \n",
       "190                                            unknown   \n",
       "191  Sentiment Analysis; SST-2 Binary classificatio...   \n",
       "\n",
       "                                               Context  \n",
       "187  PAY ATTENTION WHEN REQUIRED A PREPRINT Transfo...  \n",
       "188  PAY ATTENTION WHEN REQUIRED A PREPRINT Transfo...  \n",
       "189  PAY ATTENTION WHEN REQUIRED A PREPRINT Transfo...  \n",
       "190  PAY ATTENTION WHEN REQUIRED A PREPRINT Transfo...  \n",
       "191  PAY ATTENTION WHEN REQUIRED A PREPRINT Transfo...  "
      ]
     },
     "execution_count": 97,
     "metadata": {},
     "output_type": "execute_result"
    }
   ],
   "source": [
    "train_New[(train_New.title==\"2009.04534v2.pdf\") & (train_New.label==True)]"
   ]
  },
  {
   "cell_type": "code",
   "execution_count": 98,
   "metadata": {},
   "outputs": [
    {
     "data": {
      "text/html": [
       "<div>\n",
       "<style scoped>\n",
       "    .dataframe tbody tr th:only-of-type {\n",
       "        vertical-align: middle;\n",
       "    }\n",
       "\n",
       "    .dataframe tbody tr th {\n",
       "        vertical-align: top;\n",
       "    }\n",
       "\n",
       "    .dataframe thead th {\n",
       "        text-align: right;\n",
       "    }\n",
       "</style>\n",
       "<table border=\"1\" class=\"dataframe\">\n",
       "  <thead>\n",
       "    <tr style=\"text-align: right;\">\n",
       "      <th></th>\n",
       "      <th>label</th>\n",
       "      <th>title</th>\n",
       "      <th>TDM</th>\n",
       "      <th>Context</th>\n",
       "    </tr>\n",
       "  </thead>\n",
       "  <tbody>\n",
       "    <tr>\n",
       "      <th>187</th>\n",
       "      <td>True</td>\n",
       "      <td>2009.04534v2.pdf</td>\n",
       "      <td>Language Modelling; WikiText-103; Test perplexity</td>\n",
       "      <td>PAY ATTENTION WHEN REQUIRED A PREPRINT Transfo...</td>\n",
       "    </tr>\n",
       "    <tr>\n",
       "      <th>188</th>\n",
       "      <td>True</td>\n",
       "      <td>2009.04534v2.pdf</td>\n",
       "      <td>unknown</td>\n",
       "      <td>PAY ATTENTION WHEN REQUIRED A PREPRINT Transfo...</td>\n",
       "    </tr>\n",
       "    <tr>\n",
       "      <th>189</th>\n",
       "      <td>True</td>\n",
       "      <td>2009.04534v2.pdf</td>\n",
       "      <td>Language Modelling; Text8; Bit per Character (...</td>\n",
       "      <td>PAY ATTENTION WHEN REQUIRED A PREPRINT Transfo...</td>\n",
       "    </tr>\n",
       "    <tr>\n",
       "      <th>190</th>\n",
       "      <td>True</td>\n",
       "      <td>2009.04534v2.pdf</td>\n",
       "      <td>unknown</td>\n",
       "      <td>PAY ATTENTION WHEN REQUIRED A PREPRINT Transfo...</td>\n",
       "    </tr>\n",
       "    <tr>\n",
       "      <th>191</th>\n",
       "      <td>True</td>\n",
       "      <td>2009.04534v2.pdf</td>\n",
       "      <td>Sentiment Analysis; SST-2 Binary classificatio...</td>\n",
       "      <td>PAY ATTENTION WHEN REQUIRED A PREPRINT Transfo...</td>\n",
       "    </tr>\n",
       "  </tbody>\n",
       "</table>\n",
       "</div>"
      ],
      "text/plain": [
       "     label             title  \\\n",
       "187   True  2009.04534v2.pdf   \n",
       "188   True  2009.04534v2.pdf   \n",
       "189   True  2009.04534v2.pdf   \n",
       "190   True  2009.04534v2.pdf   \n",
       "191   True  2009.04534v2.pdf   \n",
       "\n",
       "                                                   TDM  \\\n",
       "187  Language Modelling; WikiText-103; Test perplexity   \n",
       "188                                            unknown   \n",
       "189  Language Modelling; Text8; Bit per Character (...   \n",
       "190                                            unknown   \n",
       "191  Sentiment Analysis; SST-2 Binary classificatio...   \n",
       "\n",
       "                                               Context  \n",
       "187  PAY ATTENTION WHEN REQUIRED A PREPRINT Transfo...  \n",
       "188  PAY ATTENTION WHEN REQUIRED A PREPRINT Transfo...  \n",
       "189  PAY ATTENTION WHEN REQUIRED A PREPRINT Transfo...  \n",
       "190  PAY ATTENTION WHEN REQUIRED A PREPRINT Transfo...  \n",
       "191  PAY ATTENTION WHEN REQUIRED A PREPRINT Transfo...  "
      ]
     },
     "execution_count": 98,
     "metadata": {},
     "output_type": "execute_result"
    }
   ],
   "source": [
    "train_New[(train_New.title==\"2009.04534v2.pdf\") & (train_New.label==True)]"
   ]
  },
  {
   "cell_type": "code",
   "execution_count": 105,
   "metadata": {},
   "outputs": [
    {
     "data": {
      "text/html": [
       "<div>\n",
       "<style scoped>\n",
       "    .dataframe tbody tr th:only-of-type {\n",
       "        vertical-align: middle;\n",
       "    }\n",
       "\n",
       "    .dataframe tbody tr th {\n",
       "        vertical-align: top;\n",
       "    }\n",
       "\n",
       "    .dataframe thead th {\n",
       "        text-align: right;\n",
       "    }\n",
       "</style>\n",
       "<table border=\"1\" class=\"dataframe\">\n",
       "  <thead>\n",
       "    <tr style=\"text-align: right;\">\n",
       "      <th></th>\n",
       "      <th>label</th>\n",
       "      <th>title</th>\n",
       "      <th>TDM</th>\n",
       "      <th>Context</th>\n",
       "    </tr>\n",
       "  </thead>\n",
       "  <tbody>\n",
       "  </tbody>\n",
       "</table>\n",
       "</div>"
      ],
      "text/plain": [
       "Empty DataFrame\n",
       "Columns: [label, title, TDM, Context]\n",
       "Index: []"
      ]
     },
     "execution_count": 105,
     "metadata": {},
     "output_type": "execute_result"
    }
   ],
   "source": [
    "train_New[(train_New.title==\"2011.14859v2.pdf\")]"
   ]
  },
  {
   "cell_type": "code",
   "execution_count": null,
   "metadata": {},
   "outputs": [],
   "source": []
  },
  {
   "cell_type": "code",
   "execution_count": null,
   "metadata": {},
   "outputs": [],
   "source": []
  },
  {
   "cell_type": "code",
   "execution_count": 27,
   "metadata": {},
   "outputs": [
    {
     "name": "stdout",
     "output_type": "stream",
     "text": [
      "Number of papers: 3753\n",
      "Unknown count: 2935\n",
      "Total leaderboards: 11896\n",
      "Avg leaderboard per paper: 4.18\n",
      "Distinc leaderboard: 1810\n",
      "Distinct taks: 288\n",
      "Distinc datasets: 909\n",
      "Distinc metrics: 558\n",
      "Max leaderboard per paper: 58\n",
      "Min leaderboard per paper: 1\n"
     ]
    }
   ],
   "source": [
    "avg_tdm_per_paper = get_stats(train_New)"
   ]
  },
  {
   "cell_type": "code",
   "execution_count": 22,
   "metadata": {},
   "outputs": [
    {
     "data": {
      "text/plain": [
       "1000.0"
      ]
     },
     "execution_count": 22,
     "metadata": {},
     "output_type": "execute_result"
    }
   ],
   "source": [
    "((677+323)+(697+303))/2"
   ]
  },
  {
   "cell_type": "code",
   "execution_count": 29,
   "metadata": {},
   "outputs": [
    {
     "data": {
      "text/plain": [
       "4186.0"
      ]
     },
     "execution_count": 29,
     "metadata": {},
     "output_type": "execute_result"
    }
   ],
   "source": [
    "((2931+1255)+(2935+1251))/2"
   ]
  },
  {
   "cell_type": "code",
   "execution_count": 89,
   "metadata": {},
   "outputs": [
    {
     "data": {
      "text/plain": [
       "4186"
      ]
     },
     "execution_count": 89,
     "metadata": {},
     "output_type": "execute_result"
    }
   ],
   "source": [
    "1205+2981"
   ]
  },
  {
   "cell_type": "code",
   "execution_count": 93,
   "metadata": {},
   "outputs": [
    {
     "name": "stdout",
     "output_type": "stream",
     "text": [
      "Train\n",
      "======\n",
      "Avg Unknown count: 2981\n",
      "Avg Total leaderboards: 11724\n",
      "Avg leaderboard per paper: 4.1\n",
      "Avg Distinc leaderboard: 1806\n",
      "Avg Distinct taks: 288\n",
      "Avg Distinc datasets: 908\n",
      "Avg Distinc metrics: 550\n"
     ]
    }
   ],
   "source": [
    "print(\"Train\")\n",
    "print(\"======\")\n",
    "print(f\"Avg Unknown count: {round((2934 + 3028)/2)}\")\n",
    "print(f\"Avg Total leaderboards: {round((11690 + 11757)/2)}\")\n",
    "print(f\"Avg leaderboard per paper: {round((4.13 + 4.15)/2, 1)}\")\n",
    "print(f\"Avg Distinc leaderboard: {round((1791 + 1820)/2)}\")\n",
    "print(f\"Avg Distinct taks: {round((286 + 291)/2)}\")\n",
    "print(f\"Avg Distinc datasets: {round((905 + 912)/2)}\")\n",
    "print(f\"Avg Distinc metrics: {round((547 + 553)/2)}\")"
   ]
  },
  {
   "cell_type": "code",
   "execution_count": 28,
   "metadata": {},
   "outputs": [
    {
     "name": "stdout",
     "output_type": "stream",
     "text": [
      "Number of papers: 1608\n",
      "Unknown count: 1251\n",
      "Total leaderboards: 4888\n",
      "Avg leaderboard per paper: 4.02\n",
      "Distinc leaderboard: 1582\n",
      "Distinct taks: 252\n",
      "Distinc datasets: 805\n",
      "Distinc metrics: 459\n",
      "Max leaderboard per paper: 58\n",
      "Min leaderboard per paper: 1\n"
     ]
    }
   ],
   "source": [
    "avg_tdm_per_paper = get_stats(test_New)"
   ]
  },
  {
   "cell_type": "code",
   "execution_count": 88,
   "metadata": {},
   "outputs": [
    {
     "name": "stdout",
     "output_type": "stream",
     "text": [
      "Test\n",
      "======\n",
      "Avg Unknown count: 1205\n",
      "Avg Total leaderboards: 5060\n",
      "Avg leaderboard per paper: 4.1\n",
      "Avg Distinc leaderboard: 1548\n",
      "Avg Distinct taks: 252\n",
      "Avg Distinc datasets: 798\n",
      "Avg Distinc metrics: 469\n"
     ]
    }
   ],
   "source": [
    "print(\"Test\")\n",
    "print(\"======\")\n",
    "print(f\"Avg Unknown count: {round((1252 + 1158)/2)}\")\n",
    "print(f\"Avg Total leaderboards: {round((5094 + 5027)/2)}\")\n",
    "print(f\"Avg leaderboard per paper: {round((4.14 + 4.1)/2, 1)}\")\n",
    "print(f\"Avg Distinc leaderboard: {round((1556 + 1541)/2)}\")\n",
    "print(f\"Avg Distinct taks: {round((254 + 250)/2)}\")\n",
    "print(f\"Avg Distinc datasets: {round((806 + 790)/2)}\")\n",
    "print(f\"Avg Distinc metrics: {round((472 + 466)/2)}\")"
   ]
  },
  {
   "cell_type": "code",
   "execution_count": 17,
   "metadata": {},
   "outputs": [
    {
     "name": "stdout",
     "output_type": "stream",
     "text": [
      "[]\n"
     ]
    }
   ],
   "source": [
    "count = []\n",
    "for tdm in test_New.TDM.to_list():\n",
    "    if tdm not in train_New.TDM.to_list():\n",
    "        count.append(tdm)\n",
    "print(count)"
   ]
  },
  {
   "cell_type": "code",
   "execution_count": 18,
   "metadata": {},
   "outputs": [
    {
     "name": "stdout",
     "output_type": "stream",
     "text": [
      "0\n"
     ]
    }
   ],
   "source": [
    "count = []\n",
    "for tdm in train_New.TDM.to_list():\n",
    "    if tdm not in test_New.TDM.to_list():\n",
    "        count.append(tdm)\n",
    "print(len(count))"
   ]
  },
  {
   "cell_type": "code",
   "execution_count": 52,
   "metadata": {},
   "outputs": [],
   "source": [
    "# New_train_csv = \"~/Research/task-dataset-metric-nli-extraction/data/pwc_ibm_150_5_10_800/twofoldwithunk/fold1/train.tsv\"\n",
    "# New_test_csv = \"~/Research/task-dataset-metric-nli-extraction/data/pwc_ibm_150_5_10_800/twofoldwithunk/fold1/dev.tsv\"\n",
    "\n",
    "New_train_csv = \"/nfs/home/kabenamualus/Research/task-dataset-metric-nli-extraction/data/pwc_ibm_150_5_10_10000/10Neg10000unk/twofoldwithunk/fold2/train.tsv\"\n",
    "New_test_csv = \"/nfs/home/kabenamualus/Research/task-dataset-metric-nli-extraction/data/pwc_ibm_150_5_10_10000/10Neg10000unk/twofoldwithunk/fold2/dev.tsv\"\n",
    "\n"
   ]
  },
  {
   "cell_type": "code",
   "execution_count": 53,
   "metadata": {},
   "outputs": [],
   "source": [
    "train_New = pd.read_csv(New_train_csv, \n",
    "                    sep=\"\\t\", names=[\"label\", \"title\", \"TDM\", \"Context\"])\n",
    "# train_IBM['label'] = train_IBM.label.apply(lambda x: \"true\" if x else \"false\")\n",
    "\n",
    "test_New = pd.read_csv(New_test_csv, \n",
    "                    sep=\"\\t\", names=[\"label\", \"title\", \"TDM\", \"Context\"])"
   ]
  },
  {
   "cell_type": "code",
   "execution_count": 54,
   "metadata": {},
   "outputs": [
    {
     "name": "stdout",
     "output_type": "stream",
     "text": [
      "Number of papers: 3753\n",
      "Unknown count: 3028\n",
      "Total leaderboards: 11757\n",
      "Avg leaderboard per paper: 4.15\n",
      "Distinc leaderboard: 1820\n",
      "Distinct taks: 291\n",
      "Distinc datasets: 912\n",
      "Distinc metrics: 553\n",
      "Max leaderboard per paper: 58\n",
      "Min leaderboard per paper: 1\n"
     ]
    }
   ],
   "source": [
    "avg_tdm_per_paper = get_stats(train_New)"
   ]
  },
  {
   "cell_type": "code",
   "execution_count": 55,
   "metadata": {},
   "outputs": [
    {
     "name": "stdout",
     "output_type": "stream",
     "text": [
      "Number of papers: 1608\n",
      "Unknown count: 1158\n",
      "Total leaderboards: 5027\n",
      "Avg leaderboard per paper: 4.1\n",
      "Distinc leaderboard: 1541\n",
      "Distinct taks: 250\n",
      "Distinc datasets: 790\n",
      "Distinc metrics: 466\n",
      "Max leaderboard per paper: 58\n",
      "Min leaderboard per paper: 1\n"
     ]
    }
   ],
   "source": [
    "avg_tdm_per_paper = get_stats(test_New)"
   ]
  },
  {
   "cell_type": "markdown",
   "metadata": {},
   "source": [
    "##  Remove unknown label for paper with leaderboards"
   ]
  },
  {
   "cell_type": "code",
   "execution_count": 124,
   "metadata": {},
   "outputs": [],
   "source": [
    "New_train_csv = \"/nfs/home/kabenamualus/Research/task-dataset-metric-nli-extraction/data/pwc_ibm_150_5_10_10000/10Neg10000unk/twofoldwithunk/fold1/train.tsv\"\n",
    "New_test_csv = \"/nfs/home/kabenamualus/Research/task-dataset-metric-nli-extraction/data/pwc_ibm_150_5_10_10000/10Neg10000unk/twofoldwithunk/fold1/dev.tsv\"\n",
    "\n",
    "# New_train_csv = IBM_train_csv\n",
    "# New_test_csv = IBM_test_csv\n",
    "\n",
    "train_New = pd.read_csv(New_train_csv, \n",
    "                    sep=\"\\t\", names=[\"label\", \"title\", \"TDM\", \"Context\"])\n",
    "# train_IBM['label'] = train_IBM.label.apply(lambda x: \"true\" if x else \"false\")\n",
    "\n",
    "test_New = pd.read_csv(New_test_csv, \n",
    "                    sep=\"\\t\", names=[\"label\", \"title\", \"TDM\", \"Context\"])"
   ]
  },
  {
   "cell_type": "code",
   "execution_count": 125,
   "metadata": {},
   "outputs": [
    {
     "data": {
      "text/plain": [
       "52154"
      ]
     },
     "execution_count": 125,
     "metadata": {},
     "output_type": "execute_result"
    }
   ],
   "source": [
    "len(train_New)"
   ]
  },
  {
   "cell_type": "code",
   "execution_count": 126,
   "metadata": {},
   "outputs": [
    {
     "data": {
      "text/plain": [
       "50757"
      ]
     },
     "execution_count": 126,
     "metadata": {},
     "output_type": "execute_result"
    }
   ],
   "source": [
    "train_New.drop_duplicates(inplace=True)\n",
    "len(train_New)"
   ]
  },
  {
   "cell_type": "code",
   "execution_count": 128,
   "metadata": {},
   "outputs": [
    {
     "data": {
      "text/html": [
       "<div>\n",
       "<style scoped>\n",
       "    .dataframe tbody tr th:only-of-type {\n",
       "        vertical-align: middle;\n",
       "    }\n",
       "\n",
       "    .dataframe tbody tr th {\n",
       "        vertical-align: top;\n",
       "    }\n",
       "\n",
       "    .dataframe thead th {\n",
       "        text-align: right;\n",
       "    }\n",
       "</style>\n",
       "<table border=\"1\" class=\"dataframe\">\n",
       "  <thead>\n",
       "    <tr style=\"text-align: right;\">\n",
       "      <th></th>\n",
       "      <th>label</th>\n",
       "      <th>title</th>\n",
       "      <th>TDM</th>\n",
       "      <th>Context</th>\n",
       "    </tr>\n",
       "  </thead>\n",
       "  <tbody>\n",
       "    <tr>\n",
       "      <th>104</th>\n",
       "      <td>True</td>\n",
       "      <td>1903.12290v2.pdf</td>\n",
       "      <td>unknown</td>\n",
       "      <td>Revisiting Local Descriptor based Image-to-Cla...</td>\n",
       "    </tr>\n",
       "    <tr>\n",
       "      <th>135</th>\n",
       "      <td>True</td>\n",
       "      <td>1806.05228v2.pdf</td>\n",
       "      <td>unknown</td>\n",
       "      <td>3D-CODED : 3D Correspondences by Deep Deformat...</td>\n",
       "    </tr>\n",
       "    <tr>\n",
       "      <th>157</th>\n",
       "      <td>True</td>\n",
       "      <td>1908.05786v1.pdf</td>\n",
       "      <td>unknown</td>\n",
       "      <td>TASED-Net: Temporally-Aggregating Spatial Enco...</td>\n",
       "    </tr>\n",
       "    <tr>\n",
       "      <th>210</th>\n",
       "      <td>True</td>\n",
       "      <td>2008.04259.pdf</td>\n",
       "      <td>unknown</td>\n",
       "      <td>A Perceptually-Motivated Approach for Low-Comp...</td>\n",
       "    </tr>\n",
       "    <tr>\n",
       "      <th>222</th>\n",
       "      <td>True</td>\n",
       "      <td>2009.04534v2.pdf</td>\n",
       "      <td>unknown</td>\n",
       "      <td>PAY ATTENTION WHEN REQUIRED A PREPRINT Transfo...</td>\n",
       "    </tr>\n",
       "    <tr>\n",
       "      <th>...</th>\n",
       "      <td>...</td>\n",
       "      <td>...</td>\n",
       "      <td>...</td>\n",
       "      <td>...</td>\n",
       "    </tr>\n",
       "    <tr>\n",
       "      <th>51990</th>\n",
       "      <td>True</td>\n",
       "      <td>1912.06112v2.pdf</td>\n",
       "      <td>unknown</td>\n",
       "      <td>IEEE TRANSACTIONS ON IMAGE PROCESSING 1 Unifie...</td>\n",
       "    </tr>\n",
       "    <tr>\n",
       "      <th>52020</th>\n",
       "      <td>True</td>\n",
       "      <td>1808.08703v3.pdf</td>\n",
       "      <td>unknown</td>\n",
       "      <td>Generating Text through Adversarial Training u...</td>\n",
       "    </tr>\n",
       "    <tr>\n",
       "      <th>52045</th>\n",
       "      <td>True</td>\n",
       "      <td>1602.01595v4.pdf</td>\n",
       "      <td>unknown</td>\n",
       "      <td>Many Languages, One Parser We train one multil...</td>\n",
       "    </tr>\n",
       "    <tr>\n",
       "      <th>52068</th>\n",
       "      <td>True</td>\n",
       "      <td>2006.11275v2.pdf</td>\n",
       "      <td>unknown</td>\n",
       "      <td>Center-based 3D Object Detection and Tracking ...</td>\n",
       "    </tr>\n",
       "    <tr>\n",
       "      <th>52121</th>\n",
       "      <td>True</td>\n",
       "      <td>1411.1091v1.pdf</td>\n",
       "      <td>unknown</td>\n",
       "      <td>Do Convnets Learn Correspondence? Convolutiona...</td>\n",
       "    </tr>\n",
       "  </tbody>\n",
       "</table>\n",
       "<p>1537 rows × 4 columns</p>\n",
       "</div>"
      ],
      "text/plain": [
       "       label             title      TDM  \\\n",
       "104     True  1903.12290v2.pdf  unknown   \n",
       "135     True  1806.05228v2.pdf  unknown   \n",
       "157     True  1908.05786v1.pdf  unknown   \n",
       "210     True    2008.04259.pdf  unknown   \n",
       "222     True  2009.04534v2.pdf  unknown   \n",
       "...      ...               ...      ...   \n",
       "51990   True  1912.06112v2.pdf  unknown   \n",
       "52020   True  1808.08703v3.pdf  unknown   \n",
       "52045   True  1602.01595v4.pdf  unknown   \n",
       "52068   True  2006.11275v2.pdf  unknown   \n",
       "52121   True   1411.1091v1.pdf  unknown   \n",
       "\n",
       "                                                 Context  \n",
       "104    Revisiting Local Descriptor based Image-to-Cla...  \n",
       "135    3D-CODED : 3D Correspondences by Deep Deformat...  \n",
       "157    TASED-Net: Temporally-Aggregating Spatial Enco...  \n",
       "210    A Perceptually-Motivated Approach for Low-Comp...  \n",
       "222    PAY ATTENTION WHEN REQUIRED A PREPRINT Transfo...  \n",
       "...                                                  ...  \n",
       "51990  IEEE TRANSACTIONS ON IMAGE PROCESSING 1 Unifie...  \n",
       "52020  Generating Text through Adversarial Training u...  \n",
       "52045  Many Languages, One Parser We train one multil...  \n",
       "52068  Center-based 3D Object Detection and Tracking ...  \n",
       "52121  Do Convnets Learn Correspondence? Convolutiona...  \n",
       "\n",
       "[1537 rows x 4 columns]"
      ]
     },
     "execution_count": 128,
     "metadata": {},
     "output_type": "execute_result"
    }
   ],
   "source": [
    "train_New[(train_New.label==True) & (train_New.TDM==\"unknown\")]"
   ]
  },
  {
   "cell_type": "code",
   "execution_count": 132,
   "metadata": {},
   "outputs": [
    {
     "data": {
      "text/html": [
       "<div>\n",
       "<style scoped>\n",
       "    .dataframe tbody tr th:only-of-type {\n",
       "        vertical-align: middle;\n",
       "    }\n",
       "\n",
       "    .dataframe tbody tr th {\n",
       "        vertical-align: top;\n",
       "    }\n",
       "\n",
       "    .dataframe thead th {\n",
       "        text-align: right;\n",
       "    }\n",
       "</style>\n",
       "<table border=\"1\" class=\"dataframe\">\n",
       "  <thead>\n",
       "    <tr style=\"text-align: right;\">\n",
       "      <th></th>\n",
       "      <th>label</th>\n",
       "      <th>title</th>\n",
       "      <th>TDM</th>\n",
       "      <th>Context</th>\n",
       "    </tr>\n",
       "  </thead>\n",
       "  <tbody>\n",
       "    <tr>\n",
       "      <th>103</th>\n",
       "      <td>True</td>\n",
       "      <td>1903.12290v2.pdf</td>\n",
       "      <td>Few-Shot Image Classification; Stanford Cars 5...</td>\n",
       "      <td>Revisiting Local Descriptor based Image-to-Cla...</td>\n",
       "    </tr>\n",
       "    <tr>\n",
       "      <th>104</th>\n",
       "      <td>True</td>\n",
       "      <td>1903.12290v2.pdf</td>\n",
       "      <td>unknown</td>\n",
       "      <td>Revisiting Local Descriptor based Image-to-Cla...</td>\n",
       "    </tr>\n",
       "    <tr>\n",
       "      <th>105</th>\n",
       "      <td>True</td>\n",
       "      <td>1903.12290v2.pdf</td>\n",
       "      <td>Few-Shot Image Classification; CUB 200 5-way 1...</td>\n",
       "      <td>Revisiting Local Descriptor based Image-to-Cla...</td>\n",
       "    </tr>\n",
       "    <tr>\n",
       "      <th>106</th>\n",
       "      <td>True</td>\n",
       "      <td>1903.12290v2.pdf</td>\n",
       "      <td>Few-Shot Image Classification; Stanford Cars 5...</td>\n",
       "      <td>Revisiting Local Descriptor based Image-to-Cla...</td>\n",
       "    </tr>\n",
       "    <tr>\n",
       "      <th>107</th>\n",
       "      <td>True</td>\n",
       "      <td>1903.12290v2.pdf</td>\n",
       "      <td>Few-Shot Image Classification; CUB 200 5-way 5...</td>\n",
       "      <td>Revisiting Local Descriptor based Image-to-Cla...</td>\n",
       "    </tr>\n",
       "    <tr>\n",
       "      <th>108</th>\n",
       "      <td>True</td>\n",
       "      <td>1903.12290v2.pdf</td>\n",
       "      <td>Few-Shot Image Classification; Mini-Imagenet 5...</td>\n",
       "      <td>Revisiting Local Descriptor based Image-to-Cla...</td>\n",
       "    </tr>\n",
       "    <tr>\n",
       "      <th>109</th>\n",
       "      <td>True</td>\n",
       "      <td>1903.12290v2.pdf</td>\n",
       "      <td>Few-Shot Image Classification; Stanford Dogs 5...</td>\n",
       "      <td>Revisiting Local Descriptor based Image-to-Cla...</td>\n",
       "    </tr>\n",
       "    <tr>\n",
       "      <th>110</th>\n",
       "      <td>True</td>\n",
       "      <td>1903.12290v2.pdf</td>\n",
       "      <td>Few-Shot Image Classification; Mini-Imagenet 5...</td>\n",
       "      <td>Revisiting Local Descriptor based Image-to-Cla...</td>\n",
       "    </tr>\n",
       "  </tbody>\n",
       "</table>\n",
       "</div>"
      ],
      "text/plain": [
       "     label             title  \\\n",
       "103   True  1903.12290v2.pdf   \n",
       "104   True  1903.12290v2.pdf   \n",
       "105   True  1903.12290v2.pdf   \n",
       "106   True  1903.12290v2.pdf   \n",
       "107   True  1903.12290v2.pdf   \n",
       "108   True  1903.12290v2.pdf   \n",
       "109   True  1903.12290v2.pdf   \n",
       "110   True  1903.12290v2.pdf   \n",
       "\n",
       "                                                   TDM  \\\n",
       "103  Few-Shot Image Classification; Stanford Cars 5...   \n",
       "104                                            unknown   \n",
       "105  Few-Shot Image Classification; CUB 200 5-way 1...   \n",
       "106  Few-Shot Image Classification; Stanford Cars 5...   \n",
       "107  Few-Shot Image Classification; CUB 200 5-way 5...   \n",
       "108  Few-Shot Image Classification; Mini-Imagenet 5...   \n",
       "109  Few-Shot Image Classification; Stanford Dogs 5...   \n",
       "110  Few-Shot Image Classification; Mini-Imagenet 5...   \n",
       "\n",
       "                                               Context  \n",
       "103  Revisiting Local Descriptor based Image-to-Cla...  \n",
       "104  Revisiting Local Descriptor based Image-to-Cla...  \n",
       "105  Revisiting Local Descriptor based Image-to-Cla...  \n",
       "106  Revisiting Local Descriptor based Image-to-Cla...  \n",
       "107  Revisiting Local Descriptor based Image-to-Cla...  \n",
       "108  Revisiting Local Descriptor based Image-to-Cla...  \n",
       "109  Revisiting Local Descriptor based Image-to-Cla...  \n",
       "110  Revisiting Local Descriptor based Image-to-Cla...  "
      ]
     },
     "execution_count": 132,
     "metadata": {},
     "output_type": "execute_result"
    }
   ],
   "source": [
    "train_New[(train_New.label==True) & (train_New.title==\"1903.12290v2.pdf\")]"
   ]
  },
  {
   "cell_type": "code",
   "execution_count": 133,
   "metadata": {},
   "outputs": [
    {
     "data": {
      "text/html": [
       "<div>\n",
       "<style scoped>\n",
       "    .dataframe tbody tr th:only-of-type {\n",
       "        vertical-align: middle;\n",
       "    }\n",
       "\n",
       "    .dataframe tbody tr th {\n",
       "        vertical-align: top;\n",
       "    }\n",
       "\n",
       "    .dataframe thead th {\n",
       "        text-align: right;\n",
       "    }\n",
       "</style>\n",
       "<table border=\"1\" class=\"dataframe\">\n",
       "  <thead>\n",
       "    <tr style=\"text-align: right;\">\n",
       "      <th></th>\n",
       "      <th>label</th>\n",
       "      <th>title</th>\n",
       "      <th>TDM</th>\n",
       "      <th>Context</th>\n",
       "    </tr>\n",
       "  </thead>\n",
       "  <tbody>\n",
       "    <tr>\n",
       "      <th>135</th>\n",
       "      <td>True</td>\n",
       "      <td>1806.05228v2.pdf</td>\n",
       "      <td>unknown</td>\n",
       "      <td>3D-CODED : 3D Correspondences by Deep Deformat...</td>\n",
       "    </tr>\n",
       "  </tbody>\n",
       "</table>\n",
       "</div>"
      ],
      "text/plain": [
       "     label             title      TDM  \\\n",
       "135   True  1806.05228v2.pdf  unknown   \n",
       "\n",
       "                                               Context  \n",
       "135  3D-CODED : 3D Correspondences by Deep Deformat...  "
      ]
     },
     "execution_count": 133,
     "metadata": {},
     "output_type": "execute_result"
    }
   ],
   "source": [
    "train_New[(train_New.label==True) & (train_New.title==\"1806.05228v2.pdf\")]"
   ]
  },
  {
   "cell_type": "code",
   "execution_count": null,
   "metadata": {},
   "outputs": [],
   "source": []
  },
  {
   "cell_type": "code",
   "execution_count": 138,
   "metadata": {},
   "outputs": [
    {
     "data": {
      "text/plain": [
       "Int64Index([104], dtype='int64')"
      ]
     },
     "execution_count": 138,
     "metadata": {},
     "output_type": "execute_result"
    }
   ],
   "source": [
    "train_New[(train_New.label==True) & (train_New.title==\"1903.12290v2.pdf\") & (train_New.TDM==\"unknown\")].index"
   ]
  },
  {
   "cell_type": "code",
   "execution_count": 141,
   "metadata": {},
   "outputs": [],
   "source": [
    "papers = set(train_New.title.to_list())\n",
    "for paper in papers:\n",
    "    if len(train_New[(train_New.label==True) & (train_New.title==paper)]) != 1:\n",
    "        train_New.drop(train_New[(train_New.label==True) & (train_New.title==paper) & (train_New.TDM==\"unknown\")].index, inplace=True)"
   ]
  },
  {
   "cell_type": "code",
   "execution_count": 142,
   "metadata": {},
   "outputs": [
    {
     "data": {
      "text/plain": [
       "50143"
      ]
     },
     "execution_count": 142,
     "metadata": {},
     "output_type": "execute_result"
    }
   ],
   "source": [
    "len(train_New)"
   ]
  },
  {
   "cell_type": "code",
   "execution_count": 143,
   "metadata": {},
   "outputs": [
    {
     "data": {
      "text/html": [
       "<div>\n",
       "<style scoped>\n",
       "    .dataframe tbody tr th:only-of-type {\n",
       "        vertical-align: middle;\n",
       "    }\n",
       "\n",
       "    .dataframe tbody tr th {\n",
       "        vertical-align: top;\n",
       "    }\n",
       "\n",
       "    .dataframe thead th {\n",
       "        text-align: right;\n",
       "    }\n",
       "</style>\n",
       "<table border=\"1\" class=\"dataframe\">\n",
       "  <thead>\n",
       "    <tr style=\"text-align: right;\">\n",
       "      <th></th>\n",
       "      <th>label</th>\n",
       "      <th>title</th>\n",
       "      <th>TDM</th>\n",
       "      <th>Context</th>\n",
       "    </tr>\n",
       "  </thead>\n",
       "  <tbody>\n",
       "    <tr>\n",
       "      <th>103</th>\n",
       "      <td>True</td>\n",
       "      <td>1903.12290v2.pdf</td>\n",
       "      <td>Few-Shot Image Classification; Stanford Cars 5...</td>\n",
       "      <td>Revisiting Local Descriptor based Image-to-Cla...</td>\n",
       "    </tr>\n",
       "    <tr>\n",
       "      <th>105</th>\n",
       "      <td>True</td>\n",
       "      <td>1903.12290v2.pdf</td>\n",
       "      <td>Few-Shot Image Classification; CUB 200 5-way 1...</td>\n",
       "      <td>Revisiting Local Descriptor based Image-to-Cla...</td>\n",
       "    </tr>\n",
       "    <tr>\n",
       "      <th>106</th>\n",
       "      <td>True</td>\n",
       "      <td>1903.12290v2.pdf</td>\n",
       "      <td>Few-Shot Image Classification; Stanford Cars 5...</td>\n",
       "      <td>Revisiting Local Descriptor based Image-to-Cla...</td>\n",
       "    </tr>\n",
       "    <tr>\n",
       "      <th>107</th>\n",
       "      <td>True</td>\n",
       "      <td>1903.12290v2.pdf</td>\n",
       "      <td>Few-Shot Image Classification; CUB 200 5-way 5...</td>\n",
       "      <td>Revisiting Local Descriptor based Image-to-Cla...</td>\n",
       "    </tr>\n",
       "    <tr>\n",
       "      <th>108</th>\n",
       "      <td>True</td>\n",
       "      <td>1903.12290v2.pdf</td>\n",
       "      <td>Few-Shot Image Classification; Mini-Imagenet 5...</td>\n",
       "      <td>Revisiting Local Descriptor based Image-to-Cla...</td>\n",
       "    </tr>\n",
       "    <tr>\n",
       "      <th>109</th>\n",
       "      <td>True</td>\n",
       "      <td>1903.12290v2.pdf</td>\n",
       "      <td>Few-Shot Image Classification; Stanford Dogs 5...</td>\n",
       "      <td>Revisiting Local Descriptor based Image-to-Cla...</td>\n",
       "    </tr>\n",
       "    <tr>\n",
       "      <th>110</th>\n",
       "      <td>True</td>\n",
       "      <td>1903.12290v2.pdf</td>\n",
       "      <td>Few-Shot Image Classification; Mini-Imagenet 5...</td>\n",
       "      <td>Revisiting Local Descriptor based Image-to-Cla...</td>\n",
       "    </tr>\n",
       "  </tbody>\n",
       "</table>\n",
       "</div>"
      ],
      "text/plain": [
       "     label             title  \\\n",
       "103   True  1903.12290v2.pdf   \n",
       "105   True  1903.12290v2.pdf   \n",
       "106   True  1903.12290v2.pdf   \n",
       "107   True  1903.12290v2.pdf   \n",
       "108   True  1903.12290v2.pdf   \n",
       "109   True  1903.12290v2.pdf   \n",
       "110   True  1903.12290v2.pdf   \n",
       "\n",
       "                                                   TDM  \\\n",
       "103  Few-Shot Image Classification; Stanford Cars 5...   \n",
       "105  Few-Shot Image Classification; CUB 200 5-way 1...   \n",
       "106  Few-Shot Image Classification; Stanford Cars 5...   \n",
       "107  Few-Shot Image Classification; CUB 200 5-way 5...   \n",
       "108  Few-Shot Image Classification; Mini-Imagenet 5...   \n",
       "109  Few-Shot Image Classification; Stanford Dogs 5...   \n",
       "110  Few-Shot Image Classification; Mini-Imagenet 5...   \n",
       "\n",
       "                                               Context  \n",
       "103  Revisiting Local Descriptor based Image-to-Cla...  \n",
       "105  Revisiting Local Descriptor based Image-to-Cla...  \n",
       "106  Revisiting Local Descriptor based Image-to-Cla...  \n",
       "107  Revisiting Local Descriptor based Image-to-Cla...  \n",
       "108  Revisiting Local Descriptor based Image-to-Cla...  \n",
       "109  Revisiting Local Descriptor based Image-to-Cla...  \n",
       "110  Revisiting Local Descriptor based Image-to-Cla...  "
      ]
     },
     "execution_count": 143,
     "metadata": {},
     "output_type": "execute_result"
    }
   ],
   "source": [
    "train_New[(train_New.label==True) & (train_New.title==\"1903.12290v2.pdf\")]"
   ]
  },
  {
   "cell_type": "code",
   "execution_count": 144,
   "metadata": {},
   "outputs": [
    {
     "data": {
      "text/html": [
       "<div>\n",
       "<style scoped>\n",
       "    .dataframe tbody tr th:only-of-type {\n",
       "        vertical-align: middle;\n",
       "    }\n",
       "\n",
       "    .dataframe tbody tr th {\n",
       "        vertical-align: top;\n",
       "    }\n",
       "\n",
       "    .dataframe thead th {\n",
       "        text-align: right;\n",
       "    }\n",
       "</style>\n",
       "<table border=\"1\" class=\"dataframe\">\n",
       "  <thead>\n",
       "    <tr style=\"text-align: right;\">\n",
       "      <th></th>\n",
       "      <th>label</th>\n",
       "      <th>title</th>\n",
       "      <th>TDM</th>\n",
       "      <th>Context</th>\n",
       "    </tr>\n",
       "  </thead>\n",
       "  <tbody>\n",
       "    <tr>\n",
       "      <th>135</th>\n",
       "      <td>True</td>\n",
       "      <td>1806.05228v2.pdf</td>\n",
       "      <td>unknown</td>\n",
       "      <td>3D-CODED : 3D Correspondences by Deep Deformat...</td>\n",
       "    </tr>\n",
       "    <tr>\n",
       "      <th>157</th>\n",
       "      <td>True</td>\n",
       "      <td>1908.05786v1.pdf</td>\n",
       "      <td>unknown</td>\n",
       "      <td>TASED-Net: Temporally-Aggregating Spatial Enco...</td>\n",
       "    </tr>\n",
       "    <tr>\n",
       "      <th>210</th>\n",
       "      <td>True</td>\n",
       "      <td>2008.04259.pdf</td>\n",
       "      <td>unknown</td>\n",
       "      <td>A Perceptually-Motivated Approach for Low-Comp...</td>\n",
       "    </tr>\n",
       "    <tr>\n",
       "      <th>250</th>\n",
       "      <td>True</td>\n",
       "      <td>2007.04973v3.pdf</td>\n",
       "      <td>unknown</td>\n",
       "      <td>Contrastive Code Representation Learning Recen...</td>\n",
       "    </tr>\n",
       "    <tr>\n",
       "      <th>261</th>\n",
       "      <td>True</td>\n",
       "      <td>1806.11538v2.pdf</td>\n",
       "      <td>unknown</td>\n",
       "      <td>Factorizable Net: An Efficient Subgraph-based ...</td>\n",
       "    </tr>\n",
       "    <tr>\n",
       "      <th>...</th>\n",
       "      <td>...</td>\n",
       "      <td>...</td>\n",
       "      <td>...</td>\n",
       "      <td>...</td>\n",
       "    </tr>\n",
       "    <tr>\n",
       "      <th>51838</th>\n",
       "      <td>True</td>\n",
       "      <td>2001.10692v1.pdf</td>\n",
       "      <td>unknown</td>\n",
       "      <td>ImVoteNet: Boosting 3D Object Detection in Poi...</td>\n",
       "    </tr>\n",
       "    <tr>\n",
       "      <th>51916</th>\n",
       "      <td>True</td>\n",
       "      <td>1605.06240v3.pdf</td>\n",
       "      <td>unknown</td>\n",
       "      <td>FPNN: Field Probing Neural Networks for 3D Dat...</td>\n",
       "    </tr>\n",
       "    <tr>\n",
       "      <th>52020</th>\n",
       "      <td>True</td>\n",
       "      <td>1808.08703v3.pdf</td>\n",
       "      <td>unknown</td>\n",
       "      <td>Generating Text through Adversarial Training u...</td>\n",
       "    </tr>\n",
       "    <tr>\n",
       "      <th>52045</th>\n",
       "      <td>True</td>\n",
       "      <td>1602.01595v4.pdf</td>\n",
       "      <td>unknown</td>\n",
       "      <td>Many Languages, One Parser We train one multil...</td>\n",
       "    </tr>\n",
       "    <tr>\n",
       "      <th>52121</th>\n",
       "      <td>True</td>\n",
       "      <td>1411.1091v1.pdf</td>\n",
       "      <td>unknown</td>\n",
       "      <td>Do Convnets Learn Correspondence? Convolutiona...</td>\n",
       "    </tr>\n",
       "  </tbody>\n",
       "</table>\n",
       "<p>923 rows × 4 columns</p>\n",
       "</div>"
      ],
      "text/plain": [
       "       label             title      TDM  \\\n",
       "135     True  1806.05228v2.pdf  unknown   \n",
       "157     True  1908.05786v1.pdf  unknown   \n",
       "210     True    2008.04259.pdf  unknown   \n",
       "250     True  2007.04973v3.pdf  unknown   \n",
       "261     True  1806.11538v2.pdf  unknown   \n",
       "...      ...               ...      ...   \n",
       "51838   True  2001.10692v1.pdf  unknown   \n",
       "51916   True  1605.06240v3.pdf  unknown   \n",
       "52020   True  1808.08703v3.pdf  unknown   \n",
       "52045   True  1602.01595v4.pdf  unknown   \n",
       "52121   True   1411.1091v1.pdf  unknown   \n",
       "\n",
       "                                                 Context  \n",
       "135    3D-CODED : 3D Correspondences by Deep Deformat...  \n",
       "157    TASED-Net: Temporally-Aggregating Spatial Enco...  \n",
       "210    A Perceptually-Motivated Approach for Low-Comp...  \n",
       "250    Contrastive Code Representation Learning Recen...  \n",
       "261    Factorizable Net: An Efficient Subgraph-based ...  \n",
       "...                                                  ...  \n",
       "51838  ImVoteNet: Boosting 3D Object Detection in Poi...  \n",
       "51916  FPNN: Field Probing Neural Networks for 3D Dat...  \n",
       "52020  Generating Text through Adversarial Training u...  \n",
       "52045  Many Languages, One Parser We train one multil...  \n",
       "52121  Do Convnets Learn Correspondence? Convolutiona...  \n",
       "\n",
       "[923 rows x 4 columns]"
      ]
     },
     "execution_count": 144,
     "metadata": {},
     "output_type": "execute_result"
    }
   ],
   "source": [
    "train_New[(train_New.label==True) & (train_New.TDM==\"unknown\")]"
   ]
  },
  {
   "cell_type": "code",
   "execution_count": 145,
   "metadata": {},
   "outputs": [
    {
     "data": {
      "text/html": [
       "<div>\n",
       "<style scoped>\n",
       "    .dataframe tbody tr th:only-of-type {\n",
       "        vertical-align: middle;\n",
       "    }\n",
       "\n",
       "    .dataframe tbody tr th {\n",
       "        vertical-align: top;\n",
       "    }\n",
       "\n",
       "    .dataframe thead th {\n",
       "        text-align: right;\n",
       "    }\n",
       "</style>\n",
       "<table border=\"1\" class=\"dataframe\">\n",
       "  <thead>\n",
       "    <tr style=\"text-align: right;\">\n",
       "      <th></th>\n",
       "      <th>label</th>\n",
       "      <th>title</th>\n",
       "      <th>TDM</th>\n",
       "      <th>Context</th>\n",
       "    </tr>\n",
       "  </thead>\n",
       "  <tbody>\n",
       "    <tr>\n",
       "      <th>52121</th>\n",
       "      <td>True</td>\n",
       "      <td>1411.1091v1.pdf</td>\n",
       "      <td>unknown</td>\n",
       "      <td>Do Convnets Learn Correspondence? Convolutiona...</td>\n",
       "    </tr>\n",
       "  </tbody>\n",
       "</table>\n",
       "</div>"
      ],
      "text/plain": [
       "       label            title      TDM  \\\n",
       "52121   True  1411.1091v1.pdf  unknown   \n",
       "\n",
       "                                                 Context  \n",
       "52121  Do Convnets Learn Correspondence? Convolutiona...  "
      ]
     },
     "execution_count": 145,
     "metadata": {},
     "output_type": "execute_result"
    }
   ],
   "source": [
    "train_New[(train_New.label==True) & (train_New.title==\"1411.1091v1.pdf\")]"
   ]
  },
  {
   "cell_type": "code",
   "execution_count": 152,
   "metadata": {},
   "outputs": [],
   "source": [
    "output = \"/nfs/home/kabenamualus/Research/task-dataset-metric-nli-extraction/data/pwc_ibm_150_5_10_10000_correct/10Neg10000unk/twofoldwithunk/fold1/\"\n",
    "if not os.path.exists(output):\n",
    "        os.makedirs(output)"
   ]
  },
  {
   "cell_type": "code",
   "execution_count": 153,
   "metadata": {},
   "outputs": [],
   "source": [
    "train_New.to_csv(f\"{output}train.tsv\", \n",
    "                    header=False, index=False, sep=\"\\t\")"
   ]
  },
  {
   "cell_type": "markdown",
   "metadata": {},
   "source": [
    "## Test"
   ]
  },
  {
   "cell_type": "code",
   "execution_count": 146,
   "metadata": {},
   "outputs": [
    {
     "data": {
      "text/plain": [
       "22426"
      ]
     },
     "execution_count": 146,
     "metadata": {},
     "output_type": "execute_result"
    }
   ],
   "source": [
    "len(test_New)"
   ]
  },
  {
   "cell_type": "code",
   "execution_count": 147,
   "metadata": {},
   "outputs": [
    {
     "data": {
      "text/plain": [
       "21821"
      ]
     },
     "execution_count": 147,
     "metadata": {},
     "output_type": "execute_result"
    }
   ],
   "source": [
    "test_New.drop_duplicates(inplace=True)\n",
    "len(test_New)"
   ]
  },
  {
   "cell_type": "code",
   "execution_count": 148,
   "metadata": {},
   "outputs": [],
   "source": [
    "papers = set(test_New.title.to_list())\n",
    "for paper in papers:\n",
    "    if len(test_New[(test_New.label==True) & (test_New.title==paper)]) != 1:\n",
    "        test_New.drop(test_New[(test_New.label==True) & (test_New.title==paper) & (test_New.TDM==\"unknown\")].index, inplace=True)"
   ]
  },
  {
   "cell_type": "code",
   "execution_count": 150,
   "metadata": {},
   "outputs": [
    {
     "data": {
      "text/plain": [
       "21552"
      ]
     },
     "execution_count": 150,
     "metadata": {},
     "output_type": "execute_result"
    }
   ],
   "source": [
    "len(test_New)"
   ]
  },
  {
   "cell_type": "code",
   "execution_count": 154,
   "metadata": {},
   "outputs": [],
   "source": [
    "test_New.to_csv(f\"{output}dev.tsv\", \n",
    "                    header=False, index=False, sep=\"\\t\")"
   ]
  },
  {
   "cell_type": "markdown",
   "metadata": {},
   "source": [
    "# F2"
   ]
  },
  {
   "cell_type": "code",
   "execution_count": 155,
   "metadata": {},
   "outputs": [],
   "source": [
    "New_train_csv = \"/nfs/home/kabenamualus/Research/task-dataset-metric-nli-extraction/data/pwc_ibm_150_5_10_10000/10Neg10000unk/twofoldwithunk/fold2/train.tsv\"\n",
    "New_test_csv = \"/nfs/home/kabenamualus/Research/task-dataset-metric-nli-extraction/data/pwc_ibm_150_5_10_10000/10Neg10000unk/twofoldwithunk/fold2/dev.tsv\"\n",
    "\n",
    "# New_train_csv = IBM_train_csv\n",
    "# New_test_csv = IBM_test_csv\n",
    "\n",
    "train_New = pd.read_csv(New_train_csv, \n",
    "                    sep=\"\\t\", names=[\"label\", \"title\", \"TDM\", \"Context\"])\n",
    "# train_IBM['label'] = train_IBM.label.apply(lambda x: \"true\" if x else \"false\")\n",
    "\n",
    "test_New = pd.read_csv(New_test_csv, \n",
    "                    sep=\"\\t\", names=[\"label\", \"title\", \"TDM\", \"Context\"])"
   ]
  },
  {
   "cell_type": "code",
   "execution_count": 156,
   "metadata": {},
   "outputs": [
    {
     "data": {
      "text/plain": [
       "52315"
      ]
     },
     "execution_count": 156,
     "metadata": {},
     "output_type": "execute_result"
    }
   ],
   "source": [
    "len(train_New)"
   ]
  },
  {
   "cell_type": "code",
   "execution_count": 157,
   "metadata": {},
   "outputs": [
    {
     "data": {
      "text/plain": [
       "50821"
      ]
     },
     "execution_count": 157,
     "metadata": {},
     "output_type": "execute_result"
    }
   ],
   "source": [
    "train_New.drop_duplicates(inplace=True)\n",
    "len(train_New)"
   ]
  },
  {
   "cell_type": "code",
   "execution_count": 158,
   "metadata": {},
   "outputs": [
    {
     "data": {
      "text/html": [
       "<div>\n",
       "<style scoped>\n",
       "    .dataframe tbody tr th:only-of-type {\n",
       "        vertical-align: middle;\n",
       "    }\n",
       "\n",
       "    .dataframe tbody tr th {\n",
       "        vertical-align: top;\n",
       "    }\n",
       "\n",
       "    .dataframe thead th {\n",
       "        text-align: right;\n",
       "    }\n",
       "</style>\n",
       "<table border=\"1\" class=\"dataframe\">\n",
       "  <thead>\n",
       "    <tr style=\"text-align: right;\">\n",
       "      <th></th>\n",
       "      <th>label</th>\n",
       "      <th>title</th>\n",
       "      <th>TDM</th>\n",
       "      <th>Context</th>\n",
       "    </tr>\n",
       "  </thead>\n",
       "  <tbody>\n",
       "    <tr>\n",
       "      <th>125</th>\n",
       "      <td>True</td>\n",
       "      <td>1908.05786v1.pdf</td>\n",
       "      <td>unknown</td>\n",
       "      <td>TASED-Net: Temporally-Aggregating Spatial Enco...</td>\n",
       "    </tr>\n",
       "    <tr>\n",
       "      <th>176</th>\n",
       "      <td>True</td>\n",
       "      <td>2008.04259.pdf</td>\n",
       "      <td>unknown</td>\n",
       "      <td>A Perceptually-Motivated Approach for Low-Comp...</td>\n",
       "    </tr>\n",
       "    <tr>\n",
       "      <th>188</th>\n",
       "      <td>True</td>\n",
       "      <td>2009.04534v2.pdf</td>\n",
       "      <td>unknown</td>\n",
       "      <td>PAY ATTENTION WHEN REQUIRED A PREPRINT Transfo...</td>\n",
       "    </tr>\n",
       "    <tr>\n",
       "      <th>202</th>\n",
       "      <td>True</td>\n",
       "      <td>2007.04973v3.pdf</td>\n",
       "      <td>unknown</td>\n",
       "      <td>Contrastive Code Representation Learning Recen...</td>\n",
       "    </tr>\n",
       "    <tr>\n",
       "      <th>234</th>\n",
       "      <td>True</td>\n",
       "      <td>1806.11538v2.pdf</td>\n",
       "      <td>unknown</td>\n",
       "      <td>Factorizable Net: An Efficient Subgraph-based ...</td>\n",
       "    </tr>\n",
       "    <tr>\n",
       "      <th>...</th>\n",
       "      <td>...</td>\n",
       "      <td>...</td>\n",
       "      <td>...</td>\n",
       "      <td>...</td>\n",
       "    </tr>\n",
       "    <tr>\n",
       "      <th>52174</th>\n",
       "      <td>True</td>\n",
       "      <td>2007.08176v2.pdf</td>\n",
       "      <td>unknown</td>\n",
       "      <td>CSI: Novelty Detection via Contrastive Learnin...</td>\n",
       "    </tr>\n",
       "    <tr>\n",
       "      <th>52188</th>\n",
       "      <td>True</td>\n",
       "      <td>2101.07172v2.pdf</td>\n",
       "      <td>unknown</td>\n",
       "      <td>HarDNet-MSEG: A Simple Encoder-Decoder Polyp S...</td>\n",
       "    </tr>\n",
       "    <tr>\n",
       "      <th>52205</th>\n",
       "      <td>True</td>\n",
       "      <td>1905.00067v3.pdf</td>\n",
       "      <td>unknown</td>\n",
       "      <td>MixHop: Higher-Order Graph Convolutional Archi...</td>\n",
       "    </tr>\n",
       "    <tr>\n",
       "      <th>52223</th>\n",
       "      <td>True</td>\n",
       "      <td>1602.01595v4.pdf</td>\n",
       "      <td>unknown</td>\n",
       "      <td>Many Languages, One Parser We train one multil...</td>\n",
       "    </tr>\n",
       "    <tr>\n",
       "      <th>52259</th>\n",
       "      <td>True</td>\n",
       "      <td>1411.1091v1.pdf</td>\n",
       "      <td>unknown</td>\n",
       "      <td>Do Convnets Learn Correspondence? Convolutiona...</td>\n",
       "    </tr>\n",
       "  </tbody>\n",
       "</table>\n",
       "<p>1534 rows × 4 columns</p>\n",
       "</div>"
      ],
      "text/plain": [
       "       label             title      TDM  \\\n",
       "125     True  1908.05786v1.pdf  unknown   \n",
       "176     True    2008.04259.pdf  unknown   \n",
       "188     True  2009.04534v2.pdf  unknown   \n",
       "202     True  2007.04973v3.pdf  unknown   \n",
       "234     True  1806.11538v2.pdf  unknown   \n",
       "...      ...               ...      ...   \n",
       "52174   True  2007.08176v2.pdf  unknown   \n",
       "52188   True  2101.07172v2.pdf  unknown   \n",
       "52205   True  1905.00067v3.pdf  unknown   \n",
       "52223   True  1602.01595v4.pdf  unknown   \n",
       "52259   True   1411.1091v1.pdf  unknown   \n",
       "\n",
       "                                                 Context  \n",
       "125    TASED-Net: Temporally-Aggregating Spatial Enco...  \n",
       "176    A Perceptually-Motivated Approach for Low-Comp...  \n",
       "188    PAY ATTENTION WHEN REQUIRED A PREPRINT Transfo...  \n",
       "202    Contrastive Code Representation Learning Recen...  \n",
       "234    Factorizable Net: An Efficient Subgraph-based ...  \n",
       "...                                                  ...  \n",
       "52174  CSI: Novelty Detection via Contrastive Learnin...  \n",
       "52188  HarDNet-MSEG: A Simple Encoder-Decoder Polyp S...  \n",
       "52205  MixHop: Higher-Order Graph Convolutional Archi...  \n",
       "52223  Many Languages, One Parser We train one multil...  \n",
       "52259  Do Convnets Learn Correspondence? Convolutiona...  \n",
       "\n",
       "[1534 rows x 4 columns]"
      ]
     },
     "execution_count": 158,
     "metadata": {},
     "output_type": "execute_result"
    }
   ],
   "source": [
    "train_New[(train_New.label==True) & (train_New.TDM==\"unknown\")]"
   ]
  },
  {
   "cell_type": "code",
   "execution_count": 161,
   "metadata": {},
   "outputs": [
    {
     "data": {
      "text/html": [
       "<div>\n",
       "<style scoped>\n",
       "    .dataframe tbody tr th:only-of-type {\n",
       "        vertical-align: middle;\n",
       "    }\n",
       "\n",
       "    .dataframe tbody tr th {\n",
       "        vertical-align: top;\n",
       "    }\n",
       "\n",
       "    .dataframe thead th {\n",
       "        text-align: right;\n",
       "    }\n",
       "</style>\n",
       "<table border=\"1\" class=\"dataframe\">\n",
       "  <thead>\n",
       "    <tr style=\"text-align: right;\">\n",
       "      <th></th>\n",
       "      <th>label</th>\n",
       "      <th>title</th>\n",
       "      <th>TDM</th>\n",
       "      <th>Context</th>\n",
       "    </tr>\n",
       "  </thead>\n",
       "  <tbody>\n",
       "    <tr>\n",
       "      <th>187</th>\n",
       "      <td>True</td>\n",
       "      <td>2009.04534v2.pdf</td>\n",
       "      <td>Language Modelling; WikiText-103; Test perplexity</td>\n",
       "      <td>PAY ATTENTION WHEN REQUIRED A PREPRINT Transfo...</td>\n",
       "    </tr>\n",
       "    <tr>\n",
       "      <th>188</th>\n",
       "      <td>True</td>\n",
       "      <td>2009.04534v2.pdf</td>\n",
       "      <td>unknown</td>\n",
       "      <td>PAY ATTENTION WHEN REQUIRED A PREPRINT Transfo...</td>\n",
       "    </tr>\n",
       "    <tr>\n",
       "      <th>189</th>\n",
       "      <td>True</td>\n",
       "      <td>2009.04534v2.pdf</td>\n",
       "      <td>Language Modelling; Text8; Bit per Character (...</td>\n",
       "      <td>PAY ATTENTION WHEN REQUIRED A PREPRINT Transfo...</td>\n",
       "    </tr>\n",
       "    <tr>\n",
       "      <th>191</th>\n",
       "      <td>True</td>\n",
       "      <td>2009.04534v2.pdf</td>\n",
       "      <td>Sentiment Analysis; SST-2 Binary classificatio...</td>\n",
       "      <td>PAY ATTENTION WHEN REQUIRED A PREPRINT Transfo...</td>\n",
       "    </tr>\n",
       "  </tbody>\n",
       "</table>\n",
       "</div>"
      ],
      "text/plain": [
       "     label             title  \\\n",
       "187   True  2009.04534v2.pdf   \n",
       "188   True  2009.04534v2.pdf   \n",
       "189   True  2009.04534v2.pdf   \n",
       "191   True  2009.04534v2.pdf   \n",
       "\n",
       "                                                   TDM  \\\n",
       "187  Language Modelling; WikiText-103; Test perplexity   \n",
       "188                                            unknown   \n",
       "189  Language Modelling; Text8; Bit per Character (...   \n",
       "191  Sentiment Analysis; SST-2 Binary classificatio...   \n",
       "\n",
       "                                               Context  \n",
       "187  PAY ATTENTION WHEN REQUIRED A PREPRINT Transfo...  \n",
       "188  PAY ATTENTION WHEN REQUIRED A PREPRINT Transfo...  \n",
       "189  PAY ATTENTION WHEN REQUIRED A PREPRINT Transfo...  \n",
       "191  PAY ATTENTION WHEN REQUIRED A PREPRINT Transfo...  "
      ]
     },
     "execution_count": 161,
     "metadata": {},
     "output_type": "execute_result"
    }
   ],
   "source": [
    "train_New[(train_New.label==True) & (train_New.title==\"2009.04534v2.pdf\")]"
   ]
  },
  {
   "cell_type": "code",
   "execution_count": 162,
   "metadata": {},
   "outputs": [
    {
     "data": {
      "text/html": [
       "<div>\n",
       "<style scoped>\n",
       "    .dataframe tbody tr th:only-of-type {\n",
       "        vertical-align: middle;\n",
       "    }\n",
       "\n",
       "    .dataframe tbody tr th {\n",
       "        vertical-align: top;\n",
       "    }\n",
       "\n",
       "    .dataframe thead th {\n",
       "        text-align: right;\n",
       "    }\n",
       "</style>\n",
       "<table border=\"1\" class=\"dataframe\">\n",
       "  <thead>\n",
       "    <tr style=\"text-align: right;\">\n",
       "      <th></th>\n",
       "      <th>label</th>\n",
       "      <th>title</th>\n",
       "      <th>TDM</th>\n",
       "      <th>Context</th>\n",
       "    </tr>\n",
       "  </thead>\n",
       "  <tbody>\n",
       "    <tr>\n",
       "      <th>52259</th>\n",
       "      <td>True</td>\n",
       "      <td>1411.1091v1.pdf</td>\n",
       "      <td>unknown</td>\n",
       "      <td>Do Convnets Learn Correspondence? Convolutiona...</td>\n",
       "    </tr>\n",
       "  </tbody>\n",
       "</table>\n",
       "</div>"
      ],
      "text/plain": [
       "       label            title      TDM  \\\n",
       "52259   True  1411.1091v1.pdf  unknown   \n",
       "\n",
       "                                                 Context  \n",
       "52259  Do Convnets Learn Correspondence? Convolutiona...  "
      ]
     },
     "execution_count": 162,
     "metadata": {},
     "output_type": "execute_result"
    }
   ],
   "source": [
    "train_New[(train_New.label==True) & (train_New.title==\"1411.1091v1.pdf\")]"
   ]
  },
  {
   "cell_type": "code",
   "execution_count": 163,
   "metadata": {},
   "outputs": [],
   "source": [
    "papers = set(train_New.title.to_list())\n",
    "for paper in papers:\n",
    "    if len(train_New[(train_New.label==True) & (train_New.title==paper)]) != 1:\n",
    "        train_New.drop(train_New[(train_New.label==True) & (train_New.title==paper) & (train_New.TDM==\"unknown\")].index, inplace=True)"
   ]
  },
  {
   "cell_type": "code",
   "execution_count": 164,
   "metadata": {},
   "outputs": [
    {
     "data": {
      "text/plain": [
       "50207"
      ]
     },
     "execution_count": 164,
     "metadata": {},
     "output_type": "execute_result"
    }
   ],
   "source": [
    "len(train_New)"
   ]
  },
  {
   "cell_type": "code",
   "execution_count": 165,
   "metadata": {},
   "outputs": [
    {
     "data": {
      "text/html": [
       "<div>\n",
       "<style scoped>\n",
       "    .dataframe tbody tr th:only-of-type {\n",
       "        vertical-align: middle;\n",
       "    }\n",
       "\n",
       "    .dataframe tbody tr th {\n",
       "        vertical-align: top;\n",
       "    }\n",
       "\n",
       "    .dataframe thead th {\n",
       "        text-align: right;\n",
       "    }\n",
       "</style>\n",
       "<table border=\"1\" class=\"dataframe\">\n",
       "  <thead>\n",
       "    <tr style=\"text-align: right;\">\n",
       "      <th></th>\n",
       "      <th>label</th>\n",
       "      <th>title</th>\n",
       "      <th>TDM</th>\n",
       "      <th>Context</th>\n",
       "    </tr>\n",
       "  </thead>\n",
       "  <tbody>\n",
       "    <tr>\n",
       "      <th>187</th>\n",
       "      <td>True</td>\n",
       "      <td>2009.04534v2.pdf</td>\n",
       "      <td>Language Modelling; WikiText-103; Test perplexity</td>\n",
       "      <td>PAY ATTENTION WHEN REQUIRED A PREPRINT Transfo...</td>\n",
       "    </tr>\n",
       "    <tr>\n",
       "      <th>189</th>\n",
       "      <td>True</td>\n",
       "      <td>2009.04534v2.pdf</td>\n",
       "      <td>Language Modelling; Text8; Bit per Character (...</td>\n",
       "      <td>PAY ATTENTION WHEN REQUIRED A PREPRINT Transfo...</td>\n",
       "    </tr>\n",
       "    <tr>\n",
       "      <th>191</th>\n",
       "      <td>True</td>\n",
       "      <td>2009.04534v2.pdf</td>\n",
       "      <td>Sentiment Analysis; SST-2 Binary classificatio...</td>\n",
       "      <td>PAY ATTENTION WHEN REQUIRED A PREPRINT Transfo...</td>\n",
       "    </tr>\n",
       "  </tbody>\n",
       "</table>\n",
       "</div>"
      ],
      "text/plain": [
       "     label             title  \\\n",
       "187   True  2009.04534v2.pdf   \n",
       "189   True  2009.04534v2.pdf   \n",
       "191   True  2009.04534v2.pdf   \n",
       "\n",
       "                                                   TDM  \\\n",
       "187  Language Modelling; WikiText-103; Test perplexity   \n",
       "189  Language Modelling; Text8; Bit per Character (...   \n",
       "191  Sentiment Analysis; SST-2 Binary classificatio...   \n",
       "\n",
       "                                               Context  \n",
       "187  PAY ATTENTION WHEN REQUIRED A PREPRINT Transfo...  \n",
       "189  PAY ATTENTION WHEN REQUIRED A PREPRINT Transfo...  \n",
       "191  PAY ATTENTION WHEN REQUIRED A PREPRINT Transfo...  "
      ]
     },
     "execution_count": 165,
     "metadata": {},
     "output_type": "execute_result"
    }
   ],
   "source": [
    "train_New[(train_New.label==True) & (train_New.title==\"2009.04534v2.pdf\")]"
   ]
  },
  {
   "cell_type": "code",
   "execution_count": 166,
   "metadata": {},
   "outputs": [
    {
     "data": {
      "text/html": [
       "<div>\n",
       "<style scoped>\n",
       "    .dataframe tbody tr th:only-of-type {\n",
       "        vertical-align: middle;\n",
       "    }\n",
       "\n",
       "    .dataframe tbody tr th {\n",
       "        vertical-align: top;\n",
       "    }\n",
       "\n",
       "    .dataframe thead th {\n",
       "        text-align: right;\n",
       "    }\n",
       "</style>\n",
       "<table border=\"1\" class=\"dataframe\">\n",
       "  <thead>\n",
       "    <tr style=\"text-align: right;\">\n",
       "      <th></th>\n",
       "      <th>label</th>\n",
       "      <th>title</th>\n",
       "      <th>TDM</th>\n",
       "      <th>Context</th>\n",
       "    </tr>\n",
       "  </thead>\n",
       "  <tbody>\n",
       "    <tr>\n",
       "      <th>125</th>\n",
       "      <td>True</td>\n",
       "      <td>1908.05786v1.pdf</td>\n",
       "      <td>unknown</td>\n",
       "      <td>TASED-Net: Temporally-Aggregating Spatial Enco...</td>\n",
       "    </tr>\n",
       "    <tr>\n",
       "      <th>176</th>\n",
       "      <td>True</td>\n",
       "      <td>2008.04259.pdf</td>\n",
       "      <td>unknown</td>\n",
       "      <td>A Perceptually-Motivated Approach for Low-Comp...</td>\n",
       "    </tr>\n",
       "    <tr>\n",
       "      <th>202</th>\n",
       "      <td>True</td>\n",
       "      <td>2007.04973v3.pdf</td>\n",
       "      <td>unknown</td>\n",
       "      <td>Contrastive Code Representation Learning Recen...</td>\n",
       "    </tr>\n",
       "    <tr>\n",
       "      <th>234</th>\n",
       "      <td>True</td>\n",
       "      <td>1806.11538v2.pdf</td>\n",
       "      <td>unknown</td>\n",
       "      <td>Factorizable Net: An Efficient Subgraph-based ...</td>\n",
       "    </tr>\n",
       "    <tr>\n",
       "      <th>322</th>\n",
       "      <td>True</td>\n",
       "      <td>1908.02262v1.pdf</td>\n",
       "      <td>unknown</td>\n",
       "      <td>Predicting Prosodic Prominence from Text with ...</td>\n",
       "    </tr>\n",
       "    <tr>\n",
       "      <th>...</th>\n",
       "      <td>...</td>\n",
       "      <td>...</td>\n",
       "      <td>...</td>\n",
       "      <td>...</td>\n",
       "    </tr>\n",
       "    <tr>\n",
       "      <th>51902</th>\n",
       "      <td>True</td>\n",
       "      <td>1611.02200v1.pdf</td>\n",
       "      <td>unknown</td>\n",
       "      <td>UNSUPERVISED CROSS-DOMAIN IMAGE GENERATION We ...</td>\n",
       "    </tr>\n",
       "    <tr>\n",
       "      <th>51913</th>\n",
       "      <td>True</td>\n",
       "      <td>2010.05171v1.pdf</td>\n",
       "      <td>unknown</td>\n",
       "      <td>FAIRSEQ S2T: Fast Speech-to-Text Modeling with...</td>\n",
       "    </tr>\n",
       "    <tr>\n",
       "      <th>51973</th>\n",
       "      <td>True</td>\n",
       "      <td>2001.10692v1.pdf</td>\n",
       "      <td>unknown</td>\n",
       "      <td>ImVoteNet: Boosting 3D Object Detection in Poi...</td>\n",
       "    </tr>\n",
       "    <tr>\n",
       "      <th>52223</th>\n",
       "      <td>True</td>\n",
       "      <td>1602.01595v4.pdf</td>\n",
       "      <td>unknown</td>\n",
       "      <td>Many Languages, One Parser We train one multil...</td>\n",
       "    </tr>\n",
       "    <tr>\n",
       "      <th>52259</th>\n",
       "      <td>True</td>\n",
       "      <td>1411.1091v1.pdf</td>\n",
       "      <td>unknown</td>\n",
       "      <td>Do Convnets Learn Correspondence? Convolutiona...</td>\n",
       "    </tr>\n",
       "  </tbody>\n",
       "</table>\n",
       "<p>920 rows × 4 columns</p>\n",
       "</div>"
      ],
      "text/plain": [
       "       label             title      TDM  \\\n",
       "125     True  1908.05786v1.pdf  unknown   \n",
       "176     True    2008.04259.pdf  unknown   \n",
       "202     True  2007.04973v3.pdf  unknown   \n",
       "234     True  1806.11538v2.pdf  unknown   \n",
       "322     True  1908.02262v1.pdf  unknown   \n",
       "...      ...               ...      ...   \n",
       "51902   True  1611.02200v1.pdf  unknown   \n",
       "51913   True  2010.05171v1.pdf  unknown   \n",
       "51973   True  2001.10692v1.pdf  unknown   \n",
       "52223   True  1602.01595v4.pdf  unknown   \n",
       "52259   True   1411.1091v1.pdf  unknown   \n",
       "\n",
       "                                                 Context  \n",
       "125    TASED-Net: Temporally-Aggregating Spatial Enco...  \n",
       "176    A Perceptually-Motivated Approach for Low-Comp...  \n",
       "202    Contrastive Code Representation Learning Recen...  \n",
       "234    Factorizable Net: An Efficient Subgraph-based ...  \n",
       "322    Predicting Prosodic Prominence from Text with ...  \n",
       "...                                                  ...  \n",
       "51902  UNSUPERVISED CROSS-DOMAIN IMAGE GENERATION We ...  \n",
       "51913  FAIRSEQ S2T: Fast Speech-to-Text Modeling with...  \n",
       "51973  ImVoteNet: Boosting 3D Object Detection in Poi...  \n",
       "52223  Many Languages, One Parser We train one multil...  \n",
       "52259  Do Convnets Learn Correspondence? Convolutiona...  \n",
       "\n",
       "[920 rows x 4 columns]"
      ]
     },
     "execution_count": 166,
     "metadata": {},
     "output_type": "execute_result"
    }
   ],
   "source": [
    "train_New[(train_New.label==True) & (train_New.TDM==\"unknown\")]"
   ]
  },
  {
   "cell_type": "code",
   "execution_count": 167,
   "metadata": {},
   "outputs": [
    {
     "data": {
      "text/html": [
       "<div>\n",
       "<style scoped>\n",
       "    .dataframe tbody tr th:only-of-type {\n",
       "        vertical-align: middle;\n",
       "    }\n",
       "\n",
       "    .dataframe tbody tr th {\n",
       "        vertical-align: top;\n",
       "    }\n",
       "\n",
       "    .dataframe thead th {\n",
       "        text-align: right;\n",
       "    }\n",
       "</style>\n",
       "<table border=\"1\" class=\"dataframe\">\n",
       "  <thead>\n",
       "    <tr style=\"text-align: right;\">\n",
       "      <th></th>\n",
       "      <th>label</th>\n",
       "      <th>title</th>\n",
       "      <th>TDM</th>\n",
       "      <th>Context</th>\n",
       "    </tr>\n",
       "  </thead>\n",
       "  <tbody>\n",
       "    <tr>\n",
       "      <th>322</th>\n",
       "      <td>True</td>\n",
       "      <td>1908.02262v1.pdf</td>\n",
       "      <td>unknown</td>\n",
       "      <td>Predicting Prosodic Prominence from Text with ...</td>\n",
       "    </tr>\n",
       "  </tbody>\n",
       "</table>\n",
       "</div>"
      ],
      "text/plain": [
       "     label             title      TDM  \\\n",
       "322   True  1908.02262v1.pdf  unknown   \n",
       "\n",
       "                                               Context  \n",
       "322  Predicting Prosodic Prominence from Text with ...  "
      ]
     },
     "execution_count": 167,
     "metadata": {},
     "output_type": "execute_result"
    }
   ],
   "source": [
    "train_New[(train_New.label==True) & (train_New.title==\"1908.02262v1.pdf\")]"
   ]
  },
  {
   "cell_type": "code",
   "execution_count": 168,
   "metadata": {},
   "outputs": [],
   "source": [
    "output = \"/nfs/home/kabenamualus/Research/task-dataset-metric-nli-extraction/data/pwc_ibm_150_5_10_10000_correct/10Neg10000unk/twofoldwithunk/fold2/\"\n",
    "if not os.path.exists(output):\n",
    "        os.makedirs(output)"
   ]
  },
  {
   "cell_type": "code",
   "execution_count": 169,
   "metadata": {},
   "outputs": [],
   "source": [
    "train_New.to_csv(f\"{output}train.tsv\", \n",
    "                    header=False, index=False, sep=\"\\t\")"
   ]
  },
  {
   "cell_type": "markdown",
   "metadata": {},
   "source": [
    "## Test"
   ]
  },
  {
   "cell_type": "code",
   "execution_count": 170,
   "metadata": {},
   "outputs": [
    {
     "data": {
      "text/plain": [
       "22265"
      ]
     },
     "execution_count": 170,
     "metadata": {},
     "output_type": "execute_result"
    }
   ],
   "source": [
    "len(test_New)"
   ]
  },
  {
   "cell_type": "code",
   "execution_count": 171,
   "metadata": {},
   "outputs": [
    {
     "data": {
      "text/plain": [
       "21757"
      ]
     },
     "execution_count": 171,
     "metadata": {},
     "output_type": "execute_result"
    }
   ],
   "source": [
    "test_New.drop_duplicates(inplace=True)\n",
    "len(test_New)"
   ]
  },
  {
   "cell_type": "code",
   "execution_count": 172,
   "metadata": {},
   "outputs": [],
   "source": [
    "papers = set(test_New.title.to_list())\n",
    "for paper in papers:\n",
    "    if len(test_New[(test_New.label==True) & (test_New.title==paper)]) != 1:\n",
    "        test_New.drop(test_New[(test_New.label==True) & (test_New.title==paper) & (test_New.TDM==\"unknown\")].index, inplace=True)"
   ]
  },
  {
   "cell_type": "code",
   "execution_count": 173,
   "metadata": {},
   "outputs": [
    {
     "data": {
      "text/plain": [
       "21488"
      ]
     },
     "execution_count": 173,
     "metadata": {},
     "output_type": "execute_result"
    }
   ],
   "source": [
    "len(test_New)"
   ]
  },
  {
   "cell_type": "code",
   "execution_count": 174,
   "metadata": {},
   "outputs": [],
   "source": [
    "test_New.to_csv(f\"{output}dev.tsv\", \n",
    "                    header=False, index=False, sep=\"\\t\")"
   ]
  }
 ],
 "metadata": {
  "kernelspec": {
   "display_name": "Python 3",
   "language": "python",
   "name": "python3"
  },
  "language_info": {
   "codemirror_mode": {
    "name": "ipython",
    "version": 3
   },
   "file_extension": ".py",
   "mimetype": "text/x-python",
   "name": "python",
   "nbconvert_exporter": "python",
   "pygments_lexer": "ipython3",
   "version": "3.7.10"
  }
 },
 "nbformat": 4,
 "nbformat_minor": 4
}
