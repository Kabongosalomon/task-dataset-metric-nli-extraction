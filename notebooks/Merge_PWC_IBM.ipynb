{
 "cells": [
  {
   "cell_type": "markdown",
   "id": "75bb0ee0",
   "metadata": {},
   "source": [
    "# Dataset Creation "
   ]
  },
  {
   "cell_type": "markdown",
   "id": "5c1035de",
   "metadata": {},
   "source": [
    "we have files \n",
    "- `resultsAnnotation.tsv`, \n",
    "- `datasetAnnotation.tsv`, \n",
    "- `taskAnnotation.tsv`, \n",
    "- `paper_links.tsv`, \n",
    "- `TDM_taxonomy.tsv`, \n",
    "- `TDMs_taxonomy.tsv` \n",
    "- `paper_name_taxonomy.tsv` \n",
    "\n",
    "Created mostly from the file `evaluation-tables.json` from [paperswithcode](https://paperswithcode.com/about)"
   ]
  },
  {
   "cell_type": "code",
   "execution_count": 1,
   "id": "0f3a5c74",
   "metadata": {},
   "outputs": [],
   "source": [
    "# imports\n",
    "import ipdb, os, re\n",
    "import pandas as pd\n",
    "\n",
    "from sklearn.model_selection import train_test_split "
   ]
  },
  {
   "cell_type": "code",
   "execution_count": 2,
   "id": "c5a32186",
   "metadata": {},
   "outputs": [],
   "source": [
    "# with open(f\"../data/resultsAnnotation.tsv\", errors='replace') as f:\n",
    "#     resultsAnnotation = f.read().splitlines()\n",
    "\n",
    "# with open(f\"../data/datasetAnnotation.tsv\", errors='replace') as f:\n",
    "#     datasetAnnotation = f.read().splitlines()\n",
    "    \n",
    "# with open(f\"../data/taskAnnotation.tsv\", errors='replace') as f:\n",
    "#     taskAnnotation = f.read().splitlines()\n",
    "    \n",
    "# with open(f\"../data/TDM_taxonomy.tsv\", errors='replace') as f:\n",
    "#     TDM_taxonomy = f.read().splitlines()\n",
    "    \n",
    "# with open(f\"../data/paper_name_taxonomy.tsv\", errors='replace') as f:\n",
    "#     paper_name_taxonomy = f.read().splitlines()\n",
    "    \n",
    "\n",
    "datasetAnnotation_csv = \"/nfs/home/kabenamualus/Research/task-dataset-metric-nli-extraction/data/annotations_final/datasetAnnotation.tsv\"\n",
    "resultsAnnotation_csv = \"/nfs/home/kabenamualus/Research/task-dataset-metric-nli-extraction/data/annotations_final/resultsAnnotation.tsv\"\n",
    "taskAnnotation_csv = \"/nfs/home/kabenamualus/Research/task-dataset-metric-nli-extraction/data/annotations_final/taskAnnotation.tsv\"\n",
    "TDM_taxonomy_csv = \"/nfs/home/kabenamualus/Research/task-dataset-metric-nli-extraction/data/annotations_final/TDM_taxonomy.tsv\"\n",
    "\n",
    "\n",
    "datasetAnnotation_IBM_csv = \"/nfs/home/kabenamualus/Research/task-dataset-metric-extraction/data/ibm/NLP-TDMS/annotations/datasetAnnotation.tsv\"\n",
    "resultsAnnotation_IBM_csv = \"/nfs/home/kabenamualus/Research/task-dataset-metric-extraction/data/ibm/NLP-TDMS/annotations/resultsAnnotation.tsv\"\n",
    "taskAnnotation_IBM_csv = \"/nfs/home/kabenamualus/Research/task-dataset-metric-extraction/data/ibm/NLP-TDMS/annotations/taskAnnotation.tsv\"\n",
    "TDM_taxonomy_IBM_csv = \"/nfs/home/kabenamualus/Research/task-dataset-metric-extraction/data/ibm/NLP-TDMS/annotations/TDM_taxonomy.tsv\"\n",
    "\n",
    "\n",
    "datasetAnnotation = pd.read_csv(datasetAnnotation_csv, \n",
    "                    sep=\"\\t\", names=[\"label\", \"datasets\"])\n",
    "resultsAnnotation = pd.read_csv(resultsAnnotation_csv, \n",
    "                    sep=\"\\t\", names=[\"label\", \"TDMS\"])\n",
    "taskAnnotation = pd.read_csv(taskAnnotation_csv, \n",
    "                    sep=\"\\t\", names=[\"label\", \"tasks\"])\n",
    "TDM_taxonomy = pd.read_csv(TDM_taxonomy_csv, \n",
    "                    sep=\"\\t\", names=[\"tdm\", \"count\"])\n",
    "\n",
    "datasetAnnotation_IBM = pd.read_csv(datasetAnnotation_IBM_csv, \n",
    "                    sep=\"\\t\", names=[\"label\", \"datasets\"])\n",
    "resultsAnnotation_IBM = pd.read_csv(resultsAnnotation_IBM_csv, \n",
    "                    sep=\"\\t\", names=[\"label\", \"TDMS\"])\n",
    "taskAnnotation_IBM = pd.read_csv(taskAnnotation_IBM_csv, \n",
    "                    sep=\"\\t\", names=[\"label\", \"tasks\"])\n",
    "TDM_taxonomy_IBM = pd.read_csv(TDM_taxonomy_IBM_csv, \n",
    "                    sep=\"\\t\", names=[\"tdm\", \"count\"])\n",
    "\n",
    "annotations_merged = \"/nfs/home/kabenamualus/Research/task-dataset-metric-nli-extraction/data/annotations_merged/\""
   ]
  },
  {
   "cell_type": "markdown",
   "id": "b82f0c75",
   "metadata": {},
   "source": [
    "## datasetAnnotation"
   ]
  },
  {
   "cell_type": "code",
   "execution_count": 3,
   "id": "16e7d21e",
   "metadata": {},
   "outputs": [
    {
     "data": {
      "text/html": [
       "<div>\n",
       "<style scoped>\n",
       "    .dataframe tbody tr th:only-of-type {\n",
       "        vertical-align: middle;\n",
       "    }\n",
       "\n",
       "    .dataframe tbody tr th {\n",
       "        vertical-align: top;\n",
       "    }\n",
       "\n",
       "    .dataframe thead th {\n",
       "        text-align: right;\n",
       "    }\n",
       "</style>\n",
       "<table border=\"1\" class=\"dataframe\">\n",
       "  <thead>\n",
       "    <tr style=\"text-align: right;\">\n",
       "      <th></th>\n",
       "      <th>label</th>\n",
       "      <th>datasets</th>\n",
       "    </tr>\n",
       "  </thead>\n",
       "  <tbody>\n",
       "    <tr>\n",
       "      <th>5722</th>\n",
       "      <td>2104.01378v1.pdf</td>\n",
       "      <td>speechocean762</td>\n",
       "    </tr>\n",
       "    <tr>\n",
       "      <th>5723</th>\n",
       "      <td>2104.10283v1.pdf</td>\n",
       "      <td>GQA</td>\n",
       "    </tr>\n",
       "    <tr>\n",
       "      <th>5724</th>\n",
       "      <td>2104.11980v1.pdf</td>\n",
       "      <td>NBA SportVU</td>\n",
       "    </tr>\n",
       "    <tr>\n",
       "      <th>5725</th>\n",
       "      <td>1704.00077v1.pdf</td>\n",
       "      <td>SegTrack v2</td>\n",
       "    </tr>\n",
       "    <tr>\n",
       "      <th>5726</th>\n",
       "      <td>2004.07922v1.pdf</td>\n",
       "      <td>Tobacco small-3482#Tobacco small-3482#Tobacco ...</td>\n",
       "    </tr>\n",
       "  </tbody>\n",
       "</table>\n",
       "</div>"
      ],
      "text/plain": [
       "                 label                                           datasets\n",
       "5722  2104.01378v1.pdf                                     speechocean762\n",
       "5723  2104.10283v1.pdf                                                GQA\n",
       "5724  2104.11980v1.pdf                                        NBA SportVU\n",
       "5725  1704.00077v1.pdf                                        SegTrack v2\n",
       "5726  2004.07922v1.pdf  Tobacco small-3482#Tobacco small-3482#Tobacco ..."
      ]
     },
     "execution_count": 3,
     "metadata": {},
     "output_type": "execute_result"
    }
   ],
   "source": [
    "datasetAnnotation.tail()"
   ]
  },
  {
   "cell_type": "code",
   "execution_count": 4,
   "id": "14021d00",
   "metadata": {},
   "outputs": [
    {
     "data": {
      "text/html": [
       "<div>\n",
       "<style scoped>\n",
       "    .dataframe tbody tr th:only-of-type {\n",
       "        vertical-align: middle;\n",
       "    }\n",
       "\n",
       "    .dataframe tbody tr th {\n",
       "        vertical-align: top;\n",
       "    }\n",
       "\n",
       "    .dataframe thead th {\n",
       "        text-align: right;\n",
       "    }\n",
       "</style>\n",
       "<table border=\"1\" class=\"dataframe\">\n",
       "  <thead>\n",
       "    <tr style=\"text-align: right;\">\n",
       "      <th></th>\n",
       "      <th>label</th>\n",
       "      <th>datasets</th>\n",
       "    </tr>\n",
       "  </thead>\n",
       "  <tbody>\n",
       "    <tr>\n",
       "      <th>342</th>\n",
       "      <td>1704.08381.pdf</td>\n",
       "      <td>LDC2015E86</td>\n",
       "    </tr>\n",
       "    <tr>\n",
       "      <th>343</th>\n",
       "      <td>1803.09074.pdf</td>\n",
       "      <td>RACE</td>\n",
       "    </tr>\n",
       "    <tr>\n",
       "      <th>344</th>\n",
       "      <td>1602.02373.pdf</td>\n",
       "      <td>IMDb#AG News#DBpedia#Yelp</td>\n",
       "    </tr>\n",
       "    <tr>\n",
       "      <th>345</th>\n",
       "      <td>N18-2108.pdf</td>\n",
       "      <td>CoNLL 2012</td>\n",
       "    </tr>\n",
       "    <tr>\n",
       "      <th>346</th>\n",
       "      <td>P17-1089.pdf</td>\n",
       "      <td>Advising#ATIS#Scholar#Smaller Datasets#GeoQuery</td>\n",
       "    </tr>\n",
       "  </tbody>\n",
       "</table>\n",
       "</div>"
      ],
      "text/plain": [
       "              label                                         datasets\n",
       "342  1704.08381.pdf                                       LDC2015E86\n",
       "343  1803.09074.pdf                                             RACE\n",
       "344  1602.02373.pdf                        IMDb#AG News#DBpedia#Yelp\n",
       "345    N18-2108.pdf                                       CoNLL 2012\n",
       "346    P17-1089.pdf  Advising#ATIS#Scholar#Smaller Datasets#GeoQuery"
      ]
     },
     "execution_count": 4,
     "metadata": {},
     "output_type": "execute_result"
    }
   ],
   "source": [
    "datasetAnnotation_IBM.tail()"
   ]
  },
  {
   "cell_type": "code",
   "execution_count": 5,
   "id": "efb92602",
   "metadata": {},
   "outputs": [],
   "source": [
    "datasetAnnotationMerge = datasetAnnotation.merge(datasetAnnotation_IBM, how='outer')"
   ]
  },
  {
   "cell_type": "code",
   "execution_count": 6,
   "id": "f46c4bf6",
   "metadata": {},
   "outputs": [
    {
     "data": {
      "text/html": [
       "<div>\n",
       "<style scoped>\n",
       "    .dataframe tbody tr th:only-of-type {\n",
       "        vertical-align: middle;\n",
       "    }\n",
       "\n",
       "    .dataframe tbody tr th {\n",
       "        vertical-align: top;\n",
       "    }\n",
       "\n",
       "    .dataframe thead th {\n",
       "        text-align: right;\n",
       "    }\n",
       "</style>\n",
       "<table border=\"1\" class=\"dataframe\">\n",
       "  <thead>\n",
       "    <tr style=\"text-align: right;\">\n",
       "      <th></th>\n",
       "      <th>label</th>\n",
       "      <th>datasets</th>\n",
       "    </tr>\n",
       "  </thead>\n",
       "  <tbody>\n",
       "  </tbody>\n",
       "</table>\n",
       "</div>"
      ],
      "text/plain": [
       "Empty DataFrame\n",
       "Columns: [label, datasets]\n",
       "Index: []"
      ]
     },
     "execution_count": 6,
     "metadata": {},
     "output_type": "execute_result"
    }
   ],
   "source": [
    "datasetAnnotationMerge[datasetAnnotationMerge.label.duplicated()]"
   ]
  },
  {
   "cell_type": "code",
   "execution_count": 7,
   "id": "1e0888f1",
   "metadata": {},
   "outputs": [],
   "source": [
    "datasetAnnotationMerge.to_csv(f\"{annotations_merged}datasetAnnotation.tsv\", \n",
    "                              header=False, index=False, sep=\"\\t\")"
   ]
  },
  {
   "cell_type": "code",
   "execution_count": 8,
   "id": "29ff9122",
   "metadata": {},
   "outputs": [
    {
     "data": {
      "text/html": [
       "<div>\n",
       "<style scoped>\n",
       "    .dataframe tbody tr th:only-of-type {\n",
       "        vertical-align: middle;\n",
       "    }\n",
       "\n",
       "    .dataframe tbody tr th {\n",
       "        vertical-align: top;\n",
       "    }\n",
       "\n",
       "    .dataframe thead th {\n",
       "        text-align: right;\n",
       "    }\n",
       "</style>\n",
       "<table border=\"1\" class=\"dataframe\">\n",
       "  <thead>\n",
       "    <tr style=\"text-align: right;\">\n",
       "      <th></th>\n",
       "      <th>label</th>\n",
       "      <th>datasets</th>\n",
       "    </tr>\n",
       "  </thead>\n",
       "  <tbody>\n",
       "    <tr>\n",
       "      <th>0</th>\n",
       "      <td>1704.03549v4.pdf</td>\n",
       "      <td>FSNS - Test</td>\n",
       "    </tr>\n",
       "    <tr>\n",
       "      <th>1</th>\n",
       "      <td>1712.05404.pdf</td>\n",
       "      <td>FSNS - Test</td>\n",
       "    </tr>\n",
       "    <tr>\n",
       "      <th>2</th>\n",
       "      <td>1702.03970v1.pdf</td>\n",
       "      <td>FSNS - Test</td>\n",
       "    </tr>\n",
       "    <tr>\n",
       "      <th>3</th>\n",
       "      <td>2104.02324v1.pdf</td>\n",
       "      <td>COCO#PASCAL VOC 07+12#PASCAL VOC 07+12#COCO#PA...</td>\n",
       "    </tr>\n",
       "    <tr>\n",
       "      <th>4</th>\n",
       "      <td>2008.12995v3.pdf</td>\n",
       "      <td>BanglaLekha Isolated Dataset#BanglaLekha Isola...</td>\n",
       "    </tr>\n",
       "  </tbody>\n",
       "</table>\n",
       "</div>"
      ],
      "text/plain": [
       "              label                                           datasets\n",
       "0  1704.03549v4.pdf                                        FSNS - Test\n",
       "1    1712.05404.pdf                                        FSNS - Test\n",
       "2  1702.03970v1.pdf                                        FSNS - Test\n",
       "3  2104.02324v1.pdf  COCO#PASCAL VOC 07+12#PASCAL VOC 07+12#COCO#PA...\n",
       "4  2008.12995v3.pdf  BanglaLekha Isolated Dataset#BanglaLekha Isola..."
      ]
     },
     "execution_count": 8,
     "metadata": {},
     "output_type": "execute_result"
    }
   ],
   "source": [
    "pd.read_csv(f\"{annotations_merged}datasetAnnotation.tsv\", \n",
    "                    sep=\"\\t\", names=[\"label\", \"datasets\"]).head()"
   ]
  },
  {
   "cell_type": "markdown",
   "id": "30783c9f",
   "metadata": {},
   "source": [
    "## taskAnnotation"
   ]
  },
  {
   "cell_type": "code",
   "execution_count": 9,
   "id": "772cd959",
   "metadata": {},
   "outputs": [
    {
     "data": {
      "text/html": [
       "<div>\n",
       "<style scoped>\n",
       "    .dataframe tbody tr th:only-of-type {\n",
       "        vertical-align: middle;\n",
       "    }\n",
       "\n",
       "    .dataframe tbody tr th {\n",
       "        vertical-align: top;\n",
       "    }\n",
       "\n",
       "    .dataframe thead th {\n",
       "        text-align: right;\n",
       "    }\n",
       "</style>\n",
       "<table border=\"1\" class=\"dataframe\">\n",
       "  <thead>\n",
       "    <tr style=\"text-align: right;\">\n",
       "      <th></th>\n",
       "      <th>label</th>\n",
       "      <th>tasks</th>\n",
       "    </tr>\n",
       "  </thead>\n",
       "  <tbody>\n",
       "    <tr>\n",
       "      <th>5722</th>\n",
       "      <td>2104.01378v1.pdf</td>\n",
       "      <td>Phone-level pronunciation scoring</td>\n",
       "    </tr>\n",
       "    <tr>\n",
       "      <th>5723</th>\n",
       "      <td>2104.10283v1.pdf</td>\n",
       "      <td>Graph Question Answering</td>\n",
       "    </tr>\n",
       "    <tr>\n",
       "      <th>5724</th>\n",
       "      <td>2104.11980v1.pdf</td>\n",
       "      <td>Trajectory Modeling</td>\n",
       "    </tr>\n",
       "    <tr>\n",
       "      <th>5725</th>\n",
       "      <td>1704.00077v1.pdf</td>\n",
       "      <td>Video Segmentation</td>\n",
       "    </tr>\n",
       "    <tr>\n",
       "      <th>5726</th>\n",
       "      <td>2004.07922v1.pdf</td>\n",
       "      <td>Document Text Classification</td>\n",
       "    </tr>\n",
       "  </tbody>\n",
       "</table>\n",
       "</div>"
      ],
      "text/plain": [
       "                 label                              tasks\n",
       "5722  2104.01378v1.pdf  Phone-level pronunciation scoring\n",
       "5723  2104.10283v1.pdf           Graph Question Answering\n",
       "5724  2104.11980v1.pdf                Trajectory Modeling\n",
       "5725  1704.00077v1.pdf                 Video Segmentation\n",
       "5726  2004.07922v1.pdf       Document Text Classification"
      ]
     },
     "execution_count": 9,
     "metadata": {},
     "output_type": "execute_result"
    }
   ],
   "source": [
    "taskAnnotation.tail()"
   ]
  },
  {
   "cell_type": "code",
   "execution_count": 10,
   "id": "c78777fd",
   "metadata": {},
   "outputs": [
    {
     "data": {
      "text/html": [
       "<div>\n",
       "<style scoped>\n",
       "    .dataframe tbody tr th:only-of-type {\n",
       "        vertical-align: middle;\n",
       "    }\n",
       "\n",
       "    .dataframe tbody tr th {\n",
       "        vertical-align: top;\n",
       "    }\n",
       "\n",
       "    .dataframe thead th {\n",
       "        text-align: right;\n",
       "    }\n",
       "</style>\n",
       "<table border=\"1\" class=\"dataframe\">\n",
       "  <thead>\n",
       "    <tr style=\"text-align: right;\">\n",
       "      <th></th>\n",
       "      <th>label</th>\n",
       "      <th>tasks</th>\n",
       "    </tr>\n",
       "  </thead>\n",
       "  <tbody>\n",
       "    <tr>\n",
       "      <th>342</th>\n",
       "      <td>1704.08381.pdf</td>\n",
       "      <td>amr_parsing</td>\n",
       "    </tr>\n",
       "    <tr>\n",
       "      <th>343</th>\n",
       "      <td>1803.09074.pdf</td>\n",
       "      <td>question_answering</td>\n",
       "    </tr>\n",
       "    <tr>\n",
       "      <th>344</th>\n",
       "      <td>1602.02373.pdf</td>\n",
       "      <td>sentiment_analysis</td>\n",
       "    </tr>\n",
       "    <tr>\n",
       "      <th>345</th>\n",
       "      <td>N18-2108.pdf</td>\n",
       "      <td>coreference_resolution</td>\n",
       "    </tr>\n",
       "    <tr>\n",
       "      <th>346</th>\n",
       "      <td>P17-1089.pdf</td>\n",
       "      <td>sql_parsing</td>\n",
       "    </tr>\n",
       "  </tbody>\n",
       "</table>\n",
       "</div>"
      ],
      "text/plain": [
       "              label                   tasks\n",
       "342  1704.08381.pdf             amr_parsing\n",
       "343  1803.09074.pdf      question_answering\n",
       "344  1602.02373.pdf      sentiment_analysis\n",
       "345    N18-2108.pdf  coreference_resolution\n",
       "346    P17-1089.pdf             sql_parsing"
      ]
     },
     "execution_count": 10,
     "metadata": {},
     "output_type": "execute_result"
    }
   ],
   "source": [
    "taskAnnotation_IBM.tail()"
   ]
  },
  {
   "cell_type": "code",
   "execution_count": 11,
   "id": "ccb69521",
   "metadata": {},
   "outputs": [],
   "source": [
    "taskAnnotationMerge = taskAnnotation.merge(taskAnnotation_IBM, how='outer')"
   ]
  },
  {
   "cell_type": "code",
   "execution_count": 12,
   "id": "80bcd72e",
   "metadata": {},
   "outputs": [
    {
     "data": {
      "text/html": [
       "<div>\n",
       "<style scoped>\n",
       "    .dataframe tbody tr th:only-of-type {\n",
       "        vertical-align: middle;\n",
       "    }\n",
       "\n",
       "    .dataframe tbody tr th {\n",
       "        vertical-align: top;\n",
       "    }\n",
       "\n",
       "    .dataframe thead th {\n",
       "        text-align: right;\n",
       "    }\n",
       "</style>\n",
       "<table border=\"1\" class=\"dataframe\">\n",
       "  <thead>\n",
       "    <tr style=\"text-align: right;\">\n",
       "      <th></th>\n",
       "      <th>label</th>\n",
       "      <th>tasks</th>\n",
       "    </tr>\n",
       "  </thead>\n",
       "  <tbody>\n",
       "  </tbody>\n",
       "</table>\n",
       "</div>"
      ],
      "text/plain": [
       "Empty DataFrame\n",
       "Columns: [label, tasks]\n",
       "Index: []"
      ]
     },
     "execution_count": 12,
     "metadata": {},
     "output_type": "execute_result"
    }
   ],
   "source": [
    "taskAnnotationMerge[taskAnnotationMerge.label.duplicated()]"
   ]
  },
  {
   "cell_type": "code",
   "execution_count": 13,
   "id": "4f564cf4",
   "metadata": {},
   "outputs": [],
   "source": [
    "taskAnnotationMerge.to_csv(f\"{annotations_merged}taskAnnotation.tsv\", \n",
    "                              header=False, index=False, sep=\"\\t\")"
   ]
  },
  {
   "cell_type": "code",
   "execution_count": 14,
   "id": "7034017c",
   "metadata": {},
   "outputs": [
    {
     "data": {
      "text/html": [
       "<div>\n",
       "<style scoped>\n",
       "    .dataframe tbody tr th:only-of-type {\n",
       "        vertical-align: middle;\n",
       "    }\n",
       "\n",
       "    .dataframe tbody tr th {\n",
       "        vertical-align: top;\n",
       "    }\n",
       "\n",
       "    .dataframe thead th {\n",
       "        text-align: right;\n",
       "    }\n",
       "</style>\n",
       "<table border=\"1\" class=\"dataframe\">\n",
       "  <thead>\n",
       "    <tr style=\"text-align: right;\">\n",
       "      <th></th>\n",
       "      <th>label</th>\n",
       "      <th>datasets</th>\n",
       "    </tr>\n",
       "  </thead>\n",
       "  <tbody>\n",
       "    <tr>\n",
       "      <th>0</th>\n",
       "      <td>1704.03549v4.pdf</td>\n",
       "      <td>Optical Character Recognition</td>\n",
       "    </tr>\n",
       "    <tr>\n",
       "      <th>1</th>\n",
       "      <td>1712.05404.pdf</td>\n",
       "      <td>Optical Character Recognition</td>\n",
       "    </tr>\n",
       "    <tr>\n",
       "      <th>2</th>\n",
       "      <td>1702.03970v1.pdf</td>\n",
       "      <td>Optical Character Recognition</td>\n",
       "    </tr>\n",
       "    <tr>\n",
       "      <th>3</th>\n",
       "      <td>2104.02324v1.pdf</td>\n",
       "      <td>Active Object Detection</td>\n",
       "    </tr>\n",
       "    <tr>\n",
       "      <th>4</th>\n",
       "      <td>2008.12995v3.pdf</td>\n",
       "      <td>Handwriting Recognition</td>\n",
       "    </tr>\n",
       "  </tbody>\n",
       "</table>\n",
       "</div>"
      ],
      "text/plain": [
       "              label                       datasets\n",
       "0  1704.03549v4.pdf  Optical Character Recognition\n",
       "1    1712.05404.pdf  Optical Character Recognition\n",
       "2  1702.03970v1.pdf  Optical Character Recognition\n",
       "3  2104.02324v1.pdf        Active Object Detection\n",
       "4  2008.12995v3.pdf        Handwriting Recognition"
      ]
     },
     "execution_count": 14,
     "metadata": {},
     "output_type": "execute_result"
    }
   ],
   "source": [
    "pd.read_csv(f\"{annotations_merged}taskAnnotation.tsv\", \n",
    "                    sep=\"\\t\", names=[\"label\", \"datasets\"]).head()"
   ]
  },
  {
   "cell_type": "markdown",
   "id": "d126295c",
   "metadata": {},
   "source": [
    "## resultsAnnotation"
   ]
  },
  {
   "cell_type": "code",
   "execution_count": 15,
   "id": "3344cfff",
   "metadata": {},
   "outputs": [
    {
     "data": {
      "text/html": [
       "<div>\n",
       "<style scoped>\n",
       "    .dataframe tbody tr th:only-of-type {\n",
       "        vertical-align: middle;\n",
       "    }\n",
       "\n",
       "    .dataframe tbody tr th {\n",
       "        vertical-align: top;\n",
       "    }\n",
       "\n",
       "    .dataframe thead th {\n",
       "        text-align: right;\n",
       "    }\n",
       "</style>\n",
       "<table border=\"1\" class=\"dataframe\">\n",
       "  <thead>\n",
       "    <tr style=\"text-align: right;\">\n",
       "      <th></th>\n",
       "      <th>label</th>\n",
       "      <th>TDMS</th>\n",
       "    </tr>\n",
       "  </thead>\n",
       "  <tbody>\n",
       "    <tr>\n",
       "      <th>5724</th>\n",
       "      <td>2104.01378v1.pdf</td>\n",
       "      <td>Phone-level pronunciation scoring#speechocean7...</td>\n",
       "    </tr>\n",
       "    <tr>\n",
       "      <th>5725</th>\n",
       "      <td>2104.10283v1.pdf</td>\n",
       "      <td>Graph Question Answering#GQA#Accuracy#96.30</td>\n",
       "    </tr>\n",
       "    <tr>\n",
       "      <th>5726</th>\n",
       "      <td>2104.11980v1.pdf</td>\n",
       "      <td>Trajectory Modeling#NBA SportVU#1x1 NLL#0.472</td>\n",
       "    </tr>\n",
       "    <tr>\n",
       "      <th>5727</th>\n",
       "      <td>1704.00077v1.pdf</td>\n",
       "      <td>Video Segmentation#SegTrack v2#Accuracy#86.86</td>\n",
       "    </tr>\n",
       "    <tr>\n",
       "      <th>5728</th>\n",
       "      <td>2004.07922v1.pdf</td>\n",
       "      <td>Document Text Classification#Tobacco small-348...</td>\n",
       "    </tr>\n",
       "  </tbody>\n",
       "</table>\n",
       "</div>"
      ],
      "text/plain": [
       "                 label                                               TDMS\n",
       "5724  2104.01378v1.pdf  Phone-level pronunciation scoring#speechocean7...\n",
       "5725  2104.10283v1.pdf        Graph Question Answering#GQA#Accuracy#96.30\n",
       "5726  2104.11980v1.pdf      Trajectory Modeling#NBA SportVU#1x1 NLL#0.472\n",
       "5727  1704.00077v1.pdf      Video Segmentation#SegTrack v2#Accuracy#86.86\n",
       "5728  2004.07922v1.pdf  Document Text Classification#Tobacco small-348..."
      ]
     },
     "execution_count": 15,
     "metadata": {},
     "output_type": "execute_result"
    }
   ],
   "source": [
    "resultsAnnotation.tail()"
   ]
  },
  {
   "cell_type": "code",
   "execution_count": 16,
   "id": "849ce2ec",
   "metadata": {},
   "outputs": [
    {
     "data": {
      "text/html": [
       "<div>\n",
       "<style scoped>\n",
       "    .dataframe tbody tr th:only-of-type {\n",
       "        vertical-align: middle;\n",
       "    }\n",
       "\n",
       "    .dataframe tbody tr th {\n",
       "        vertical-align: top;\n",
       "    }\n",
       "\n",
       "    .dataframe thead th {\n",
       "        text-align: right;\n",
       "    }\n",
       "</style>\n",
       "<table border=\"1\" class=\"dataframe\">\n",
       "  <thead>\n",
       "    <tr style=\"text-align: right;\">\n",
       "      <th></th>\n",
       "      <th>label</th>\n",
       "      <th>TDMS</th>\n",
       "    </tr>\n",
       "  </thead>\n",
       "  <tbody>\n",
       "    <tr>\n",
       "      <th>341</th>\n",
       "      <td>1704.08381.pdf</td>\n",
       "      <td>amr_parsing#LDC2015E86#Smatch#62.1</td>\n",
       "    </tr>\n",
       "    <tr>\n",
       "      <th>342</th>\n",
       "      <td>1803.09074.pdf</td>\n",
       "      <td>question_answering#RACE#Accuracy on RACE-m#60....</td>\n",
       "    </tr>\n",
       "    <tr>\n",
       "      <th>343</th>\n",
       "      <td>1602.02373.pdf</td>\n",
       "      <td>text_classification#AG News#Error#6.57$text_cl...</td>\n",
       "    </tr>\n",
       "    <tr>\n",
       "      <th>344</th>\n",
       "      <td>N18-2108.pdf</td>\n",
       "      <td>coreference_resolution#CoNLL 2012#Avg F1#73.0</td>\n",
       "    </tr>\n",
       "    <tr>\n",
       "      <th>345</th>\n",
       "      <td>P17-1089.pdf</td>\n",
       "      <td>sql_parsing#ATIS#Question Split#45$sql_parsing...</td>\n",
       "    </tr>\n",
       "  </tbody>\n",
       "</table>\n",
       "</div>"
      ],
      "text/plain": [
       "              label                                               TDMS\n",
       "341  1704.08381.pdf                 amr_parsing#LDC2015E86#Smatch#62.1\n",
       "342  1803.09074.pdf  question_answering#RACE#Accuracy on RACE-m#60....\n",
       "343  1602.02373.pdf  text_classification#AG News#Error#6.57$text_cl...\n",
       "344    N18-2108.pdf      coreference_resolution#CoNLL 2012#Avg F1#73.0\n",
       "345    P17-1089.pdf  sql_parsing#ATIS#Question Split#45$sql_parsing..."
      ]
     },
     "execution_count": 16,
     "metadata": {},
     "output_type": "execute_result"
    }
   ],
   "source": [
    "resultsAnnotation_IBM.tail()"
   ]
  },
  {
   "cell_type": "code",
   "execution_count": 17,
   "id": "cadef8aa",
   "metadata": {},
   "outputs": [],
   "source": [
    "resultsAnnotationMerge = resultsAnnotation.merge(resultsAnnotation_IBM, how='outer')"
   ]
  },
  {
   "cell_type": "code",
   "execution_count": 18,
   "id": "6b0306be",
   "metadata": {},
   "outputs": [
    {
     "data": {
      "text/html": [
       "<div>\n",
       "<style scoped>\n",
       "    .dataframe tbody tr th:only-of-type {\n",
       "        vertical-align: middle;\n",
       "    }\n",
       "\n",
       "    .dataframe tbody tr th {\n",
       "        vertical-align: top;\n",
       "    }\n",
       "\n",
       "    .dataframe thead th {\n",
       "        text-align: right;\n",
       "    }\n",
       "</style>\n",
       "<table border=\"1\" class=\"dataframe\">\n",
       "  <thead>\n",
       "    <tr style=\"text-align: right;\">\n",
       "      <th></th>\n",
       "      <th>label</th>\n",
       "      <th>TDMS</th>\n",
       "    </tr>\n",
       "  </thead>\n",
       "  <tbody>\n",
       "    <tr>\n",
       "      <th>3149</th>\n",
       "      <td>(1080Ti)</td>\n",
       "      <td>NaN</td>\n",
       "    </tr>\n",
       "  </tbody>\n",
       "</table>\n",
       "</div>"
      ],
      "text/plain": [
       "         label TDMS\n",
       "3149  (1080Ti)  NaN"
      ]
     },
     "execution_count": 18,
     "metadata": {},
     "output_type": "execute_result"
    }
   ],
   "source": [
    "resultsAnnotationMerge[resultsAnnotationMerge.label.duplicated()]"
   ]
  },
  {
   "cell_type": "code",
   "execution_count": 19,
   "id": "a4a0dd03",
   "metadata": {},
   "outputs": [],
   "source": [
    "resultsAnnotationMerge.to_csv(f\"{annotations_merged}/resultsAnnotation.tsv\", \n",
    "                              header=False, index=False, sep=\"\\t\")"
   ]
  },
  {
   "cell_type": "code",
   "execution_count": 20,
   "id": "3f195a83",
   "metadata": {},
   "outputs": [
    {
     "data": {
      "text/html": [
       "<div>\n",
       "<style scoped>\n",
       "    .dataframe tbody tr th:only-of-type {\n",
       "        vertical-align: middle;\n",
       "    }\n",
       "\n",
       "    .dataframe tbody tr th {\n",
       "        vertical-align: top;\n",
       "    }\n",
       "\n",
       "    .dataframe thead th {\n",
       "        text-align: right;\n",
       "    }\n",
       "</style>\n",
       "<table border=\"1\" class=\"dataframe\">\n",
       "  <thead>\n",
       "    <tr style=\"text-align: right;\">\n",
       "      <th></th>\n",
       "      <th>label</th>\n",
       "      <th>datasets</th>\n",
       "    </tr>\n",
       "  </thead>\n",
       "  <tbody>\n",
       "    <tr>\n",
       "      <th>0</th>\n",
       "      <td>1704.03549v4.pdf</td>\n",
       "      <td>Optical Character Recognition#FSNS - Test#Sequ...</td>\n",
       "    </tr>\n",
       "    <tr>\n",
       "      <th>1</th>\n",
       "      <td>1712.05404.pdf</td>\n",
       "      <td>Optical Character Recognition#FSNS - Test#Sequ...</td>\n",
       "    </tr>\n",
       "    <tr>\n",
       "      <th>2</th>\n",
       "      <td>1702.03970v1.pdf</td>\n",
       "      <td>Optical Character Recognition#FSNS - Test#Sequ...</td>\n",
       "    </tr>\n",
       "    <tr>\n",
       "      <th>3</th>\n",
       "      <td>2104.02324v1.pdf</td>\n",
       "      <td>Active Object Detection#COCO#AP#(7.3, 13.8, 16...</td>\n",
       "    </tr>\n",
       "    <tr>\n",
       "      <th>4</th>\n",
       "      <td>2008.12995v3.pdf</td>\n",
       "      <td>Handwriting Recognition#BanglaLekha Isolated D...</td>\n",
       "    </tr>\n",
       "  </tbody>\n",
       "</table>\n",
       "</div>"
      ],
      "text/plain": [
       "              label                                           datasets\n",
       "0  1704.03549v4.pdf  Optical Character Recognition#FSNS - Test#Sequ...\n",
       "1    1712.05404.pdf  Optical Character Recognition#FSNS - Test#Sequ...\n",
       "2  1702.03970v1.pdf  Optical Character Recognition#FSNS - Test#Sequ...\n",
       "3  2104.02324v1.pdf  Active Object Detection#COCO#AP#(7.3, 13.8, 16...\n",
       "4  2008.12995v3.pdf  Handwriting Recognition#BanglaLekha Isolated D..."
      ]
     },
     "execution_count": 20,
     "metadata": {},
     "output_type": "execute_result"
    }
   ],
   "source": [
    "pd.read_csv(f\"{annotations_merged}/resultsAnnotation.tsv\", \n",
    "                    sep=\"\\t\", names=[\"label\", \"datasets\"]).head()"
   ]
  },
  {
   "cell_type": "markdown",
   "id": "082cfb4f",
   "metadata": {},
   "source": [
    "## TDM_taxonomy"
   ]
  },
  {
   "cell_type": "code",
   "execution_count": 21,
   "id": "235566fe",
   "metadata": {},
   "outputs": [
    {
     "data": {
      "text/html": [
       "<div>\n",
       "<style scoped>\n",
       "    .dataframe tbody tr th:only-of-type {\n",
       "        vertical-align: middle;\n",
       "    }\n",
       "\n",
       "    .dataframe tbody tr th {\n",
       "        vertical-align: top;\n",
       "    }\n",
       "\n",
       "    .dataframe thead th {\n",
       "        text-align: right;\n",
       "    }\n",
       "</style>\n",
       "<table border=\"1\" class=\"dataframe\">\n",
       "  <thead>\n",
       "    <tr style=\"text-align: right;\">\n",
       "      <th></th>\n",
       "      <th>tdm</th>\n",
       "      <th>count</th>\n",
       "    </tr>\n",
       "  </thead>\n",
       "  <tbody>\n",
       "    <tr>\n",
       "      <th>6738</th>\n",
       "      <td>Salient Object Detection#SOD#{max}Fβ</td>\n",
       "      <td>1</td>\n",
       "    </tr>\n",
       "    <tr>\n",
       "      <th>6739</th>\n",
       "      <td>Document Text Classification#Tobacco small-348...</td>\n",
       "      <td>3</td>\n",
       "    </tr>\n",
       "    <tr>\n",
       "      <th>6740</th>\n",
       "      <td>Document Text Classification#Tobacco small-348...</td>\n",
       "      <td>3</td>\n",
       "    </tr>\n",
       "    <tr>\n",
       "      <th>6741</th>\n",
       "      <td>Document Text Classification#Tobacco-3482#Accu...</td>\n",
       "      <td>3</td>\n",
       "    </tr>\n",
       "    <tr>\n",
       "      <th>6742</th>\n",
       "      <td>Document Text Classification#Tobacco-3482#Trai...</td>\n",
       "      <td>3</td>\n",
       "    </tr>\n",
       "  </tbody>\n",
       "</table>\n",
       "</div>"
      ],
      "text/plain": [
       "                                                    tdm  count\n",
       "6738               Salient Object Detection#SOD#{max}Fβ      1\n",
       "6739  Document Text Classification#Tobacco small-348...      3\n",
       "6740  Document Text Classification#Tobacco small-348...      3\n",
       "6741  Document Text Classification#Tobacco-3482#Accu...      3\n",
       "6742  Document Text Classification#Tobacco-3482#Trai...      3"
      ]
     },
     "execution_count": 21,
     "metadata": {},
     "output_type": "execute_result"
    }
   ],
   "source": [
    "TDM_taxonomy.tail()"
   ]
  },
  {
   "cell_type": "code",
   "execution_count": 22,
   "id": "e0919ab4",
   "metadata": {},
   "outputs": [
    {
     "data": {
      "text/html": [
       "<div>\n",
       "<style scoped>\n",
       "    .dataframe tbody tr th:only-of-type {\n",
       "        vertical-align: middle;\n",
       "    }\n",
       "\n",
       "    .dataframe tbody tr th {\n",
       "        vertical-align: top;\n",
       "    }\n",
       "\n",
       "    .dataframe thead th {\n",
       "        text-align: right;\n",
       "    }\n",
       "</style>\n",
       "<table border=\"1\" class=\"dataframe\">\n",
       "  <thead>\n",
       "    <tr style=\"text-align: right;\">\n",
       "      <th></th>\n",
       "      <th>tdm</th>\n",
       "      <th>count</th>\n",
       "    </tr>\n",
       "  </thead>\n",
       "  <tbody>\n",
       "    <tr>\n",
       "      <th>166</th>\n",
       "      <td>timex_normalisation#TimeBank#F1</td>\n",
       "      <td>2</td>\n",
       "    </tr>\n",
       "    <tr>\n",
       "      <th>167</th>\n",
       "      <td>relationship_extraction#SemEval-2010 Task 8#F1...</td>\n",
       "      <td>1</td>\n",
       "    </tr>\n",
       "    <tr>\n",
       "      <th>168</th>\n",
       "      <td>relationship_extraction#SemEval-2010 Task 8#F1...</td>\n",
       "      <td>1</td>\n",
       "    </tr>\n",
       "    <tr>\n",
       "      <th>169</th>\n",
       "      <td>question_answering#CliCR#F1</td>\n",
       "      <td>1</td>\n",
       "    </tr>\n",
       "    <tr>\n",
       "      <th>170</th>\n",
       "      <td>part-of-speech_tagging#Social media#Accuracy</td>\n",
       "      <td>2</td>\n",
       "    </tr>\n",
       "  </tbody>\n",
       "</table>\n",
       "</div>"
      ],
      "text/plain": [
       "                                                   tdm  count\n",
       "166                    timex_normalisation#TimeBank#F1      2\n",
       "167  relationship_extraction#SemEval-2010 Task 8#F1...      1\n",
       "168  relationship_extraction#SemEval-2010 Task 8#F1...      1\n",
       "169                        question_answering#CliCR#F1      1\n",
       "170       part-of-speech_tagging#Social media#Accuracy      2"
      ]
     },
     "execution_count": 22,
     "metadata": {},
     "output_type": "execute_result"
    }
   ],
   "source": [
    "TDM_taxonomy_IBM.tail()"
   ]
  },
  {
   "cell_type": "code",
   "execution_count": 23,
   "id": "4caab708",
   "metadata": {},
   "outputs": [],
   "source": [
    "TDM_taxonomyMerge = TDM_taxonomy.merge(TDM_taxonomy_IBM, how='outer')"
   ]
  },
  {
   "cell_type": "code",
   "execution_count": 24,
   "id": "a5f0279e",
   "metadata": {},
   "outputs": [
    {
     "data": {
      "text/html": [
       "<div>\n",
       "<style scoped>\n",
       "    .dataframe tbody tr th:only-of-type {\n",
       "        vertical-align: middle;\n",
       "    }\n",
       "\n",
       "    .dataframe tbody tr th {\n",
       "        vertical-align: top;\n",
       "    }\n",
       "\n",
       "    .dataframe thead th {\n",
       "        text-align: right;\n",
       "    }\n",
       "</style>\n",
       "<table border=\"1\" class=\"dataframe\">\n",
       "  <thead>\n",
       "    <tr style=\"text-align: right;\">\n",
       "      <th></th>\n",
       "      <th>tdm</th>\n",
       "      <th>count</th>\n",
       "    </tr>\n",
       "  </thead>\n",
       "  <tbody>\n",
       "  </tbody>\n",
       "</table>\n",
       "</div>"
      ],
      "text/plain": [
       "Empty DataFrame\n",
       "Columns: [tdm, count]\n",
       "Index: []"
      ]
     },
     "execution_count": 24,
     "metadata": {},
     "output_type": "execute_result"
    }
   ],
   "source": [
    "TDM_taxonomyMerge[TDM_taxonomyMerge.tdm.duplicated()]"
   ]
  },
  {
   "cell_type": "code",
   "execution_count": 25,
   "id": "bd4793cb",
   "metadata": {},
   "outputs": [],
   "source": [
    "TDM_taxonomyMerge.to_csv(f\"{annotations_merged}TDM_taxonomy.tsv\", \n",
    "                              header=False, index=False, sep=\"\\t\")"
   ]
  },
  {
   "cell_type": "code",
   "execution_count": 26,
   "id": "5382e4af",
   "metadata": {},
   "outputs": [
    {
     "data": {
      "text/html": [
       "<div>\n",
       "<style scoped>\n",
       "    .dataframe tbody tr th:only-of-type {\n",
       "        vertical-align: middle;\n",
       "    }\n",
       "\n",
       "    .dataframe tbody tr th {\n",
       "        vertical-align: top;\n",
       "    }\n",
       "\n",
       "    .dataframe thead th {\n",
       "        text-align: right;\n",
       "    }\n",
       "</style>\n",
       "<table border=\"1\" class=\"dataframe\">\n",
       "  <thead>\n",
       "    <tr style=\"text-align: right;\">\n",
       "      <th></th>\n",
       "      <th>label</th>\n",
       "      <th>datasets</th>\n",
       "    </tr>\n",
       "  </thead>\n",
       "  <tbody>\n",
       "    <tr>\n",
       "      <th>0</th>\n",
       "      <td>Optical Character Recognition#FSNS - Test#Sequ...</td>\n",
       "      <td>3</td>\n",
       "    </tr>\n",
       "    <tr>\n",
       "      <th>1</th>\n",
       "      <td>Active Object Detection#COCO#AP</td>\n",
       "      <td>1</td>\n",
       "    </tr>\n",
       "    <tr>\n",
       "      <th>2</th>\n",
       "      <td>Active Object Detection#PASCAL VOC 07+12#mAP</td>\n",
       "      <td>2</td>\n",
       "    </tr>\n",
       "    <tr>\n",
       "      <th>3</th>\n",
       "      <td>Handwriting Recognition#BanglaLekha Isolated D...</td>\n",
       "      <td>1</td>\n",
       "    </tr>\n",
       "    <tr>\n",
       "      <th>4</th>\n",
       "      <td>Handwriting Recognition#BanglaLekha Isolated D...</td>\n",
       "      <td>1</td>\n",
       "    </tr>\n",
       "  </tbody>\n",
       "</table>\n",
       "</div>"
      ],
      "text/plain": [
       "                                               label  datasets\n",
       "0  Optical Character Recognition#FSNS - Test#Sequ...         3\n",
       "1                    Active Object Detection#COCO#AP         1\n",
       "2       Active Object Detection#PASCAL VOC 07+12#mAP         2\n",
       "3  Handwriting Recognition#BanglaLekha Isolated D...         1\n",
       "4  Handwriting Recognition#BanglaLekha Isolated D...         1"
      ]
     },
     "execution_count": 26,
     "metadata": {},
     "output_type": "execute_result"
    }
   ],
   "source": [
    "pd.read_csv(f\"{annotations_merged}TDM_taxonomy.tsv\", \n",
    "                    sep=\"\\t\", names=[\"label\", \"datasets\"]).head()"
   ]
  },
  {
   "cell_type": "markdown",
   "id": "7c43fd31",
   "metadata": {},
   "source": [
    "## Clean repo"
   ]
  },
  {
   "cell_type": "code",
   "execution_count": 27,
   "id": "51ae7696",
   "metadata": {},
   "outputs": [],
   "source": [
    "# paper_links_csv = \"/nfs/home/kabenamualus/Research/task-dataset-metric-extraction/data/ibm/NLP-TDMS/downloader/paper_links.tsv\"\n",
    "# paper_links = pd.read_csv(paper_links_csv, \n",
    "#                     sep=\"\\t\", names=[\"label\", \"link\", \"hash\"])"
   ]
  },
  {
   "cell_type": "code",
   "execution_count": 28,
   "id": "b6a37b6f",
   "metadata": {},
   "outputs": [],
   "source": [
    "# paper_links.head()"
   ]
  },
  {
   "cell_type": "code",
   "execution_count": 29,
   "id": "b754c1d6",
   "metadata": {},
   "outputs": [],
   "source": [
    "# resultsAnnotation_IBM.tail()"
   ]
  },
  {
   "cell_type": "code",
   "execution_count": 30,
   "id": "cbbc2ff2",
   "metadata": {},
   "outputs": [],
   "source": [
    "# for paper in list(paper_links.label):\n",
    "#     if paper not in list(resultsAnnotation_IBM.label):\n",
    "#         print(paper)\n",
    "#         !rm /nfs/home/kabenamualus/Research/task-dataset-metric-extraction/data/pdf_IBM/$paper"
   ]
  },
  {
   "cell_type": "code",
   "execution_count": 31,
   "id": "04cf3a19",
   "metadata": {},
   "outputs": [],
   "source": [
    "# !rm /nfs/home/kabenamualus/Research/task-dataset-metric-extraction/data/pdf_IBM/N16-1020.pdf\n",
    "# # !rm /nfs/home/kabenamualus/Research/task-dataset-metric-extraction/data/pdf_IBM/N16-1020.pdf"
   ]
  },
  {
   "cell_type": "code",
   "execution_count": 32,
   "id": "01c5d250",
   "metadata": {},
   "outputs": [],
   "source": [
    "# # \"task-dataset-metric-extraction/data/paperwithcode/annotations_merged\"\n",
    "# os.listdir(\"task-dataset-metric-extraction/data/paperwithcode/annotations_merged\")"
   ]
  },
  {
   "cell_type": "code",
   "execution_count": null,
   "id": "eaf61135",
   "metadata": {},
   "outputs": [],
   "source": []
  }
 ],
 "metadata": {
  "kernelspec": {
   "display_name": "Python 3",
   "language": "python",
   "name": "python3"
  },
  "language_info": {
   "codemirror_mode": {
    "name": "ipython",
    "version": 3
   },
   "file_extension": ".py",
   "mimetype": "text/x-python",
   "name": "python",
   "nbconvert_exporter": "python",
   "pygments_lexer": "ipython3",
   "version": "3.7.10"
  }
 },
 "nbformat": 4,
 "nbformat_minor": 5
}
